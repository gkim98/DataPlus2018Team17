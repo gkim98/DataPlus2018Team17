{
 "cells": [
  {
   "cell_type": "code",
   "execution_count": 19,
   "metadata": {},
   "outputs": [],
   "source": [
    "import pandas as pd\n",
    "from xgboost import XGBRegressor\n",
    "from sklearn.metrics import mean_absolute_error, confusion_matrix, classification_report\n",
    "from sklearn.model_selection import train_test_split"
   ]
  },
  {
   "cell_type": "code",
   "execution_count": 4,
   "metadata": {},
   "outputs": [],
   "source": [
    "import GeneralModel as gm"
   ]
  },
  {
   "cell_type": "code",
   "execution_count": 5,
   "metadata": {},
   "outputs": [],
   "source": [
    "va_split = pd.read_csv('../../DataPlus/va_split.csv')\n",
    "dvd_split = pd.read_csv('../../DataPlus/dvd_split.csv')"
   ]
  },
  {
   "cell_type": "code",
   "execution_count": 6,
   "metadata": {},
   "outputs": [
    {
     "name": "stdout",
     "output_type": "stream",
     "text": [
      "# of Data Points: 216\n",
      "# of Data Points: 176\n"
     ]
    }
   ],
   "source": [
    "va_df = gm.prepare_df(va_split, ['age'], ['gleason'], 'txgot_binary')\n",
    "dvd_df = gm.prepare_df(dvd_split, ['age'], ['gleason'], 'txgot_binary')"
   ]
  },
  {
   "cell_type": "code",
   "execution_count": 9,
   "metadata": {},
   "outputs": [],
   "source": [
    "va_xg = XGBRegressor()\n",
    "dvd_xg = XGBRegressor()"
   ]
  },
  {
   "cell_type": "code",
   "execution_count": 11,
   "metadata": {},
   "outputs": [],
   "source": [
    "va_X = va_df.drop(['txgot_binary'], axis=1).values\n",
    "va_y = va_df['txgot_binary'].values\n",
    "dvd_X = dvd_df.drop(['txgot_binary'], axis=1).values\n",
    "dvd_y = dvd_df['txgot_binary'].values"
   ]
  },
  {
   "cell_type": "code",
   "execution_count": 13,
   "metadata": {},
   "outputs": [],
   "source": [
    "train_X_va, test_X_va, train_y_va, test_y_va = train_test_split(va_X, va_y, test_size=0.6)\n",
    "train_X_dvd, test_X_dvd, train_y_dvd, test_y_dvd = train_test_split(dvd_X, dvd_y, test_size=0.6)"
   ]
  },
  {
   "cell_type": "code",
   "execution_count": 14,
   "metadata": {},
   "outputs": [
    {
     "data": {
      "text/plain": [
       "XGBRegressor(base_score=0.5, booster='gbtree', colsample_bylevel=1,\n",
       "       colsample_bytree=1, gamma=0, learning_rate=0.1, max_delta_step=0,\n",
       "       max_depth=3, min_child_weight=1, missing=None, n_estimators=100,\n",
       "       n_jobs=1, nthread=None, objective='reg:linear', random_state=0,\n",
       "       reg_alpha=0, reg_lambda=1, scale_pos_weight=1, seed=None,\n",
       "       silent=True, subsample=1)"
      ]
     },
     "execution_count": 14,
     "metadata": {},
     "output_type": "execute_result"
    }
   ],
   "source": [
    "va_xg.fit(train_X_va, train_y_va, verbose=False)\n",
    "dvd_xg.fit(train_X_dvd, train_y_dvd, verbose=False)"
   ]
  },
  {
   "cell_type": "code",
   "execution_count": 15,
   "metadata": {},
   "outputs": [],
   "source": [
    "predictions_va = va_xg.predict(test_X_va)\n",
    "predictions_dvd = dvd_xg.predict(test_X_dvd)"
   ]
  },
  {
   "cell_type": "code",
   "execution_count": 20,
   "metadata": {},
   "outputs": [
    {
     "name": "stdout",
     "output_type": "stream",
     "text": [
      "VA confusion matrix:\n",
      "[[55 21]\n",
      " [13 41]]\n",
      "             precision    recall  f1-score   support\n",
      "\n",
      "        0.0       0.81      0.72      0.76        76\n",
      "        1.0       0.66      0.76      0.71        54\n",
      "\n",
      "avg / total       0.75      0.74      0.74       130\n",
      "\n",
      "DVD confusion matrix:\n",
      "[[70 21]\n",
      " [ 6  9]]\n",
      "             precision    recall  f1-score   support\n",
      "\n",
      "        0.0       0.92      0.77      0.84        91\n",
      "        1.0       0.30      0.60      0.40        15\n",
      "\n",
      "avg / total       0.83      0.75      0.78       106\n",
      "\n"
     ]
    }
   ],
   "source": [
    "print(\"VA confusion matrix:\")\n",
    "print(confusion_matrix(predictions_va.round(), test_y_va))\n",
    "print(classification_report(predictions_va.round(), test_y_va))\n",
    "print(\"DVD confusion matrix:\")\n",
    "print(confusion_matrix(predictions_dvd.round(), test_y_dvd))\n",
    "print(classification_report(predictions_dvd.round(), test_y_dvd))"
   ]
  },
  {
   "cell_type": "code",
   "execution_count": 21,
   "metadata": {},
   "outputs": [],
   "source": [
    "#Creating a function to determin the best fit n_estimators.\n",
    "def xgbr(n_estimator,X_train,X_test,y_train,y_test):\n",
    "    my_model = XGBRegressor(n_estimators=n_estimator)\n",
    "    my_model.fit(X_train, y_train)\n",
    "    pred = my_model.predict(X_test)\n",
    "    return str(mean_absolute_error(pred, y_test))"
   ]
  },
  {
   "cell_type": "code",
   "execution_count": 22,
   "metadata": {},
   "outputs": [
    {
     "name": "stdout",
     "output_type": "stream",
     "text": [
      "VA Evaluation:\n",
      "Number of estimators: 100  \t\t Mean Absolute Error:  0.2904790080510653\n",
      "VA Evaluation:\n",
      "Number of estimators: 500  \t\t Mean Absolute Error:  0.2881836182796038\n",
      "VA Evaluation:\n",
      "Number of estimators: 1000  \t\t Mean Absolute Error:  0.2881836182796038\n",
      "VA Evaluation:\n",
      "Number of estimators: 1500  \t\t Mean Absolute Error:  0.2881836182796038\n",
      "VA Evaluation:\n",
      "Number of estimators: 2000  \t\t Mean Absolute Error:  0.2881836182796038\n",
      "VA Evaluation:\n",
      "Number of estimators: 2500  \t\t Mean Absolute Error:  0.2881836182796038\n",
      "VA Evaluation:\n",
      "Number of estimators: 100  \t\t Mean Absolute Error:  0.29753750197167667\n",
      "VA Evaluation:\n",
      "Number of estimators: 500  \t\t Mean Absolute Error:  0.27988233065830087\n",
      "VA Evaluation:\n",
      "Number of estimators: 1000  \t\t Mean Absolute Error:  0.27988233122060885\n",
      "VA Evaluation:\n",
      "Number of estimators: 1500  \t\t Mean Absolute Error:  0.27988233122060885\n",
      "VA Evaluation:\n",
      "Number of estimators: 2000  \t\t Mean Absolute Error:  0.27988233122060885\n",
      "VA Evaluation:\n",
      "Number of estimators: 2500  \t\t Mean Absolute Error:  0.27988233122060885\n"
     ]
    }
   ],
   "source": [
    "for estimators in [100,500,1000,1500,2000,2500]:\n",
    "    mae=xgbr(estimators,train_X_va,test_X_va,train_y_va,test_y_va)\n",
    "    print(\"VA Evaluation:\")\n",
    "    print(\"Number of estimators: {}  \\t\\t Mean Absolute Error:  {}\".format(estimators, mae))\n",
    "for estimators in [100,500,1000,1500,2000,2500]:\n",
    "    mae=xgbr(estimators,train_X_dvd,test_X_dvd,train_y_dvd,test_y_dvd)\n",
    "    print(\"VA Evaluation:\")\n",
    "    print(\"Number of estimators: {}  \\t\\t Mean Absolute Error:  {}\".format(estimators, mae))"
   ]
  },
  {
   "cell_type": "code",
   "execution_count": null,
   "metadata": {},
   "outputs": [],
   "source": []
  }
 ],
 "metadata": {
  "kernelspec": {
   "display_name": "DataPlus",
   "language": "python",
   "name": "dataplus"
  },
  "language_info": {
   "codemirror_mode": {
    "name": "ipython",
    "version": 3
   },
   "file_extension": ".py",
   "mimetype": "text/x-python",
   "name": "python",
   "nbconvert_exporter": "python",
   "pygments_lexer": "ipython3",
   "version": "3.6.5"
  }
 },
 "nbformat": 4,
 "nbformat_minor": 2
}
