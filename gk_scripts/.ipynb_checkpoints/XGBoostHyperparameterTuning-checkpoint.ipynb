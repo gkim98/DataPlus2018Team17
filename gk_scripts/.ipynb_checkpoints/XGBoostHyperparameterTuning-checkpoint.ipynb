{
 "cells": [
  {
   "cell_type": "code",
   "execution_count": 1,
   "metadata": {},
   "outputs": [],
   "source": [
    "import numpy as np\n",
    "import pandas as pd\n",
    "import xgboost as xgb\n",
    "from xgboost import XGBClassifier\n",
    "from sklearn.metrics import confusion_matrix, classification_report\n",
    "from sklearn.model_selection import RepeatedStratifiedKFold\n",
    "from sklearn.model_selection import StratifiedKFold\n",
    "from sklearn.model_selection import RandomizedSearchCV, GridSearchCV\n",
    "from sklearn import preprocessing\n",
    "from sklearn.metrics import roc_curve, auc\n",
    "from ipywidgets import IntProgress\n",
    "from tqdm import tqdm_notebook as tqdm\n",
    "\n",
    "# silences package warnings\n",
    "import warnings\n",
    "warnings.filterwarnings('ignore')"
   ]
  },
  {
   "cell_type": "code",
   "execution_count": 2,
   "metadata": {},
   "outputs": [],
   "source": [
    "def prepare_df(df, target_var, cont_vars=[], cat_vars=[]):\n",
    "    total_vars = cont_vars + cat_vars + [target_var]\n",
    "    model_df = df[total_vars]\n",
    "    cleaned_df = model_df.dropna(subset=total_vars)\n",
    "\n",
    "    # turns categorical variables into dummy variables\n",
    "    for var in cat_vars:\n",
    "        temp_dummy = pd.get_dummies(cleaned_df[var], drop_first=True)\n",
    "        cleaned_df = pd.concat([cleaned_df.drop([var], axis=1), temp_dummy], axis=1)\n",
    "\n",
    "    # normalize the data\n",
    "    for var in cont_vars:\n",
    "        cleaned_df[var] = preprocessing.scale(cleaned_df[var])\n",
    "\n",
    "    return cleaned_df"
   ]
  },
  {
   "cell_type": "code",
   "execution_count": 16,
   "metadata": {},
   "outputs": [],
   "source": [
    "def xgbclassify(df, model, params=None, trainCV='none', target='txgot_binary', folds=5, iterations=100, print_id=1):\n",
    "    \n",
    "    feat_vars = [var for var in list(df.columns) if var != target]\n",
    "    X = df[feat_vars].values\n",
    "    y = df[target].values\n",
    "    \n",
    "    if trainCV=='grid':\n",
    "        param_bins = {key: {i:0 for i in params[key]} for key in params.keys()}\n",
    "    \n",
    "    avg_train_auc = 0\n",
    "    avg_test_auc = 0\n",
    "    avg_train_acc = 0\n",
    "    avg_test_acc = 0\n",
    "    \n",
    "    rskf = RepeatedStratifiedKFold(n_splits=folds, n_repeats=iterations)\n",
    "    for train_index, test_index in tqdm(rskf.split(X, y)):\n",
    "        X_train, X_test = X[train_index], X[test_index]\n",
    "        y_train, y_test = y[train_index], y[test_index]\n",
    "        \n",
    "        train_auc, test_auc, train_acc, test_acc, best_params = xgbmodel(model, params, \n",
    "                                                                         X_train, X_test, \n",
    "                                                                         y_train, y_test, \n",
    "                                                                         trainCV, print_id)\n",
    "        \n",
    "        if trainCV=='grid':\n",
    "            for key, value in best_params.items():\n",
    "                param_bins[key][value] += 1\n",
    "        \n",
    "        avg_train_auc += train_auc\n",
    "        avg_test_auc += test_auc\n",
    "        avg_train_acc += train_acc\n",
    "        avg_test_acc += test_acc\n",
    "        \n",
    "    avg_train_auc /= (folds * iterations)\n",
    "    avg_test_auc /= (folds * iterations)\n",
    "    avg_train_acc /= (folds * iterations)\n",
    "    avg_test_acc /= (folds * iterations)\n",
    "    \n",
    "    print('Train vs. Test')\n",
    "    print('Training AUC: {}'.format(round(avg_train_auc, 3)))\n",
    "    print('Testing AUC: {}'.format(round(avg_test_auc, 3)))\n",
    "    print()\n",
    "    print('Training Accuracy: {}'.format(round(avg_train_acc, 3)))\n",
    "    print('Testing Accuracy: {}'.format(round(avg_test_acc, 3)))\n",
    "    \n",
    "    if trainCV=='grid':\n",
    "        print()\n",
    "        for key, value in param_bins.items():\n",
    "            print('{}: {}'.format(key, value))\n",
    "    \n",
    "    print()\n",
    "    print('Feature Importance:')\n",
    "    if not (trainCV is 'random' or trainCV is 'grid'):\n",
    "        sorted_idx = np.argsort(model.feature_importances_)[::-1]\n",
    "        for index in sorted_idx:\n",
    "            print([feat_vars[index], model.feature_importances_[index]])\n",
    "        \n",
    "    return avg_train_auc, avg_test_auc    "
   ]
  },
  {
   "cell_type": "code",
   "execution_count": 63,
   "metadata": {},
   "outputs": [],
   "source": [
    "def xgbmodel(model, params, X_train, X_test, y_train, y_test, trainCV, print_id):\n",
    "    if trainCV is 'random':\n",
    "        skf = StratifiedKFold(n_splits=5, shuffle = True, random_state=print_id)\n",
    "        \n",
    "        X = np.concatenate((X_train, X_test), axis=0)\n",
    "        Y = np.concatenate((y_train, y_test), axis=0)\n",
    "        \n",
    "        my_model = RandomizedSearchCV(model, param_distributions=params, n_iter=5, \n",
    "                           scoring='roc_auc', n_jobs=4, \n",
    "                           cv=skf.split(X, Y), verbose=3)\n",
    "        \n",
    "        my_model.fit(X, Y)\n",
    "        best_params = my_model.best_params_\n",
    "        # print(best_params)\n",
    "        \n",
    "    elif trainCV is 'grid':\n",
    "#         X = np.concatenate((X_train, X_test), axis=0)\n",
    "#         Y = np.concatenate((y_train, y_test), axis=0)\n",
    "        \n",
    "        my_model = GridSearchCV(model, params, scoring='roc_auc', refit=True)\n",
    "                \n",
    "        my_model.fit(X_test, y_test)\n",
    "        best_params = my_model.best_params_\n",
    "        # print(best_params)\n",
    "        \n",
    "    else:\n",
    "        my_model = model\n",
    "        \n",
    "#         my_model.fit(X_train, y_train)\n",
    "\n",
    "        eval_set=[(X_train, y_train), (X_test, y_test)]\n",
    "        my_model.fit(X_train, y_train, eval_set=eval_set, \n",
    "                     eval_metric=\"auc\", early_stopping_rounds=15, verbose=False)\n",
    "        \n",
    "        best_params = params\n",
    "    \n",
    "    train_pred = my_model.predict(X_train)\n",
    "    test_pred = my_model.predict(X_test)\n",
    "    \n",
    "    fpr, tpr, _ = roc_curve(y_train, train_pred, pos_label=1)\n",
    "    train_auc_score = auc(fpr, tpr)\n",
    "    \n",
    "    fpr, tpr, _ = roc_curve(y_test, test_pred, pos_label=1)\n",
    "    test_auc_score = auc(fpr, tpr)\n",
    "    \n",
    "    train_auc = train_auc_score\n",
    "    test_auc = test_auc_score\n",
    "    \n",
    "    train_acc = my_model.score(X_train, y_train)\n",
    "    test_acc = my_model.score(X_test, y_test)\n",
    "    \n",
    "    test_metrics = confusion_matrix(y_test, test_pred).ravel()\n",
    "    train_metrics = confusion_matrix(y_train, train_pred).ravel()\n",
    "\n",
    "    return train_auc, test_auc, train_acc, test_acc, best_params"
   ]
  },
  {
   "cell_type": "markdown",
   "metadata": {},
   "source": [
    "## Original Features"
   ]
  },
  {
   "cell_type": "code",
   "execution_count": 5,
   "metadata": {},
   "outputs": [],
   "source": [
    "cat_vars = ['gleason', 'marry_binary', 'edu_binary', 'white_binary', 'Advice1']\n",
    "cont_vars = ['age', 'appt_topic', 'surgery_topic', 'radiation_topic', 'active_surveillance_topic']"
   ]
  },
  {
   "cell_type": "code",
   "execution_count": 6,
   "metadata": {},
   "outputs": [],
   "source": [
    "topics_df = pd.read_csv('../../DataPlus/topics_dataframe.csv')"
   ]
  },
  {
   "cell_type": "code",
   "execution_count": 7,
   "metadata": {},
   "outputs": [],
   "source": [
    "original_df = prepare_df(topics_df, 'txgot_binary', [], cat_vars)"
   ]
  },
  {
   "cell_type": "code",
   "execution_count": 8,
   "metadata": {},
   "outputs": [],
   "source": [
    "xgb1 = XGBClassifier()"
   ]
  },
  {
   "cell_type": "code",
   "execution_count": 9,
   "metadata": {},
   "outputs": [
    {
     "data": {
      "application/vnd.jupyter.widget-view+json": {
       "model_id": "19db07aca40241058f503579c0b1706c",
       "version_major": 2,
       "version_minor": 0
      },
      "text/plain": [
       "HBox(children=(IntProgress(value=1, bar_style='info', max=1), HTML(value='')))"
      ]
     },
     "metadata": {},
     "output_type": "display_data"
    },
    {
     "name": "stdout",
     "output_type": "stream",
     "text": [
      "\n",
      "Train vs. Test\n",
      "Training AUC: 0.808\n",
      "Testing AUC: 0.721\n",
      "\n",
      "Training Accuracy: 0.873\n",
      "Testing Accuracy: 0.814\n",
      "\n",
      "Feature Importance:\n",
      "['ASR', 0.22371967]\n",
      "[7.0, 0.1967655]\n",
      "['No College Degree', 0.15633424]\n",
      "['R', 0.14016172]\n",
      "['SR', 0.13477089]\n",
      "['Not Married', 0.091644205]\n",
      "['White', 0.056603774]\n",
      "['S', 0.0]\n",
      "['AS', 0.0]\n",
      "['AR', 0.0]\n"
     ]
    },
    {
     "data": {
      "text/plain": [
       "(0.8075081267928855, 0.7206452380952373)"
      ]
     },
     "execution_count": 9,
     "metadata": {},
     "output_type": "execute_result"
    }
   ],
   "source": [
    "xgbclassify(original_df, xgb1, trainCV=False)"
   ]
  },
  {
   "cell_type": "markdown",
   "metadata": {},
   "source": [
    "## Original Features with Topics"
   ]
  },
  {
   "cell_type": "code",
   "execution_count": 10,
   "metadata": {},
   "outputs": [],
   "source": [
    "original_w_topics_df = prepare_df(topics_df, 'txgot_binary', cont_vars, cat_vars)"
   ]
  },
  {
   "cell_type": "code",
   "execution_count": 11,
   "metadata": {},
   "outputs": [],
   "source": [
    "xgb2 = XGBClassifier()"
   ]
  },
  {
   "cell_type": "code",
   "execution_count": 12,
   "metadata": {
    "scrolled": false
   },
   "outputs": [
    {
     "data": {
      "application/vnd.jupyter.widget-view+json": {
       "model_id": "8333c6a7d29045a395b6f06b4e54886f",
       "version_major": 2,
       "version_minor": 0
      },
      "text/plain": [
       "HBox(children=(IntProgress(value=1, bar_style='info', max=1), HTML(value='')))"
      ]
     },
     "metadata": {},
     "output_type": "display_data"
    },
    {
     "name": "stdout",
     "output_type": "stream",
     "text": [
      "\n",
      "Train vs. Test\n",
      "Training AUC: 0.987\n",
      "Testing AUC: 0.684\n",
      "\n",
      "Training Accuracy: 0.994\n",
      "Testing Accuracy: 0.798\n",
      "\n",
      "Feature Importance:\n",
      "['surgery_topic', 0.2462203]\n",
      "['age', 0.18574513]\n",
      "['active_surveillance_topic', 0.116630666]\n",
      "['appt_topic', 0.10151188]\n",
      "['radiation_topic', 0.09287257]\n",
      "[7.0, 0.088552915]\n",
      "['R', 0.051835854]\n",
      "['SR', 0.03887689]\n",
      "['No College Degree', 0.034557234]\n",
      "['ASR', 0.025917927]\n",
      "['Not Married', 0.017278617]\n",
      "['S', 0.0]\n",
      "['AS', 0.0]\n",
      "['AR', 0.0]\n",
      "['White', 0.0]\n"
     ]
    },
    {
     "data": {
      "text/plain": [
       "(0.9869839988525552, 0.6841071428571428)"
      ]
     },
     "execution_count": 12,
     "metadata": {},
     "output_type": "execute_result"
    }
   ],
   "source": [
    "xgbclassify(original_w_topics_df, xgb2, trainCV=False)"
   ]
  },
  {
   "cell_type": "markdown",
   "metadata": {},
   "source": [
    "## Grid Search"
   ]
  },
  {
   "cell_type": "code",
   "execution_count": 64,
   "metadata": {},
   "outputs": [],
   "source": [
    "grid_params = {\n",
    "    'min_child_weight': [1],\n",
    "    'gamma': [0.5, 0.55],\n",
    "    'subsample': [0.5, 0.6],\n",
    "    'colsample_bytree': [0.5, 0.55, 0.6],\n",
    "    'max_depth': [4, 5],\n",
    "    'n_estimators': [180, 200]\n",
    "}"
   ]
  },
  {
   "cell_type": "code",
   "execution_count": 65,
   "metadata": {},
   "outputs": [],
   "source": [
    "xgb4 = XGBClassifier(learning_rate=0.02, objective='binary:logistic',\n",
    "                    silent=True, nthread=1)"
   ]
  },
  {
   "cell_type": "code",
   "execution_count": 66,
   "metadata": {},
   "outputs": [
    {
     "data": {
      "application/vnd.jupyter.widget-view+json": {
       "model_id": "a7ca65acb2ee4b99be3123f8806ff84e",
       "version_major": 2,
       "version_minor": 0
      },
      "text/plain": [
       "HBox(children=(IntProgress(value=1, bar_style='info', max=1), HTML(value='')))"
      ]
     },
     "metadata": {},
     "output_type": "display_data"
    },
    {
     "name": "stdout",
     "output_type": "stream",
     "text": [
      "\n",
      "Train vs. Test\n",
      "Training AUC: 0.544\n",
      "Testing AUC: 0.685\n",
      "\n",
      "Training Accuracy: 0.756\n",
      "Testing Accuracy: 0.959\n",
      "\n",
      "min_child_weight: {1: 50}\n",
      "gamma: {0.5: 44, 0.55: 6}\n",
      "subsample: {0.5: 19, 0.6: 31}\n",
      "colsample_bytree: {0.5: 28, 0.55: 10, 0.6: 12}\n",
      "max_depth: {4: 50, 5: 0}\n",
      "n_estimators: {180: 36, 200: 14}\n",
      "\n",
      "Feature Importance:\n"
     ]
    },
    {
     "data": {
      "text/plain": [
       "(0.5435325874928285, 0.6854523809523809)"
      ]
     },
     "execution_count": 66,
     "metadata": {},
     "output_type": "execute_result"
    }
   ],
   "source": [
    "xgbclassify(original_w_topics_df, xgb4, params=grid_params, \n",
    "            trainCV='grid', iterations=10, print_id=3)"
   ]
  },
  {
   "cell_type": "code",
   "execution_count": null,
   "metadata": {},
   "outputs": [],
   "source": []
  },
  {
   "cell_type": "code",
   "execution_count": 61,
   "metadata": {},
   "outputs": [],
   "source": [
    "xgb5=XGBClassifier(max_depth=4, gamma=0.5, min_child_weight=1, subsample=0.6,\n",
    "                   colsample_bytree=0.5, n_estimators=10000)"
   ]
  },
  {
   "cell_type": "code",
   "execution_count": 62,
   "metadata": {},
   "outputs": [
    {
     "data": {
      "application/vnd.jupyter.widget-view+json": {
       "model_id": "541c543f20af44749f4e1a24d27d0c33",
       "version_major": 2,
       "version_minor": 0
      },
      "text/plain": [
       "HBox(children=(IntProgress(value=1, bar_style='info', max=1), HTML(value='')))"
      ]
     },
     "metadata": {},
     "output_type": "display_data"
    },
    {
     "name": "stdout",
     "output_type": "stream",
     "text": [
      "\n",
      "Train vs. Test\n",
      "Training AUC: 0.813\n",
      "Testing AUC: 0.654\n",
      "\n",
      "Training Accuracy: 0.905\n",
      "Testing Accuracy: 0.811\n",
      "\n",
      "Feature Importance:\n",
      "['age', 0.20952381]\n",
      "['active_surveillance_topic', 0.18095239]\n",
      "['surgery_topic', 0.16190477]\n",
      "['appt_topic', 0.114285715]\n",
      "[7.0, 0.104761906]\n",
      "['SR', 0.06666667]\n",
      "['radiation_topic', 0.06666667]\n",
      "['R', 0.04761905]\n",
      "['No College Degree', 0.028571429]\n",
      "['ASR', 0.01904762]\n",
      "['S', 0.0]\n",
      "['AS', 0.0]\n",
      "['AR', 0.0]\n",
      "['White', 0.0]\n",
      "['Not Married', 0.0]\n"
     ]
    },
    {
     "data": {
      "text/plain": [
       "(0.812652960413081, 0.6539571428571425)"
      ]
     },
     "execution_count": 62,
     "metadata": {},
     "output_type": "execute_result"
    }
   ],
   "source": [
    "xgbclassify(original_w_topics_df, xgb5, trainCV='none', folds=5, iterations=100)"
   ]
  },
  {
   "cell_type": "code",
   "execution_count": null,
   "metadata": {},
   "outputs": [],
   "source": []
  },
  {
   "cell_type": "markdown",
   "metadata": {},
   "source": [
    "## Random Search"
   ]
  },
  {
   "cell_type": "code",
   "execution_count": 244,
   "metadata": {},
   "outputs": [],
   "source": [
    "params = {\n",
    "        'n_estimators': [50, 100, 150, 200],\n",
    "        'min_child_weight': [1, 5, 10],\n",
    "        'gamma': [0.5, 1, 1.5, 2, 5],\n",
    "        'subsample': [0.6, 0.8, 1.0],\n",
    "        'colsample_bytree': [0.6, 0.8, 1.0],\n",
    "        'max_depth': [3, 4, 5]\n",
    "        }"
   ]
  },
  {
   "cell_type": "code",
   "execution_count": 245,
   "metadata": {},
   "outputs": [],
   "source": [
    "xgb3 = XGBClassifier(learning_rate=0.02, objective='binary:logistic',\n",
    "                    silent=True, nthread=1)"
   ]
  },
  {
   "cell_type": "code",
   "execution_count": 246,
   "metadata": {
    "scrolled": false
   },
   "outputs": [
    {
     "name": "stdout",
     "output_type": "stream",
     "text": [
      "Fitting 5 folds for each of 5 candidates, totalling 25 fits\n"
     ]
    },
    {
     "name": "stderr",
     "output_type": "stream",
     "text": [
      "[Parallel(n_jobs=4)]: Done  25 out of  25 | elapsed:    3.7s finished\n"
     ]
    },
    {
     "name": "stdout",
     "output_type": "stream",
     "text": [
      "{'subsample': 0.8, 'n_estimators': 50, 'min_child_weight': 1, 'max_depth': 4, 'gamma': 2, 'colsample_bytree': 0.6}\n",
      "Fitting 5 folds for each of 5 candidates, totalling 25 fits\n"
     ]
    },
    {
     "name": "stderr",
     "output_type": "stream",
     "text": [
      "[Parallel(n_jobs=4)]: Done  25 out of  25 | elapsed:    3.9s finished\n"
     ]
    },
    {
     "name": "stdout",
     "output_type": "stream",
     "text": [
      "{'subsample': 0.8, 'n_estimators': 200, 'min_child_weight': 5, 'max_depth': 5, 'gamma': 2, 'colsample_bytree': 0.8}\n",
      "Fitting 5 folds for each of 5 candidates, totalling 25 fits\n"
     ]
    },
    {
     "name": "stderr",
     "output_type": "stream",
     "text": [
      "[Parallel(n_jobs=4)]: Done  25 out of  25 | elapsed:    3.8s finished\n"
     ]
    },
    {
     "name": "stdout",
     "output_type": "stream",
     "text": [
      "{'subsample': 0.8, 'n_estimators': 150, 'min_child_weight': 1, 'max_depth': 4, 'gamma': 1, 'colsample_bytree': 0.6}\n",
      "Fitting 5 folds for each of 5 candidates, totalling 25 fits\n"
     ]
    },
    {
     "name": "stderr",
     "output_type": "stream",
     "text": [
      "[Parallel(n_jobs=4)]: Done  25 out of  25 | elapsed:    3.8s finished\n"
     ]
    },
    {
     "name": "stdout",
     "output_type": "stream",
     "text": [
      "{'subsample': 1.0, 'n_estimators': 50, 'min_child_weight': 1, 'max_depth': 4, 'gamma': 2, 'colsample_bytree': 0.6}\n",
      "Fitting 5 folds for each of 5 candidates, totalling 25 fits\n"
     ]
    },
    {
     "name": "stderr",
     "output_type": "stream",
     "text": [
      "[Parallel(n_jobs=4)]: Done  25 out of  25 | elapsed:    3.8s finished\n"
     ]
    },
    {
     "name": "stdout",
     "output_type": "stream",
     "text": [
      "{'subsample': 0.8, 'n_estimators': 50, 'min_child_weight': 1, 'max_depth': 4, 'gamma': 1.5, 'colsample_bytree': 0.6}\n",
      "Train vs. Test\n",
      "Training AUC: 0.777\n",
      "Testing AUC: 0.769\n",
      "\n",
      "Training Accuracy: 0.957\n",
      "Testing Accuracy: 0.967\n",
      "\n",
      "Feature Importance:\n"
     ]
    },
    {
     "data": {
      "text/plain": [
       "(0.7769279977051061, 0.7688095238095238)"
      ]
     },
     "execution_count": 246,
     "metadata": {},
     "output_type": "execute_result"
    }
   ],
   "source": [
    "xgbclassify(original_w_topics_df, xgb3, params=params, \n",
    "            trainCV='random', iterations=1, print_id=2)"
   ]
  },
  {
   "cell_type": "markdown",
   "metadata": {},
   "source": [
    "ID's for Random CV Results: 1, 2"
   ]
  },
  {
   "cell_type": "markdown",
   "metadata": {},
   "source": [
    "## Grid Search"
   ]
  },
  {
   "cell_type": "code",
   "execution_count": 50,
   "metadata": {},
   "outputs": [],
   "source": [
    "grid_params = {\n",
    "    'min_child_weight': [1, 5],\n",
    "    'gamma': [0.5, 1],\n",
    "    'subsample': [0.6, 0.8],\n",
    "    'colsample_bytree': [0.6, 0.7, 0.8],\n",
    "    'max_depth': [5, 4],\n",
    "    'n_estimators': [175, 200, 225]\n",
    "}"
   ]
  },
  {
   "cell_type": "code",
   "execution_count": 51,
   "metadata": {},
   "outputs": [],
   "source": [
    "xgb4 = XGBClassifier(learning_rate=0.02, objective='binary:logistic',\n",
    "                    silent=True, nthread=1)"
   ]
  },
  {
   "cell_type": "code",
   "execution_count": 52,
   "metadata": {},
   "outputs": [
    {
     "data": {
      "application/vnd.jupyter.widget-view+json": {
       "model_id": "ba9240dc17a14352980bc90956b4049e",
       "version_major": 2,
       "version_minor": 0
      },
      "text/plain": [
       "HBox(children=(IntProgress(value=1, bar_style='info', max=1), HTML(value='')))"
      ]
     },
     "metadata": {},
     "output_type": "display_data"
    },
    {
     "name": "stdout",
     "output_type": "stream",
     "text": [
      "\n",
      "Train vs. Test\n",
      "Training AUC: 0.816\n",
      "Testing AUC: 0.862\n",
      "\n",
      "Training Accuracy: 0.968\n",
      "Testing Accuracy: 0.967\n",
      "\n",
      "min_child_weight: {1: 4, 5: 1}\n",
      "gamma: {0.5: 3, 1: 2}\n",
      "subsample: {0.6: 4, 0.8: 1}\n",
      "colsample_bytree: {0.6: 2, 0.7: 1, 0.8: 2}\n",
      "max_depth: {5: 1, 4: 4}\n",
      "n_estimators: {175: 2, 200: 2, 225: 1}\n",
      "\n",
      "Feature Importance:\n"
     ]
    },
    {
     "data": {
      "text/plain": [
       "(0.8160043029259898, 0.8619047619047621)"
      ]
     },
     "execution_count": 52,
     "metadata": {},
     "output_type": "execute_result"
    }
   ],
   "source": [
    "xgbclassify(original_w_topics_df, xgb4, params=grid_params, \n",
    "            trainCV='grid', iterations=1, print_id=3)"
   ]
  },
  {
   "cell_type": "markdown",
   "metadata": {},
   "source": [
    "ID's for Grid CV Results: 3, 4, 5, 6"
   ]
  },
  {
   "cell_type": "markdown",
   "metadata": {},
   "source": [
    "## Trying out Hyperparameters from Search"
   ]
  },
  {
   "cell_type": "code",
   "execution_count": 227,
   "metadata": {},
   "outputs": [],
   "source": [
    "xgb5=XGBClassifier(max_depth=3, gamma=0.5, min_child_weight=1, subsample=0.6,\n",
    "                   colsample_bytree=0.7, n_estimators=150)"
   ]
  },
  {
   "cell_type": "code",
   "execution_count": 228,
   "metadata": {},
   "outputs": [
    {
     "name": "stdout",
     "output_type": "stream",
     "text": [
      "Train vs. Test\n",
      "Training AUC: 0.952\n",
      "Testing AUC: 0.682\n",
      "\n",
      "Training Accuracy: 0.976\n",
      "Testing Accuracy: 0.804\n",
      "\n",
      "Feature Importance:\n",
      "['surgery_topic', 0.23579545]\n",
      "['active_surveillance_topic', 0.1903409]\n",
      "['age', 0.16193181]\n",
      "['radiation_topic', 0.11931818]\n",
      "['appt_topic', 0.08238637]\n",
      "[7.0, 0.0625]\n",
      "['SR', 0.048295453]\n",
      "['R', 0.045454547]\n",
      "['ASR', 0.025568182]\n",
      "['No College Degree', 0.025568182]\n",
      "['Not Married', 0.0028409092]\n",
      "['S', 0.0]\n",
      "['AS', 0.0]\n",
      "['AR', 0.0]\n",
      "['White', 0.0]\n"
     ]
    },
    {
     "data": {
      "text/plain": [
       "(0.9521177423981624, 0.6820309523809523)"
      ]
     },
     "execution_count": 228,
     "metadata": {},
     "output_type": "execute_result"
    }
   ],
   "source": [
    "xgbclassify(original_w_topics_df, xgb5, trainCV='none', iterations=100)"
   ]
  },
  {
   "cell_type": "markdown",
   "metadata": {},
   "source": [
    "Don't go below 0.7 colsample_bytree"
   ]
  },
  {
   "cell_type": "code",
   "execution_count": null,
   "metadata": {},
   "outputs": [],
   "source": []
  }
 ],
 "metadata": {
  "kernelspec": {
   "display_name": "DataPlus",
   "language": "python",
   "name": "dataplus"
  },
  "language_info": {
   "codemirror_mode": {
    "name": "ipython",
    "version": 3
   },
   "file_extension": ".py",
   "mimetype": "text/x-python",
   "name": "python",
   "nbconvert_exporter": "python",
   "pygments_lexer": "ipython3",
   "version": "3.6.5"
  }
 },
 "nbformat": 4,
 "nbformat_minor": 2
}
