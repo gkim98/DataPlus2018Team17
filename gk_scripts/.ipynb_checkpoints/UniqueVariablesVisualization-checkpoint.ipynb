{
 "cells": [
  {
   "cell_type": "code",
   "execution_count": 1,
   "metadata": {},
   "outputs": [],
   "source": [
    "import numpy as np\n",
    "import pandas as pd\n",
    "import matplotlib.pyplot as plt\n",
    "import seaborn as sns\n",
    "%matplotlib inline"
   ]
  },
  {
   "cell_type": "code",
   "execution_count": 5,
   "metadata": {},
   "outputs": [],
   "source": [
    "dvd = pd.read_csv('../../DataPlus/dvd_split.csv')"
   ]
  },
  {
   "cell_type": "code",
   "execution_count": 40,
   "metadata": {},
   "outputs": [],
   "source": [
    "# shows data in graphs in numerical form\n",
    "def num_breakdown(df, group_var, hue_var):\n",
    "    groups = df.groupby(group_var)\n",
    "    \n",
    "    # first groupby breakdown\n",
    "    for name, group in groups:\n",
    "        print('{}: '.format(str(name).upper()))\n",
    "        for hue_name, hue_group in group.groupby(hue_var):\n",
    "            percentage = round((len(hue_group.index) / len(group[hue_var].dropna().index)) * 100, 1)\n",
    "            print('{} - {}%'.format(hue_name, percentage))\n",
    "        print()"
   ]
  },
  {
   "cell_type": "code",
   "execution_count": 41,
   "metadata": {},
   "outputs": [
    {
     "data": {
      "text/plain": [
       "['Unnamed: 0',\n",
       " 'Unnamed: 0.1',\n",
       " 'Unnamed: 0.1.1',\n",
       " 'Advice1',\n",
       " 'Anx11',\n",
       " 'Anx111',\n",
       " 'Anx112',\n",
       " 'Anx113',\n",
       " 'Anx12',\n",
       " 'Anx13',\n",
       " 'Anx51',\n",
       " 'Anx52',\n",
       " 'Anx53',\n",
       " 'Anx61',\n",
       " 'Anx62',\n",
       " 'Anx63',\n",
       " 'Anx71',\n",
       " 'Anx72',\n",
       " 'Anx73',\n",
       " 'Anx91',\n",
       " 'Anx92',\n",
       " 'Anx93',\n",
       " 'Ask3',\n",
       " 'Clear3',\n",
       " 'DA1',\n",
       " 'DVD_Act_t1_avg',\n",
       " 'DVD_Act_t2_avg',\n",
       " 'DVD_Act_t2_avg_mc',\n",
       " 'DVD_Act_t3_avg',\n",
       " 'DVD_Act_t3_tot',\n",
       " 'DVD_Actpt1_t1',\n",
       " 'DVD_Actpt1_t2',\n",
       " 'DVD_Actpt1_t3',\n",
       " 'DVD_Actpt2_t1',\n",
       " 'DVD_Actpt2_t2',\n",
       " 'DVD_Actpt2_t3',\n",
       " 'DVD_Actpt3_t1',\n",
       " 'DVD_Actpt3_t2',\n",
       " 'DVD_Actpt3_t3',\n",
       " 'DVD_Actpt4_t1',\n",
       " 'DVD_Actpt4_t2',\n",
       " 'DVD_Actpt4_t3',\n",
       " 'DVD_Advice2',\n",
       " 'DVD_Anx41',\n",
       " 'DVD_Anx42',\n",
       " 'DVD_Anx43',\n",
       " 'DVD_Anx44',\n",
       " 'DVD_Anx45',\n",
       " 'DVD_Anx46',\n",
       " 'DVD_Anx47',\n",
       " 'DVD_Anx_t1_FS',\n",
       " 'DVD_Anx_t1_avg',\n",
       " 'DVD_Anx_t2_FS',\n",
       " 'DVD_Anx_t2_avg',\n",
       " 'DVD_Anx_t2_avg_mc',\n",
       " 'DVD_Anx_t3_FS',\n",
       " 'DVD_Anx_t3_avg',\n",
       " 'DVD_Anx_t4_AFS',\n",
       " 'DVD_Anx_t4_avg',\n",
       " 'DVD_Apt_speed',\n",
       " 'DVD_Apt_understand',\n",
       " 'DVD_Apt_understand_tell',\n",
       " 'DVD_Cancer1_EverPCa',\n",
       " 'DVD_Cancer2_KnowResult',\n",
       " 'DVD_Cancer3_Gleason_ptreport',\n",
       " 'DVD_Cancer3_Stage_ptreport',\n",
       " 'DVD_Cancer3_TellGleason',\n",
       " 'DVD_Cancer3_TellStage',\n",
       " 'DVD_Cancer_Gleason_dummy_6zero',\n",
       " 'DVD_Cancer_Gleason_dummy_7zero',\n",
       " 'DVD_Cancer_PCa',\n",
       " 'DVD_Cancer_Stage',\n",
       " 'DVD_Choice2_Check',\n",
       " 'DVD_Choice3Comb',\n",
       " 'DVD_Choice3_Check',\n",
       " 'DVD_Choice3_lean_Check',\n",
       " 'DVD_Conf10_t1',\n",
       " 'DVD_Conf10_t2',\n",
       " 'DVD_Conf1_t1',\n",
       " 'DVD_Conf1_t2',\n",
       " 'DVD_Conf2_emo_FS1',\n",
       " 'DVD_Conf2_emo_FS1_rev',\n",
       " 'DVD_Conf2_t1',\n",
       " 'DVD_Conf2_t2',\n",
       " 'DVD_Conf2_understand_FS2',\n",
       " 'DVD_Conf3_t1',\n",
       " 'DVD_Conf3_t2',\n",
       " 'DVD_Conf4_t1',\n",
       " 'DVD_Conf4_t2',\n",
       " 'DVD_Conf5_t1',\n",
       " 'DVD_Conf5_t2',\n",
       " 'DVD_Conf6_t1',\n",
       " 'DVD_Conf6_t2',\n",
       " 'DVD_Conf7_t1',\n",
       " 'DVD_Conf7_t2',\n",
       " 'DVD_Conf8_t1',\n",
       " 'DVD_Conf8_t2',\n",
       " 'DVD_Conf9_t1',\n",
       " 'DVD_Conf9_t2',\n",
       " 'DVD_Conf_all_change',\n",
       " 'DVD_Conf_referral_change',\n",
       " 'DVD_Conf_share_change',\n",
       " 'DVD_Conf_t1_all_avg',\n",
       " 'DVD_Conf_t1_all_avg_all5s',\n",
       " 'DVD_Conf_t1_all_avg_mc',\n",
       " 'DVD_Conf_t1_all_avg_median',\n",
       " 'DVD_Conf_t1_referral',\n",
       " 'DVD_Conf_t1_share_avg',\n",
       " 'DVD_Conf_t1_und_avg',\n",
       " 'DVD_Conf_t1_undnew',\n",
       " 'DVD_Conf_t2_all_avg',\n",
       " 'DVD_Conf_t2_all_avg_mc',\n",
       " 'DVD_Conf_t2_referral',\n",
       " 'DVD_Conf_t2_referral_mc',\n",
       " 'DVD_Conf_t2_share_avg',\n",
       " 'DVD_Conf_t2_und_avg',\n",
       " 'DVD_Conf_t2_undnew',\n",
       " 'DVD_Conf_und_change',\n",
       " 'DVD_DA2_DA_rec',\n",
       " 'DVD_DA2_DA_rec_dichot',\n",
       " 'DVD_DA2_DA_use',\n",
       " 'DVD_DA2_DVD_rec',\n",
       " 'DVD_DA2_DVD_use',\n",
       " 'DVD_DA2_mat_balance',\n",
       " 'DVD_DA2_mat_balance_dichot',\n",
       " 'DVD_DA2_mat_info',\n",
       " 'DVD_DA2_mat_trust',\n",
       " 'DVD_DA2_mat_trust_dichot',\n",
       " 'DVD_DA3_again',\n",
       " 'DVD_DA3_discussRad',\n",
       " 'DVD_Dec3_5q_avg',\n",
       " 'DVD_Dec3_6q_avg',\n",
       " 'DVD_Dec3_cons',\n",
       " 'DVD_Dec3_easy',\n",
       " 'DVD_Dec3_procon',\n",
       " 'DVD_Dec3_pros',\n",
       " 'DVD_Dec3_sure',\n",
       " 'DVD_Dec4_FS1',\n",
       " 'DVD_Dec4_FS2',\n",
       " 'DVD_Dec4_again',\n",
       " 'DVD_Dec4_avg',\n",
       " 'DVD_Dec4_harm',\n",
       " 'DVD_Dec4_harm_rev',\n",
       " 'DVD_Dec4_harmreg',\n",
       " 'DVD_Dec4_inform',\n",
       " 'DVD_Dec4_regret',\n",
       " 'DVD_Dec4_regret_rev',\n",
       " 'DVD_Dec4_right',\n",
       " 'DVD_Dec4_satisfy',\n",
       " 'DVD_Dec4_stick',\n",
       " 'DVD_Dec4_values',\n",
       " 'DVD_Dec4_wise',\n",
       " 'DVD_DecPro1_SDM',\n",
       " 'DVD_DecPro1_firstweek',\n",
       " 'DVD_DecPro1_medVSpersonal',\n",
       " 'DVD_DecPro1_quick',\n",
       " 'DVD_DecPro1_timedecide',\n",
       " 'DVD_DecPro2_SDM',\n",
       " 'DVD_DecPro2_firstweek',\n",
       " 'DVD_DecPro2_medVSpersonal',\n",
       " 'DVD_DecPro2_quick',\n",
       " 'DVD_DecPro2_talkprim',\n",
       " 'DVD_DecPro2_talkrad',\n",
       " 'DVD_DecPro2_talkrad_dichot',\n",
       " 'DVD_DecPro2_talkuro2',\n",
       " 'DVD_DecPro2_timedecide',\n",
       " 'DVD_DecPro3_SDM',\n",
       " 'DVD_DecPro3_medVSpersonal',\n",
       " 'DVD_DecPro4_ConsultNum',\n",
       " 'DVD_DecPro4_RadNum',\n",
       " 'DVD_DecPro4_Rad_dichot',\n",
       " 'DVD_DecPro4_SDM',\n",
       " 'DVD_DecPro4_UroNum',\n",
       " 'DVD_DecPro4_month',\n",
       " 'DVD_DecPro4_talkprim',\n",
       " 'DVD_Doc2',\n",
       " 'DVD_DrTrust1_t2',\n",
       " 'DVD_DrTrust1_t2_rev',\n",
       " 'DVD_DrTrust2_t2',\n",
       " 'DVD_DrTrust3_t2',\n",
       " 'DVD_DrTrust4_t2',\n",
       " 'DVD_DrTrust5_t2',\n",
       " 'DVD_DrTrust5_t2_rev',\n",
       " 'DVD_DrTrust6_t2',\n",
       " 'DVD_DrTrust_t2_avg',\n",
       " 'DVD_DrTrust_t2_avg_mc',\n",
       " 'DVD_Entry1',\n",
       " 'DVD_Entry2',\n",
       " 'DVD_Entry3',\n",
       " 'DVD_Entry4',\n",
       " 'DVD_Know1_Dienot1',\n",
       " 'DVD_Know1_Dienot1_right',\n",
       " 'DVD_Know1_Glsntx1',\n",
       " 'DVD_Know1_Glsntx1_right',\n",
       " 'DVD_Know1_PCagrow1',\n",
       " 'DVD_Know1_PCagrow1_right',\n",
       " 'DVD_Know1_PCaspread1',\n",
       " 'DVD_Know1_PCaspread1_right',\n",
       " 'DVD_Know1_PSAtx1',\n",
       " 'DVD_Know1_PSAtx1_right',\n",
       " 'DVD_Know1_Raded1',\n",
       " 'DVD_Know1_Raded1_right',\n",
       " 'DVD_Know1_Radpee1',\n",
       " 'DVD_Know1_Sured1',\n",
       " 'DVD_Know1_Sured1_right',\n",
       " 'DVD_Know1_Surepee1_right',\n",
       " 'DVD_Know1_Surpee1',\n",
       " 'DVD_Know1_Surv5yr1',\n",
       " 'DVD_Know1_Surv5yr1_right',\n",
       " 'DVD_Know1_WWed1_right',\n",
       " 'DVD_Know1_WWpee1_right',\n",
       " 'DVD_Know1_Wait1',\n",
       " 'DVD_Know1_Wait1_right',\n",
       " 'DVD_Know1_Whyww1',\n",
       " 'DVD_Know1_Whyww1_right',\n",
       " 'DVD_Know1_Wwed1',\n",
       " 'DVD_Know1_Wwpee1',\n",
       " 'DVD_Know2_Dienot2_right',\n",
       " 'DVD_Know2_Glsntx2',\n",
       " 'DVD_Know2_Glsntx2_right',\n",
       " 'DVD_Know2_PCagrow2',\n",
       " 'DVD_Know2_PCagrow2_right',\n",
       " 'DVD_Know2_PCaspread2',\n",
       " 'DVD_Know2_PCaspread2_right',\n",
       " 'DVD_Know2_PSAtx2',\n",
       " 'DVD_Know2_PSAtx2_right',\n",
       " 'DVD_Know2_Raded2_right',\n",
       " 'DVD_Know2_Sured2_right',\n",
       " 'DVD_Know2_Surepee2_right',\n",
       " 'DVD_Know2_Surv5yr2',\n",
       " 'DVD_Know2_Surv5yr2_right',\n",
       " 'DVD_Know2_WWed2_right',\n",
       " 'DVD_Know2_WWpee2_right',\n",
       " 'DVD_Know2_Wait2_right',\n",
       " 'DVD_Know2_Whyww2_right',\n",
       " 'DVD_Know3_Dienot3',\n",
       " 'DVD_Know3_Dienot3_right',\n",
       " 'DVD_Know3_Glsntx3',\n",
       " 'DVD_Know3_Glsntx3_right',\n",
       " 'DVD_Know3_PCagrow3',\n",
       " 'DVD_Know3_PCagrow3_right',\n",
       " 'DVD_Know3_PCaspread3',\n",
       " 'DVD_Know3_PCaspread3_right',\n",
       " 'DVD_Know3_PSAtx3',\n",
       " 'DVD_Know3_PSAtx3_right',\n",
       " 'DVD_Know3_Raded3',\n",
       " 'DVD_Know3_Raded3_right',\n",
       " 'DVD_Know3_Radpee3',\n",
       " 'DVD_Know3_Radpee3_right',\n",
       " 'DVD_Know3_Sured3',\n",
       " 'DVD_Know3_Sured3_right',\n",
       " 'DVD_Know3_Surepee3_right',\n",
       " 'DVD_Know3_Surpee3',\n",
       " 'DVD_Know3_Surv5yr3',\n",
       " 'DVD_Know3_Surv5yr3_right',\n",
       " 'DVD_Know3_WWed3_right',\n",
       " 'DVD_Know3_WWpee3_right',\n",
       " 'DVD_Know3_Wait3',\n",
       " 'DVD_Know3_Wait3_right',\n",
       " 'DVD_Know3_Whyww3',\n",
       " 'DVD_Know3_Whyww3_right',\n",
       " 'DVD_Know3_Wwed3',\n",
       " 'DVD_Know3_Wwpee3',\n",
       " 'DVD_Know3_avg_all',\n",
       " 'DVD_Knowledge_t1_avg',\n",
       " 'DVD_Knowledge_t2_avg',\n",
       " 'DVD_Knowledge_t3_avg',\n",
       " 'DVD_MD1_ID',\n",
       " 'DVD_MD1_degree',\n",
       " 'DVD_MD2_ID',\n",
       " 'DVD_MD2_age',\n",
       " 'DVD_MD2_degree',\n",
       " 'DVD_MD2_gender',\n",
       " 'DVD_MD2_graduate',\n",
       " 'DVD_MD2_percentcare',\n",
       " 'DVD_MD2_race',\n",
       " 'DVD_MD2_spec',\n",
       " 'DVD_MD2_type',\n",
       " 'DVD_MD2_weeklyPT',\n",
       " 'DVD_MD3_ID',\n",
       " 'DVD_MD3_age',\n",
       " 'DVD_MD3_degree',\n",
       " 'DVD_MD3_gender',\n",
       " 'DVD_MD3_graduate',\n",
       " 'DVD_MD3_percentcare',\n",
       " 'DVD_MD3_race',\n",
       " 'DVD_MD3_spec',\n",
       " 'DVD_MD3_type',\n",
       " 'DVD_MD3_weeklyPT',\n",
       " 'DVD_MD4_ID',\n",
       " 'DVD_MD4_age',\n",
       " 'DVD_MD4_degree',\n",
       " 'DVD_MD4_gender',\n",
       " 'DVD_MD4_graduate',\n",
       " 'DVD_MD4_percentcare',\n",
       " 'DVD_MD4_race',\n",
       " 'DVD_MD4_spec',\n",
       " 'DVD_MD4_type',\n",
       " 'DVD_MD4_weeklyPT',\n",
       " 'DVD_MD5_ID',\n",
       " 'DVD_MD5_age',\n",
       " 'DVD_MD5_degree',\n",
       " 'DVD_MD5_gender',\n",
       " 'DVD_MD5_graduate',\n",
       " 'DVD_MD5_percentcare',\n",
       " 'DVD_MD5_race',\n",
       " 'DVD_MD5_spec',\n",
       " 'DVD_MD5_type',\n",
       " 'DVD_MD5_weeklyPT',\n",
       " 'DVD_MD6_ID',\n",
       " 'DVD_MD6_age',\n",
       " 'DVD_MD6_degree',\n",
       " 'DVD_MD6_gender',\n",
       " 'DVD_MD6_graduate',\n",
       " 'DVD_MD6_percentcare',\n",
       " 'DVD_MD6_race',\n",
       " 'DVD_MD6_spec',\n",
       " 'DVD_MD6_type',\n",
       " 'DVD_MD6_weeklyPT',\n",
       " 'DVD_QOL1_Avghappy',\n",
       " 'DVD_QOL1_general',\n",
       " 'DVD_QOL1_health',\n",
       " 'DVD_QOL4_Avghappy',\n",
       " 'DVD_QOL4_general',\n",
       " 'DVD_QOL4_health',\n",
       " 'DVD_RadApt_concerns',\n",
       " 'DVD_RadApt_diff',\n",
       " 'DVD_RadApt_partdec',\n",
       " 'DVD_RadApt_prob',\n",
       " 'DVD_RadApt_referral',\n",
       " 'DVD_RadApt_secondop',\n",
       " 'DVD_RadApt_yn',\n",
       " 'DVD_RadFeelt3_avg_FS',\n",
       " 'DVD_RadFeelt4_avg_FS',\n",
       " 'DVD_RadRec_AS',\n",
       " 'DVD_RadRec_brachy',\n",
       " 'DVD_RadRec_none',\n",
       " 'DVD_RadRec_number',\n",
       " 'DVD_RadRec_other',\n",
       " 'DVD_RadRec_other2_what',\n",
       " 'DVD_RadRec_other_what',\n",
       " 'DVD_RadRec_rad',\n",
       " 'DVD_RadRec_strength',\n",
       " 'DVD_RadRec_surgery',\n",
       " 'DVD_RadRec_what',\n",
       " 'DVD_RadTalk_AS',\n",
       " 'DVD_RadTalk_brachy',\n",
       " 'DVD_RadTalk_other',\n",
       " 'DVD_RadTalk_rad',\n",
       " 'DVD_RadTalk_surgery',\n",
       " 'DVD_RadTalk_total',\n",
       " 'DVD_Radfeel1_t3',\n",
       " 'DVD_Radfeel1_t3_rev',\n",
       " 'DVD_Radfeel1_t4',\n",
       " 'DVD_Radfeel1_t4_rev',\n",
       " 'DVD_Radfeel2_t3',\n",
       " 'DVD_Radfeel2_t4',\n",
       " 'DVD_Radfeel3_t3',\n",
       " 'DVD_Radfeel3_t4',\n",
       " 'DVD_Radfeel4_t3',\n",
       " 'DVD_Radfeel4_t4',\n",
       " 'DVD_Radfeel5_t3',\n",
       " 'DVD_Radfeel5_t3_rev',\n",
       " 'DVD_Radfeel5_t4',\n",
       " 'DVD_Radfeel5_t4_rev',\n",
       " 'DVD_Radfeel6_t3',\n",
       " 'DVD_Radfeel6_t4',\n",
       " 'DVD_Radsat1',\n",
       " 'DVD_Radsat10',\n",
       " 'DVD_Radsat2',\n",
       " 'DVD_Radsat2_rev',\n",
       " 'DVD_Radsat3',\n",
       " 'DVD_Radsat3_avg_FS',\n",
       " 'DVD_Radsat4',\n",
       " 'DVD_Radsat4_rev',\n",
       " 'DVD_Radsat5',\n",
       " 'DVD_Radsat5_rev',\n",
       " 'DVD_Radsat6',\n",
       " 'DVD_Radsat7',\n",
       " 'DVD_Radsat8',\n",
       " 'DVD_Radsat8_rev',\n",
       " 'DVD_Radsat9',\n",
       " 'DVD_SDM2_dichot',\n",
       " 'DVD_SDM4_PrefvActual',\n",
       " 'DVD_SE4_BM_blood',\n",
       " 'DVD_SE4_BM_control',\n",
       " 'DVD_SE4_BM_freq',\n",
       " 'DVD_SE4_BM_pain',\n",
       " 'DVD_SE4_BM_prob',\n",
       " 'DVD_SE4_BM_urge',\n",
       " 'DVD_SE4_Hormone_avg',\n",
       " 'DVD_SE4_hormone_HotFlash',\n",
       " 'DVD_SE4_hormone_LackEnergy',\n",
       " 'DVD_SE4_hormone_breast',\n",
       " 'DVD_SE4_hormone_depressed',\n",
       " 'DVD_SE4_hormone_weight',\n",
       " 'DVD_SE4_overall',\n",
       " 'DVD_SE4_overall_EmotionImpact',\n",
       " 'DVD_SE4_pee_Control',\n",
       " 'DVD_SE4_pee_Diapers',\n",
       " 'DVD_SE4_pee_Freq',\n",
       " 'DVD_SE4_pee_LeakFreq',\n",
       " 'DVD_SE4_pee_avg',\n",
       " 'DVD_SE4_pee_bleed',\n",
       " 'DVD_SE4_pee_leak',\n",
       " 'DVD_SE4_pee_pain',\n",
       " 'DVD_SE4_pee_prob',\n",
       " 'DVD_SE4_pee_weak',\n",
       " 'DVD_SE4_sex_Ableerect',\n",
       " 'DVD_SE4_sex_Ableorgasm',\n",
       " 'DVD_SE4_sex_Erectfreq',\n",
       " 'DVD_SE4_sex_Erectqual',\n",
       " 'DVD_SE4_sex_function',\n",
       " 'DVD_SE4_sex_prob',\n",
       " 'DVD_Trans_num',\n",
       " 'DVD_Trans_r',\n",
       " 'DVD_Trans_u',\n",
       " 'DVD_Trans_yn',\n",
       " 'DVD_Transcripts_Included',\n",
       " 'DVD_TxChoice2_Dum_AS',\n",
       " 'DVD_TxChoice2_Dum_xrt',\n",
       " 'DVD_TxChoice2_cond',\n",
       " 'DVD_TxChoice2_cond_dichot',\n",
       " 'DVD_TxChoice2_dum_Sx',\n",
       " 'DVD_TxChoice2_orig',\n",
       " 'DVD_TxChoice2_other',\n",
       " 'DVD_TxChoice3_decided',\n",
       " 'DVD_TxChoice3_decided_other',\n",
       " 'DVD_TxChoice3_lean_other',\n",
       " 'DVD_TxGot_pt_cond',\n",
       " 'DVD_TxGot_pt_dichot',\n",
       " 'DVD_TxGot_pt_other',\n",
       " 'DVD_TxReason4_AvoidED',\n",
       " 'DVD_TxReason4_Avoidbowel',\n",
       " 'DVD_TxReason4_Avoidpee',\n",
       " 'DVD_TxReason4_Avoidrecov',\n",
       " 'DVD_TxReason4_Avoidsurg',\n",
       " 'DVD_Unnamed: 0',\n",
       " 'DVD_UroApt_concerns',\n",
       " 'DVD_UroApt_concerns_dichot',\n",
       " 'DVD_UroApt_concerns_yn',\n",
       " 'DVD_UroApt_diff',\n",
       " 'DVD_UroApt_diff_dichot',\n",
       " 'DVD_UroApt_diff_yn',\n",
       " 'DVD_UroApt_partdec_dichot',\n",
       " 'DVD_UroApt_prob_disc',\n",
       " 'DVD_UroApt_prob_disc_dichot',\n",
       " 'DVD_UroApt_prob_yn',\n",
       " 'DVD_UroApt_referral',\n",
       " 'DVD_UroApt_secondop',\n",
       " 'DVD_UroFeelt3_avg_FS',\n",
       " 'DVD_UroFeelt4_avg_FS',\n",
       " 'DVD_UroRec_AS',\n",
       " 'DVD_UroRec_brachy',\n",
       " 'DVD_UroRec_number',\n",
       " 'DVD_UroRec_other2_what',\n",
       " 'DVD_UroRec_other_what',\n",
       " 'DVD_UroRec_rad',\n",
       " 'DVD_UroRec_strength',\n",
       " 'DVD_UroRec_surgery',\n",
       " 'DVD_UroSat3_emosup_FS1',\n",
       " 'DVD_UroSat3_info_FS2',\n",
       " 'DVD_UroTalk_AS',\n",
       " 'DVD_UroTalk_brachy',\n",
       " 'DVD_UroTalk_other',\n",
       " 'DVD_UroTalk_rad',\n",
       " 'DVD_UroTalk_surgery',\n",
       " 'DVD_UroTalk_total',\n",
       " 'DVD_Urofeel1_t3',\n",
       " 'DVD_Urofeel1_t3_rev',\n",
       " 'DVD_Urofeel1_t4',\n",
       " 'DVD_Urofeel1_t4_rev',\n",
       " 'DVD_Urofeel2_t3',\n",
       " 'DVD_Urofeel2_t4',\n",
       " 'DVD_Urofeel3_t4',\n",
       " 'DVD_Urofeel4_t3',\n",
       " 'DVD_Urofeel4_t4',\n",
       " 'DVD_Urofeel5_t3',\n",
       " 'DVD_Urofeel5_t3_rev',\n",
       " 'DVD_Urofeel5_t4',\n",
       " 'DVD_Urofeel5_t4_rev',\n",
       " 'DVD_Urofeel6_t4',\n",
       " 'DVD_Urofeel_all_t3',\n",
       " 'DVD_Urofeel_all_t4',\n",
       " 'DVD_Urorec_other',\n",
       " 'DVD_Urosat2',\n",
       " 'DVD_Urosat3',\n",
       " 'DVD_Urosat4',\n",
       " 'DVD_Urosat4_rev',\n",
       " 'DVD_Urosat5',\n",
       " 'DVD_Urosat5_rev',\n",
       " 'DVD_Urosat6',\n",
       " 'DVD_Urosat8',\n",
       " 'DVD_Urosat8_rev',\n",
       " 'DVD_Urosat9',\n",
       " 'DVD_ZSE4_BM_ProbOverall',\n",
       " 'DVD_ZSE4_BM_avg',\n",
       " 'DVD_ZSE4_BM_blood',\n",
       " 'DVD_ZSE4_BM_control',\n",
       " 'DVD_ZSE4_BM_freq',\n",
       " 'DVD_ZSE4_BM_pain',\n",
       " 'DVD_ZSE4_BM_urge',\n",
       " 'DVD_ZSE4_hormone_HotFlash',\n",
       " 'DVD_ZSE4_hormone_LackEnergy',\n",
       " 'DVD_ZSE4_hormone_breast',\n",
       " 'DVD_ZSE4_hormone_depressed',\n",
       " 'DVD_ZSE4_hormone_weight',\n",
       " 'DVD_ZSE4_overall_EmotionImpact',\n",
       " 'DVD_ZSE4_pee_Control',\n",
       " 'DVD_ZSE4_pee_Diapers',\n",
       " 'DVD_ZSE4_pee_Freq',\n",
       " 'DVD_ZSE4_pee_LeakFreq',\n",
       " 'DVD_ZSE4_pee_ProbOverall',\n",
       " 'DVD_ZSE4_pee_bleed',\n",
       " 'DVD_ZSE4_pee_leakprob',\n",
       " 'DVD_ZSE4_pee_pain',\n",
       " 'DVD_ZSE4_pee_weak',\n",
       " 'DVD_ZSE4_sex_Ableerect',\n",
       " 'DVD_ZSE4_sex_Ableorgasm',\n",
       " 'DVD_ZSE4_sex_Erectfreq',\n",
       " 'DVD_ZSE4_sex_Erectqual',\n",
       " 'DVD_ZSE4_sex_ProbOverall',\n",
       " 'DVD_ZSE4_sex_function',\n",
       " 'DVD_as1',\n",
       " 'DVD_as2',\n",
       " 'DVD_data_num',\n",
       " 'DVD_databeyondt1',\n",
       " 'DVD_datat1',\n",
       " 'DVD_datat1t2only',\n",
       " 'DVD_datat2',\n",
       " 'DVD_datat3',\n",
       " 'DVD_datat4',\n",
       " 'DVD_demo_Location',\n",
       " 'DVD_demo_age_mc',\n",
       " 'DVD_demo_education_dichot',\n",
       " 'DVD_demo_marry_dichot',\n",
       " 'DVD_demo_num',\n",
       " 'DVD_demo_race_dichot',\n",
       " 'DVD_demo_race_spec',\n",
       " 'DVD_filter_$',\n",
       " 'DVD_nodata',\n",
       " 'DVD_rad1',\n",
       " 'DVD_rad2',\n",
       " 'DVD_sur1',\n",
       " 'DVD_sur2',\n",
       " 'Dienot2',\n",
       " 'Doc1',\n",
       " 'Explain3',\n",
       " 'Finaltx3',\n",
       " 'ID',\n",
       " 'Involve3',\n",
       " 'MD_age',\n",
       " 'MD_gender',\n",
       " 'MD_number_pts_wk',\n",
       " 'MD_percentpts',\n",
       " 'MD_race',\n",
       " 'MD_specialty',\n",
       " 'MD_type',\n",
       " 'MD_yrgrad',\n",
       " 'Mdtxrec3',\n",
       " 'Opinion3',\n",
       " 'Raded2',\n",
       " 'Radpee2',\n",
       " 'Satis3',\n",
       " 'Sured2',\n",
       " 'Surpee2',\n",
       " 'Talkda3',\n",
       " 'Timeda2',\n",
       " 'TxgotTx3cc',\n",
       " 'Txlean3',\n",
       " 'VA_Action1',\n",
       " 'VA_Active1',\n",
       " 'VA_ActiveSurveillance',\n",
       " 'VA_Adv3',\n",
       " 'VA_Agree3',\n",
       " 'VA_Anx101',\n",
       " 'VA_Anx102',\n",
       " 'VA_Anx103',\n",
       " 'VA_Anx121',\n",
       " 'VA_Anx122',\n",
       " 'VA_Anx123',\n",
       " 'VA_Anx131',\n",
       " 'VA_Anx132',\n",
       " 'VA_Anx133',\n",
       " 'VA_Anx143',\n",
       " 'VA_Anx153',\n",
       " 'VA_Anx21',\n",
       " 'VA_Anx22',\n",
       " 'VA_Anx23',\n",
       " 'VA_Anx31',\n",
       " 'VA_Anx32',\n",
       " 'VA_Anx33',\n",
       " 'VA_Anx41',\n",
       " 'VA_Anx42',\n",
       " 'VA_Anx43',\n",
       " 'VA_Anx81',\n",
       " 'VA_Anx82',\n",
       " 'VA_Anx83',\n",
       " 'VA_Anxiety1',\n",
       " 'VA_As_1',\n",
       " 'VA_AvailTransc',\n",
       " 'VA_Avdpee3',\n",
       " 'VA_Avdsurg3',\n",
       " 'VA_Avdsurg3dich',\n",
       " 'VA_Avdsurg3dich10',\n",
       " 'VA_Avdtime3',\n",
       " 'VA_AvoidSexLevel',\n",
       " 'VA_Avoided3',\n",
       " 'VA_Avoidrec3',\n",
       " 'VA_Aware3',\n",
       " 'VA_Awaretx3',\n",
       " 'VA_Besttx2',\n",
       " 'VA_Brachy',\n",
       " 'VA_Bring2',\n",
       " 'VA_CRCTx1',\n",
       " 'VA_CRCTx3',\n",
       " 'VA_Certainty_tx_EndApt',\n",
       " 'VA_Ch3_AS',\n",
       " 'VA_Ch3_comb',\n",
       " 'VA_Ch_IL',\n",
       " 'VA_Common2',\n",
       " 'VA_DAsat',\n",
       " 'VA_Dafu3',\n",
       " 'VA_Dahelp2',\n",
       " 'VA_Dahelp3',\n",
       " 'VA_Dahelptx2',\n",
       " 'VA_Dainf2',\n",
       " 'VA_Dainf3',\n",
       " 'VA_Dainvo3',\n",
       " 'VA_Dalike2',\n",
       " 'VA_Dalook3',\n",
       " 'VA_Damatr3',\n",
       " 'VA_Daorg3',\n",
       " 'VA_Dapcimp3',\n",
       " 'VA_Daprep3',\n",
       " 'VA_Daprepmd3',\n",
       " 'VA_Daprocon3',\n",
       " 'VA_Daques3',\n",
       " 'VA_Darecog3',\n",
       " 'VA_Datrust3',\n",
       " 'VA_Death1',\n",
       " 'VA_Death3',\n",
       " 'VA_Decide3',\n",
       " 'VA_Decimp3',\n",
       " 'VA_Die1',\n",
       " 'VA_Die3',\n",
       " 'VA_Dietx2',\n",
       " 'VA_Disadv3',\n",
       " 'VA_Discuss3',\n",
       " 'VA_Easyund3',\n",
       " 'VA_Fightca1',\n",
       " 'VA_Iaskque3',\n",
       " 'VA_Iaskrec3',\n",
       " 'VA_Iasktx3',\n",
       " 'VA_Idetail3',\n",
       " 'VA_Idoubt3',\n",
       " 'VA_Iinsist3',\n",
       " 'VA_Imppart3',\n",
       " 'VA_Info3',\n",
       " 'VA_Inform3',\n",
       " 'VA_Informtx3',\n",
       " 'VA_Iopinion3',\n",
       " 'VA_Isugtx3',\n",
       " 'VA_Likese3',\n",
       " 'VA_MD',\n",
       " 'VA_MD_asian',\n",
       " 'VA_MD_black',\n",
       " 'VA_MD_hispanic',\n",
       " 'VA_MD_native',\n",
       " 'VA_MD_number_noneng_pts',\n",
       " 'VA_MD_pacific',\n",
       " 'VA_MD_raceother',\n",
       " 'VA_MD_raceotherspecify',\n",
       " 'VA_MD_specialtyother',\n",
       " 'VA_MD_white',\n",
       " 'VA_MSIid',\n",
       " 'VA_Mdask3',\n",
       " 'VA_Mdcause3',\n",
       " 'VA_Mdexp3',\n",
       " 'VA_Mdopin3',\n",
       " 'VA_Mdrec1',\n",
       " 'VA_Mdrec3',\n",
       " 'VA_Mdrectx3',\n",
       " 'VA_Mdrectxsec3',\n",
       " 'VA_Mdtalk3',\n",
       " 'VA_Nowait1',\n",
       " 'VA_Numeracy',\n",
       " 'VA_Pbm2',\n",
       " 'VA_PreOp_apt',\n",
       " 'VA_PtReqRec',\n",
       " 'VA_QOL1',\n",
       " 'VA_RadOnc_apt',\n",
       " 'VA_Radiation',\n",
       " 'VA_Radrec2',\n",
       " 'VA_Rankdie3',\n",
       " 'VA_Ranked3',\n",
       " 'VA_Rankfi3',\n",
       " 'VA_Rankpee3',\n",
       " 'VA_Rankrec3',\n",
       " 'VA_Read2',\n",
       " 'VA_Realm1',\n",
       " 'VA_Realm2',\n",
       " 'VA_Realm3',\n",
       " 'VA_Realmtot',\n",
       " 'VA_Recda3',\n",
       " 'VA_Recdec3',\n",
       " 'VA_Recom',\n",
       " 'VA_SDM1',\n",
       " 'VA_SDM2',\n",
       " 'VA_SDM3',\n",
       " 'VA_SDMtri1',\n",
       " 'VA_SDMtri2',\n",
       " 'VA_SDMtri3',\n",
       " 'VA_Satdec3',\n",
       " 'VA_Sexact2',\n",
       " 'VA_Sexcomp2',\n",
       " 'VA_Seximp2',\n",
       " 'VA_Sextx2',\n",
       " 'VA_Sharefam2',\n",
       " 'VA_Sharefri2',\n",
       " 'VA_Sharepar2',\n",
       " 'VA_Sorryspr3',\n",
       " 'VA_Srvs1',\n",
       " 'VA_Srvs2',\n",
       " 'VA_Srvs3',\n",
       " 'VA_Srvs4',\n",
       " 'VA_Srvs5',\n",
       " 'VA_Srvs6',\n",
       " 'VA_Srvs7',\n",
       " 'VA_Srvs8',\n",
       " 'VA_Strongrec3',\n",
       " 'VA_Sure3',\n",
       " 'VA_Surgery',\n",
       " 'VA_Surgrec2',\n",
       " 'VA_Survive1',\n",
       " 'VA_Survive3',\n",
       " 'VA_Time2',\n",
       " 'VA_Time3',\n",
       " 'VA_Transformations',\n",
       " 'VA_Tx3',\n",
       " 'VA_TxDeferred',\n",
       " 'VA_TxStrongRec',\n",
       " 'VA_Tx_EndApt',\n",
       " 'VA_Txa2',\n",
       " 'VA_Txb2',\n",
       " 'VA_Txc2',\n",
       " 'VA_Txd2',\n",
       " 'VA_Txe2',\n",
       " 'VA_Txed3',\n",
       " 'VA_Txf2',\n",
       " 'VA_Txfi3',\n",
       " 'VA_Txg2',\n",
       " 'VA_TxgotT3prefcc',\n",
       " 'VA_Txincon3',\n",
       " 'VA_Txleansec3',\n",
       " 'VA_Txnovec3',\n",
       " 'VA_Txother3',\n",
       " 'VA_Txridca3',\n",
       " 'VA_Txsec3',\n",
       " 'VA_Unnamed: 0',\n",
       " 'VA_VAsite1',\n",
       " 'VA_VAsite2',\n",
       " 'VA_Vatrust1',\n",
       " 'VA_Vatrust10',\n",
       " 'VA_Vatrust2',\n",
       " 'VA_Vatrust3',\n",
       " 'VA_Vatrust4',\n",
       " 'VA_Vatrust5',\n",
       " 'VA_Vatrust6',\n",
       " 'VA_Vatrust7',\n",
       " 'VA_Vatrust8',\n",
       " 'VA_Vatrust9',\n",
       " 'VA_Whatrec3',\n",
       " 'VA_Whoda3',\n",
       " 'VA_Worrydie3',\n",
       " 'VA_Worryse3',\n",
       " 'VA_anxiety3',\n",
       " 'VA_anxietyt2',\n",
       " 'VA_anxt2txpref',\n",
       " 'VA_avdpee3dich',\n",
       " 'VA_avdpee3dich10',\n",
       " 'VA_avdtime3dich',\n",
       " 'VA_avdtime3dich10',\n",
       " 'VA_avoided3dich',\n",
       " 'VA_avoided3dich10',\n",
       " 'VA_avoidrec3dich',\n",
       " 'VA_avoidrec3dich10',\n",
       " 'VA_batch',\n",
       " 'VA_beamconcur23',\n",
       " 'VA_beamconcur2got',\n",
       " 'VA_beamconcur3got',\n",
       " 'VA_besttx2acc',\n",
       " 'VA_blackwhite',\n",
       " 'VA_brachyconcur23',\n",
       " 'VA_brachyconcur2got',\n",
       " 'VA_brachyconcur3got',\n",
       " 'VA_cmpt',\n",
       " 'VA_comradeall',\n",
       " 'VA_comradeconfdec',\n",
       " 'VA_comradesatcom',\n",
       " 'VA_daysT1T2',\n",
       " 'VA_die3dich',\n",
       " 'VA_die3dich10',\n",
       " 'VA_dienot2acc',\n",
       " 'VA_dietx2acc',\n",
       " 'VA_famhx',\n",
       " 'VA_filter_$',\n",
       " 'VA_hospital',\n",
       " 'VA_interviewlength',\n",
       " 'VA_knowledge2',\n",
       " 'VA_knowledge22',\n",
       " 'VA_knowstage',\n",
       " 'VA_mdtime',\n",
       " 'VA_numeracydi',\n",
       " 'VA_other',\n",
       " 'VA_phonedx',\n",
       " 'VA_picsdocfac',\n",
       " 'VA_picspatdms',\n",
       " 'VA_picspatinfo',\n",
       " 'VA_prepforDM',\n",
       " 'VA_psa2',\n",
       " 'VA_raded2acc',\n",
       " 'VA_radonc',\n",
       " 'VA_radpee2acc',\n",
       " 'VA_realmadeq',\n",
       " 'VA_realmgrade',\n",
       " 'VA_recmd',\n",
       " 'VA_risklevel',\n",
       " 'VA_risklevel2',\n",
       " 'VA_risklevel3',\n",
       " 'VA_sharetot',\n",
       " 'VA_stage',\n",
       " 'VA_sured2acc',\n",
       " 'VA_surgconcur23',\n",
       " 'VA_surgconcur2got',\n",
       " 'VA_surgconcur3got',\n",
       " 'VA_surpee2acc',\n",
       " 'VA_t3txpref',\n",
       " 'VA_trustva',\n",
       " 'VA_txconcur23',\n",
       " 'VA_txconcur2got',\n",
       " 'VA_txconcur3got',\n",
       " 'VA_wait2acc',\n",
       " 'VA_wbo',\n",
       " 'VA_whenrecruit',\n",
       " 'VA_wwconcur23',\n",
       " 'VA_wwconcur2got',\n",
       " 'VA_wwconcur3got',\n",
       " 'VA_wwed2acc',\n",
       " 'VA_wwpee2acc',\n",
       " 'Wait2',\n",
       " 'Whyww2',\n",
       " 'Wwed2',\n",
       " 'Wwpee2',\n",
       " 'age',\n",
       " 'arabme',\n",
       " 'asian',\n",
       " 'black',\n",
       " 'education',\n",
       " 'gleason',\n",
       " 'hispanic',\n",
       " 'irespmd',\n",
       " 'marry',\n",
       " 'mdrespme',\n",
       " 'native',\n",
       " 'pacific',\n",
       " 'psa1',\n",
       " 'raceother',\n",
       " 'txgot',\n",
       " 'white',\n",
       " 'Convo_1',\n",
       " 'Convo_2',\n",
       " 'Dataset',\n",
       " 'Doctor_1',\n",
       " 'Doctor_2',\n",
       " 'txgot_binary',\n",
       " 'dataset',\n",
       " 'edu_binary',\n",
       " 'combined_race',\n",
       " 'white_binary',\n",
       " 'marry_binary']"
      ]
     },
     "execution_count": 41,
     "metadata": {},
     "output_type": "execute_result"
    }
   ],
   "source": [
    "list(dvd.columns)"
   ]
  },
  {
   "cell_type": "markdown",
   "metadata": {},
   "source": [
    "Using a scale from 0 to 100, what rating would you give your current health?"
   ]
  },
  {
   "cell_type": "code",
   "execution_count": 28,
   "metadata": {
    "scrolled": false
   },
   "outputs": [
    {
     "data": {
      "image/png": "[encoded data removed]",
      "text/plain": [
       "<Figure size 216x432 with 2 Axes>"
      ]
     },
     "metadata": {},
     "output_type": "display_data"
    }
   ],
   "source": [
    "q1health_face = sns.FacetGrid(dvd, row=\"txgot_binary\")\n",
    "q1health_face = q1health_face.map(plt.hist, \"DVD_QOL1_health\", bins=20)"
   ]
  },
  {
   "cell_type": "markdown",
   "metadata": {},
   "source": [
    "Using a scale from 0 to 100, what rating would you give your current quality of life?"
   ]
  },
  {
   "cell_type": "code",
   "execution_count": 27,
   "metadata": {},
   "outputs": [
    {
     "data": {
      "image/png": "[encoded data removed]",
      "text/plain": [
       "<Figure size 216x432 with 2 Axes>"
      ]
     },
     "metadata": {},
     "output_type": "display_data"
    }
   ],
   "source": [
    "q1general_face = sns.FacetGrid(dvd, row=\"txgot_binary\")\n",
    "q1general_face = q1general_face.map(plt.hist, \"DVD_QOL1_general\", bins=20)"
   ]
  },
  {
   "cell_type": "markdown",
   "metadata": {},
   "source": [
    "In general, how happy or unhappy do you usually feel?\n",
    "\n",
    "0=Extremely unhappy, 1=Very unhappy, 2=Pretty unhappy, 3=Mildly unhappy, 4=Slightly unhappy, 5=Neutral, 6=Slightly happy, 7=Mildly happy, 8=Pretty happy, 9=Very happy, 10=Extremely happy"
   ]
  },
  {
   "cell_type": "code",
   "execution_count": 33,
   "metadata": {},
   "outputs": [
    {
     "data": {
      "text/plain": [
       "<matplotlib.axes._subplots.AxesSubplot at 0x2673ce5e2e8>"
      ]
     },
     "execution_count": 33,
     "metadata": {},
     "output_type": "execute_result"
    },
    {
     "data": {
      "image/png": "[encoded data removed]",
      "text/plain": [
       "<Figure size 432x288 with 1 Axes>"
      ]
     },
     "metadata": {},
     "output_type": "display_data"
    }
   ],
   "source": [
    "sns.countplot(x='DVD_QOL1_Avghappy', data=dvd, hue='txgot_binary')"
   ]
  },
  {
   "cell_type": "code",
   "execution_count": 36,
   "metadata": {},
   "outputs": [
    {
     "name": "stdout",
     "output_type": "stream",
     "text": [
      "0.0: \n",
      "3.0 - 2.4%\n",
      "4.0 - 0.8%\n",
      "5.0 - 2.4%\n",
      "6.0 - 4.1%\n",
      "7.0 - 16.3%\n",
      "8.0 - 59.3%\n",
      "9.0 - 11.4%\n",
      "9.5 - 0.8%\n",
      "10.0 - 2.4%\n",
      "\n",
      "1.0: \n",
      "0.0 - 2.3%\n",
      "4.0 - 4.5%\n",
      "6.0 - 2.3%\n",
      "7.0 - 25.0%\n",
      "8.0 - 52.3%\n",
      "9.0 - 11.4%\n",
      "10.0 - 2.3%\n",
      "\n"
     ]
    }
   ],
   "source": [
    "num_breakdown(dvd, 'txgot_binary', 'DVD_QOL1_Avghappy')"
   ]
  },
  {
   "cell_type": "markdown",
   "metadata": {},
   "source": [
    "Location of recruitment\n",
    "\n",
    "1=site 1, 2=site 2 "
   ]
  },
  {
   "cell_type": "code",
   "execution_count": 46,
   "metadata": {},
   "outputs": [
    {
     "data": {
      "text/plain": [
       "<matplotlib.axes._subplots.AxesSubplot at 0x2673d1141d0>"
      ]
     },
     "execution_count": 46,
     "metadata": {},
     "output_type": "execute_result"
    },
    {
     "data": {
      "image/png": "[encoded data removed]",
      "text/plain": [
       "<Figure size 432x288 with 1 Axes>"
      ]
     },
     "metadata": {},
     "output_type": "display_data"
    }
   ],
   "source": [
    "sns.countplot(x='DVD_demo_Location', data=dvd, hue='txgot_binary')"
   ]
  },
  {
   "cell_type": "code",
   "execution_count": 47,
   "metadata": {},
   "outputs": [
    {
     "name": "stdout",
     "output_type": "stream",
     "text": [
      "0.0: \n",
      "1.0 - 20.2%\n",
      "2.0 - 79.8%\n",
      "\n",
      "1.0: \n",
      "1.0 - 25.5%\n",
      "2.0 - 74.5%\n",
      "\n"
     ]
    }
   ],
   "source": [
    "num_breakdown(dvd, 'txgot_binary', 'DVD_demo_Location')"
   ]
  },
  {
   "cell_type": "markdown",
   "metadata": {},
   "source": [
    "Did you look at the decision aid (Booklet or materials) again between being diagnosed with early stage prostate cancer and deciding on a treatment?\n",
    "\n",
    "0=No, 1=Yes"
   ]
  },
  {
   "cell_type": "code",
   "execution_count": 49,
   "metadata": {},
   "outputs": [
    {
     "data": {
      "text/plain": [
       "<matplotlib.axes._subplots.AxesSubplot at 0x2673d09a9e8>"
      ]
     },
     "execution_count": 49,
     "metadata": {},
     "output_type": "execute_result"
    },
    {
     "data": {
      "image/png": "[encoded data removed]",
      "text/plain": [
       "<Figure size 432x288 with 1 Axes>"
      ]
     },
     "metadata": {},
     "output_type": "display_data"
    }
   ],
   "source": [
    "sns.countplot(x='DVD_DA3_again', data=dvd, hue='txgot_binary')"
   ]
  },
  {
   "cell_type": "code",
   "execution_count": 50,
   "metadata": {},
   "outputs": [
    {
     "name": "stdout",
     "output_type": "stream",
     "text": [
      "0.0: \n",
      "0.0 - 17.5%\n",
      "1.0 - 82.5%\n",
      "\n",
      "1.0: \n",
      "0.0 - 27.7%\n",
      "1.0 - 72.3%\n",
      "\n"
     ]
    }
   ],
   "source": [
    "num_breakdown(dvd, 'txgot_binary', 'DVD_DA3_again')"
   ]
  },
  {
   "cell_type": "markdown",
   "metadata": {},
   "source": [
    "Did your urologist recommend…\n",
    "\n",
    "0=No, 1=Yes"
   ]
  },
  {
   "cell_type": "code",
   "execution_count": 110,
   "metadata": {},
   "outputs": [
    {
     "data": {
      "text/plain": [
       "Text(0.5,1,'Radiation')"
      ]
     },
     "execution_count": 110,
     "metadata": {},
     "output_type": "execute_result"
    },
    {
     "data": {
      "image/png": "[encoded data removed]",
      "text/plain": [
       "<Figure size 432x288 with 3 Axes>"
      ]
     },
     "metadata": {},
     "output_type": "display_data"
    }
   ],
   "source": [
    "f, (ax1, ax2, ax3) = plt.subplots(1, 3)\n",
    "plt.tight_layout(h_pad = 4.0)\n",
    "sns.countplot(x='DVD_UroRec_AS', hue='txgot_binary', data=dvd, ax=ax1).set_title('Active Surveillance')\n",
    "sns.countplot(x='DVD_UroRec_surgery', hue='txgot_binary', data=dvd, ax=ax2).set_title('Surgery')\n",
    "sns.countplot(x='DVD_UroRec_rad', hue='txgot_binary', data=dvd, ax=ax3).set_title('Radiation')"
   ]
  },
  {
   "cell_type": "code",
   "execution_count": 117,
   "metadata": {},
   "outputs": [
    {
     "name": "stdout",
     "output_type": "stream",
     "text": [
      "0.0: \n",
      "0.0 - 83.9%\n",
      "1.0 - 16.1%\n",
      "\n",
      "1.0: \n",
      "0.0 - 13.2%\n",
      "1.0 - 86.8%\n",
      "\n"
     ]
    }
   ],
   "source": [
    "num_breakdown(dvd, 'txgot_binary', 'DVD_UroRec_AS')"
   ]
  },
  {
   "cell_type": "code",
   "execution_count": 114,
   "metadata": {},
   "outputs": [
    {
     "name": "stdout",
     "output_type": "stream",
     "text": [
      "0.0: \n",
      "0.0 - 14.8%\n",
      "1.0 - 85.2%\n",
      "\n",
      "1.0: \n",
      "0.0 - 64.5%\n",
      "1.0 - 35.5%\n",
      "\n"
     ]
    }
   ],
   "source": [
    "num_breakdown(dvd, 'txgot_binary', 'DVD_UroRec_surgery')"
   ]
  },
  {
   "cell_type": "code",
   "execution_count": 115,
   "metadata": {},
   "outputs": [
    {
     "name": "stdout",
     "output_type": "stream",
     "text": [
      "0.0: \n",
      "0.0 - 60.5%\n",
      "1.0 - 39.5%\n",
      "\n",
      "1.0: \n",
      "0.0 - 81.5%\n",
      "1.0 - 18.5%\n",
      "\n"
     ]
    }
   ],
   "source": [
    "num_breakdown(dvd, 'txgot_binary', 'DVD_UroRec_rad')"
   ]
  },
  {
   "cell_type": "markdown",
   "metadata": {},
   "source": [
    "What is most important when deciding on how to treat early stage prostate cancer?\n",
    "\n",
    "1=Medical factors most important, 2=2, 3=They are both equally important, 4=4, 5=Personal preferences most important"
   ]
  },
  {
   "cell_type": "code",
   "execution_count": 60,
   "metadata": {
    "scrolled": false
   },
   "outputs": [
    {
     "data": {
      "text/plain": [
       "<matplotlib.axes._subplots.AxesSubplot at 0x2673e987e48>"
      ]
     },
     "execution_count": 60,
     "metadata": {},
     "output_type": "execute_result"
    },
    {
     "data": {
      "image/png": "[encoded data removed]",
      "text/plain": [
       "<Figure size 432x288 with 1 Axes>"
      ]
     },
     "metadata": {},
     "output_type": "display_data"
    }
   ],
   "source": [
    "sns.countplot(x='DVD_DecPro1_medVSpersonal', data=dvd, hue='txgot_binary')"
   ]
  },
  {
   "cell_type": "code",
   "execution_count": 61,
   "metadata": {},
   "outputs": [
    {
     "name": "stdout",
     "output_type": "stream",
     "text": [
      "0.0: \n",
      "1.0 - 29.4%\n",
      "1.5 - 0.8%\n",
      "2.0 - 19.0%\n",
      "3.0 - 46.8%\n",
      "4.0 - 4.0%\n",
      "\n",
      "1.0: \n",
      "1.0 - 10.9%\n",
      "2.0 - 15.2%\n",
      "3.0 - 67.4%\n",
      "4.0 - 4.3%\n",
      "5.0 - 2.2%\n",
      "\n"
     ]
    }
   ],
   "source": [
    "num_breakdown(dvd, 'txgot_binary', 'DVD_DecPro1_medVSpersonal')"
   ]
  },
  {
   "cell_type": "markdown",
   "metadata": {},
   "source": [
    "For this section, please think back to the visit with your UROLOGIST (SURGEON) when you discussed treatments for early stage prostate cancer, did you:\n",
    "\n",
    "Participate in the decision about what treatment to have?\n",
    "\n",
    "\n",
    "1=To a great extent, 2=Somewhat, 3=Very little, 4=Not at all"
   ]
  },
  {
   "cell_type": "code",
   "execution_count": 63,
   "metadata": {},
   "outputs": [
    {
     "data": {
      "text/plain": [
       "<matplotlib.axes._subplots.AxesSubplot at 0x2673ea1fe48>"
      ]
     },
     "execution_count": 63,
     "metadata": {},
     "output_type": "execute_result"
    },
    {
     "data": {
      "image/png": "[encoded data removed]",
      "text/plain": [
       "<Figure size 432x288 with 1 Axes>"
      ]
     },
     "metadata": {},
     "output_type": "display_data"
    }
   ],
   "source": [
    "sns.countplot(x='DVD_UroApt_partdec_dichot', data=dvd, hue='txgot_binary')"
   ]
  },
  {
   "cell_type": "code",
   "execution_count": 64,
   "metadata": {
    "scrolled": true
   },
   "outputs": [
    {
     "name": "stdout",
     "output_type": "stream",
     "text": [
      "0.0: \n",
      "0.0 - 21.8%\n",
      "1.0 - 78.2%\n",
      "\n",
      "1.0: \n",
      "0.0 - 21.7%\n",
      "1.0 - 78.3%\n",
      "\n"
     ]
    }
   ],
   "source": [
    "num_breakdown(dvd, 'txgot_binary', 'DVD_UroApt_partdec_dichot')"
   ]
  },
  {
   "cell_type": "markdown",
   "metadata": {},
   "source": [
    "Please think back to the visit with your RADIATION ONCOLOGIST when you discussed treatments for early stage prostate cancer, did you:\n",
    "\n",
    "Participate in the decision about what treatment to have?\n",
    "\n",
    "1=To a great extent, 2=Somewhat, 3=Very little, 4=Not at all"
   ]
  },
  {
   "cell_type": "code",
   "execution_count": 66,
   "metadata": {},
   "outputs": [
    {
     "data": {
      "text/plain": [
       "<matplotlib.axes._subplots.AxesSubplot at 0x2673eab7f28>"
      ]
     },
     "execution_count": 66,
     "metadata": {},
     "output_type": "execute_result"
    },
    {
     "data": {
      "image/png": "[encoded data removed]",
      "text/plain": [
       "<Figure size 432x288 with 1 Axes>"
      ]
     },
     "metadata": {},
     "output_type": "display_data"
    }
   ],
   "source": [
    "sns.countplot(x='DVD_RadApt_partdec', data=dvd, hue='txgot_binary')"
   ]
  },
  {
   "cell_type": "code",
   "execution_count": 67,
   "metadata": {},
   "outputs": [
    {
     "name": "stdout",
     "output_type": "stream",
     "text": [
      "0.0: \n",
      "1.0 - 77.3%\n",
      "2.0 - 15.5%\n",
      "3.0 - 4.1%\n",
      "4.0 - 3.1%\n",
      "\n",
      "1.0: \n",
      "1.0 - 84.4%\n",
      "2.0 - 15.6%\n",
      "\n"
     ]
    }
   ],
   "source": [
    "num_breakdown(dvd, 'txgot_binary', 'DVD_RadApt_partdec')"
   ]
  },
  {
   "cell_type": "markdown",
   "metadata": {},
   "source": [
    "When discussing treatment options for your early stage prostate cancer, about what percentage of the time did the urologist spend talking about each treatment option?\n",
    "\n",
    "0-100"
   ]
  },
  {
   "cell_type": "code",
   "execution_count": 68,
   "metadata": {},
   "outputs": [
    {
     "data": {
      "image/png": "[encoded data removed]",
      "text/plain": [
       "<Figure size 216x432 with 2 Axes>"
      ]
     },
     "metadata": {},
     "output_type": "display_data"
    }
   ],
   "source": [
    "utalkas = sns.FacetGrid(dvd, row=\"txgot_binary\")\n",
    "utalkas = utalkas.map(plt.hist, \"DVD_UroTalk_AS\", bins=20)"
   ]
  },
  {
   "cell_type": "code",
   "execution_count": 71,
   "metadata": {},
   "outputs": [
    {
     "data": {
      "image/png": "[encoded data removed]",
      "text/plain": [
       "<Figure size 216x432 with 2 Axes>"
      ]
     },
     "metadata": {},
     "output_type": "display_data"
    }
   ],
   "source": [
    "utalksurg = sns.FacetGrid(dvd, row=\"txgot_binary\")\n",
    "utalksurg = utalksurg.map(plt.hist, \"DVD_UroTalk_surgery\", bins=20)"
   ]
  },
  {
   "cell_type": "code",
   "execution_count": 73,
   "metadata": {},
   "outputs": [
    {
     "data": {
      "image/png": "[encoded data removed]",
      "text/plain": [
       "<Figure size 216x432 with 2 Axes>"
      ]
     },
     "metadata": {},
     "output_type": "display_data"
    }
   ],
   "source": [
    "utalkrad = sns.FacetGrid(dvd, row=\"txgot_binary\")\n",
    "utalkrad = utalkrad.map(plt.hist, \"DVD_UroTalk_rad\", bins=20)"
   ]
  },
  {
   "cell_type": "markdown",
   "metadata": {},
   "source": [
    "When discussing treatment options for your early stage prostate cancer, about what percentage of the time did the radiation oncologist spend talking about each treatment option?\n",
    "\n",
    "0-100"
   ]
  },
  {
   "cell_type": "code",
   "execution_count": 74,
   "metadata": {},
   "outputs": [
    {
     "data": {
      "image/png": "[encoded data removed]",
      "text/plain": [
       "<Figure size 216x432 with 2 Axes>"
      ]
     },
     "metadata": {},
     "output_type": "display_data"
    }
   ],
   "source": [
    "rtalkas = sns.FacetGrid(dvd, row=\"txgot_binary\")\n",
    "rtalkas = rtalkas.map(plt.hist, \"DVD_RadTalk_AS\", bins=20)"
   ]
  },
  {
   "cell_type": "code",
   "execution_count": 75,
   "metadata": {},
   "outputs": [
    {
     "data": {
      "image/png": "[encoded data removed]",
      "text/plain": [
       "<Figure size 216x432 with 2 Axes>"
      ]
     },
     "metadata": {},
     "output_type": "display_data"
    }
   ],
   "source": [
    "rtalksurg = sns.FacetGrid(dvd, row=\"txgot_binary\")\n",
    "rtalksurg = rtalksurg.map(plt.hist, \"DVD_RadTalk_surgery\", bins=20)"
   ]
  },
  {
   "cell_type": "code",
   "execution_count": 76,
   "metadata": {
    "scrolled": false
   },
   "outputs": [
    {
     "data": {
      "image/png": "[encoded data removed]",
      "text/plain": [
       "<Figure size 216x432 with 2 Axes>"
      ]
     },
     "metadata": {},
     "output_type": "display_data"
    }
   ],
   "source": [
    "rtalkrad = sns.FacetGrid(dvd, row=\"txgot_binary\")\n",
    "rtalkrad = rtalkrad.map(plt.hist, \"DVD_RadTalk_rad\", bins=20)"
   ]
  },
  {
   "cell_type": "markdown",
   "metadata": {},
   "source": [
    "I am clear about which is more important to me (the benefits or the risks and side effects).\n",
    "\n",
    "1=Strongly disagree, 2=Disagree, 3=Neither agree nor disagree, 4=Agree, 5=Strongly agree"
   ]
  },
  {
   "cell_type": "code",
   "execution_count": 77,
   "metadata": {},
   "outputs": [
    {
     "data": {
      "text/plain": [
       "<matplotlib.axes._subplots.AxesSubplot at 0x2673e3480f0>"
      ]
     },
     "execution_count": 77,
     "metadata": {},
     "output_type": "execute_result"
    },
    {
     "data": {
      "image/png": "[encoded data removed]",
      "text/plain": [
       "<Figure size 432x288 with 1 Axes>"
      ]
     },
     "metadata": {},
     "output_type": "display_data"
    }
   ],
   "source": [
    "sns.countplot(x='DVD_Dec3_procon', data=dvd, hue='txgot_binary')"
   ]
  },
  {
   "cell_type": "code",
   "execution_count": 78,
   "metadata": {},
   "outputs": [
    {
     "name": "stdout",
     "output_type": "stream",
     "text": [
      "0.0: \n",
      "1.0 - 0.8%\n",
      "2.0 - 3.9%\n",
      "3.0 - 10.2%\n",
      "4.0 - 53.9%\n",
      "5.0 - 31.2%\n",
      "\n",
      "1.0: \n",
      "1.0 - 2.2%\n",
      "3.0 - 10.9%\n",
      "4.0 - 58.7%\n",
      "5.0 - 28.3%\n",
      "\n"
     ]
    }
   ],
   "source": [
    "num_breakdown(dvd, 'txgot_binary', 'DVD_Dec3_procon')"
   ]
  },
  {
   "cell_type": "markdown",
   "metadata": {},
   "source": [
    "Using a scale from 0 to 100, what rating would you give your current health?"
   ]
  },
  {
   "cell_type": "code",
   "execution_count": 79,
   "metadata": {},
   "outputs": [
    {
     "data": {
      "image/png": "[encoded data removed]",
      "text/plain": [
       "<Figure size 216x432 with 2 Axes>"
      ]
     },
     "metadata": {},
     "output_type": "display_data"
    }
   ],
   "source": [
    "q4health_face = sns.FacetGrid(dvd, row=\"txgot_binary\")\n",
    "q4health_face = q4health_face.map(plt.hist, \"DVD_QOL4_health\", bins=20)"
   ]
  },
  {
   "cell_type": "markdown",
   "metadata": {},
   "source": [
    "Using a scale from 0 to 100, what rating would you give your current quality of life?"
   ]
  },
  {
   "cell_type": "code",
   "execution_count": 80,
   "metadata": {},
   "outputs": [
    {
     "data": {
      "image/png": "[encoded data removed]",
      "text/plain": [
       "<Figure size 216x432 with 2 Axes>"
      ]
     },
     "metadata": {},
     "output_type": "display_data"
    }
   ],
   "source": [
    "q4general_face = sns.FacetGrid(dvd, row=\"txgot_binary\")\n",
    "q4general_face = q4general_face.map(plt.hist, \"DVD_QOL4_general\", bins=20)"
   ]
  },
  {
   "cell_type": "markdown",
   "metadata": {},
   "source": [
    "In general, how happy or unhappy do you usually feel?\n",
    "\n",
    "0=Extremely unhappy, 1=Very unhappy, 2=Pretty unhappy, 3=Mildly unhappy, 4=Slightly unhappy, 5=Neutral, 6=Slightly happy, 7=Mildly happy, 8=Pretty happy, 9=Very happy, 10=Extremely happy"
   ]
  },
  {
   "cell_type": "code",
   "execution_count": 81,
   "metadata": {},
   "outputs": [
    {
     "data": {
      "text/plain": [
       "<matplotlib.axes._subplots.AxesSubplot at 0x267411115c0>"
      ]
     },
     "execution_count": 81,
     "metadata": {},
     "output_type": "execute_result"
    },
    {
     "data": {
      "image/png": "[encoded data removed]",
      "text/plain": [
       "<Figure size 432x288 with 1 Axes>"
      ]
     },
     "metadata": {},
     "output_type": "display_data"
    }
   ],
   "source": [
    "sns.countplot(x='DVD_QOL4_Avghappy', data=dvd, hue='txgot_binary')"
   ]
  },
  {
   "cell_type": "code",
   "execution_count": 83,
   "metadata": {},
   "outputs": [
    {
     "name": "stdout",
     "output_type": "stream",
     "text": [
      "0.0: \n",
      "3.0 - 2.4%\n",
      "4.0 - 0.8%\n",
      "5.0 - 2.4%\n",
      "6.0 - 4.1%\n",
      "7.0 - 16.3%\n",
      "8.0 - 59.3%\n",
      "9.0 - 11.4%\n",
      "9.5 - 0.8%\n",
      "10.0 - 2.4%\n",
      "\n",
      "1.0: \n",
      "0.0 - 2.3%\n",
      "4.0 - 4.5%\n",
      "6.0 - 2.3%\n",
      "7.0 - 25.0%\n",
      "8.0 - 52.3%\n",
      "9.0 - 11.4%\n",
      "10.0 - 2.3%\n",
      "\n"
     ]
    }
   ],
   "source": [
    "num_breakdown(dvd, 'txgot_binary', 'DVD_QOL1_Avghappy')"
   ]
  },
  {
   "cell_type": "code",
   "execution_count": 82,
   "metadata": {},
   "outputs": [
    {
     "name": "stdout",
     "output_type": "stream",
     "text": [
      "0.0: \n",
      "2.0 - 4.8%\n",
      "4.0 - 0.8%\n",
      "5.0 - 8.1%\n",
      "6.0 - 4.0%\n",
      "7.0 - 16.1%\n",
      "8.0 - 50.8%\n",
      "9.0 - 13.7%\n",
      "10.0 - 1.6%\n",
      "\n",
      "1.0: \n",
      "1.0 - 2.2%\n",
      "3.0 - 2.2%\n",
      "5.0 - 6.5%\n",
      "6.0 - 2.2%\n",
      "7.0 - 23.9%\n",
      "8.0 - 47.8%\n",
      "9.0 - 15.2%\n",
      "\n"
     ]
    }
   ],
   "source": [
    "num_breakdown(dvd, 'txgot_binary', 'DVD_QOL4_Avghappy')"
   ]
  },
  {
   "cell_type": "markdown",
   "metadata": {},
   "source": [
    "When choosing a treatment for your early stage prostate cancer, how important was it that you avoid surgery?\n",
    "\n",
    "0=Not at All Important, 1=1, 2=2, 3=3, 4=4, 5=5, 6=6, 7=7, 8=8, 9=9, 10=Extremely Important"
   ]
  },
  {
   "cell_type": "code",
   "execution_count": 84,
   "metadata": {},
   "outputs": [
    {
     "data": {
      "text/plain": [
       "<matplotlib.axes._subplots.AxesSubplot at 0x267410a6400>"
      ]
     },
     "execution_count": 84,
     "metadata": {},
     "output_type": "execute_result"
    },
    {
     "data": {
      "image/png": "[encoded data removed]",
      "text/plain": [
       "<Figure size 432x288 with 1 Axes>"
      ]
     },
     "metadata": {},
     "output_type": "display_data"
    }
   ],
   "source": [
    "sns.countplot(x='DVD_TxReason4_Avoidsurg', data=dvd, hue='txgot_binary')"
   ]
  },
  {
   "cell_type": "code",
   "execution_count": 85,
   "metadata": {},
   "outputs": [
    {
     "name": "stdout",
     "output_type": "stream",
     "text": [
      "0.0: \n",
      "0.0 - 38.3%\n",
      "1.0 - 9.4%\n",
      "2.0 - 7.0%\n",
      "3.0 - 7.0%\n",
      "4.0 - 1.6%\n",
      "5.0 - 6.2%\n",
      "6.0 - 3.1%\n",
      "7.0 - 8.6%\n",
      "8.0 - 6.2%\n",
      "9.0 - 7.8%\n",
      "10.0 - 4.7%\n",
      "\n",
      "1.0: \n",
      "0.0 - 8.5%\n",
      "1.0 - 2.1%\n",
      "2.0 - 4.3%\n",
      "3.0 - 4.3%\n",
      "5.0 - 17.0%\n",
      "7.0 - 2.1%\n",
      "8.0 - 21.3%\n",
      "9.0 - 23.4%\n",
      "10.0 - 17.0%\n",
      "\n"
     ]
    }
   ],
   "source": [
    "num_breakdown(dvd, 'txgot_binary', 'DVD_TxReason4_Avoidsurg')"
   ]
  },
  {
   "cell_type": "markdown",
   "metadata": {},
   "source": [
    "When choosing a treatment for your early stage prostate cancer, how important was it that you avoid problems with dripping or leaking urine?"
   ]
  },
  {
   "cell_type": "code",
   "execution_count": 86,
   "metadata": {},
   "outputs": [
    {
     "data": {
      "text/plain": [
       "<matplotlib.axes._subplots.AxesSubplot at 0x26741143390>"
      ]
     },
     "execution_count": 86,
     "metadata": {},
     "output_type": "execute_result"
    },
    {
     "data": {
      "image/png": "[encoded data removed]",
      "text/plain": [
       "<Figure size 432x288 with 1 Axes>"
      ]
     },
     "metadata": {},
     "output_type": "display_data"
    }
   ],
   "source": [
    "sns.countplot(x='DVD_TxReason4_Avoidpee', data=dvd, hue='txgot_binary')"
   ]
  },
  {
   "cell_type": "code",
   "execution_count": 87,
   "metadata": {
    "scrolled": false
   },
   "outputs": [
    {
     "name": "stdout",
     "output_type": "stream",
     "text": [
      "0.0: \n",
      "0.0 - 3.9%\n",
      "1.0 - 4.7%\n",
      "2.0 - 3.1%\n",
      "3.0 - 6.2%\n",
      "4.0 - 7.0%\n",
      "5.0 - 14.1%\n",
      "6.0 - 5.5%\n",
      "7.0 - 8.6%\n",
      "8.0 - 16.4%\n",
      "9.0 - 13.3%\n",
      "10.0 - 17.2%\n",
      "\n",
      "1.0: \n",
      "0.0 - 2.1%\n",
      "1.0 - 4.3%\n",
      "3.0 - 2.1%\n",
      "4.0 - 2.1%\n",
      "5.0 - 12.8%\n",
      "6.0 - 4.3%\n",
      "7.0 - 4.3%\n",
      "8.0 - 23.4%\n",
      "9.0 - 21.3%\n",
      "10.0 - 23.4%\n",
      "\n"
     ]
    }
   ],
   "source": [
    "num_breakdown(dvd, 'txgot_binary', 'DVD_TxReason4_Avoidpee')"
   ]
  },
  {
   "cell_type": "markdown",
   "metadata": {},
   "source": [
    "When choosing a treatment for your early stage prostate cancer, how important was it that you avoid spending a lot of time in treatment or recovery?"
   ]
  },
  {
   "cell_type": "code",
   "execution_count": 88,
   "metadata": {},
   "outputs": [
    {
     "data": {
      "text/plain": [
       "<matplotlib.axes._subplots.AxesSubplot at 0x26741052400>"
      ]
     },
     "execution_count": 88,
     "metadata": {},
     "output_type": "execute_result"
    },
    {
     "data": {
      "image/png": "[encoded data removed]",
      "text/plain": [
       "<Figure size 432x288 with 1 Axes>"
      ]
     },
     "metadata": {},
     "output_type": "display_data"
    }
   ],
   "source": [
    "sns.countplot(x='DVD_TxReason4_Avoidrecov', data=dvd, hue='txgot_binary')"
   ]
  },
  {
   "cell_type": "code",
   "execution_count": 89,
   "metadata": {},
   "outputs": [
    {
     "name": "stdout",
     "output_type": "stream",
     "text": [
      "0.0: \n",
      "0.0 - 9.4%\n",
      "1.0 - 5.5%\n",
      "2.0 - 6.2%\n",
      "3.0 - 10.9%\n",
      "4.0 - 6.2%\n",
      "5.0 - 9.4%\n",
      "6.0 - 3.9%\n",
      "7.0 - 8.6%\n",
      "8.0 - 16.4%\n",
      "9.0 - 7.0%\n",
      "10.0 - 16.4%\n",
      "\n",
      "1.0: \n",
      "0.0 - 2.1%\n",
      "3.0 - 2.1%\n",
      "4.0 - 10.6%\n",
      "5.0 - 17.0%\n",
      "6.0 - 2.1%\n",
      "7.0 - 17.0%\n",
      "8.0 - 12.8%\n",
      "9.0 - 19.1%\n",
      "10.0 - 17.0%\n",
      "\n"
     ]
    }
   ],
   "source": [
    "num_breakdown(dvd, 'txgot_binary', 'DVD_TxReason4_Avoidrecov')"
   ]
  },
  {
   "cell_type": "markdown",
   "metadata": {},
   "source": [
    "When choosing a treatment for your early stage prostate cancer, how important was it that you avoid sexual problems?"
   ]
  },
  {
   "cell_type": "code",
   "execution_count": 90,
   "metadata": {},
   "outputs": [
    {
     "data": {
      "text/plain": [
       "<matplotlib.axes._subplots.AxesSubplot at 0x26741311940>"
      ]
     },
     "execution_count": 90,
     "metadata": {},
     "output_type": "execute_result"
    },
    {
     "data": {
      "image/png": "[encoded data removed]",
      "text/plain": [
       "<Figure size 432x288 with 1 Axes>"
      ]
     },
     "metadata": {},
     "output_type": "display_data"
    }
   ],
   "source": [
    "sns.countplot(x='DVD_TxReason4_AvoidED', data=dvd, hue='txgot_binary')"
   ]
  },
  {
   "cell_type": "code",
   "execution_count": 91,
   "metadata": {},
   "outputs": [
    {
     "name": "stdout",
     "output_type": "stream",
     "text": [
      "0.0: \n",
      "0.0 - 4.7%\n",
      "1.0 - 3.9%\n",
      "2.0 - 5.5%\n",
      "3.0 - 12.5%\n",
      "4.0 - 6.2%\n",
      "5.0 - 5.5%\n",
      "6.0 - 5.5%\n",
      "7.0 - 7.8%\n",
      "8.0 - 17.2%\n",
      "9.0 - 15.6%\n",
      "10.0 - 15.6%\n",
      "\n",
      "1.0: \n",
      "0.0 - 4.3%\n",
      "3.0 - 4.3%\n",
      "4.0 - 2.1%\n",
      "5.0 - 12.8%\n",
      "6.0 - 2.1%\n",
      "7.0 - 12.8%\n",
      "8.0 - 21.3%\n",
      "9.0 - 14.9%\n",
      "10.0 - 25.5%\n",
      "\n"
     ]
    }
   ],
   "source": [
    "num_breakdown(dvd, 'txgot_binary', 'DVD_TxReason4_AvoidED')"
   ]
  },
  {
   "cell_type": "markdown",
   "metadata": {},
   "source": [
    "When choosing a treatment for your early stage prostate cancer, how important was it that you avoid problems with bowel function?"
   ]
  },
  {
   "cell_type": "code",
   "execution_count": 92,
   "metadata": {},
   "outputs": [
    {
     "data": {
      "text/plain": [
       "<matplotlib.axes._subplots.AxesSubplot at 0x26741308198>"
      ]
     },
     "execution_count": 92,
     "metadata": {},
     "output_type": "execute_result"
    },
    {
     "data": {
      "image/png": "[encoded data removed]",
      "text/plain": [
       "<Figure size 432x288 with 1 Axes>"
      ]
     },
     "metadata": {},
     "output_type": "display_data"
    }
   ],
   "source": [
    "sns.countplot(x='DVD_TxReason4_Avoidbowel', data=dvd, hue='txgot_binary')"
   ]
  },
  {
   "cell_type": "code",
   "execution_count": 93,
   "metadata": {},
   "outputs": [
    {
     "name": "stdout",
     "output_type": "stream",
     "text": [
      "0.0: \n",
      "0.0 - 2.3%\n",
      "1.0 - 3.9%\n",
      "2.0 - 2.3%\n",
      "3.0 - 3.9%\n",
      "4.0 - 4.7%\n",
      "5.0 - 5.5%\n",
      "6.0 - 4.7%\n",
      "7.0 - 9.4%\n",
      "8.0 - 17.2%\n",
      "9.0 - 14.8%\n",
      "10.0 - 31.2%\n",
      "\n",
      "1.0: \n",
      "0.0 - 2.1%\n",
      "1.0 - 2.1%\n",
      "5.0 - 4.3%\n",
      "7.0 - 6.4%\n",
      "8.0 - 21.3%\n",
      "9.0 - 25.5%\n",
      "10.0 - 38.3%\n",
      "\n"
     ]
    }
   ],
   "source": [
    "num_breakdown(dvd, 'txgot_binary', 'DVD_TxReason4_Avoidbowel')"
   ]
  },
  {
   "cell_type": "markdown",
   "metadata": {},
   "source": [
    "The choice did me a lot of harm.\n",
    "\n",
    "1=Strongly disagree, 2=Disagree, 3=Neither agree nor disagree, 4=Agree, 5=Strongly agree"
   ]
  },
  {
   "cell_type": "code",
   "execution_count": 99,
   "metadata": {},
   "outputs": [
    {
     "data": {
      "text/plain": [
       "<matplotlib.axes._subplots.AxesSubplot at 0x2673c90e940>"
      ]
     },
     "execution_count": 99,
     "metadata": {},
     "output_type": "execute_result"
    },
    {
     "data": {
      "image/png": "[encoded data removed]",
      "text/plain": [
       "<Figure size 432x288 with 1 Axes>"
      ]
     },
     "metadata": {},
     "output_type": "display_data"
    }
   ],
   "source": [
    "sns.countplot(x='DVD_Dec4_harm', data=dvd, hue='txgot_binary')"
   ]
  },
  {
   "cell_type": "code",
   "execution_count": 100,
   "metadata": {},
   "outputs": [
    {
     "name": "stdout",
     "output_type": "stream",
     "text": [
      "0.0: \n",
      "2.0 - 1.6%\n",
      "3.0 - 9.5%\n",
      "4.0 - 28.6%\n",
      "5.0 - 60.3%\n",
      "\n",
      "1.0: \n",
      "1.0 - 2.2%\n",
      "3.0 - 10.9%\n",
      "4.0 - 17.4%\n",
      "5.0 - 69.6%\n",
      "\n"
     ]
    }
   ],
   "source": [
    "num_breakdown(dvd, 'txgot_binary', 'DVD_Dec4_harm')"
   ]
  },
  {
   "cell_type": "markdown",
   "metadata": {},
   "source": [
    "I regret the choice that was made."
   ]
  },
  {
   "cell_type": "code",
   "execution_count": 101,
   "metadata": {},
   "outputs": [
    {
     "data": {
      "text/plain": [
       "<matplotlib.axes._subplots.AxesSubplot at 0x26741548400>"
      ]
     },
     "execution_count": 101,
     "metadata": {},
     "output_type": "execute_result"
    },
    {
     "data": {
      "image/png": "[encoded data removed]",
      "text/plain": [
       "<Figure size 432x288 with 1 Axes>"
      ]
     },
     "metadata": {},
     "output_type": "display_data"
    }
   ],
   "source": [
    "sns.countplot(x='DVD_Dec4_regret', data=dvd, hue='txgot_binary')"
   ]
  },
  {
   "cell_type": "code",
   "execution_count": 102,
   "metadata": {},
   "outputs": [
    {
     "name": "stdout",
     "output_type": "stream",
     "text": [
      "0.0: \n",
      "1.0 - 1.6%\n",
      "2.0 - 0.8%\n",
      "3.0 - 3.2%\n",
      "4.0 - 21.6%\n",
      "5.0 - 72.8%\n",
      "\n",
      "1.0: \n",
      "1.0 - 4.3%\n",
      "2.0 - 2.2%\n",
      "3.0 - 8.7%\n",
      "4.0 - 32.6%\n",
      "5.0 - 52.2%\n",
      "\n"
     ]
    }
   ],
   "source": [
    "num_breakdown(dvd, 'txgot_binary', 'DVD_Dec4_regret')"
   ]
  },
  {
   "cell_type": "markdown",
   "metadata": {},
   "source": [
    "It was the right decision."
   ]
  },
  {
   "cell_type": "code",
   "execution_count": 103,
   "metadata": {},
   "outputs": [
    {
     "data": {
      "text/plain": [
       "<matplotlib.axes._subplots.AxesSubplot at 0x2674158f4e0>"
      ]
     },
     "execution_count": 103,
     "metadata": {},
     "output_type": "execute_result"
    },
    {
     "data": {
      "image/png": "[encoded data removed]",
      "text/plain": [
       "<Figure size 432x288 with 1 Axes>"
      ]
     },
     "metadata": {},
     "output_type": "display_data"
    }
   ],
   "source": [
    "sns.countplot(x='DVD_Dec4_right', data=dvd, hue='txgot_binary')"
   ]
  },
  {
   "cell_type": "code",
   "execution_count": 105,
   "metadata": {},
   "outputs": [
    {
     "name": "stdout",
     "output_type": "stream",
     "text": [
      "0.0: \n",
      "2.0 - 0.8%\n",
      "3.0 - 5.5%\n",
      "4.0 - 29.1%\n",
      "5.0 - 64.6%\n",
      "\n",
      "1.0: \n",
      "3.0 - 4.3%\n",
      "4.0 - 45.7%\n",
      "5.0 - 50.0%\n",
      "\n"
     ]
    }
   ],
   "source": [
    "num_breakdown(dvd, 'txgot_binary', 'DVD_Dec4_right')"
   ]
  },
  {
   "cell_type": "markdown",
   "metadata": {},
   "source": [
    "I would go for the same choice if I had to do it over again."
   ]
  },
  {
   "cell_type": "code",
   "execution_count": 106,
   "metadata": {},
   "outputs": [
    {
     "data": {
      "text/plain": [
       "<matplotlib.axes._subplots.AxesSubplot at 0x26741617d68>"
      ]
     },
     "execution_count": 106,
     "metadata": {},
     "output_type": "execute_result"
    },
    {
     "data": {
      "image/png": "[encoded data removed]",
      "text/plain": [
       "<Figure size 432x288 with 1 Axes>"
      ]
     },
     "metadata": {},
     "output_type": "display_data"
    }
   ],
   "source": [
    "sns.countplot(x='DVD_Dec4_again', data=dvd, hue='txgot_binary')"
   ]
  },
  {
   "cell_type": "code",
   "execution_count": 107,
   "metadata": {},
   "outputs": [
    {
     "name": "stdout",
     "output_type": "stream",
     "text": [
      "0.0: \n",
      "1.0 - 2.4%\n",
      "2.0 - 1.6%\n",
      "3.0 - 5.5%\n",
      "4.0 - 26.0%\n",
      "5.0 - 64.6%\n",
      "\n",
      "1.0: \n",
      "2.0 - 2.2%\n",
      "3.0 - 4.3%\n",
      "4.0 - 39.1%\n",
      "5.0 - 54.3%\n",
      "\n"
     ]
    }
   ],
   "source": [
    "num_breakdown(dvd, 'txgot_binary', 'DVD_Dec4_again')"
   ]
  },
  {
   "cell_type": "markdown",
   "metadata": {},
   "source": [
    "The decision was a wise one."
   ]
  },
  {
   "cell_type": "code",
   "execution_count": 108,
   "metadata": {},
   "outputs": [
    {
     "data": {
      "text/plain": [
       "<matplotlib.axes._subplots.AxesSubplot at 0x2674166c0f0>"
      ]
     },
     "execution_count": 108,
     "metadata": {},
     "output_type": "execute_result"
    },
    {
     "data": {
      "image/png": "[encoded data removed]",
      "text/plain": [
       "<Figure size 432x288 with 1 Axes>"
      ]
     },
     "metadata": {},
     "output_type": "display_data"
    }
   ],
   "source": [
    "sns.countplot(x='DVD_Dec4_wise', data=dvd, hue='txgot_binary')"
   ]
  },
  {
   "cell_type": "code",
   "execution_count": 109,
   "metadata": {},
   "outputs": [
    {
     "name": "stdout",
     "output_type": "stream",
     "text": [
      "0.0: \n",
      "1.0 - 2.3%\n",
      "3.0 - 9.4%\n",
      "4.0 - 32.0%\n",
      "5.0 - 56.2%\n",
      "\n",
      "1.0: \n",
      "1.0 - 2.2%\n",
      "2.0 - 2.2%\n",
      "3.0 - 8.7%\n",
      "4.0 - 45.7%\n",
      "5.0 - 41.3%\n",
      "\n"
     ]
    }
   ],
   "source": [
    "num_breakdown(dvd, 'txgot_binary', 'DVD_Dec4_wise')"
   ]
  },
  {
   "cell_type": "markdown",
   "metadata": {},
   "source": [
    "## Conclusions"
   ]
  },
  {
   "cell_type": "markdown",
   "metadata": {},
   "source": [
    "* those who chose AS were slightly sadder at time 1?\n",
    "* those who looked at the decision aid before deciding on treatment were more likely to choose active treatment\n",
    "* of those who chose AS, most had AS recommended to them; of those who didn't choose AS, most did not have AS recommended to them\n",
    "* getting confused about the other two recommendations\n",
    "* those who chose AS were more likely to think that personal preferences are important\n",
    "* those who chose AS generally spent more time talking about AS with their urologist\n",
    "* those who chose AS didn't talk as much about surgery\n",
    "* those who chose active treatment shows an almost bimodal distribution for percentage talked about surgery (bimodal because of other treatment option radiation)\n",
    "* unsure about change in happiness\n",
    "* people were most concerned about avoiding: bowel problems, then ED, then leaky urine, then recovery time\n",
    "* expectedly, people were more concerned about surgery in the AS group\n",
    "* patients generally thought their decisions were harmful and regretful, but also right and they would choose them again (discrepancy)\n",
    "* those who chose active treatment had very high rates of regret, while AS generally believed their decisions were less right, less wise, and were less likely to make the same decision"
   ]
  },
  {
   "cell_type": "code",
   "execution_count": null,
   "metadata": {},
   "outputs": [],
   "source": []
  }
 ],
 "metadata": {
  "kernelspec": {
   "display_name": "DataPlus",
   "language": "python",
   "name": "dataplus"
  },
  "language_info": {
   "codemirror_mode": {
    "name": "ipython",
    "version": 3
   },
   "file_extension": ".py",
   "mimetype": "text/x-python",
   "name": "python",
   "nbconvert_exporter": "python",
   "pygments_lexer": "ipython3",
   "version": "3.6.5"
  }
 },
 "nbformat": 4,
 "nbformat_minor": 2
}
