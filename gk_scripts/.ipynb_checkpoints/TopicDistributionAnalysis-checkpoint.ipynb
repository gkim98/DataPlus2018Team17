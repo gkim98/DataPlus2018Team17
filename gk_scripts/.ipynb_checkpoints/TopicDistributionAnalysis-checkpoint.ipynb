{
 "cells": [
  {
   "cell_type": "code",
   "execution_count": 10,
   "metadata": {},
   "outputs": [],
   "source": [
    "import pandas as pd\n",
    "import matplotlib.pyplot as plt\n",
    "import seaborn as sns"
   ]
  },
  {
   "cell_type": "code",
   "execution_count": 2,
   "metadata": {},
   "outputs": [],
   "source": [
    "topics = pd.read_csv('../../DataPlus/dvd_topic_modeling_with_distributions.csv')"
   ]
  },
  {
   "cell_type": "code",
   "execution_count": 5,
   "metadata": {},
   "outputs": [
    {
     "data": {
      "text/html": [
       "<div>\n",
       "<style scoped>\n",
       "    .dataframe tbody tr th:only-of-type {\n",
       "        vertical-align: middle;\n",
       "    }\n",
       "\n",
       "    .dataframe tbody tr th {\n",
       "        vertical-align: top;\n",
       "    }\n",
       "\n",
       "    .dataframe thead th {\n",
       "        text-align: right;\n",
       "    }\n",
       "</style>\n",
       "<table border=\"1\" class=\"dataframe\">\n",
       "  <thead>\n",
       "    <tr style=\"text-align: right;\">\n",
       "      <th></th>\n",
       "      <th>Unnamed: 0</th>\n",
       "      <th>Unnamed: 0.1</th>\n",
       "      <th>Tx3</th>\n",
       "      <th>Advice1</th>\n",
       "      <th>Anx11</th>\n",
       "      <th>Anx111</th>\n",
       "      <th>Anx112</th>\n",
       "      <th>Anx113</th>\n",
       "      <th>Anx12</th>\n",
       "      <th>Anx13</th>\n",
       "      <th>...</th>\n",
       "      <th>Convo_1</th>\n",
       "      <th>Convo_2</th>\n",
       "      <th>Doctor_1</th>\n",
       "      <th>Doctor_2</th>\n",
       "      <th>Convo_1_lemmatized</th>\n",
       "      <th>Convo_1_corp</th>\n",
       "      <th>radiation_topic</th>\n",
       "      <th>active_surveillance_topic</th>\n",
       "      <th>appt_topic</th>\n",
       "      <th>surgery_topic</th>\n",
       "    </tr>\n",
       "  </thead>\n",
       "  <tbody>\n",
       "    <tr>\n",
       "      <th>0</th>\n",
       "      <td>263</td>\n",
       "      <td>263</td>\n",
       "      <td>1.0</td>\n",
       "      <td>SR</td>\n",
       "      <td>NaN</td>\n",
       "      <td>NaN</td>\n",
       "      <td>0.0</td>\n",
       "      <td>0.0</td>\n",
       "      <td>0.0</td>\n",
       "      <td>1.0</td>\n",
       "      <td>...</td>\n",
       "      <td>l394r1 interview length 014034 legend pt patie...</td>\n",
       "      <td>l394u2 interview length 003455 legend pt patie...</td>\n",
       "      <td>NaN</td>\n",
       "      <td>NaN</td>\n",
       "      <td>['interview_length', 'significant', 'saw', 'su...</td>\n",
       "      <td>[(0, 1), (1, 2), (2, 1), (3, 4), (4, 31), (5, ...</td>\n",
       "      <td>0.380425</td>\n",
       "      <td>0.013018</td>\n",
       "      <td>0.000000</td>\n",
       "      <td>0.500840</td>\n",
       "    </tr>\n",
       "    <tr>\n",
       "      <th>1</th>\n",
       "      <td>264</td>\n",
       "      <td>264</td>\n",
       "      <td>2.0</td>\n",
       "      <td>A</td>\n",
       "      <td>0.0</td>\n",
       "      <td>1.0</td>\n",
       "      <td>NaN</td>\n",
       "      <td>0.0</td>\n",
       "      <td>NaN</td>\n",
       "      <td>0.0</td>\n",
       "      <td>...</td>\n",
       "      <td>l371u1 interview length 004701 legend pt patie...</td>\n",
       "      <td>l371r2 interview length 005058 legend pt patie...</td>\n",
       "      <td>NaN</td>\n",
       "      <td>NaN</td>\n",
       "      <td>['interview_length', 'significant', 'person', ...</td>\n",
       "      <td>[(2, 1), (4, 2), (7, 1), (8, 3), (12, 2), (16,...</td>\n",
       "      <td>0.107739</td>\n",
       "      <td>0.000000</td>\n",
       "      <td>0.172553</td>\n",
       "      <td>0.718799</td>\n",
       "    </tr>\n",
       "    <tr>\n",
       "      <th>2</th>\n",
       "      <td>265</td>\n",
       "      <td>265</td>\n",
       "      <td>2.0</td>\n",
       "      <td>A</td>\n",
       "      <td>2.0</td>\n",
       "      <td>3.0</td>\n",
       "      <td>2.0</td>\n",
       "      <td>2.0</td>\n",
       "      <td>3.0</td>\n",
       "      <td>2.0</td>\n",
       "      <td>...</td>\n",
       "      <td>t062u1 interview length 02507 legend pt patien...</td>\n",
       "      <td>NaN</td>\n",
       "      <td>NaN</td>\n",
       "      <td>NaN</td>\n",
       "      <td>['interview_length', 'significant', 'significa...</td>\n",
       "      <td>[(4, 1), (9, 1), (12, 1), (17, 1), (19, 2), (2...</td>\n",
       "      <td>0.173313</td>\n",
       "      <td>0.119528</td>\n",
       "      <td>0.189936</td>\n",
       "      <td>0.390042</td>\n",
       "    </tr>\n",
       "  </tbody>\n",
       "</table>\n",
       "<p>3 rows × 82 columns</p>\n",
       "</div>"
      ],
      "text/plain": [
       "   Unnamed: 0  Unnamed: 0.1  Tx3 Advice1  Anx11  Anx111  Anx112  Anx113  \\\n",
       "0         263           263  1.0      SR    NaN     NaN     0.0     0.0   \n",
       "1         264           264  2.0       A    0.0     1.0     NaN     0.0   \n",
       "2         265           265  2.0       A    2.0     3.0     2.0     2.0   \n",
       "\n",
       "   Anx12  Anx13      ...        \\\n",
       "0    0.0    1.0      ...         \n",
       "1    NaN    0.0      ...         \n",
       "2    3.0    2.0      ...         \n",
       "\n",
       "                                             Convo_1  \\\n",
       "0  l394r1 interview length 014034 legend pt patie...   \n",
       "1  l371u1 interview length 004701 legend pt patie...   \n",
       "2  t062u1 interview length 02507 legend pt patien...   \n",
       "\n",
       "                                             Convo_2  Doctor_1  Doctor_2  \\\n",
       "0  l394u2 interview length 003455 legend pt patie...       NaN       NaN   \n",
       "1  l371r2 interview length 005058 legend pt patie...       NaN       NaN   \n",
       "2                                                NaN       NaN       NaN   \n",
       "\n",
       "                                  Convo_1_lemmatized  \\\n",
       "0  ['interview_length', 'significant', 'saw', 'su...   \n",
       "1  ['interview_length', 'significant', 'person', ...   \n",
       "2  ['interview_length', 'significant', 'significa...   \n",
       "\n",
       "                                        Convo_1_corp  radiation_topic  \\\n",
       "0  [(0, 1), (1, 2), (2, 1), (3, 4), (4, 31), (5, ...         0.380425   \n",
       "1  [(2, 1), (4, 2), (7, 1), (8, 3), (12, 2), (16,...         0.107739   \n",
       "2  [(4, 1), (9, 1), (12, 1), (17, 1), (19, 2), (2...         0.173313   \n",
       "\n",
       "   active_surveillance_topic  appt_topic  surgery_topic  \n",
       "0                   0.013018    0.000000       0.500840  \n",
       "1                   0.000000    0.172553       0.718799  \n",
       "2                   0.119528    0.189936       0.390042  \n",
       "\n",
       "[3 rows x 82 columns]"
      ]
     },
     "execution_count": 5,
     "metadata": {},
     "output_type": "execute_result"
    }
   ],
   "source": [
    "topics.head(3)"
   ]
  },
  {
   "cell_type": "code",
   "execution_count": 39,
   "metadata": {
    "scrolled": false
   },
   "outputs": [
    {
     "data": {
      "image/png": "[encoded data removed]",
      "text/plain": [
       "<Figure size 216x432 with 2 Axes>"
      ]
     },
     "metadata": {},
     "output_type": "display_data"
    }
   ],
   "source": [
    "topic1 = sns.FacetGrid(topics, row=\"txgot_binary\")\n",
    "topic1 = topic1.map(plt.hist, \"radiation_topic\", bins=15)"
   ]
  },
  {
   "cell_type": "code",
   "execution_count": 38,
   "metadata": {},
   "outputs": [
    {
     "data": {
      "image/png": "[encoded data removed]",
      "text/plain": [
       "<Figure size 216x432 with 2 Axes>"
      ]
     },
     "metadata": {},
     "output_type": "display_data"
    }
   ],
   "source": [
    "topic2 = sns.FacetGrid(topics, row=\"txgot_binary\")\n",
    "topic2 = topic2.map(plt.hist, \"active_surveillance_topic\", bins=15)"
   ]
  },
  {
   "cell_type": "code",
   "execution_count": 37,
   "metadata": {},
   "outputs": [
    {
     "data": {
      "image/png": "[encoded data removed]",
      "text/plain": [
       "<Figure size 216x432 with 2 Axes>"
      ]
     },
     "metadata": {},
     "output_type": "display_data"
    }
   ],
   "source": [
    "topic3 = sns.FacetGrid(topics, row=\"txgot_binary\")\n",
    "topic3 = topic3.map(plt.hist, \"appt_topic\", bins=15)"
   ]
  },
  {
   "cell_type": "code",
   "execution_count": 35,
   "metadata": {},
   "outputs": [
    {
     "data": {
      "image/png": "[encoded data removed]",
      "text/plain": [
       "<Figure size 216x432 with 2 Axes>"
      ]
     },
     "metadata": {},
     "output_type": "display_data"
    }
   ],
   "source": [
    "topic4 = sns.FacetGrid(topics, row=\"txgot_binary\")\n",
    "topic4 = topic4.map(plt.hist, \"surgery_topic\", bins=15)"
   ]
  },
  {
   "cell_type": "code",
   "execution_count": 50,
   "metadata": {},
   "outputs": [],
   "source": [
    "import GeneralModel as gm"
   ]
  },
  {
   "cell_type": "code",
   "execution_count": 54,
   "metadata": {},
   "outputs": [
    {
     "name": "stdout",
     "output_type": "stream",
     "text": [
      "# of Data Points: 140\n"
     ]
    }
   ],
   "source": [
    "topic_df = gm.prepare_df(topics, cont_vars=['radiation_topic', 'active_surveillance_topic', 'appt_topic', 'surgery_topic'], cat_vars=[])"
   ]
  },
  {
   "cell_type": "code",
   "execution_count": 55,
   "metadata": {},
   "outputs": [
    {
     "data": {
      "application/vnd.jupyter.widget-view+json": {
       "model_id": "d8a33649daec475b847210ac9f17a13a",
       "version_major": 2,
       "version_minor": 0
      },
      "text/plain": [
       "HBox(children=(IntProgress(value=1, bar_style='info', max=1), HTML(value='')))"
      ]
     },
     "metadata": {},
     "output_type": "display_data"
    },
    {
     "name": "stdout",
     "output_type": "stream",
     "text": [
      "\n",
      "\n",
      "F-score: 0.269\n",
      "AUC: 0.548\n"
     ]
    },
    {
     "data": {
      "text/plain": [
       "(0.26938221317040056,\n",
       " {'positive precision': 0.4266666666666667,\n",
       "  'positive recall': 0.19682539682539682,\n",
       "  'negative precision': 0.7848169914950999,\n",
       "  'negative recall': 0.8997113997113997},\n",
       " 0.5482683982683981,\n",
       "                      Feature    Weight\n",
       " 0            radiation_topic  0.196494\n",
       " 1  active_surveillance_topic  0.285732\n",
       " 2                 appt_topic  0.160649\n",
       " 3              surgery_topic  0.357125)"
      ]
     },
     "execution_count": 55,
     "metadata": {},
     "output_type": "execute_result"
    }
   ],
   "source": [
    "gm.general_model(topic_df, algorithm='rf', folds=5)"
   ]
  },
  {
   "cell_type": "code",
   "execution_count": 58,
   "metadata": {},
   "outputs": [
    {
     "name": "stdout",
     "output_type": "stream",
     "text": [
      "# of Data Points: 140\n"
     ]
    }
   ],
   "source": [
    "added_topic_df = gm.prepare_df(topics, cont_vars=['radiation_topic', 'active_surveillance_topic', 'appt_topic', 'surgery_topic'], cat_vars=['gleason'])"
   ]
  },
  {
   "cell_type": "code",
   "execution_count": 59,
   "metadata": {},
   "outputs": [
    {
     "data": {
      "application/vnd.jupyter.widget-view+json": {
       "model_id": "c5316f6806e146d08db460923c6b12d0",
       "version_major": 2,
       "version_minor": 0
      },
      "text/plain": [
       "HBox(children=(IntProgress(value=1, bar_style='info', max=1), HTML(value='')))"
      ]
     },
     "metadata": {},
     "output_type": "display_data"
    },
    {
     "name": "stdout",
     "output_type": "stream",
     "text": [
      "\n",
      "\n",
      "F-score: 0.348\n",
      "AUC: 0.581\n"
     ]
    },
    {
     "data": {
      "text/plain": [
       "(0.3475976121851959,\n",
       " {'positive precision': 0.5661111111111111,\n",
       "  'positive recall': 0.25079365079365074,\n",
       "  'negative precision': 0.7972716344310548,\n",
       "  'negative recall': 0.9105339105339106},\n",
       " 0.5806637806637805,\n",
       "                      Feature    Weight\n",
       " 0            radiation_topic  0.207926\n",
       " 1  active_surveillance_topic  0.234317\n",
       " 2                 appt_topic  0.159774\n",
       " 3              surgery_topic  0.303006\n",
       " 4                          7  0.094976)"
      ]
     },
     "execution_count": 59,
     "metadata": {},
     "output_type": "execute_result"
    }
   ],
   "source": [
    "gm.general_model(added_topic_df, algorithm='rf', folds=5)"
   ]
  },
  {
   "cell_type": "code",
   "execution_count": 70,
   "metadata": {},
   "outputs": [
    {
     "name": "stdout",
     "output_type": "stream",
     "text": [
      "# of Data Points: 135\n"
     ]
    }
   ],
   "source": [
    "gleason_df = gm.prepare_df(topics, cat_vars=['gleason', 'Advice1'], cont_vars=['age'])"
   ]
  },
  {
   "cell_type": "code",
   "execution_count": 71,
   "metadata": {},
   "outputs": [
    {
     "data": {
      "application/vnd.jupyter.widget-view+json": {
       "model_id": "5502238af2ca4bcf838c3a589577a430",
       "version_major": 2,
       "version_minor": 0
      },
      "text/plain": [
       "HBox(children=(IntProgress(value=1, bar_style='info', max=1), HTML(value='')))"
      ]
     },
     "metadata": {},
     "output_type": "display_data"
    },
    {
     "name": "stdout",
     "output_type": "stream",
     "text": [
      "\n",
      "\n",
      "F-score: 0.475\n",
      "AUC: 0.659\n"
     ]
    },
    {
     "data": {
      "text/plain": [
       "(0.4746034303308349,\n",
       " {'positive precision': 0.5868253968253968,\n",
       "  'positive recall': 0.39841269841269844,\n",
       "  'negative precision': 0.8395783443609531,\n",
       "  'negative recall': 0.9203174603174603},\n",
       " 0.6593650793650794,\n",
       "   Feature    Weight\n",
       " 0     age  0.441218\n",
       " 1       7 -0.770031\n",
       " 2      AR -0.234905\n",
       " 3      AS -0.203498\n",
       " 4     ASR  1.064160\n",
       " 5       R  0.950786\n",
       " 6       S  0.727385\n",
       " 7      SR  1.774917)"
      ]
     },
     "execution_count": 71,
     "metadata": {},
     "output_type": "execute_result"
    }
   ],
   "source": [
    "gm.general_model(gleason_df, algorithm='lr', folds=5)"
   ]
  },
  {
   "cell_type": "code",
   "execution_count": null,
   "metadata": {},
   "outputs": [],
   "source": []
  }
 ],
 "metadata": {
  "kernelspec": {
   "display_name": "DataPlus",
   "language": "python",
   "name": "datafinal"
  },
  "language_info": {
   "codemirror_mode": {
    "name": "ipython",
    "version": 3
   },
   "file_extension": ".py",
   "mimetype": "text/x-python",
   "name": "python",
   "nbconvert_exporter": "python",
   "pygments_lexer": "ipython3",
   "version": "3.6.5"
  }
 },
 "nbformat": 4,
 "nbformat_minor": 2
}
