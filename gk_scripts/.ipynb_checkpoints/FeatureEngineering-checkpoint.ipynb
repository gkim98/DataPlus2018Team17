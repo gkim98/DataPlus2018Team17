{
 "cells": [
  {
   "cell_type": "markdown",
   "metadata": {},
   "source": [
    "# Feature Engineering"
   ]
  },
  {
   "cell_type": "markdown",
   "metadata": {},
   "source": [
    "We will create features that reduce the noise of each variable and allows them to be interpretable even when they are separated into dummy variables."
   ]
  },
  {
   "cell_type": "code",
   "execution_count": 1,
   "metadata": {},
   "outputs": [],
   "source": [
    "import numpy as np\n",
    "import pandas as pd\n",
    "import matplotlib.pyplot as plt\n",
    "import seaborn as sns\n",
    "%matplotlib inline"
   ]
  },
  {
   "cell_type": "code",
   "execution_count": 2,
   "metadata": {},
   "outputs": [],
   "source": [
    "# retrieve original dataframe\n",
    "merged = pd.read_csv('../../DataPlus/all_data_merged.csv')\n",
    "va_original = pd.read_csv('../../DataPlus/data/VA_Original.csv')\n",
    "dvd_original = pd.read_csv('../../DataPlus/data/DVD_Original.csv')"
   ]
  },
  {
   "cell_type": "markdown",
   "metadata": {},
   "source": [
    "## Origin Dataset"
   ]
  },
  {
   "cell_type": "code",
   "execution_count": 3,
   "metadata": {},
   "outputs": [],
   "source": [
    "# make sure this comes first in pipeline\n",
    "def dataset(df):\n",
    "    df = df.copy()\n",
    "    orig_data = []\n",
    "    \n",
    "    for i in range(len(va_original.index)):\n",
    "        orig_data.append(\"va\")\n",
    "    for i in range(len(dvd_original.index)):\n",
    "        orig_data.append(\"dvd\")\n",
    "    df['dataset'] = np.asarray(orig_data)\n",
    "    \n",
    "    return df"
   ]
  },
  {
   "cell_type": "markdown",
   "metadata": {},
   "source": [
    "## Education"
   ]
  },
  {
   "cell_type": "code",
   "execution_count": 4,
   "metadata": {},
   "outputs": [],
   "source": [
    "def edu_helper(x):\n",
    "    if np.isnan(x):\n",
    "        return np.nan\n",
    "    elif x > 6:\n",
    "        return \"College Degree\"\n",
    "    else:\n",
    "        return \"No College Degree\""
   ]
  },
  {
   "cell_type": "code",
   "execution_count": 5,
   "metadata": {},
   "outputs": [],
   "source": [
    "def edu_binary(df):\n",
    "    df = df.copy()\n",
    "    df['edu_binary'] = df['education'].map(lambda x: edu_helper(x))\n",
    "    return df"
   ]
  },
  {
   "cell_type": "code",
   "execution_count": 6,
   "metadata": {},
   "outputs": [],
   "source": [
    "edu_df = edu_binary(merged)"
   ]
  },
  {
   "cell_type": "code",
   "execution_count": 7,
   "metadata": {},
   "outputs": [
    {
     "data": {
      "text/plain": [
       "<matplotlib.axes._subplots.AxesSubplot at 0x15e561d9a90>"
      ]
     },
     "execution_count": 7,
     "metadata": {},
     "output_type": "execute_result"
    },
    {
     "data": {
      "image/png": "[encoded data removed]",
      "text/plain": [
       "<Figure size 432x288 with 1 Axes>"
      ]
     },
     "metadata": {},
     "output_type": "display_data"
    }
   ],
   "source": [
    "sns.countplot(x='education', data=merged)"
   ]
  },
  {
   "cell_type": "code",
   "execution_count": 8,
   "metadata": {},
   "outputs": [
    {
     "data": {
      "text/plain": [
       "<matplotlib.axes._subplots.AxesSubplot at 0x15e5693e6a0>"
      ]
     },
     "execution_count": 8,
     "metadata": {},
     "output_type": "execute_result"
    },
    {
     "data": {
      "image/png": "[encoded data removed]",
      "text/plain": [
       "<Figure size 432x288 with 1 Axes>"
      ]
     },
     "metadata": {},
     "output_type": "display_data"
    }
   ],
   "source": [
    "sns.countplot(x='edu_binary', data=edu_df)"
   ]
  },
  {
   "cell_type": "markdown",
   "metadata": {},
   "source": [
    "## Race"
   ]
  },
  {
   "cell_type": "code",
   "execution_count": 9,
   "metadata": {},
   "outputs": [],
   "source": [
    "# combines race into one variable\n",
    "def combine_race(df):\n",
    "    df = df.copy()\n",
    "    \n",
    "    new_col = []\n",
    "    found_race = False\n",
    "    for i in range(len(df.index)):\n",
    "        found_race = False\n",
    "        for race in ['arabme', 'asian', 'black', 'hispanic', 'native', 'pacific', 'white', 'raceother']:\n",
    "            if df[race][i] == 1:\n",
    "                new_col.append(race)\n",
    "                found_race = True\n",
    "                break\n",
    "        if not found_race:\n",
    "            new_col.append(np.nan)\n",
    "            \n",
    "    df['combined_race'] = np.asarray(new_col)\n",
    "    return df"
   ]
  },
  {
   "cell_type": "code",
   "execution_count": 10,
   "metadata": {},
   "outputs": [],
   "source": [
    "# because minority is sparse, we create a binary caucasian variable\n",
    "def white_binary(df):\n",
    "    df = df.copy()\n",
    "    race_col = df['combined_race']\n",
    "    \n",
    "    new_col = []\n",
    "    for i in range(len(race_col.index)):\n",
    "        if isinstance(race_col[i], str):\n",
    "            if race_col[i] == 'white':\n",
    "                new_col.append('White')\n",
    "            else:\n",
    "                new_col.append('Not White')\n",
    "        else:\n",
    "            new_col.append(np.nan)\n",
    "            \n",
    "    df['white_binary'] = np.asarray(new_col)\n",
    "    return df"
   ]
  },
  {
   "cell_type": "code",
   "execution_count": 11,
   "metadata": {},
   "outputs": [],
   "source": [
    "race_df = white_binary(combine_race(merged))"
   ]
  },
  {
   "cell_type": "code",
   "execution_count": 12,
   "metadata": {},
   "outputs": [
    {
     "data": {
      "text/plain": [
       "<matplotlib.axes._subplots.AxesSubplot at 0x15e56f0da20>"
      ]
     },
     "execution_count": 12,
     "metadata": {},
     "output_type": "execute_result"
    },
    {
     "data": {
      "image/png": "[encoded data removed]",
      "text/plain": [
       "<Figure size 432x288 with 1 Axes>"
      ]
     },
     "metadata": {},
     "output_type": "display_data"
    }
   ],
   "source": [
    "sns.countplot(x='combined_race', data=combine_race(merged))"
   ]
  },
  {
   "cell_type": "code",
   "execution_count": 13,
   "metadata": {},
   "outputs": [
    {
     "data": {
      "text/plain": [
       "<matplotlib.axes._subplots.AxesSubplot at 0x15e56bef588>"
      ]
     },
     "execution_count": 13,
     "metadata": {},
     "output_type": "execute_result"
    },
    {
     "data": {
      "image/png": "[encoded data removed]",
      "text/plain": [
       "<Figure size 432x288 with 1 Axes>"
      ]
     },
     "metadata": {},
     "output_type": "display_data"
    }
   ],
   "source": [
    "sns.countplot(x='white_binary', data=race_df)"
   ]
  },
  {
   "cell_type": "markdown",
   "metadata": {},
   "source": [
    "## Marriage"
   ]
  },
  {
   "cell_type": "code",
   "execution_count": 14,
   "metadata": {},
   "outputs": [],
   "source": [
    "def marry_helper(x):\n",
    "    if np.isnan(x):\n",
    "        return np.nan\n",
    "    elif int(x) == 1:\n",
    "        return 'Married'\n",
    "    else:\n",
    "        return 'Not Married'"
   ]
  },
  {
   "cell_type": "code",
   "execution_count": 15,
   "metadata": {},
   "outputs": [],
   "source": [
    "def marry_binary(df):\n",
    "    df = df.copy()\n",
    "    \n",
    "    df['marry_binary'] = df['marry'].map(lambda x: marry_helper(x))\n",
    "    return df"
   ]
  },
  {
   "cell_type": "code",
   "execution_count": 16,
   "metadata": {},
   "outputs": [],
   "source": [
    "marry_df = marry_binary(merged)"
   ]
  },
  {
   "cell_type": "code",
   "execution_count": 17,
   "metadata": {},
   "outputs": [
    {
     "data": {
      "text/plain": [
       "<matplotlib.axes._subplots.AxesSubplot at 0x15e56c7ccf8>"
      ]
     },
     "execution_count": 17,
     "metadata": {},
     "output_type": "execute_result"
    },
    {
     "data": {
      "image/png": "[encoded data removed]",
      "text/plain": [
       "<Figure size 432x288 with 1 Axes>"
      ]
     },
     "metadata": {},
     "output_type": "display_data"
    }
   ],
   "source": [
    "sns.countplot(x='marry', data=merged)"
   ]
  },
  {
   "cell_type": "code",
   "execution_count": 18,
   "metadata": {},
   "outputs": [
    {
     "data": {
      "text/plain": [
       "<matplotlib.axes._subplots.AxesSubplot at 0x15e56ca0f60>"
      ]
     },
     "execution_count": 18,
     "metadata": {},
     "output_type": "execute_result"
    },
    {
     "data": {
      "image/png": "[encoded data removed]",
      "text/plain": [
       "<Figure size 432x288 with 1 Axes>"
      ]
     },
     "metadata": {},
     "output_type": "display_data"
    }
   ],
   "source": [
    "sns.countplot(x='marry_binary', data=marry_df)"
   ]
  },
  {
   "cell_type": "markdown",
   "metadata": {},
   "source": [
    "## Combine Feature Engineering"
   ]
  },
  {
   "cell_type": "code",
   "execution_count": 19,
   "metadata": {},
   "outputs": [],
   "source": [
    "PIPELINE = [\n",
    "    dataset,\n",
    "    edu_binary,\n",
    "    combine_race,\n",
    "    white_binary,\n",
    "    marry_binary\n",
    "]"
   ]
  },
  {
   "cell_type": "code",
   "execution_count": 20,
   "metadata": {},
   "outputs": [],
   "source": [
    "# create argument determines whether dataframe is exported\n",
    "def feature_engineer(df, steps, create=False):\n",
    "    df = df.copy()\n",
    "    \n",
    "    for step in steps:\n",
    "        df = step(df)\n",
    "    \n",
    "    if create:\n",
    "        df.to_csv('../../DataPlus/feature_dataframe.csv')\n",
    "        \n",
    "    return df"
   ]
  },
  {
   "cell_type": "code",
   "execution_count": 21,
   "metadata": {},
   "outputs": [],
   "source": [
    "feat_df = feature_engineer(merged, PIPELINE, create=True)"
   ]
  }
 ],
 "metadata": {
  "kernelspec": {
   "display_name": "Python 3",
   "language": "python",
   "name": "python3"
  },
  "language_info": {
   "codemirror_mode": {
    "name": "ipython",
    "version": 3
   },
   "file_extension": ".py",
   "mimetype": "text/x-python",
   "name": "python",
   "nbconvert_exporter": "python",
   "pygments_lexer": "ipython3",
   "version": "3.6.4"
  }
 },
 "nbformat": 4,
 "nbformat_minor": 2
}
