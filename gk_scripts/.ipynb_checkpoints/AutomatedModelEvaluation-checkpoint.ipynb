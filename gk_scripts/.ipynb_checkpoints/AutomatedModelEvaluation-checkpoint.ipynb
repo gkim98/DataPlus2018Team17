{
 "cells": [
  {
   "cell_type": "markdown",
   "metadata": {},
   "source": [
    "# Automated Model Evaluation"
   ]
  },
  {
   "cell_type": "markdown",
   "metadata": {},
   "source": [
    "Now that we have a general model function, we can create a script that makes models out of different combinations of features and displays the best results."
   ]
  },
  {
   "cell_type": "code",
   "execution_count": 8,
   "metadata": {},
   "outputs": [],
   "source": [
    "import itertools\n",
    "import pandas as pd\n",
    "import GeneralModel as gm\n",
    "from tqdm import tqdm_notebook as tqdm"
   ]
  },
  {
   "cell_type": "code",
   "execution_count": 2,
   "metadata": {},
   "outputs": [],
   "source": [
    "# retrieves data\n",
    "merged = pd.read_csv('../../DataPlus/feature_dataframe.csv')"
   ]
  },
  {
   "cell_type": "code",
   "execution_count": 3,
   "metadata": {},
   "outputs": [
    {
     "name": "stdout",
     "output_type": "stream",
     "text": [
      "# of Data Points: 358\n"
     ]
    }
   ],
   "source": [
    "model_df = gm.prepare_df(merged, cat_vars=['edu_binary', 'marry_binary', 'Advice1'], cont_vars=[])"
   ]
  },
  {
   "cell_type": "code",
   "execution_count": 5,
   "metadata": {
    "scrolled": true
   },
   "outputs": [
    {
     "data": {
      "application/vnd.jupyter.widget-view+json": {
       "model_id": "c9c1ed6206bf43fba630071eee3a36ec",
       "version_major": 2,
       "version_minor": 0
      },
      "text/html": [
       "<p>Failed to display Jupyter Widget of type <code>HBox</code>.</p>\n",
       "<p>\n",
       "  If you're reading this message in the Jupyter Notebook or JupyterLab Notebook, it may mean\n",
       "  that the widgets JavaScript is still loading. If this message persists, it\n",
       "  likely means that the widgets JavaScript library is either not installed or\n",
       "  not enabled. See the <a href=\"https://ipywidgets.readthedocs.io/en/stable/user_install.html\">Jupyter\n",
       "  Widgets Documentation</a> for setup instructions.\n",
       "</p>\n",
       "<p>\n",
       "  If you're reading this message in another frontend (for example, a static\n",
       "  rendering on GitHub or <a href=\"https://nbviewer.jupyter.org/\">NBViewer</a>),\n",
       "  it may mean that your frontend doesn't currently support widgets.\n",
       "</p>\n"
      ],
      "text/plain": [
       "HBox(children=(IntProgress(value=1, bar_style='info', max=1), HTML(value='')))"
      ]
     },
     "metadata": {},
     "output_type": "display_data"
    },
    {
     "name": "stdout",
     "output_type": "stream",
     "text": [
      "\n",
      "             Feature    Weight\n",
      "0  No College Degree  0.193892\n",
      "1        Not Married  0.112416\n",
      "2                 AR  0.044520\n",
      "3                 AS  0.051509\n",
      "4                ASR  0.280635\n",
      "5                  R  0.100839\n",
      "6                  S  0.133658\n",
      "7                 SR  0.082531\n",
      "\n",
      "\n",
      "F-score: 0.469\n",
      "AUC: 0.607\n"
     ]
    }
   ],
   "source": [
    "fscore, metrics, auc_score, feat_info = gm.general_model(model_df, algorithm='rf', print_feat=True)"
   ]
  },
  {
   "cell_type": "code",
   "execution_count": 46,
   "metadata": {},
   "outputs": [],
   "source": [
    "\"\"\"\n",
    "    Given a set of categorical and continuous features, the function will iterate\n",
    "    over the combinations of features and present the results in a dataframe\n",
    "    \n",
    "    Columns in dataframe: features (list), fscore, auc, feature importance (if applicable) \n",
    "    \n",
    "    input:\n",
    "        - df: original dataframe\n",
    "        - sort: column by which to sort dataframe (by AUC or fscore)\n",
    "        - algorithm: type of algorithm\n",
    "        - cat_vars: list of categorical variables\n",
    "        - cont_vars: list of continuous variables\n",
    "\"\"\"\n",
    "def model_evaluation(df, sort=None, algorithm='rf', cat_vars=['gleason'], cont_vars=['age']):\n",
    "    total_features = cat_vars + cont_vars;\n",
    "    results = pd.DataFrame();\n",
    "    \n",
    "    for var_set in tqdm(itertools.combinations(cat_vars, 2)):\n",
    "        model_df = gm.prepare_df(df, cont_vars=['age'], cat_vars=list(var_set), print_dims=False)\n",
    "        \n",
    "        fscore, _, auc_score, feat_importance_df = gm.general_model(model_df, algorithm=algorithm, print_metrics=False, tqdm_on=False)\n",
    "        \n",
    "        feature_string = ', '.join(list(var_set))\n",
    "        \n",
    "        results = results.append(pd.DataFrame({'features': feature_string, 'fscore': fscore, 'auc': auc_score}, index=[0]))\n",
    "        print(results)\n",
    "    \n",
    "    if sort is not None : results.sort(sort, ascending=False)\n",
    "    \n",
    "    return results"
   ]
  },
  {
   "cell_type": "code",
   "execution_count": 47,
   "metadata": {},
   "outputs": [
    {
     "data": {
      "application/vnd.jupyter.widget-view+json": {
       "model_id": "b2b721ddd0894ef2a3bfdb039c8b28e9",
       "version_major": 2,
       "version_minor": 0
      },
      "text/html": [
       "<p>Failed to display Jupyter Widget of type <code>HBox</code>.</p>\n",
       "<p>\n",
       "  If you're reading this message in the Jupyter Notebook or JupyterLab Notebook, it may mean\n",
       "  that the widgets JavaScript is still loading. If this message persists, it\n",
       "  likely means that the widgets JavaScript library is either not installed or\n",
       "  not enabled. See the <a href=\"https://ipywidgets.readthedocs.io/en/stable/user_install.html\">Jupyter\n",
       "  Widgets Documentation</a> for setup instructions.\n",
       "</p>\n",
       "<p>\n",
       "  If you're reading this message in another frontend (for example, a static\n",
       "  rendering on GitHub or <a href=\"https://nbviewer.jupyter.org/\">NBViewer</a>),\n",
       "  it may mean that your frontend doesn't currently support widgets.\n",
       "</p>\n"
      ],
      "text/plain": [
       "HBox(children=(IntProgress(value=1, bar_style='info', max=1), HTML(value='')))"
      ]
     },
     "metadata": {},
     "output_type": "display_data"
    },
    {
     "name": "stdout",
     "output_type": "stream",
     "text": [
      "        auc               features   fscore\n",
      "0  0.722274  marry_binary, gleason  0.65751\n",
      "        auc                  features    fscore\n",
      "0  0.722274     marry_binary, gleason  0.657510\n",
      "0  0.561897  marry_binary, edu_binary  0.419785\n",
      "        auc                  features    fscore\n",
      "0  0.722274     marry_binary, gleason  0.657510\n",
      "0  0.561897  marry_binary, edu_binary  0.419785\n",
      "0  0.695579       gleason, edu_binary  0.621407\n",
      "\n"
     ]
    }
   ],
   "source": [
    "result = model_evaluation(merged, cat_vars=['marry_binary', 'gleason', 'edu_binary'])"
   ]
  },
  {
   "cell_type": "code",
   "execution_count": 41,
   "metadata": {},
   "outputs": [
    {
     "data": {
      "text/html": [
       "<div>\n",
       "<style scoped>\n",
       "    .dataframe tbody tr th:only-of-type {\n",
       "        vertical-align: middle;\n",
       "    }\n",
       "\n",
       "    .dataframe tbody tr th {\n",
       "        vertical-align: top;\n",
       "    }\n",
       "\n",
       "    .dataframe thead th {\n",
       "        text-align: right;\n",
       "    }\n",
       "</style>\n",
       "<table border=\"1\" class=\"dataframe\">\n",
       "  <thead>\n",
       "    <tr style=\"text-align: right;\">\n",
       "      <th></th>\n",
       "      <th>AUC</th>\n",
       "      <th>features</th>\n",
       "      <th>fscore</th>\n",
       "    </tr>\n",
       "  </thead>\n",
       "  <tbody>\n",
       "    <tr>\n",
       "      <th>0</th>\n",
       "      <td>0.730968</td>\n",
       "      <td>marry_binary, gleason</td>\n",
       "      <td>0.665025</td>\n",
       "    </tr>\n",
       "    <tr>\n",
       "      <th>0</th>\n",
       "      <td>0.544274</td>\n",
       "      <td>marry_binary, edu_binary</td>\n",
       "      <td>0.399158</td>\n",
       "    </tr>\n",
       "    <tr>\n",
       "      <th>0</th>\n",
       "      <td>0.692151</td>\n",
       "      <td>gleason, edu_binary</td>\n",
       "      <td>0.610539</td>\n",
       "    </tr>\n",
       "  </tbody>\n",
       "</table>\n",
       "</div>"
      ],
      "text/plain": [
       "        AUC                  features    fscore\n",
       "0  0.730968     marry_binary, gleason  0.665025\n",
       "0  0.544274  marry_binary, edu_binary  0.399158\n",
       "0  0.692151       gleason, edu_binary  0.610539"
      ]
     },
     "execution_count": 41,
     "metadata": {},
     "output_type": "execute_result"
    }
   ],
   "source": [
    "result.head()"
   ]
  },
  {
   "cell_type": "code",
   "execution_count": null,
   "metadata": {},
   "outputs": [],
   "source": []
  },
  {
   "cell_type": "code",
   "execution_count": null,
   "metadata": {},
   "outputs": [],
   "source": []
  }
 ],
 "metadata": {
  "kernelspec": {
   "display_name": "Python 3",
   "language": "python",
   "name": "python3"
  },
  "language_info": {
   "codemirror_mode": {
    "name": "ipython",
    "version": 3
   },
   "file_extension": ".py",
   "mimetype": "text/x-python",
   "name": "python",
   "nbconvert_exporter": "python",
   "pygments_lexer": "ipython3",
   "version": "3.6.4"
  }
 },
 "nbformat": 4,
 "nbformat_minor": 2
}
