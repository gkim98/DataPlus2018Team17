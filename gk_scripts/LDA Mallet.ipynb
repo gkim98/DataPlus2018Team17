{
 "cells": [
  {
   "cell_type": "code",
   "execution_count": 1,
   "metadata": {},
   "outputs": [],
   "source": [
    "import pandas as pd"
   ]
  },
  {
   "cell_type": "code",
   "execution_count": 2,
   "metadata": {},
   "outputs": [],
   "source": [
    "trans = pd.read_csv(\"../../DataPlus/all_transcripts.csv\")"
   ]
  },
  {
   "cell_type": "code",
   "execution_count": 3,
   "metadata": {},
   "outputs": [],
   "source": [
    "import CompilingCorpus as cc"
   ]
  },
  {
   "cell_type": "code",
   "execution_count": 94,
   "metadata": {},
   "outputs": [],
   "source": [
    "compile_corpus = cc.compile_convos(trans)"
   ]
  },
  {
   "cell_type": "code",
   "execution_count": 5,
   "metadata": {},
   "outputs": [
    {
     "name": "stdout",
     "output_type": "stream",
     "text": [
      "[nltk_data] Downloading package wordnet to\n",
      "[nltk_data]     C:\\Users\\grant\\AppData\\Roaming\\nltk_data...\n",
      "[nltk_data]   Package wordnet is already up-to-date!\n",
      "[nltk_data] Downloading package stopwords to\n",
      "[nltk_data]     C:\\Users\\grant\\AppData\\Roaming\\nltk_data...\n",
      "[nltk_data]   Package stopwords is already up-to-date!\n",
      "[nltk_data] Downloading package punkt to\n",
      "[nltk_data]     C:\\Users\\grant\\AppData\\Roaming\\nltk_data...\n",
      "[nltk_data]   Package punkt is already up-to-date!\n"
     ]
    }
   ],
   "source": [
    "import Preprocessing as pre"
   ]
  },
  {
   "cell_type": "code",
   "execution_count": 84,
   "metadata": {},
   "outputs": [],
   "source": [
    "CUSTOM_STOPWORDS = ['pt', 'md', 'ok', 'yeah', 'okay', 'um', 'uh', 'oth', 'inaudible', 'na', 'dr', 'unintelligible', 'laugh', 'ah', 'gon', 'mmhmm']"
   ]
  },
  {
   "cell_type": "code",
   "execution_count": 122,
   "metadata": {},
   "outputs": [],
   "source": [
    "# FREQUENT_WORDS = ['cancer', 'prostate']"
   ]
  },
  {
   "cell_type": "code",
   "execution_count": 123,
   "metadata": {},
   "outputs": [],
   "source": [
    "PROCESS_PIPELINE = [\n",
    "    pre.remove_non_alpha,\n",
    "    pre.remove_parentheses,\n",
    "    pre.make_lowercase,\n",
    "    pre.remove_stopwords,\n",
    "    lambda x: pre.remove_stopwords(x, CUSTOM_STOPWORDS),\n",
    "    pre.lemmatize\n",
    "]"
   ]
  },
  {
   "cell_type": "code",
   "execution_count": 124,
   "metadata": {},
   "outputs": [
    {
     "data": {
      "application/vnd.jupyter.widget-view+json": {
       "model_id": "f0554cd9e3164990bfec60b3540384cc",
       "version_major": 2,
       "version_minor": 0
      },
      "text/html": [
       "<p>Failed to display Jupyter Widget of type <code>HBox</code>.</p>\n",
       "<p>\n",
       "  If you're reading this message in the Jupyter Notebook or JupyterLab Notebook, it may mean\n",
       "  that the widgets JavaScript is still loading. If this message persists, it\n",
       "  likely means that the widgets JavaScript library is either not installed or\n",
       "  not enabled. See the <a href=\"https://ipywidgets.readthedocs.io/en/stable/user_install.html\">Jupyter\n",
       "  Widgets Documentation</a> for setup instructions.\n",
       "</p>\n",
       "<p>\n",
       "  If you're reading this message in another frontend (for example, a static\n",
       "  rendering on GitHub or <a href=\"https://nbviewer.jupyter.org/\">NBViewer</a>),\n",
       "  it may mean that your frontend doesn't currently support widgets.\n",
       "</p>\n"
      ],
      "text/plain": [
       "HBox(children=(IntProgress(value=0, max=526), HTML(value='')))"
      ]
     },
     "metadata": {},
     "output_type": "display_data"
    }
   ],
   "source": [
    "pre_corpus = pre.process_corpus(compile_corpus, PROCESS_PIPELINE)"
   ]
  },
  {
   "cell_type": "markdown",
   "metadata": {},
   "source": [
    "## Making Bigrams"
   ]
  },
  {
   "cell_type": "code",
   "execution_count": 101,
   "metadata": {},
   "outputs": [],
   "source": [
    "import gensim"
   ]
  },
  {
   "cell_type": "code",
   "execution_count": 125,
   "metadata": {},
   "outputs": [],
   "source": [
    "bigram = gensim.models.Phrases(clean_corpus, min_count=5, threshold=100)\n",
    "bigram_mod = gensim.models.phrases.Phraser(bigram)"
   ]
  },
  {
   "cell_type": "code",
   "execution_count": 126,
   "metadata": {},
   "outputs": [],
   "source": [
    "clean_corpus = [bigram_mod[text] for text in pre_corpus] "
   ]
  },
  {
   "cell_type": "markdown",
   "metadata": {},
   "source": [
    "## Creating Word Dictionary"
   ]
  },
  {
   "cell_type": "code",
   "execution_count": 93,
   "metadata": {},
   "outputs": [],
   "source": [
    "from pprint import pprint"
   ]
  },
  {
   "cell_type": "code",
   "execution_count": 56,
   "metadata": {},
   "outputs": [],
   "source": [
    "import logging\n",
    "logging.basicConfig(format='%(asctime)s : %(levelname)s : %(message)s', level=logging.ERROR)"
   ]
  },
  {
   "cell_type": "code",
   "execution_count": 57,
   "metadata": {},
   "outputs": [],
   "source": [
    "import gensim\n",
    "import gensim.corpora as corpora\n",
    "from gensim.models import CoherenceModel"
   ]
  },
  {
   "cell_type": "code",
   "execution_count": 113,
   "metadata": {},
   "outputs": [],
   "source": [
    "id2word = corpora.Dictionary(clean_corpus)\n",
    "corpus = [id2word.doc2bow(text) for text in clean_corpus]"
   ]
  },
  {
   "cell_type": "code",
   "execution_count": 121,
   "metadata": {},
   "outputs": [
    {
     "name": "stdout",
     "output_type": "stream",
     "text": [
      "Dictionary(12823 unique tokens: ['abnormal', 'active', 'active_surveillance', 'aggressive', 'ahead']...)\n"
     ]
    }
   ],
   "source": [
    "print(id2word)"
   ]
  },
  {
   "cell_type": "code",
   "execution_count": 112,
   "metadata": {},
   "outputs": [
    {
     "data": {
      "text/plain": [
       "[[('abnormal', 2),\n",
       "  ('active', 1),\n",
       "  ('active_surveillance', 4),\n",
       "  ('aggressive', 5),\n",
       "  ('ahead', 1),\n",
       "  ('ahh', 1),\n",
       "  ('almost', 1),\n",
       "  ('another', 1),\n",
       "  ('anymore', 1),\n",
       "  ('anyone', 1),\n",
       "  ('anything', 2),\n",
       "  ('appear', 2),\n",
       "  ('appearance', 3),\n",
       "  ('appointment', 1),\n",
       "  ('area', 1),\n",
       "  ('around', 2),\n",
       "  ('away', 1),\n",
       "  ('base', 2),\n",
       "  ('basically', 1),\n",
       "  ('best', 3),\n",
       "  ('biopsy', 5),\n",
       "  ('blood', 1),\n",
       "  ('bone', 2),\n",
       "  ('bring', 2),\n",
       "  ('call', 3),\n",
       "  ('cancer', 2),\n",
       "  ('category', 4),\n",
       "  ('cell', 2),\n",
       "  ('center', 1),\n",
       "  ('certainly', 1),\n",
       "  ('chance', 2),\n",
       "  ('change', 1),\n",
       "  ('check', 2),\n",
       "  ('clinic', 1),\n",
       "  ('come', 1),\n",
       "  ('coming', 1),\n",
       "  ('common', 4),\n",
       "  ('computer', 1),\n",
       "  ('consider', 1),\n",
       "  ('control', 1),\n",
       "  ('core', 5),\n",
       "  ('could', 4),\n",
       "  ('cure', 2),\n",
       "  ('cuz', 1),\n",
       "  ('delay', 1),\n",
       "  ('design', 1),\n",
       "  ('diabetes', 1),\n",
       "  ('disease', 1),\n",
       "  ('dying', 1),\n",
       "  ('educational', 1),\n",
       "  ('eight_nine', 1),\n",
       "  ('either', 1),\n",
       "  ('end', 1),\n",
       "  ('enough', 5),\n",
       "  ('er', 1),\n",
       "  ('erectile', 1),\n",
       "  ('even', 4),\n",
       "  ('exam', 1),\n",
       "  ('expect', 1),\n",
       "  ('external_beam', 1),\n",
       "  ('fact', 1),\n",
       "  ('feel', 1),\n",
       "  ('felt', 1),\n",
       "  ('first', 1),\n",
       "  ('five', 7),\n",
       "  ('fix', 1),\n",
       "  ('focus', 1),\n",
       "  ('follow', 1),\n",
       "  ('form', 1),\n",
       "  ('four', 7),\n",
       "  ('function', 1),\n",
       "  ('gambit', 1),\n",
       "  ('general', 1),\n",
       "  ('get', 3),\n",
       "  ('getting', 1),\n",
       "  ('give', 2),\n",
       "  ('given', 1),\n",
       "  ('gland', 3),\n",
       "  ('gleason', 3),\n",
       "  ('go', 3),\n",
       "  ('going', 1),\n",
       "  ('good', 1),\n",
       "  ('grade', 5),\n",
       "  ('grading', 1),\n",
       "  ('grant', 1),\n",
       "  ('grow', 1),\n",
       "  ('half', 1),\n",
       "  ('handout', 1),\n",
       "  ('happen', 1),\n",
       "  ('healthy', 1),\n",
       "  ('heart', 1),\n",
       "  ('high', 2),\n",
       "  ('higher', 1),\n",
       "  ('histology', 1),\n",
       "  ('imrt', 1),\n",
       "  ('instruction', 1),\n",
       "  ('intermediate', 4),\n",
       "  ('internet', 1),\n",
       "  ('issue', 1),\n",
       "  ('kind', 5),\n",
       "  ('kinda', 3),\n",
       "  ('know', 11),\n",
       "  ('least', 2),\n",
       "  ('left', 1),\n",
       "  ('legend', 1),\n",
       "  ('letting', 1),\n",
       "  ('level', 2),\n",
       "  ('like', 6),\n",
       "  ('little', 3),\n",
       "  ('live', 2),\n",
       "  ('long', 1),\n",
       "  ('look', 6),\n",
       "  ('looking', 1),\n",
       "  ('low', 5),\n",
       "  ('lump', 1),\n",
       "  ('lymph_node', 2),\n",
       "  ('make', 1),\n",
       "  ('may', 1),\n",
       "  ('means', 2),\n",
       "  ('microscope', 5),\n",
       "  ('mmhm', 2),\n",
       "  ('month', 1),\n",
       "  ('move', 2),\n",
       "  ('nd', 1),\n",
       "  ('need', 2),\n",
       "  ('next', 1),\n",
       "  ('normal', 4),\n",
       "  ('normally', 1),\n",
       "  ('number', 2),\n",
       "  ('offend', 1),\n",
       "  ('offer', 1),\n",
       "  ('often', 1),\n",
       "  ('oh', 1),\n",
       "  ('old', 1),\n",
       "  ('older', 3),\n",
       "  ('one', 3),\n",
       "  ('option', 5),\n",
       "  ('outcome', 1),\n",
       "  ('outside', 1),\n",
       "  ('overall', 2),\n",
       "  ('overbooked', 1),\n",
       "  ('particularly', 1),\n",
       "  ('patient', 1),\n",
       "  ('people', 4),\n",
       "  ('place', 1),\n",
       "  ('plus', 5),\n",
       "  ('point', 4),\n",
       "  ('positive', 1),\n",
       "  ('present', 1),\n",
       "  ('probably', 2),\n",
       "  ('problem', 1),\n",
       "  ('proton', 4),\n",
       "  ('provide', 1),\n",
       "  ('psa', 9),\n",
       "  ('put', 2),\n",
       "  ('qualify', 1),\n",
       "  ('radiation', 6),\n",
       "  ('rare', 1),\n",
       "  ('rate', 2),\n",
       "  ('ready', 1),\n",
       "  ('reality', 1),\n",
       "  ('really', 5),\n",
       "  ('recommend', 2),\n",
       "  ('recording', 1),\n",
       "  ('remove', 1),\n",
       "  ('repeat', 1),\n",
       "  ('result', 2),\n",
       "  ('right', 2),\n",
       "  ('risk', 12),\n",
       "  ('road', 1),\n",
       "  ('rule', 1),\n",
       "  ('run', 1),\n",
       "  ('sample', 2),\n",
       "  ('say', 1),\n",
       "  ('saying', 1),\n",
       "  ('scale', 1),\n",
       "  ('score', 2),\n",
       "  ('second', 2),\n",
       "  ('see', 3),\n",
       "  ('seek', 1),\n",
       "  ('set', 1),\n",
       "  ('seven', 1),\n",
       "  ('sexual_function', 1),\n",
       "  ('side', 1),\n",
       "  ('similar', 1),\n",
       "  ('situation', 1),\n",
       "  ('six', 3),\n",
       "  ('slowly', 1),\n",
       "  ('someone', 2),\n",
       "  ('something', 2),\n",
       "  ('span', 1),\n",
       "  ('split', 2),\n",
       "  ('spread', 7),\n",
       "  ('ss', 1),\n",
       "  ('staff', 1),\n",
       "  ('start', 4),\n",
       "  ('starting', 1),\n",
       "  ('still', 2),\n",
       "  ('sure', 1),\n",
       "  ('surgery', 1),\n",
       "  ('survival', 1),\n",
       "  ('system', 1),\n",
       "  ('take', 1),\n",
       "  ('talk', 4),\n",
       "  ('talking', 1),\n",
       "  ('ten', 5),\n",
       "  ('ten_fifteen', 1),\n",
       "  ('terms', 3),\n",
       "  ('thank', 1),\n",
       "  ('therapy', 3),\n",
       "  ('thing', 1),\n",
       "  ('things', 7),\n",
       "  ('think', 3),\n",
       "  ('three', 3),\n",
       "  ('today', 1),\n",
       "  ('towards', 1),\n",
       "  ('travelling', 1),\n",
       "  ('treat', 3),\n",
       "  ('treatment', 6),\n",
       "  ('try', 1),\n",
       "  ('twelve', 1),\n",
       "  ('two', 1),\n",
       "  ('typical', 1),\n",
       "  ('typically', 2),\n",
       "  ('u', 1),\n",
       "  ('uhh', 1),\n",
       "  ('uhm', 6),\n",
       "  ('upbut', 1),\n",
       "  ('urinary', 1),\n",
       "  ('use', 1),\n",
       "  ('va', 3),\n",
       "  ('waiting', 1),\n",
       "  ('wan', 2),\n",
       "  ('want', 2),\n",
       "  ('watchful_waiting', 1),\n",
       "  ('watching', 1),\n",
       "  ('way', 1),\n",
       "  ('week', 1),\n",
       "  ('well', 2),\n",
       "  ('whole', 1),\n",
       "  ('worry', 1),\n",
       "  ('worse', 3),\n",
       "  ('would', 9),\n",
       "  ('ya', 1),\n",
       "  ('year', 2),\n",
       "  ('years', 2),\n",
       "  ('young', 1)]]"
      ]
     },
     "execution_count": 112,
     "metadata": {},
     "output_type": "execute_result"
    }
   ],
   "source": [
    "[[(id2word[id], freq) for id, freq in cp] for cp in corpus[:1]]"
   ]
  },
  {
   "cell_type": "markdown",
   "metadata": {},
   "source": [
    "## Gensim LDA Model"
   ]
  },
  {
   "cell_type": "code",
   "execution_count": 21,
   "metadata": {},
   "outputs": [],
   "source": [
    "lda_model = gensim.models.ldamodel.LdaModel(corpus=corpus,\n",
    "                                           id2word=id2word,\n",
    "                                           num_topics=5,)"
   ]
  },
  {
   "cell_type": "code",
   "execution_count": 22,
   "metadata": {},
   "outputs": [
    {
     "name": "stdout",
     "output_type": "stream",
     "text": [
      "[(0,\n",
      "  '0.024*\"know\" + 0.018*\"get\" + 0.017*\"radiation\" + 0.016*\"prostate\" + '\n",
      "  '0.016*\"cancer\" + 0.014*\"surgery\" + 0.013*\"right\" + 0.012*\"go\" + '\n",
      "  '0.010*\"would\" + 0.010*\"like\"'),\n",
      " (1,\n",
      "  '0.027*\"know\" + 0.018*\"prostate\" + 0.016*\"right\" + 0.015*\"get\" + '\n",
      "  '0.014*\"surgery\" + 0.012*\"like\" + 0.011*\"cancer\" + 0.011*\"radiation\" + '\n",
      "  '0.010*\"think\" + 0.010*\"one\"'),\n",
      " (2,\n",
      "  '0.022*\"know\" + 0.017*\"right\" + 0.016*\"cancer\" + 0.016*\"prostate\" + '\n",
      "  '0.014*\"like\" + 0.012*\"radiation\" + 0.012*\"get\" + 0.012*\"would\" + '\n",
      "  '0.010*\"think\" + 0.010*\"surgery\"'),\n",
      " (3,\n",
      "  '0.029*\"know\" + 0.017*\"cancer\" + 0.016*\"prostate\" + 0.016*\"right\" + '\n",
      "  '0.014*\"would\" + 0.012*\"like\" + 0.012*\"get\" + 0.011*\"think\" + '\n",
      "  '0.011*\"radiation\" + 0.010*\"surgery\"'),\n",
      " (4,\n",
      "  '0.026*\"know\" + 0.016*\"prostate\" + 0.015*\"right\" + 0.014*\"radiation\" + '\n",
      "  '0.014*\"cancer\" + 0.012*\"would\" + 0.012*\"get\" + 0.012*\"like\" + '\n",
      "  '0.010*\"surgery\" + 0.009*\"think\"')]\n"
     ]
    }
   ],
   "source": [
    "pprint(lda_model.print_topics())"
   ]
  },
  {
   "cell_type": "code",
   "execution_count": 24,
   "metadata": {},
   "outputs": [
    {
     "name": "stdout",
     "output_type": "stream",
     "text": [
      "\n",
      "Perplexity:  -6.736798278134765\n",
      "\n",
      "Coherence Score:  0.24745098430281093\n"
     ]
    }
   ],
   "source": [
    "# Compute Perplexity\n",
    "print('\\nPerplexity: ', lda_model.log_perplexity(corpus))  # a measure of how good the model is. lower the better.\n",
    "\n",
    "# Compute Coherence Score\n",
    "coherence_model_lda = CoherenceModel(model=lda_model, texts=clean_corpus, dictionary=id2word, coherence='c_v')\n",
    "coherence_lda = coherence_model_lda.get_coherence()\n",
    "print('\\nCoherence Score: ', coherence_lda)"
   ]
  },
  {
   "cell_type": "markdown",
   "metadata": {},
   "source": [
    "## LDA Mallet"
   ]
  },
  {
   "cell_type": "code",
   "execution_count": 59,
   "metadata": {},
   "outputs": [],
   "source": [
    "mallet_path = 'C:/mallet-2.0.8/bin/mallet'"
   ]
  },
  {
   "cell_type": "code",
   "execution_count": 60,
   "metadata": {},
   "outputs": [],
   "source": [
    "import os"
   ]
  },
  {
   "cell_type": "code",
   "execution_count": 61,
   "metadata": {},
   "outputs": [],
   "source": [
    "os.environ.update({'MALLET_HOME': r'c:/mallet-2.0.8'})"
   ]
  },
  {
   "cell_type": "code",
   "execution_count": 127,
   "metadata": {},
   "outputs": [],
   "source": [
    "ldamallet = gensim.models.wrappers.LdaMallet(mallet_path, corpus=corpus, num_topics=5, id2word=id2word)"
   ]
  },
  {
   "cell_type": "code",
   "execution_count": 128,
   "metadata": {},
   "outputs": [
    {
     "name": "stdout",
     "output_type": "stream",
     "text": [
      "[(0,\n",
      "  [('surgery', 0.03939684610367187),\n",
      "   ('kind', 0.018179027740475005),\n",
      "   ('people', 0.012492805893412116),\n",
      "   ('time', 0.012124467636112496),\n",
      "   ('treatment', 0.00963818439934006),\n",
      "   ('radiation', 0.008794075893028431),\n",
      "   ('control', 0.008725012469784752),\n",
      "   ('bit', 0.008256915934466485),\n",
      "   ('function', 0.00812646280167287),\n",
      "   ('urinary', 0.00768906112112957)]),\n",
      " (1,\n",
      "  [('biopsy', 0.039776460530870916),\n",
      "   ('psa', 0.026656587137295906),\n",
      "   ('risk', 0.02612670533626299),\n",
      "   ('years', 0.019640952091620097),\n",
      "   ('low', 0.017938265237634324),\n",
      "   ('month', 0.01524646568838711),\n",
      "   ('treatment', 0.0150627733306957),\n",
      "   ('make', 0.012872595219759645),\n",
      "   ('option', 0.01278074904091394),\n",
      "   ('year', 0.012307387965324535)]),\n",
      " (2,\n",
      "  [('radiation', 0.05500908566640915),\n",
      "   ('treatment', 0.02568468929197088),\n",
      "   ('phi', 0.01447178002894356),\n",
      "   ('remove', 0.014259599795436492),\n",
      "   ('men', 0.013427200417831844),\n",
      "   ('side', 0.013231341740748397),\n",
      "   ('surgery', 0.011571983504346975),\n",
      "   ('effects', 0.011463173128189504),\n",
      "   ('week', 0.011185706668987955),\n",
      "   ('seed', 0.010532844412043132)]),\n",
      " (3,\n",
      "  [('remove', 0.04622618600852116),\n",
      "   ('phi', 0.03964031582742813),\n",
      "   ('good', 0.02941198113276967),\n",
      "   ('laugh', 0.02089082172527723),\n",
      "   ('back', 0.016063636430531946),\n",
      "   ('alright', 0.012965701965459134),\n",
      "   ('problem', 0.010014937783762702),\n",
      "   ('check', 0.00844757426580425),\n",
      "   ('thing', 0.008101724099869754),\n",
      "   ('surgery', 0.008101724099869754)]),\n",
      " (4,\n",
      "  [('surgery', 0.04760489578852696),\n",
      "   ('radiation', 0.03416102921049544),\n",
      "   ('kind', 0.01860556055214484),\n",
      "   ('back', 0.013905290736323466),\n",
      "   ('risk', 0.013694130528291557),\n",
      "   ('blank_spot', 0.01333437609979275),\n",
      "   ('things', 0.012685253978805771),\n",
      "   ('percent', 0.011676377429319986),\n",
      "   ('alright', 0.011300981503929925),\n",
      "   ('people', 0.010839557345637978)])]\n"
     ]
    }
   ],
   "source": [
    "pprint(ldamallet.show_topics(formatted=False))"
   ]
  },
  {
   "cell_type": "code",
   "execution_count": 74,
   "metadata": {},
   "outputs": [
    {
     "name": "stdout",
     "output_type": "stream",
     "text": [
      "\n",
      "Coherence Score:  0.3319925424754582\n"
     ]
    }
   ],
   "source": [
    "coherence_model_ldamallet = CoherenceModel(model=ldamallet, texts=clean_corpus, dictionary=id2word, coherence='c_v')\n",
    "coherence_ldamallet = coherence_model_ldamallet.get_coherence()\n",
    "print('\\nCoherence Score: ', coherence_ldamallet)"
   ]
  },
  {
   "cell_type": "code",
   "execution_count": 31,
   "metadata": {},
   "outputs": [],
   "source": [
    "def compute_coherence_values(dictionary, corpus, texts, limit, start=2, step=3):\n",
    "    \"\"\"\n",
    "    Compute c_v coherence for various number of topics\n",
    "\n",
    "    Parameters:\n",
    "    ----------\n",
    "    dictionary : Gensim dictionary\n",
    "    corpus : Gensim corpus\n",
    "    texts : List of input texts\n",
    "    limit : Max num of topics\n",
    "\n",
    "    Returns:\n",
    "    -------\n",
    "    model_list : List of LDA topic models\n",
    "    coherence_values : Coherence values corresponding to the LDA model with respective number of topics\n",
    "    \"\"\"\n",
    "    coherence_values = []\n",
    "    model_list = []\n",
    "    for num_topics in range(start, limit, step):\n",
    "        model = gensim.models.wrappers.LdaMallet(mallet_path, corpus=corpus, num_topics=num_topics, id2word=id2word)\n",
    "        model_list.append(model)\n",
    "        coherencemodel = CoherenceModel(model=model, texts=texts, dictionary=dictionary, coherence='c_v')\n",
    "        coherence_values.append(coherencemodel.get_coherence())\n",
    "\n",
    "    return model_list, coherence_values"
   ]
  },
  {
   "cell_type": "code",
   "execution_count": 129,
   "metadata": {},
   "outputs": [],
   "source": [
    "model_list, coherence_values = compute_coherence_values(dictionary=id2word, corpus=corpus, texts=clean_corpus, start=5, limit=10, step=1)"
   ]
  },
  {
   "cell_type": "code",
   "execution_count": 37,
   "metadata": {},
   "outputs": [],
   "source": [
    "import matplotlib.pyplot as plt\n",
    "%matplotlib inline"
   ]
  },
  {
   "cell_type": "code",
   "execution_count": 130,
   "metadata": {},
   "outputs": [
    {
     "data": {
      "image/png": "[encoded data removed]",
      "text/plain": [
       "<matplotlib.figure.Figure at 0x1f5b6c29940>"
      ]
     },
     "metadata": {},
     "output_type": "display_data"
    }
   ],
   "source": [
    "limit=10; start=5; step=1;\n",
    "x = range(start, limit, step)\n",
    "plt.plot(x, coherence_values)\n",
    "plt.xlabel(\"Num Topics\")\n",
    "plt.ylabel(\"Coherence score\")\n",
    "plt.legend((\"coherence_values\"), loc='best')\n",
    "plt.show()"
   ]
  },
  {
   "cell_type": "code",
   "execution_count": 77,
   "metadata": {},
   "outputs": [
    {
     "name": "stdout",
     "output_type": "stream",
     "text": [
      "Num Topics = 5  has Coherence Value of 0.3149\n",
      "Num Topics = 6  has Coherence Value of 0.3558\n",
      "Num Topics = 7  has Coherence Value of 0.3454\n",
      "Num Topics = 8  has Coherence Value of 0.3458\n",
      "Num Topics = 9  has Coherence Value of 0.3631\n"
     ]
    }
   ],
   "source": [
    "for m, cv in zip(x, coherence_values):\n",
    "    print(\"Num Topics =\", m, \" has Coherence Value of\", round(cv, 4))"
   ]
  },
  {
   "cell_type": "code",
   "execution_count": 81,
   "metadata": {},
   "outputs": [],
   "source": [
    "optimal_model = model_list[1]"
   ]
  },
  {
   "cell_type": "code",
   "execution_count": 83,
   "metadata": {},
   "outputs": [
    {
     "name": "stdout",
     "output_type": "stream",
     "text": [
      "[(0,\n",
      "  '0.054*\"radiation\" + 0.033*\"prostate\" + 0.022*\"treatment\" + 0.016*\"cancer\" + '\n",
      "  '0.013*\"side\" + 0.013*\"surgery\" + 0.012*\"men\" + 0.012*\"phi\" + '\n",
      "  '0.011*\"effects\" + 0.011*\"remove\"'),\n",
      " (1,\n",
      "  '0.062*\"surgery\" + 0.027*\"kind\" + 0.024*\"radiation\" + 0.019*\"people\" + '\n",
      "  '0.018*\"week\" + 0.014*\"back\" + 0.014*\"time\" + 0.014*\"prostate\" + '\n",
      "  '0.011*\"things\" + 0.010*\"bladder\"'),\n",
      " (2,\n",
      "  '0.045*\"prostate\" + 0.042*\"biopsy\" + 0.036*\"cancer\" + 0.025*\"psa\" + '\n",
      "  '0.018*\"surveillance\" + 0.017*\"time\" + 0.017*\"active\" + 0.015*\"low\" + '\n",
      "  '0.014*\"kind\" + 0.014*\"month\"'),\n",
      " (3,\n",
      "  '0.054*\"cancer\" + 0.023*\"prostate\" + 0.023*\"treatment\" + 0.015*\"risk\" + '\n",
      "  '0.015*\"men\" + 0.015*\"years\" + 0.013*\"urinary\" + 0.012*\"gleason\" + '\n",
      "  '0.011*\"option\" + 0.011*\"patient\"'),\n",
      " (4,\n",
      "  '0.053*\"remove\" + 0.048*\"phi\" + 0.029*\"good\" + 0.023*\"laugh\" + '\n",
      "  '0.015*\"alright\" + 0.013*\"back\" + 0.010*\"problem\" + 0.008*\"ya\" + '\n",
      "  '0.008*\"feel\" + 0.008*\"check\"'),\n",
      " (5,\n",
      "  '0.039*\"cancer\" + 0.038*\"surgery\" + 0.032*\"prostate\" + 0.031*\"radiation\" + '\n",
      "  '0.021*\"risk\" + 0.020*\"blank\" + 0.017*\"spot\" + 0.014*\"percent\" + '\n",
      "  '0.013*\"alright\" + 0.012*\"back\"')]\n"
     ]
    }
   ],
   "source": [
    "pprint(optimal_model.print_topics(num_words=10))"
   ]
  },
  {
   "cell_type": "code",
   "execution_count": null,
   "metadata": {},
   "outputs": [],
   "source": []
  }
 ],
 "metadata": {
  "kernelspec": {
   "display_name": "Python 3",
   "language": "python",
   "name": "python3"
  },
  "language_info": {
   "codemirror_mode": {
    "name": "ipython",
    "version": 3
   },
   "file_extension": ".py",
   "mimetype": "text/x-python",
   "name": "python",
   "nbconvert_exporter": "python",
   "pygments_lexer": "ipython3",
   "version": "3.6.4"
  }
 },
 "nbformat": 4,
 "nbformat_minor": 2
}
