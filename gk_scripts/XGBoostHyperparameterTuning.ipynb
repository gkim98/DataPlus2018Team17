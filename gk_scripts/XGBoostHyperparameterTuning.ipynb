{
 "cells": [
  {
   "cell_type": "code",
   "execution_count": 3,
   "metadata": {},
   "outputs": [],
   "source": [
    "import numpy as np\n",
    "import pandas as pd\n",
    "import xgboost as xgb\n",
    "from xgboost import XGBClassifier\n",
    "from sklearn.metrics import confusion_matrix, classification_report\n",
    "from sklearn.model_selection import RepeatedStratifiedKFold\n",
    "from sklearn.model_selection import StratifiedKFold\n",
    "from sklearn.model_selection import RandomizedSearchCV, GridSearchCV\n",
    "from sklearn import preprocessing\n",
    "from sklearn.metrics import roc_curve, auc\n",
    "from ipywidgets import IntProgress\n",
    "from tqdm import tqdm_notebook as tqdm\n",
    "\n",
    "# silences package warnings\n",
    "import warnings\n",
    "warnings.filterwarnings('ignore')"
   ]
  },
  {
   "cell_type": "code",
   "execution_count": 4,
   "metadata": {},
   "outputs": [],
   "source": [
    "def prepare_df(df, target_var, cont_vars=[], cat_vars=[]):\n",
    "    total_vars = cont_vars + cat_vars + [target_var]\n",
    "    model_df = df[total_vars]\n",
    "    cleaned_df = model_df.dropna(subset=total_vars)\n",
    "\n",
    "    # turns categorical variables into dummy variables\n",
    "    for var in cat_vars:\n",
    "        temp_dummy = pd.get_dummies(cleaned_df[var], drop_first=True)\n",
    "        cleaned_df = pd.concat([cleaned_df.drop([var], axis=1), temp_dummy], axis=1)\n",
    "\n",
    "    # normalize the data\n",
    "    for var in cont_vars:\n",
    "        cleaned_df[var] = preprocessing.scale(cleaned_df[var])\n",
    "\n",
    "    return cleaned_df"
   ]
  },
  {
   "cell_type": "code",
   "execution_count": 5,
   "metadata": {},
   "outputs": [],
   "source": [
    "def xgbclassify(df, model, params=None, trainCV='none', target='txgot_binary', folds=5, iterations=100, print_id=1):\n",
    "    \n",
    "    feat_vars = [var for var in list(df.columns) if var != target]\n",
    "    X = df[feat_vars].values\n",
    "    y = df[target].values\n",
    "    \n",
    "    if trainCV=='grid':\n",
    "        param_bins = {key: {i:0 for i in params[key]} for key in params.keys()}\n",
    "    \n",
    "    avg_train_auc = 0\n",
    "    avg_test_auc = 0\n",
    "    avg_train_acc = 0\n",
    "    avg_test_acc = 0\n",
    "    \n",
    "    rskf = RepeatedStratifiedKFold(n_splits=folds, n_repeats=iterations)\n",
    "    for train_index, test_index in tqdm(rskf.split(X, y)):\n",
    "        X_train, X_test = X[train_index], X[test_index]\n",
    "        y_train, y_test = y[train_index], y[test_index]\n",
    "        \n",
    "        train_auc, test_auc, train_acc, test_acc, best_params = xgbmodel(model, params, \n",
    "                                                                         X_train, X_test, \n",
    "                                                                         y_train, y_test, \n",
    "                                                                         trainCV, print_id)\n",
    "        \n",
    "        if trainCV=='grid':\n",
    "            for key, value in best_params.items():\n",
    "                param_bins[key][value] += 1\n",
    "        \n",
    "        avg_train_auc += train_auc\n",
    "        avg_test_auc += test_auc\n",
    "        avg_train_acc += train_acc\n",
    "        avg_test_acc += test_acc\n",
    "        \n",
    "    avg_train_auc /= (folds * iterations)\n",
    "    avg_test_auc /= (folds * iterations)\n",
    "    avg_train_acc /= (folds * iterations)\n",
    "    avg_test_acc /= (folds * iterations)\n",
    "    \n",
    "    print('Train vs. Test')\n",
    "    print('Training AUC: {}'.format(round(avg_train_auc, 3)))\n",
    "    print('Testing AUC: {}'.format(round(avg_test_auc, 3)))\n",
    "    print()\n",
    "    print('Training Accuracy: {}'.format(round(avg_train_acc, 3)))\n",
    "    print('Testing Accuracy: {}'.format(round(avg_test_acc, 3)))\n",
    "    \n",
    "    if trainCV=='grid':\n",
    "        print()\n",
    "        for key, value in param_bins.items():\n",
    "            print('{}: {}'.format(key, value))\n",
    "    \n",
    "    print()\n",
    "    print('Feature Importance:')\n",
    "    if not (trainCV is 'random' or trainCV is 'grid'):\n",
    "        sorted_idx = np.argsort(model.feature_importances_)[::-1]\n",
    "        for index in sorted_idx:\n",
    "            print([feat_vars[index], model.feature_importances_[index]])\n",
    "        \n",
    "    return avg_train_auc, avg_test_auc    "
   ]
  },
  {
   "cell_type": "code",
   "execution_count": 6,
   "metadata": {},
   "outputs": [],
   "source": [
    "def xgbmodel(model, params, X_train, X_test, y_train, y_test, trainCV, print_id):\n",
    "    if trainCV is 'random':\n",
    "        skf = StratifiedKFold(n_splits=5, shuffle = True, random_state=print_id)\n",
    "        \n",
    "        X = np.concatenate((X_train, X_test), axis=0)\n",
    "        Y = np.concatenate((y_train, y_test), axis=0)\n",
    "        \n",
    "        my_model = RandomizedSearchCV(model, param_distributions=params, n_iter=5, \n",
    "                           scoring='roc_auc', n_jobs=4, \n",
    "                           cv=skf.split(X, Y), verbose=3)\n",
    "        \n",
    "        my_model.fit(X, Y)\n",
    "        best_params = my_model.best_params_\n",
    "        # print(best_params)\n",
    "        \n",
    "    elif trainCV is 'grid':\n",
    "        X = np.concatenate((X_train, X_test), axis=0)\n",
    "        Y = np.concatenate((y_train, y_test), axis=0)\n",
    "\n",
    "        skf = StratifiedKFold(n_splits=5, shuffle = True)\n",
    "        \n",
    "        my_model = GridSearchCV(model, params, scoring='roc_auc', cv=skf.split(X,Y))\n",
    "                \n",
    "        my_model.fit(X, Y)\n",
    "        best_params = my_model.best_params_\n",
    "        # print(best_params)\n",
    "        \n",
    "    else:\n",
    "        my_model = model\n",
    "        \n",
    "        my_model.fit(X_train, y_train)\n",
    "\n",
    "#         eval_set=[(X_train, y_train), (X_test, y_test)]\n",
    "#         my_model.fit(X_train, y_train, eval_set=eval_set, \n",
    "#                      eval_metric=\"auc\", early_stopping_rounds=15, verbose=False)\n",
    "        \n",
    "        best_params = params\n",
    "    \n",
    "    train_pred = my_model.predict(X_train)\n",
    "    test_pred = my_model.predict(X_test)\n",
    "    \n",
    "    fpr, tpr, _ = roc_curve(y_train, train_pred, pos_label=1)\n",
    "    train_auc_score = auc(fpr, tpr)\n",
    "    \n",
    "    fpr, tpr, _ = roc_curve(y_test, test_pred, pos_label=1)\n",
    "    test_auc_score = auc(fpr, tpr)\n",
    "    \n",
    "    train_auc = train_auc_score\n",
    "    test_auc = test_auc_score\n",
    "    \n",
    "    train_acc = my_model.score(X_train, y_train)\n",
    "    test_acc = my_model.score(X_test, y_test)\n",
    "    \n",
    "    test_metrics = confusion_matrix(y_test, test_pred).ravel()\n",
    "    train_metrics = confusion_matrix(y_train, train_pred).ravel()\n",
    "\n",
    "    return train_auc, test_auc, train_acc, test_acc, best_params"
   ]
  },
  {
   "cell_type": "markdown",
   "metadata": {},
   "source": [
    "## Original Features"
   ]
  },
  {
   "cell_type": "code",
   "execution_count": 55,
   "metadata": {},
   "outputs": [],
   "source": [
    "cat1 = ['gleason', 'UroRec_AS', 'UroRec_AS', 'UroRec_AS']\n",
    "cat2 = ['white_binary', 'edu_binary', 'marry_binary']\n",
    "cont1 = ['age', 'DVD_UroTalk_AS', 'DVD_UroTalk_surgery', 'DVD_UroTalk_rad']\n",
    "topics = ['appt_topic', 'surgery_topic', 'radiation_topic', 'active_surveillance_topic']"
   ]
  },
  {
   "cell_type": "code",
   "execution_count": 58,
   "metadata": {},
   "outputs": [],
   "source": [
    "topics_df = pd.read_csv('../../DataPlus/topics_dataframe.csv')"
   ]
  },
  {
   "cell_type": "code",
   "execution_count": 59,
   "metadata": {},
   "outputs": [
    {
     "data": {
      "text/html": [
       "<div>\n",
       "<style scoped>\n",
       "    .dataframe tbody tr th:only-of-type {\n",
       "        vertical-align: middle;\n",
       "    }\n",
       "\n",
       "    .dataframe tbody tr th {\n",
       "        vertical-align: top;\n",
       "    }\n",
       "\n",
       "    .dataframe thead th {\n",
       "        text-align: right;\n",
       "    }\n",
       "</style>\n",
       "<table border=\"1\" class=\"dataframe\">\n",
       "  <thead>\n",
       "    <tr style=\"text-align: right;\">\n",
       "      <th></th>\n",
       "      <th>Unnamed: 0</th>\n",
       "      <th>Unnamed: 0.1</th>\n",
       "      <th>Unnamed: 0.1.1</th>\n",
       "      <th>Tx3</th>\n",
       "      <th>Advice1</th>\n",
       "      <th>Anx11</th>\n",
       "      <th>Anx111</th>\n",
       "      <th>Anx112</th>\n",
       "      <th>Anx113</th>\n",
       "      <th>Anx12</th>\n",
       "      <th>...</th>\n",
       "      <th>Convo_1_lemmatized</th>\n",
       "      <th>Convo_1_corp</th>\n",
       "      <th>radiation_topic</th>\n",
       "      <th>active_surveillance_topic</th>\n",
       "      <th>appt_topic</th>\n",
       "      <th>surgery_topic</th>\n",
       "      <th>edu_binary</th>\n",
       "      <th>combined_race</th>\n",
       "      <th>white_binary</th>\n",
       "      <th>marry_binary</th>\n",
       "    </tr>\n",
       "  </thead>\n",
       "  <tbody>\n",
       "    <tr>\n",
       "      <th>0</th>\n",
       "      <td>0</td>\n",
       "      <td>263</td>\n",
       "      <td>263</td>\n",
       "      <td>1.0</td>\n",
       "      <td>SR</td>\n",
       "      <td>NaN</td>\n",
       "      <td>NaN</td>\n",
       "      <td>0.0</td>\n",
       "      <td>0.0</td>\n",
       "      <td>0.0</td>\n",
       "      <td>...</td>\n",
       "      <td>['interview_length', 'significant', 'saw', 'su...</td>\n",
       "      <td>[(0, 1), (1, 2), (2, 1), (3, 4), (4, 31), (5, ...</td>\n",
       "      <td>0.380425</td>\n",
       "      <td>0.013018</td>\n",
       "      <td>0.000000</td>\n",
       "      <td>0.500840</td>\n",
       "      <td>No College Degree</td>\n",
       "      <td>white</td>\n",
       "      <td>White</td>\n",
       "      <td>Married</td>\n",
       "    </tr>\n",
       "    <tr>\n",
       "      <th>1</th>\n",
       "      <td>1</td>\n",
       "      <td>264</td>\n",
       "      <td>264</td>\n",
       "      <td>2.0</td>\n",
       "      <td>A</td>\n",
       "      <td>0.0</td>\n",
       "      <td>1.0</td>\n",
       "      <td>NaN</td>\n",
       "      <td>0.0</td>\n",
       "      <td>NaN</td>\n",
       "      <td>...</td>\n",
       "      <td>['interview_length', 'significant', 'person', ...</td>\n",
       "      <td>[(2, 1), (4, 2), (7, 1), (8, 3), (12, 2), (16,...</td>\n",
       "      <td>0.107739</td>\n",
       "      <td>0.000000</td>\n",
       "      <td>0.172553</td>\n",
       "      <td>0.718799</td>\n",
       "      <td>College Degree</td>\n",
       "      <td>black</td>\n",
       "      <td>Not White</td>\n",
       "      <td>Married</td>\n",
       "    </tr>\n",
       "    <tr>\n",
       "      <th>2</th>\n",
       "      <td>2</td>\n",
       "      <td>265</td>\n",
       "      <td>265</td>\n",
       "      <td>2.0</td>\n",
       "      <td>A</td>\n",
       "      <td>2.0</td>\n",
       "      <td>3.0</td>\n",
       "      <td>2.0</td>\n",
       "      <td>2.0</td>\n",
       "      <td>3.0</td>\n",
       "      <td>...</td>\n",
       "      <td>['interview_length', 'significant', 'significa...</td>\n",
       "      <td>[(4, 1), (9, 1), (12, 1), (17, 1), (19, 2), (2...</td>\n",
       "      <td>0.173313</td>\n",
       "      <td>0.119528</td>\n",
       "      <td>0.189936</td>\n",
       "      <td>0.390042</td>\n",
       "      <td>No College Degree</td>\n",
       "      <td>white</td>\n",
       "      <td>White</td>\n",
       "      <td>Married</td>\n",
       "    </tr>\n",
       "  </tbody>\n",
       "</table>\n",
       "<p>3 rows × 87 columns</p>\n",
       "</div>"
      ],
      "text/plain": [
       "   Unnamed: 0  Unnamed: 0.1  Unnamed: 0.1.1  Tx3 Advice1  Anx11  Anx111  \\\n",
       "0           0           263             263  1.0      SR    NaN     NaN   \n",
       "1           1           264             264  2.0       A    0.0     1.0   \n",
       "2           2           265             265  2.0       A    2.0     3.0   \n",
       "\n",
       "   Anx112  Anx113  Anx12      ...       \\\n",
       "0     0.0     0.0    0.0      ...        \n",
       "1     NaN     0.0    NaN      ...        \n",
       "2     2.0     2.0    3.0      ...        \n",
       "\n",
       "                                  Convo_1_lemmatized  \\\n",
       "0  ['interview_length', 'significant', 'saw', 'su...   \n",
       "1  ['interview_length', 'significant', 'person', ...   \n",
       "2  ['interview_length', 'significant', 'significa...   \n",
       "\n",
       "                                        Convo_1_corp  radiation_topic  \\\n",
       "0  [(0, 1), (1, 2), (2, 1), (3, 4), (4, 31), (5, ...         0.380425   \n",
       "1  [(2, 1), (4, 2), (7, 1), (8, 3), (12, 2), (16,...         0.107739   \n",
       "2  [(4, 1), (9, 1), (12, 1), (17, 1), (19, 2), (2...         0.173313   \n",
       "\n",
       "   active_surveillance_topic  appt_topic  surgery_topic         edu_binary  \\\n",
       "0                   0.013018    0.000000       0.500840  No College Degree   \n",
       "1                   0.000000    0.172553       0.718799     College Degree   \n",
       "2                   0.119528    0.189936       0.390042  No College Degree   \n",
       "\n",
       "   combined_race  white_binary  marry_binary  \n",
       "0          white         White       Married  \n",
       "1          black     Not White       Married  \n",
       "2          white         White       Married  \n",
       "\n",
       "[3 rows x 87 columns]"
      ]
     },
     "execution_count": 59,
     "metadata": {},
     "output_type": "execute_result"
    }
   ],
   "source": [
    "topics_df.head(3)"
   ]
  },
  {
   "cell_type": "markdown",
   "metadata": {},
   "source": [
    "## Original Features with Topics"
   ]
  },
  {
   "cell_type": "code",
   "execution_count": 57,
   "metadata": {},
   "outputs": [
    {
     "ename": "KeyError",
     "evalue": "\"['UroRec_AS' 'UroRec_AS' 'UroRec_AS' 'DVD_UroTalk_AS'\\n 'DVD_UroTalk_surgery' 'DVD_UroTalk_rad'] not in index\"",
     "output_type": "error",
     "traceback": [
      "\u001b[1;31m---------------------------------------------------------------------------\u001b[0m",
      "\u001b[1;31mKeyError\u001b[0m                                  Traceback (most recent call last)",
      "\u001b[1;32m<ipython-input-57-518606f9d4be>\u001b[0m in \u001b[0;36m<module>\u001b[1;34m()\u001b[0m\n\u001b[1;32m----> 1\u001b[1;33m \u001b[0mtopics_df\u001b[0m \u001b[1;33m=\u001b[0m \u001b[0mprepare_df\u001b[0m\u001b[1;33m(\u001b[0m\u001b[0mtopics_df\u001b[0m\u001b[1;33m,\u001b[0m \u001b[1;34m'txgot_binary'\u001b[0m\u001b[1;33m,\u001b[0m \u001b[0mcat1\u001b[0m\u001b[1;33m+\u001b[0m\u001b[0mcat2\u001b[0m\u001b[1;33m,\u001b[0m \u001b[0mcont1\u001b[0m\u001b[1;33m+\u001b[0m\u001b[0mtopics\u001b[0m\u001b[1;33m)\u001b[0m\u001b[1;33m\u001b[0m\u001b[0m\n\u001b[0m",
      "\u001b[1;32m<ipython-input-4-6bb113924a34>\u001b[0m in \u001b[0;36mprepare_df\u001b[1;34m(df, target_var, cont_vars, cat_vars)\u001b[0m\n\u001b[0;32m      1\u001b[0m \u001b[1;32mdef\u001b[0m \u001b[0mprepare_df\u001b[0m\u001b[1;33m(\u001b[0m\u001b[0mdf\u001b[0m\u001b[1;33m,\u001b[0m \u001b[0mtarget_var\u001b[0m\u001b[1;33m,\u001b[0m \u001b[0mcont_vars\u001b[0m\u001b[1;33m=\u001b[0m\u001b[1;33m[\u001b[0m\u001b[1;33m]\u001b[0m\u001b[1;33m,\u001b[0m \u001b[0mcat_vars\u001b[0m\u001b[1;33m=\u001b[0m\u001b[1;33m[\u001b[0m\u001b[1;33m]\u001b[0m\u001b[1;33m)\u001b[0m\u001b[1;33m:\u001b[0m\u001b[1;33m\u001b[0m\u001b[0m\n\u001b[0;32m      2\u001b[0m     \u001b[0mtotal_vars\u001b[0m \u001b[1;33m=\u001b[0m \u001b[0mcont_vars\u001b[0m \u001b[1;33m+\u001b[0m \u001b[0mcat_vars\u001b[0m \u001b[1;33m+\u001b[0m \u001b[1;33m[\u001b[0m\u001b[0mtarget_var\u001b[0m\u001b[1;33m]\u001b[0m\u001b[1;33m\u001b[0m\u001b[0m\n\u001b[1;32m----> 3\u001b[1;33m     \u001b[0mmodel_df\u001b[0m \u001b[1;33m=\u001b[0m \u001b[0mdf\u001b[0m\u001b[1;33m[\u001b[0m\u001b[0mtotal_vars\u001b[0m\u001b[1;33m]\u001b[0m\u001b[1;33m\u001b[0m\u001b[0m\n\u001b[0m\u001b[0;32m      4\u001b[0m     \u001b[0mcleaned_df\u001b[0m \u001b[1;33m=\u001b[0m \u001b[0mmodel_df\u001b[0m\u001b[1;33m.\u001b[0m\u001b[0mdropna\u001b[0m\u001b[1;33m(\u001b[0m\u001b[0msubset\u001b[0m\u001b[1;33m=\u001b[0m\u001b[0mtotal_vars\u001b[0m\u001b[1;33m)\u001b[0m\u001b[1;33m\u001b[0m\u001b[0m\n\u001b[0;32m      5\u001b[0m \u001b[1;33m\u001b[0m\u001b[0m\n",
      "\u001b[1;32m~\\Anaconda3\\envs\\dataplus\\lib\\site-packages\\pandas\\core\\frame.py\u001b[0m in \u001b[0;36m__getitem__\u001b[1;34m(self, key)\u001b[0m\n\u001b[0;32m   2677\u001b[0m         \u001b[1;32mif\u001b[0m \u001b[0misinstance\u001b[0m\u001b[1;33m(\u001b[0m\u001b[0mkey\u001b[0m\u001b[1;33m,\u001b[0m \u001b[1;33m(\u001b[0m\u001b[0mSeries\u001b[0m\u001b[1;33m,\u001b[0m \u001b[0mnp\u001b[0m\u001b[1;33m.\u001b[0m\u001b[0mndarray\u001b[0m\u001b[1;33m,\u001b[0m \u001b[0mIndex\u001b[0m\u001b[1;33m,\u001b[0m \u001b[0mlist\u001b[0m\u001b[1;33m)\u001b[0m\u001b[1;33m)\u001b[0m\u001b[1;33m:\u001b[0m\u001b[1;33m\u001b[0m\u001b[0m\n\u001b[0;32m   2678\u001b[0m             \u001b[1;31m# either boolean or fancy integer index\u001b[0m\u001b[1;33m\u001b[0m\u001b[1;33m\u001b[0m\u001b[0m\n\u001b[1;32m-> 2679\u001b[1;33m             \u001b[1;32mreturn\u001b[0m \u001b[0mself\u001b[0m\u001b[1;33m.\u001b[0m\u001b[0m_getitem_array\u001b[0m\u001b[1;33m(\u001b[0m\u001b[0mkey\u001b[0m\u001b[1;33m)\u001b[0m\u001b[1;33m\u001b[0m\u001b[0m\n\u001b[0m\u001b[0;32m   2680\u001b[0m         \u001b[1;32melif\u001b[0m \u001b[0misinstance\u001b[0m\u001b[1;33m(\u001b[0m\u001b[0mkey\u001b[0m\u001b[1;33m,\u001b[0m \u001b[0mDataFrame\u001b[0m\u001b[1;33m)\u001b[0m\u001b[1;33m:\u001b[0m\u001b[1;33m\u001b[0m\u001b[0m\n\u001b[0;32m   2681\u001b[0m             \u001b[1;32mreturn\u001b[0m \u001b[0mself\u001b[0m\u001b[1;33m.\u001b[0m\u001b[0m_getitem_frame\u001b[0m\u001b[1;33m(\u001b[0m\u001b[0mkey\u001b[0m\u001b[1;33m)\u001b[0m\u001b[1;33m\u001b[0m\u001b[0m\n",
      "\u001b[1;32m~\\Anaconda3\\envs\\dataplus\\lib\\site-packages\\pandas\\core\\frame.py\u001b[0m in \u001b[0;36m_getitem_array\u001b[1;34m(self, key)\u001b[0m\n\u001b[0;32m   2721\u001b[0m             \u001b[1;32mreturn\u001b[0m \u001b[0mself\u001b[0m\u001b[1;33m.\u001b[0m\u001b[0m_take\u001b[0m\u001b[1;33m(\u001b[0m\u001b[0mindexer\u001b[0m\u001b[1;33m,\u001b[0m \u001b[0maxis\u001b[0m\u001b[1;33m=\u001b[0m\u001b[1;36m0\u001b[0m\u001b[1;33m)\u001b[0m\u001b[1;33m\u001b[0m\u001b[0m\n\u001b[0;32m   2722\u001b[0m         \u001b[1;32melse\u001b[0m\u001b[1;33m:\u001b[0m\u001b[1;33m\u001b[0m\u001b[0m\n\u001b[1;32m-> 2723\u001b[1;33m             \u001b[0mindexer\u001b[0m \u001b[1;33m=\u001b[0m \u001b[0mself\u001b[0m\u001b[1;33m.\u001b[0m\u001b[0mloc\u001b[0m\u001b[1;33m.\u001b[0m\u001b[0m_convert_to_indexer\u001b[0m\u001b[1;33m(\u001b[0m\u001b[0mkey\u001b[0m\u001b[1;33m,\u001b[0m \u001b[0maxis\u001b[0m\u001b[1;33m=\u001b[0m\u001b[1;36m1\u001b[0m\u001b[1;33m)\u001b[0m\u001b[1;33m\u001b[0m\u001b[0m\n\u001b[0m\u001b[0;32m   2724\u001b[0m             \u001b[1;32mreturn\u001b[0m \u001b[0mself\u001b[0m\u001b[1;33m.\u001b[0m\u001b[0m_take\u001b[0m\u001b[1;33m(\u001b[0m\u001b[0mindexer\u001b[0m\u001b[1;33m,\u001b[0m \u001b[0maxis\u001b[0m\u001b[1;33m=\u001b[0m\u001b[1;36m1\u001b[0m\u001b[1;33m)\u001b[0m\u001b[1;33m\u001b[0m\u001b[0m\n\u001b[0;32m   2725\u001b[0m \u001b[1;33m\u001b[0m\u001b[0m\n",
      "\u001b[1;32m~\\Anaconda3\\envs\\dataplus\\lib\\site-packages\\pandas\\core\\indexing.py\u001b[0m in \u001b[0;36m_convert_to_indexer\u001b[1;34m(self, obj, axis, is_setter)\u001b[0m\n\u001b[0;32m   1325\u001b[0m                 \u001b[1;32mif\u001b[0m \u001b[0mmask\u001b[0m\u001b[1;33m.\u001b[0m\u001b[0many\u001b[0m\u001b[1;33m(\u001b[0m\u001b[1;33m)\u001b[0m\u001b[1;33m:\u001b[0m\u001b[1;33m\u001b[0m\u001b[0m\n\u001b[0;32m   1326\u001b[0m                     raise KeyError('{mask} not in index'\n\u001b[1;32m-> 1327\u001b[1;33m                                    .format(mask=objarr[mask]))\n\u001b[0m\u001b[0;32m   1328\u001b[0m \u001b[1;33m\u001b[0m\u001b[0m\n\u001b[0;32m   1329\u001b[0m                 \u001b[1;32mreturn\u001b[0m \u001b[0mcom\u001b[0m\u001b[1;33m.\u001b[0m\u001b[0m_values_from_object\u001b[0m\u001b[1;33m(\u001b[0m\u001b[0mindexer\u001b[0m\u001b[1;33m)\u001b[0m\u001b[1;33m\u001b[0m\u001b[0m\n",
      "\u001b[1;31mKeyError\u001b[0m: \"['UroRec_AS' 'UroRec_AS' 'UroRec_AS' 'DVD_UroTalk_AS'\\n 'DVD_UroTalk_surgery' 'DVD_UroTalk_rad'] not in index\""
     ]
    }
   ],
   "source": [
    "topics_df = prepare_df(topics_df, 'txgot_binary', cat1+cat2, cont1+topics)"
   ]
  },
  {
   "cell_type": "code",
   "execution_count": 17,
   "metadata": {},
   "outputs": [],
   "source": [
    "xgb2 = XGBClassifier()"
   ]
  },
  {
   "cell_type": "code",
   "execution_count": 12,
   "metadata": {
    "scrolled": false
   },
   "outputs": [
    {
     "data": {
      "application/vnd.jupyter.widget-view+json": {
       "model_id": "8333c6a7d29045a395b6f06b4e54886f",
       "version_major": 2,
       "version_minor": 0
      },
      "text/plain": [
       "HBox(children=(IntProgress(value=1, bar_style='info', max=1), HTML(value='')))"
      ]
     },
     "metadata": {},
     "output_type": "display_data"
    },
    {
     "name": "stdout",
     "output_type": "stream",
     "text": [
      "\n",
      "Train vs. Test\n",
      "Training AUC: 0.987\n",
      "Testing AUC: 0.684\n",
      "\n",
      "Training Accuracy: 0.994\n",
      "Testing Accuracy: 0.798\n",
      "\n",
      "Feature Importance:\n",
      "['surgery_topic', 0.2462203]\n",
      "['age', 0.18574513]\n",
      "['active_surveillance_topic', 0.116630666]\n",
      "['appt_topic', 0.10151188]\n",
      "['radiation_topic', 0.09287257]\n",
      "[7.0, 0.088552915]\n",
      "['R', 0.051835854]\n",
      "['SR', 0.03887689]\n",
      "['No College Degree', 0.034557234]\n",
      "['ASR', 0.025917927]\n",
      "['Not Married', 0.017278617]\n",
      "['S', 0.0]\n",
      "['AS', 0.0]\n",
      "['AR', 0.0]\n",
      "['White', 0.0]\n"
     ]
    },
    {
     "data": {
      "text/plain": [
       "(0.9869839988525552, 0.6841071428571428)"
      ]
     },
     "execution_count": 12,
     "metadata": {},
     "output_type": "execute_result"
    }
   ],
   "source": [
    "xgbclassify(original_w_topics_df, xgb2, trainCV=False)"
   ]
  },
  {
   "cell_type": "markdown",
   "metadata": {},
   "source": [
    "## Grid Search"
   ]
  },
  {
   "cell_type": "code",
   "execution_count": 46,
   "metadata": {},
   "outputs": [],
   "source": [
    "grid_params = {\n",
    "    'min_child_weight': [1],\n",
    "    'gamma': [0, 0.1, 0.2],\n",
    "    'subsample': [0.5, 0.6],\n",
    "    'colsample_bytree': [0.1, 0.2, 0.3],\n",
    "    'max_depth': [1, 2],\n",
    "    'n_estimators': [150, 175]\n",
    "}"
   ]
  },
  {
   "cell_type": "code",
   "execution_count": 47,
   "metadata": {},
   "outputs": [],
   "source": [
    "xgb4 = XGBClassifier(learning_rate=0.02, objective='binary:logistic',\n",
    "                    silent=True, nthread=1)"
   ]
  },
  {
   "cell_type": "code",
   "execution_count": 48,
   "metadata": {},
   "outputs": [
    {
     "data": {
      "application/vnd.jupyter.widget-view+json": {
       "model_id": "ad7e384f731a4066ac983a890eea4f31",
       "version_major": 2,
       "version_minor": 0
      },
      "text/plain": [
       "HBox(children=(IntProgress(value=1, bar_style='info', max=1), HTML(value='')))"
      ]
     },
     "metadata": {},
     "output_type": "display_data"
    },
    {
     "name": "stdout",
     "output_type": "stream",
     "text": [
      "\n",
      "Train vs. Test\n",
      "Training AUC: 0.605\n",
      "Testing AUC: 0.598\n",
      "\n",
      "Training Accuracy: 0.936\n",
      "Testing Accuracy: 0.936\n",
      "\n",
      "min_child_weight: {1: 200}\n",
      "gamma: {0: 108, 0.1: 43, 0.2: 49}\n",
      "subsample: {0.5: 70, 0.6: 130}\n",
      "colsample_bytree: {0.1: 85, 0.2: 71, 0.3: 44}\n",
      "max_depth: {1: 115, 2: 85}\n",
      "n_estimators: {150: 119, 175: 81}\n",
      "\n",
      "Feature Importance:\n"
     ]
    },
    {
     "data": {
      "text/plain": [
       "(0.604767598967298, 0.5978273809523807)"
      ]
     },
     "execution_count": 48,
     "metadata": {},
     "output_type": "execute_result"
    }
   ],
   "source": [
    "xgbclassify(original_w_topics_df2, xgb4, params=grid_params, \n",
    "            trainCV='grid', iterations=40, print_id=3)"
   ]
  },
  {
   "cell_type": "code",
   "execution_count": null,
   "metadata": {},
   "outputs": [],
   "source": []
  },
  {
   "cell_type": "code",
   "execution_count": 51,
   "metadata": {},
   "outputs": [
    {
     "data": {
      "application/vnd.jupyter.widget-view+json": {
       "model_id": "b13b368ba614423bbb59f67bdcc1f87a",
       "version_major": 2,
       "version_minor": 0
      },
      "text/plain": [
       "HBox(children=(IntProgress(value=1, bar_style='info', max=1), HTML(value='')))"
      ]
     },
     "metadata": {},
     "output_type": "display_data"
    },
    {
     "name": "stdout",
     "output_type": "stream",
     "text": [
      "\n",
      "Train vs. Test\n",
      "Training AUC: 0.715\n",
      "Testing AUC: 0.641\n",
      "\n",
      "Training Accuracy: 0.849\n",
      "Testing Accuracy: 0.806\n",
      "\n",
      "Feature Importance:\n",
      "[7.0, 0.12631579]\n",
      "['SR', 0.11578947]\n",
      "['radiation_topic', 0.11578947]\n",
      "['surgery_topic', 0.11578947]\n",
      "['appt_topic', 0.094736844]\n",
      "['age', 0.094736844]\n",
      "['R', 0.08421053]\n",
      "['ASR', 0.07368421]\n",
      "['Not Married', 0.06315789]\n",
      "['active_surveillance_topic', 0.06315789]\n",
      "['No College Degree', 0.042105265]\n",
      "['White', 0.010526316]\n",
      "['S', 0.0]\n",
      "['AS', 0.0]\n",
      "['AR', 0.0]\n"
     ]
    },
    {
     "data": {
      "text/plain": [
       "(0.7150352983362013, 0.6409095238095239)"
      ]
     },
     "execution_count": 51,
     "metadata": {},
     "output_type": "execute_result"
    }
   ],
   "source": [
    "xgb5=XGBClassifier(max_depth=1, gamma=0, min_child_weight=1, subsample=0.6,\n",
    "                   colsample_bytree=0.1, n_estimators=150)\n",
    "xgbclassify(original_w_topics_df2, xgb5, trainCV='none', folds=5, iterations=100)"
   ]
  },
  {
   "cell_type": "code",
   "execution_count": null,
   "metadata": {
    "scrolled": false
   },
   "outputs": [],
   "source": []
  },
  {
   "cell_type": "code",
   "execution_count": null,
   "metadata": {},
   "outputs": [],
   "source": []
  },
  {
   "cell_type": "code",
   "execution_count": 100,
   "metadata": {},
   "outputs": [],
   "source": [
    "cat_vars = ['gleason', 'Advice1']\n",
    "cont_vars = ['age', 'active_surveillance_topic', 'surgery_topic']"
   ]
  },
  {
   "cell_type": "code",
   "execution_count": 21,
   "metadata": {},
   "outputs": [],
   "source": [
    "original_w_topics_df2 = prepare_df(topics_df, 'txgot_binary', cont_vars, cat_vars)"
   ]
  },
  {
   "cell_type": "code",
   "execution_count": 102,
   "metadata": {},
   "outputs": [
    {
     "data": {
      "application/vnd.jupyter.widget-view+json": {
       "model_id": "9d08819edd944d84a704f3fdd21b3f38",
       "version_major": 2,
       "version_minor": 0
      },
      "text/plain": [
       "HBox(children=(IntProgress(value=1, bar_style='info', max=1), HTML(value='')))"
      ]
     },
     "metadata": {},
     "output_type": "display_data"
    },
    {
     "name": "stdout",
     "output_type": "stream",
     "text": [
      "Train vs. Test\n",
      "Training AUC: 0.9\n",
      "Testing AUC: 0.72\n",
      "\n",
      "Training Accuracy: 0.946\n",
      "Testing Accuracy: 0.823\n",
      "\n",
      "Feature Importance:\n",
      "['surgery_topic', 0.325]\n",
      "['age', 0.2375]\n",
      "['active_surveillance_topic', 0.23125]\n",
      "[7.0, 0.075]\n",
      "['SR', 0.0625]\n",
      "['R', 0.05625]\n",
      "['ASR', 0.0125]\n",
      "['S', 0.0]\n",
      "['AS', 0.0]\n",
      "['AR', 0.0]\n"
     ]
    },
    {
     "data": {
      "text/plain": [
       "(0.899512630522086, 0.7196071428571433)"
      ]
     },
     "execution_count": 102,
     "metadata": {},
     "output_type": "execute_result"
    }
   ],
   "source": [
    "xgb5=XGBClassifier(max_depth=2, gamma=0.5, min_child_weight=1, subsample=0.6,\n",
    "                   colsample_bytree=0.5, n_estimators=200)\n",
    "xgbclassify(original_w_topics_df2, xgb5, trainCV='none', folds=5, iterations=100)"
   ]
  },
  {
   "cell_type": "code",
   "execution_count": null,
   "metadata": {},
   "outputs": [],
   "source": [
    "grid_params = {\n",
    "    'min_child_weight': [1],\n",
    "    'gamma': [0.5, 0.55],\n",
    "    'subsample': [0.5, 0.6],\n",
    "    'colsample_bytree': [0.5, 0.55, 0.6],\n",
    "    'max_depth': [2, 3],\n",
    "    'n_estimators': [180, 200]\n",
    "}"
   ]
  },
  {
   "cell_type": "code",
   "execution_count": null,
   "metadata": {},
   "outputs": [],
   "source": []
  },
  {
   "cell_type": "code",
   "execution_count": null,
   "metadata": {},
   "outputs": [],
   "source": []
  },
  {
   "cell_type": "markdown",
   "metadata": {},
   "source": [
    "## Random Search"
   ]
  },
  {
   "cell_type": "code",
   "execution_count": 244,
   "metadata": {},
   "outputs": [],
   "source": [
    "params = {\n",
    "        'n_estimators': [50, 100, 150, 200],\n",
    "        'min_child_weight': [1, 5, 10],\n",
    "        'gamma': [0.5, 1, 1.5, 2, 5],\n",
    "        'subsample': [0.6, 0.8, 1.0],\n",
    "        'colsample_bytree': [0.6, 0.8, 1.0],\n",
    "        'max_depth': [3, 4, 5]\n",
    "        }"
   ]
  },
  {
   "cell_type": "code",
   "execution_count": 245,
   "metadata": {},
   "outputs": [],
   "source": [
    "xgb3 = XGBClassifier(learning_rate=0.02, objective='binary:logistic',\n",
    "                    silent=True, nthread=1)"
   ]
  },
  {
   "cell_type": "code",
   "execution_count": 246,
   "metadata": {
    "scrolled": false
   },
   "outputs": [
    {
     "name": "stdout",
     "output_type": "stream",
     "text": [
      "Fitting 5 folds for each of 5 candidates, totalling 25 fits\n"
     ]
    },
    {
     "name": "stderr",
     "output_type": "stream",
     "text": [
      "[Parallel(n_jobs=4)]: Done  25 out of  25 | elapsed:    3.7s finished\n"
     ]
    },
    {
     "name": "stdout",
     "output_type": "stream",
     "text": [
      "{'subsample': 0.8, 'n_estimators': 50, 'min_child_weight': 1, 'max_depth': 4, 'gamma': 2, 'colsample_bytree': 0.6}\n",
      "Fitting 5 folds for each of 5 candidates, totalling 25 fits\n"
     ]
    },
    {
     "name": "stderr",
     "output_type": "stream",
     "text": [
      "[Parallel(n_jobs=4)]: Done  25 out of  25 | elapsed:    3.9s finished\n"
     ]
    },
    {
     "name": "stdout",
     "output_type": "stream",
     "text": [
      "{'subsample': 0.8, 'n_estimators': 200, 'min_child_weight': 5, 'max_depth': 5, 'gamma': 2, 'colsample_bytree': 0.8}\n",
      "Fitting 5 folds for each of 5 candidates, totalling 25 fits\n"
     ]
    },
    {
     "name": "stderr",
     "output_type": "stream",
     "text": [
      "[Parallel(n_jobs=4)]: Done  25 out of  25 | elapsed:    3.8s finished\n"
     ]
    },
    {
     "name": "stdout",
     "output_type": "stream",
     "text": [
      "{'subsample': 0.8, 'n_estimators': 150, 'min_child_weight': 1, 'max_depth': 4, 'gamma': 1, 'colsample_bytree': 0.6}\n",
      "Fitting 5 folds for each of 5 candidates, totalling 25 fits\n"
     ]
    },
    {
     "name": "stderr",
     "output_type": "stream",
     "text": [
      "[Parallel(n_jobs=4)]: Done  25 out of  25 | elapsed:    3.8s finished\n"
     ]
    },
    {
     "name": "stdout",
     "output_type": "stream",
     "text": [
      "{'subsample': 1.0, 'n_estimators': 50, 'min_child_weight': 1, 'max_depth': 4, 'gamma': 2, 'colsample_bytree': 0.6}\n",
      "Fitting 5 folds for each of 5 candidates, totalling 25 fits\n"
     ]
    },
    {
     "name": "stderr",
     "output_type": "stream",
     "text": [
      "[Parallel(n_jobs=4)]: Done  25 out of  25 | elapsed:    3.8s finished\n"
     ]
    },
    {
     "name": "stdout",
     "output_type": "stream",
     "text": [
      "{'subsample': 0.8, 'n_estimators': 50, 'min_child_weight': 1, 'max_depth': 4, 'gamma': 1.5, 'colsample_bytree': 0.6}\n",
      "Train vs. Test\n",
      "Training AUC: 0.777\n",
      "Testing AUC: 0.769\n",
      "\n",
      "Training Accuracy: 0.957\n",
      "Testing Accuracy: 0.967\n",
      "\n",
      "Feature Importance:\n"
     ]
    },
    {
     "data": {
      "text/plain": [
       "(0.7769279977051061, 0.7688095238095238)"
      ]
     },
     "execution_count": 246,
     "metadata": {},
     "output_type": "execute_result"
    }
   ],
   "source": [
    "xgbclassify(original_w_topics_df, xgb3, params=params, \n",
    "            trainCV='random', iterations=1, print_id=2)"
   ]
  },
  {
   "cell_type": "markdown",
   "metadata": {},
   "source": [
    "ID's for Random CV Results: 1, 2"
   ]
  },
  {
   "cell_type": "markdown",
   "metadata": {},
   "source": [
    "## Grid Search"
   ]
  },
  {
   "cell_type": "code",
   "execution_count": 50,
   "metadata": {},
   "outputs": [],
   "source": [
    "grid_params = {\n",
    "    'min_child_weight': [1, 5],\n",
    "    'gamma': [0.5, 1],\n",
    "    'subsample': [0.6, 0.8],\n",
    "    'colsample_bytree': [0.6, 0.7, 0.8],\n",
    "    'max_depth': [5, 4],\n",
    "    'n_estimators': [175, 200, 225]\n",
    "}"
   ]
  },
  {
   "cell_type": "code",
   "execution_count": 51,
   "metadata": {},
   "outputs": [],
   "source": [
    "xgb4 = XGBClassifier(learning_rate=0.02, objective='binary:logistic',\n",
    "                    silent=True, nthread=1)"
   ]
  },
  {
   "cell_type": "code",
   "execution_count": 52,
   "metadata": {},
   "outputs": [
    {
     "data": {
      "application/vnd.jupyter.widget-view+json": {
       "model_id": "ba9240dc17a14352980bc90956b4049e",
       "version_major": 2,
       "version_minor": 0
      },
      "text/plain": [
       "HBox(children=(IntProgress(value=1, bar_style='info', max=1), HTML(value='')))"
      ]
     },
     "metadata": {},
     "output_type": "display_data"
    },
    {
     "name": "stdout",
     "output_type": "stream",
     "text": [
      "\n",
      "Train vs. Test\n",
      "Training AUC: 0.816\n",
      "Testing AUC: 0.862\n",
      "\n",
      "Training Accuracy: 0.968\n",
      "Testing Accuracy: 0.967\n",
      "\n",
      "min_child_weight: {1: 4, 5: 1}\n",
      "gamma: {0.5: 3, 1: 2}\n",
      "subsample: {0.6: 4, 0.8: 1}\n",
      "colsample_bytree: {0.6: 2, 0.7: 1, 0.8: 2}\n",
      "max_depth: {5: 1, 4: 4}\n",
      "n_estimators: {175: 2, 200: 2, 225: 1}\n",
      "\n",
      "Feature Importance:\n"
     ]
    },
    {
     "data": {
      "text/plain": [
       "(0.8160043029259898, 0.8619047619047621)"
      ]
     },
     "execution_count": 52,
     "metadata": {},
     "output_type": "execute_result"
    }
   ],
   "source": [
    "xgbclassify(original_w_topics_df, xgb4, params=grid_params, \n",
    "            trainCV='grid', iterations=1, print_id=3)"
   ]
  },
  {
   "cell_type": "markdown",
   "metadata": {},
   "source": [
    "ID's for Grid CV Results: 3, 4, 5, 6"
   ]
  },
  {
   "cell_type": "markdown",
   "metadata": {},
   "source": [
    "## Trying out Hyperparameters from Search"
   ]
  },
  {
   "cell_type": "code",
   "execution_count": 227,
   "metadata": {},
   "outputs": [],
   "source": [
    "xgb5=XGBClassifier(max_depth=3, gamma=0.5, min_child_weight=1, subsample=0.6,\n",
    "                   colsample_bytree=0.7, n_estimators=150)"
   ]
  },
  {
   "cell_type": "code",
   "execution_count": 228,
   "metadata": {},
   "outputs": [
    {
     "name": "stdout",
     "output_type": "stream",
     "text": [
      "Train vs. Test\n",
      "Training AUC: 0.952\n",
      "Testing AUC: 0.682\n",
      "\n",
      "Training Accuracy: 0.976\n",
      "Testing Accuracy: 0.804\n",
      "\n",
      "Feature Importance:\n",
      "['surgery_topic', 0.23579545]\n",
      "['active_surveillance_topic', 0.1903409]\n",
      "['age', 0.16193181]\n",
      "['radiation_topic', 0.11931818]\n",
      "['appt_topic', 0.08238637]\n",
      "[7.0, 0.0625]\n",
      "['SR', 0.048295453]\n",
      "['R', 0.045454547]\n",
      "['ASR', 0.025568182]\n",
      "['No College Degree', 0.025568182]\n",
      "['Not Married', 0.0028409092]\n",
      "['S', 0.0]\n",
      "['AS', 0.0]\n",
      "['AR', 0.0]\n",
      "['White', 0.0]\n"
     ]
    },
    {
     "data": {
      "text/plain": [
       "(0.9521177423981624, 0.6820309523809523)"
      ]
     },
     "execution_count": 228,
     "metadata": {},
     "output_type": "execute_result"
    }
   ],
   "source": [
    "xgbclassify(original_w_topics_df, xgb5, trainCV='none', iterations=100)"
   ]
  },
  {
   "cell_type": "markdown",
   "metadata": {},
   "source": [
    "Don't go below 0.7 colsample_bytree"
   ]
  },
  {
   "cell_type": "code",
   "execution_count": null,
   "metadata": {},
   "outputs": [],
   "source": []
  }
 ],
 "metadata": {
  "kernelspec": {
   "display_name": "DataPlus",
   "language": "python",
   "name": "dataplus"
  },
  "language_info": {
   "codemirror_mode": {
    "name": "ipython",
    "version": 3
   },
   "file_extension": ".py",
   "mimetype": "text/x-python",
   "name": "python",
   "nbconvert_exporter": "python",
   "pygments_lexer": "ipython3",
   "version": "3.6.5"
  }
 },
 "nbformat": 4,
 "nbformat_minor": 2
}
