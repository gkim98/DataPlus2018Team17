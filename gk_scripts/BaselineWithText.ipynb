{
 "cells": [
  {
   "cell_type": "markdown",
   "metadata": {},
   "source": [
    "# Baseline with Text Classification"
   ]
  },
  {
   "cell_type": "markdown",
   "metadata": {},
   "source": [
    "Now that we have our baseline model and our text classification model, we have to figure out a method to combine the two."
   ]
  },
  {
   "cell_type": "code",
   "execution_count": 1,
   "metadata": {},
   "outputs": [],
   "source": [
    "import pandas as pd\n",
    "from tqdm import tqdm_notebook as tqdm"
   ]
  },
  {
   "cell_type": "code",
   "execution_count": 2,
   "metadata": {},
   "outputs": [],
   "source": [
    "# retrieve the data\n",
    "merged = pd.read_csv('../../DataPlus/all_data_merged.csv')"
   ]
  },
  {
   "cell_type": "markdown",
   "metadata": {},
   "source": [
    "## Baseline Model"
   ]
  },
  {
   "cell_type": "markdown",
   "metadata": {},
   "source": [
    "Model only based on age and Gleason score"
   ]
  },
  {
   "cell_type": "code",
   "execution_count": 3,
   "metadata": {},
   "outputs": [],
   "source": [
    "# predictive model module\n",
    "import GeneralModel as gm"
   ]
  },
  {
   "cell_type": "code",
   "execution_count": 4,
   "metadata": {},
   "outputs": [
    {
     "name": "stdout",
     "output_type": "stream",
     "text": [
      "# of Data Points: 392\n"
     ]
    }
   ],
   "source": [
    "# prepares dataframe for the baseline model (prepare_df defaults to baseline)\n",
    "bm_df = gm.prepare_df(merged)"
   ]
  },
  {
   "cell_type": "code",
   "execution_count": 5,
   "metadata": {},
   "outputs": [
    {
     "data": {
      "application/vnd.jupyter.widget-view+json": {
       "model_id": "b891a651b6eb4601a98a577819d14bc6",
       "version_major": 2,
       "version_minor": 0
      },
      "text/html": [
       "<p>Failed to display Jupyter Widget of type <code>HBox</code>.</p>\n",
       "<p>\n",
       "  If you're reading this message in the Jupyter Notebook or JupyterLab Notebook, it may mean\n",
       "  that the widgets JavaScript is still loading. If this message persists, it\n",
       "  likely means that the widgets JavaScript library is either not installed or\n",
       "  not enabled. See the <a href=\"https://ipywidgets.readthedocs.io/en/stable/user_install.html\">Jupyter\n",
       "  Widgets Documentation</a> for setup instructions.\n",
       "</p>\n",
       "<p>\n",
       "  If you're reading this message in another frontend (for example, a static\n",
       "  rendering on GitHub or <a href=\"https://nbviewer.jupyter.org/\">NBViewer</a>),\n",
       "  it may mean that your frontend doesn't currently support widgets.\n",
       "</p>\n"
      ],
      "text/plain": [
       "HBox(children=(IntProgress(value=1, bar_style='info', max=1), HTML(value='')))"
      ]
     },
     "metadata": {},
     "output_type": "display_data"
    },
    {
     "name": "stdout",
     "output_type": "stream",
     "text": [
      "\n",
      "Average Metrics:\n",
      "\n",
      "Positive Class Precision: 0.636\n",
      "\n",
      "Positive Class Recall: 0.766\n",
      "\n",
      "Negative Class Precision: 0.849\n",
      "\n",
      "Negative Class Recall: 0.736\n",
      "\n"
     ]
    }
   ],
   "source": [
    "bm_fscore, _ = gm.general_model(bm_df)"
   ]
  },
  {
   "cell_type": "code",
   "execution_count": 6,
   "metadata": {},
   "outputs": [
    {
     "data": {
      "text/plain": [
       "0.6951637004461538"
      ]
     },
     "execution_count": 6,
     "metadata": {},
     "output_type": "execute_result"
    }
   ],
   "source": [
    "# F-score for baseline model\n",
    "bm_fscore"
   ]
  },
  {
   "cell_type": "markdown",
   "metadata": {},
   "source": [
    "## Text Classification"
   ]
  },
  {
   "cell_type": "markdown",
   "metadata": {},
   "source": [
    "Model based only on text classification"
   ]
  },
  {
   "cell_type": "code",
   "execution_count": 7,
   "metadata": {},
   "outputs": [
    {
     "name": "stdout",
     "output_type": "stream",
     "text": [
      "[nltk_data] Downloading package wordnet to\n",
      "[nltk_data]     C:\\Users\\grant\\AppData\\Roaming\\nltk_data...\n",
      "[nltk_data]   Package wordnet is already up-to-date!\n",
      "[nltk_data] Downloading package stopwords to\n",
      "[nltk_data]     C:\\Users\\grant\\AppData\\Roaming\\nltk_data...\n",
      "[nltk_data]   Package stopwords is already up-to-date!\n",
      "[nltk_data] Downloading package punkt to\n",
      "[nltk_data]     C:\\Users\\grant\\AppData\\Roaming\\nltk_data...\n",
      "[nltk_data]   Package punkt is already up-to-date!\n"
     ]
    }
   ],
   "source": [
    "import Preprocessing as pre\n",
    "import KFoldTextClassification as ktc\n",
    "import CompilingCorpus as cc"
   ]
  },
  {
   "cell_type": "code",
   "execution_count": 8,
   "metadata": {},
   "outputs": [],
   "source": [
    "PROCESS_PIPELINE = [\n",
    "    pre.remove_non_alpha,\n",
    "    pre.remove_parentheses,\n",
    "    pre.make_lowercase,\n",
    "    pre.remove_stopwords,\n",
    "    pre.lemmatize\n",
    "]"
   ]
  },
  {
   "cell_type": "code",
   "execution_count": 9,
   "metadata": {},
   "outputs": [],
   "source": [
    "# takes dataframe and processes it for text classification\n",
    "def create_text_df(df):\n",
    "    dropped_df = df.dropna(subset=['Convo_1', 'txgot_binary'])\n",
    "    \n",
    "    # preprocesses transcripts\n",
    "    col_processed = [pre.text_preprocessing(text, PROCESS_PIPELINE) for text in tqdm(dropped_df['Convo_1'])]\n",
    "    dropped_df['Convo_1'] = cc.untokenize(col_processed)\n",
    "    \n",
    "    return dropped_df"
   ]
  },
  {
   "cell_type": "code",
   "execution_count": 10,
   "metadata": {},
   "outputs": [
    {
     "data": {
      "application/vnd.jupyter.widget-view+json": {
       "model_id": "3ddae96f0a04482c9c17f35f7f18914d",
       "version_major": 2,
       "version_minor": 0
      },
      "text/html": [
       "<p>Failed to display Jupyter Widget of type <code>HBox</code>.</p>\n",
       "<p>\n",
       "  If you're reading this message in the Jupyter Notebook or JupyterLab Notebook, it may mean\n",
       "  that the widgets JavaScript is still loading. If this message persists, it\n",
       "  likely means that the widgets JavaScript library is either not installed or\n",
       "  not enabled. See the <a href=\"https://ipywidgets.readthedocs.io/en/stable/user_install.html\">Jupyter\n",
       "  Widgets Documentation</a> for setup instructions.\n",
       "</p>\n",
       "<p>\n",
       "  If you're reading this message in another frontend (for example, a static\n",
       "  rendering on GitHub or <a href=\"https://nbviewer.jupyter.org/\">NBViewer</a>),\n",
       "  it may mean that your frontend doesn't currently support widgets.\n",
       "</p>\n"
      ],
      "text/plain": [
       "HBox(children=(IntProgress(value=0, max=356), HTML(value='')))"
      ]
     },
     "metadata": {},
     "output_type": "display_data"
    },
    {
     "name": "stdout",
     "output_type": "stream",
     "text": [
      "\n"
     ]
    }
   ],
   "source": [
    "text_df = create_text_df(merged)"
   ]
  },
  {
   "cell_type": "code",
   "execution_count": 11,
   "metadata": {},
   "outputs": [
    {
     "data": {
      "application/vnd.jupyter.widget-view+json": {
       "model_id": "7d753615a2c549fe8bf153d152772790",
       "version_major": 2,
       "version_minor": 0
      },
      "text/html": [
       "<p>Failed to display Jupyter Widget of type <code>HBox</code>.</p>\n",
       "<p>\n",
       "  If you're reading this message in the Jupyter Notebook or JupyterLab Notebook, it may mean\n",
       "  that the widgets JavaScript is still loading. If this message persists, it\n",
       "  likely means that the widgets JavaScript library is either not installed or\n",
       "  not enabled. See the <a href=\"https://ipywidgets.readthedocs.io/en/stable/user_install.html\">Jupyter\n",
       "  Widgets Documentation</a> for setup instructions.\n",
       "</p>\n",
       "<p>\n",
       "  If you're reading this message in another frontend (for example, a static\n",
       "  rendering on GitHub or <a href=\"https://nbviewer.jupyter.org/\">NBViewer</a>),\n",
       "  it may mean that your frontend doesn't currently support widgets.\n",
       "</p>\n"
      ],
      "text/plain": [
       "HBox(children=(IntProgress(value=1, bar_style='info', max=1), HTML(value='')))"
      ]
     },
     "metadata": {},
     "output_type": "display_data"
    },
    {
     "name": "stdout",
     "output_type": "stream",
     "text": [
      "[23  0 11  3]\n",
      "[22  1  6  7]\n",
      "[22  1  5  8]\n",
      "[14  9  2 11]\n",
      "[19  4  7  6]\n",
      "[21  1  9  4]\n",
      "[18  4  6  7]\n",
      "[22  0  6  7]\n",
      "[22  0  6  7]\n",
      "[22  0  5  8]\n",
      "[19  4  0 14]\n",
      "[22  1  7  6]\n",
      "[20  3  6  7]\n",
      "[23  0 12  1]\n",
      "[15  8  4  9]\n",
      "[17  5  2 11]\n",
      "[22  0  7  6]\n",
      "[16  6  3 10]\n",
      "[17  5  5  8]\n",
      "[22  0  8  5]\n",
      "[21  2  9  5]\n",
      "[23  0  7  6]\n",
      "[17  6  2 11]\n",
      "[21  2  3 10]\n",
      "[21  2  3 10]\n",
      "[14  8  2 11]\n",
      "[21  1  7  6]\n",
      "[22  0  9  4]\n",
      "[15  7  1 12]\n",
      "[19  3  1 12]\n",
      "[17  6  3 11]\n",
      "[23  0 11  2]\n",
      "[22  1  9  4]\n",
      "[16  7  2 11]\n",
      "[21  2  3 10]\n",
      "[19  3  3 10]\n",
      "[19  3  6  7]\n",
      "[21  1  4  9]\n",
      "[22  0 11  2]\n",
      "[19  3  2 11]\n",
      "[23  0  7  7]\n",
      "[20  3  5  8]\n",
      "[23  0  7  6]\n",
      "[21  2  2 11]\n",
      "[23  0 11  2]\n",
      "[18  4  9  4]\n",
      "[22  0  3 10]\n",
      "[20  2  7  6]\n",
      "[20  2  7  6]\n",
      "[20  2  7  6]\n",
      "\n",
      "AVG METRICS:\n",
      "\n",
      "Surveillance Class Precision: 0.808\n",
      "\n",
      "Surveillance Class Recall: 0.573\n",
      "\n",
      "Treatment Class Precision: 0.795\n",
      "\n",
      "Treatment Class Recall: 0.89\n",
      "\n"
     ]
    }
   ],
   "source": [
    "decision_values, _ = ktc.strat_kfold_text(text_df, folds=10, iterations=5)"
   ]
  },
  {
   "cell_type": "markdown",
   "metadata": {},
   "source": [
    "### Visualizing Text Classification Results"
   ]
  },
  {
   "cell_type": "markdown",
   "metadata": {},
   "source": [
    "The decision values that were outputted represents the results of the model's decision function. When predicting, we defined a threshold to turn decision values into discrete predictions. But maybe we can use these decision values as a feature, adding them to the baseline model."
   ]
  },
  {
   "cell_type": "code",
   "execution_count": 14,
   "metadata": {},
   "outputs": [],
   "source": [
    "import matplotlib.pyplot as plt\n",
    "import seaborn as sns\n",
    "%matplotlib inline"
   ]
  },
  {
   "cell_type": "code",
   "execution_count": 15,
   "metadata": {},
   "outputs": [],
   "source": [
    "text_df['decision_values'] = decision_values"
   ]
  },
  {
   "cell_type": "code",
   "execution_count": 21,
   "metadata": {},
   "outputs": [],
   "source": [
    "import pickle"
   ]
  },
  {
   "cell_type": "code",
   "execution_count": 22,
   "metadata": {},
   "outputs": [],
   "source": [
    "# save dataframe with decision values for later use\n",
    "pickle.dump(text_df, open('dec_dataframe.p', 'wb'))"
   ]
  },
  {
   "cell_type": "code",
   "execution_count": 16,
   "metadata": {},
   "outputs": [
    {
     "data": {
      "image/png": "[encoded data removed]",
      "text/plain": [
       "<matplotlib.figure.Figure at 0x2155b582588>"
      ]
     },
     "metadata": {},
     "output_type": "display_data"
    }
   ],
   "source": [
    "g = sns.FacetGrid(text_df,  row=\"txgot_binary\")\n",
    "g = g.map(plt.hist, \"decision_values\")"
   ]
  },
  {
   "cell_type": "markdown",
   "metadata": {},
   "source": [
    "So it looks like there is a distinct difference in the distributions of the decision values for those who chose active surveillance and those who did not. I'm guessing that the default threshold for text classification is 0, but looking at the distributions, a lower threshold could produce even better results."
   ]
  },
  {
   "cell_type": "markdown",
   "metadata": {},
   "source": [
    "## Combining Text Classification and Baseline Model"
   ]
  },
  {
   "cell_type": "markdown",
   "metadata": {},
   "source": [
    "To combine text classification and the baseline model, we will use the decision values from text classification as a new feature to add to the baseline model."
   ]
  },
  {
   "cell_type": "code",
   "execution_count": 17,
   "metadata": {},
   "outputs": [],
   "source": [
    "# we will use text_df as the base dataframe\n",
    "raw_df = text_df.copy()"
   ]
  },
  {
   "cell_type": "code",
   "execution_count": 18,
   "metadata": {},
   "outputs": [
    {
     "name": "stdout",
     "output_type": "stream",
     "text": [
      "# of Data Points: 356\n"
     ]
    }
   ],
   "source": [
    "combined_df = gm.prepare_df(raw_df, cont_vars=['age', 'decision_values'])"
   ]
  },
  {
   "cell_type": "code",
   "execution_count": 19,
   "metadata": {},
   "outputs": [
    {
     "data": {
      "application/vnd.jupyter.widget-view+json": {
       "model_id": "ab0fea69c3b248e294763b118d9c0075",
       "version_major": 2,
       "version_minor": 0
      },
      "text/html": [
       "<p>Failed to display Jupyter Widget of type <code>HBox</code>.</p>\n",
       "<p>\n",
       "  If you're reading this message in the Jupyter Notebook or JupyterLab Notebook, it may mean\n",
       "  that the widgets JavaScript is still loading. If this message persists, it\n",
       "  likely means that the widgets JavaScript library is either not installed or\n",
       "  not enabled. See the <a href=\"https://ipywidgets.readthedocs.io/en/stable/user_install.html\">Jupyter\n",
       "  Widgets Documentation</a> for setup instructions.\n",
       "</p>\n",
       "<p>\n",
       "  If you're reading this message in another frontend (for example, a static\n",
       "  rendering on GitHub or <a href=\"https://nbviewer.jupyter.org/\">NBViewer</a>),\n",
       "  it may mean that your frontend doesn't currently support widgets.\n",
       "</p>\n"
      ],
      "text/plain": [
       "HBox(children=(IntProgress(value=1, bar_style='info', max=1), HTML(value='')))"
      ]
     },
     "metadata": {},
     "output_type": "display_data"
    },
    {
     "name": "stdout",
     "output_type": "stream",
     "text": [
      "\n",
      "Average Metrics:\n",
      "\n",
      "Positive Class Precision: 0.77\n",
      "\n",
      "Positive Class Recall: 0.687\n",
      "\n",
      "Negative Class Precision: 0.83\n",
      "\n",
      "Negative Class Recall: 0.868\n",
      "\n"
     ]
    }
   ],
   "source": [
    "combined_fscore = gm.general_model(combined_df)"
   ]
  },
  {
   "cell_type": "code",
   "execution_count": 20,
   "metadata": {},
   "outputs": [
    {
     "data": {
      "text/plain": [
       "(0.7263774327358247,\n",
       " {'negative precision': 0.8299613105029081,\n",
       "  'negative recall': 0.8681159420289853,\n",
       "  'positive precision': 0.770087714573009,\n",
       "  'positive recall': 0.6873626373626376})"
      ]
     },
     "execution_count": 20,
     "metadata": {},
     "output_type": "execute_result"
    }
   ],
   "source": [
    "# F-score for combined model\n",
    "combined_fscore"
   ]
  }
 ],
 "metadata": {
  "kernelspec": {
   "display_name": "Python 3",
   "language": "python",
   "name": "python3"
  },
  "language_info": {
   "codemirror_mode": {
    "name": "ipython",
    "version": 3
   },
   "file_extension": ".py",
   "mimetype": "text/x-python",
   "name": "python",
   "nbconvert_exporter": "python",
   "pygments_lexer": "ipython3",
   "version": "3.6.4"
  }
 },
 "nbformat": 4,
 "nbformat_minor": 2
}
