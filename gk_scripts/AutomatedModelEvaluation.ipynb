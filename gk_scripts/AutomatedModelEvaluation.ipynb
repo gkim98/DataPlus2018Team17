{
 "cells": [
  {
   "cell_type": "markdown",
   "metadata": {},
   "source": [
    "# Automated Model Evaluation"
   ]
  },
  {
   "cell_type": "markdown",
   "metadata": {},
   "source": [
    "Now that we have a general model function, we can create a script that makes models out of different combinations of features and displays the best results."
   ]
  },
  {
   "cell_type": "code",
   "execution_count": 76,
   "metadata": {},
   "outputs": [],
   "source": [
    "import itertools\n",
    "from scipy.special import comb\n",
    "import pandas as pd\n",
    "import GeneralModel as gm\n",
    "from tqdm import tqdm_notebook as tqdm"
   ]
  },
  {
   "cell_type": "code",
   "execution_count": 2,
   "metadata": {},
   "outputs": [],
   "source": [
    "# retrieves data\n",
    "merged = pd.read_csv('../../DataPlus/feature_dataframe.csv')"
   ]
  },
  {
   "cell_type": "code",
   "execution_count": 3,
   "metadata": {},
   "outputs": [
    {
     "name": "stdout",
     "output_type": "stream",
     "text": [
      "# of Data Points: 358\n"
     ]
    }
   ],
   "source": [
    "model_df = gm.prepare_df(merged, cat_vars=['edu_binary', 'marry_binary', 'Advice1'], cont_vars=[])"
   ]
  },
  {
   "cell_type": "code",
   "execution_count": 5,
   "metadata": {
    "scrolled": true
   },
   "outputs": [
    {
     "data": {
      "application/vnd.jupyter.widget-view+json": {
       "model_id": "c9c1ed6206bf43fba630071eee3a36ec",
       "version_major": 2,
       "version_minor": 0
      },
      "text/html": [
       "<p>Failed to display Jupyter Widget of type <code>HBox</code>.</p>\n",
       "<p>\n",
       "  If you're reading this message in the Jupyter Notebook or JupyterLab Notebook, it may mean\n",
       "  that the widgets JavaScript is still loading. If this message persists, it\n",
       "  likely means that the widgets JavaScript library is either not installed or\n",
       "  not enabled. See the <a href=\"https://ipywidgets.readthedocs.io/en/stable/user_install.html\">Jupyter\n",
       "  Widgets Documentation</a> for setup instructions.\n",
       "</p>\n",
       "<p>\n",
       "  If you're reading this message in another frontend (for example, a static\n",
       "  rendering on GitHub or <a href=\"https://nbviewer.jupyter.org/\">NBViewer</a>),\n",
       "  it may mean that your frontend doesn't currently support widgets.\n",
       "</p>\n"
      ],
      "text/plain": [
       "HBox(children=(IntProgress(value=1, bar_style='info', max=1), HTML(value='')))"
      ]
     },
     "metadata": {},
     "output_type": "display_data"
    },
    {
     "name": "stdout",
     "output_type": "stream",
     "text": [
      "\n",
      "             Feature    Weight\n",
      "0  No College Degree  0.193892\n",
      "1        Not Married  0.112416\n",
      "2                 AR  0.044520\n",
      "3                 AS  0.051509\n",
      "4                ASR  0.280635\n",
      "5                  R  0.100839\n",
      "6                  S  0.133658\n",
      "7                 SR  0.082531\n",
      "\n",
      "\n",
      "F-score: 0.469\n",
      "AUC: 0.607\n"
     ]
    }
   ],
   "source": [
    "fscore, metrics, auc_score, feat_info = gm.general_model(model_df, algorithm='rf', print_feat=True)"
   ]
  },
  {
   "cell_type": "code",
   "execution_count": 123,
   "metadata": {},
   "outputs": [],
   "source": [
    "\"\"\"\n",
    "    Given a set of categorical and continuous features, the function will iterate\n",
    "    over the combinations of features and present the results in a dataframe\n",
    "    \n",
    "    Columns in dataframe: features (list), fscore, auc, feature importance (if applicable) \n",
    "    \n",
    "    input:\n",
    "        - df: original dataframe\n",
    "        - min_feats: minimum subset size taken from feature list\n",
    "        - sort: column by which to sort dataframe (by AUC or fscore)\n",
    "        - algorithm: type of algorithm\n",
    "        - cat_vars: list of categorical variables\n",
    "        - cont_vars: list of continuous variables\n",
    "\"\"\"\n",
    "def model_evaluation(df, min_feats=1, sort=None, algorithm='rf', cat_vars=[], cont_vars=[]):\n",
    "    total_features = cat_vars + cont_vars;\n",
    "    \n",
    "    # keeps track of results\n",
    "    results = pd.DataFrame();\n",
    "    \n",
    "    if min_feats > len(total_features):\n",
    "        print('error: minimum subset size exceeds feature set')\n",
    "        return None\n",
    "    \n",
    "    # iterates through all subsets greater than min_feats\n",
    "    for i in range(len(total_features)-min_feats+1):\n",
    "        subset_size = i + min_feats\n",
    "        \n",
    "        num_combinations = int(comb(len(total_features), subset_size))\n",
    "        print('# of combinations for subset size {}: {}'.format(subset_size, num_combinations))\n",
    "        for var_set in tqdm(itertools.combinations(total_features, subset_size)):\n",
    "            # separates the feature subset into categorical and continuous\n",
    "            cont_var_set = [var for var in var_set if var in cont_vars]\n",
    "            cat_var_set = [var for var in var_set if var in cat_vars]\n",
    "            \n",
    "            # prepares model for feature subset\n",
    "            model_df = gm.prepare_df(df, cont_vars=cont_var_set, cat_vars=cat_var_set, print_dims=False)\n",
    "            fscore, _, auc_score, feat_importance_df = gm.general_model(model_df, algorithm=algorithm, print_metrics=False, tqdm_on=False)\n",
    "        \n",
    "            feature_string = ', '.join(list(var_set))\n",
    "            num_feats = subset_size\n",
    "            \n",
    "            # handles feature importance field\n",
    "            ordered_feat_importance = feat_importance_df.sort_values('Weight', ascending=False)\n",
    "            ordered_weights = ordered_feat_importance['Weight']\n",
    "            ordered_feats = ordered_feat_importance['Feature']\n",
    "            \n",
    "            import_array = []\n",
    "            for i in range(len(ordered_feat_importance.index)):\n",
    "                import_array.append('{}: {}'.format(ordered_feats[i], ordered_weights[i]))\n",
    "            import_string = ', '.join(import_array)\n",
    "            \n",
    "            # adds result of model to dataframe\n",
    "            results = results.append(pd.DataFrame({'features': feature_string, 'fscore': fscore, \n",
    "                                                   'auc': auc_score, 'num_features': num_feats, 'feat_importance': import_string}, index=[0]))\n",
    "    \n",
    "    # sorts dataframe in descending order of desired metric\n",
    "    if sort is not None : results = results.sort_values(sort, ascending=False)\n",
    "        \n",
    "    # columns in right order\n",
    "    col_order = [sort, 'features'] + [col for col in results.columns if col not in [sort, 'features']]\n",
    "    results = results[col_order]\n",
    "    \n",
    "    return results"
   ]
  },
  {
   "cell_type": "code",
   "execution_count": 124,
   "metadata": {},
   "outputs": [],
   "source": [
    "cat_feat_set = ['marry_binary', 'gleason', 'edu_binary']\n",
    "cont_feat_set = ['age']"
   ]
  },
  {
   "cell_type": "code",
   "execution_count": 125,
   "metadata": {},
   "outputs": [
    {
     "name": "stdout",
     "output_type": "stream",
     "text": [
      "# of combinations for subset size 2: 6\n"
     ]
    },
    {
     "data": {
      "application/vnd.jupyter.widget-view+json": {
       "model_id": "c1a4449534a54c18a48e99a089e7a1d0",
       "version_major": 2,
       "version_minor": 0
      },
      "text/html": [
       "<p>Failed to display Jupyter Widget of type <code>HBox</code>.</p>\n",
       "<p>\n",
       "  If you're reading this message in the Jupyter Notebook or JupyterLab Notebook, it may mean\n",
       "  that the widgets JavaScript is still loading. If this message persists, it\n",
       "  likely means that the widgets JavaScript library is either not installed or\n",
       "  not enabled. See the <a href=\"https://ipywidgets.readthedocs.io/en/stable/user_install.html\">Jupyter\n",
       "  Widgets Documentation</a> for setup instructions.\n",
       "</p>\n",
       "<p>\n",
       "  If you're reading this message in another frontend (for example, a static\n",
       "  rendering on GitHub or <a href=\"https://nbviewer.jupyter.org/\">NBViewer</a>),\n",
       "  it may mean that your frontend doesn't currently support widgets.\n",
       "</p>\n"
      ],
      "text/plain": [
       "HBox(children=(IntProgress(value=1, bar_style='info', max=1), HTML(value='')))"
      ]
     },
     "metadata": {},
     "output_type": "display_data"
    },
    {
     "name": "stdout",
     "output_type": "stream",
     "text": [
      "# of combinations for subset size 3: 4\n"
     ]
    },
    {
     "data": {
      "application/vnd.jupyter.widget-view+json": {
       "model_id": "4c6cf26918804161baa761878d29863c",
       "version_major": 2,
       "version_minor": 0
      },
      "text/html": [
       "<p>Failed to display Jupyter Widget of type <code>HBox</code>.</p>\n",
       "<p>\n",
       "  If you're reading this message in the Jupyter Notebook or JupyterLab Notebook, it may mean\n",
       "  that the widgets JavaScript is still loading. If this message persists, it\n",
       "  likely means that the widgets JavaScript library is either not installed or\n",
       "  not enabled. See the <a href=\"https://ipywidgets.readthedocs.io/en/stable/user_install.html\">Jupyter\n",
       "  Widgets Documentation</a> for setup instructions.\n",
       "</p>\n",
       "<p>\n",
       "  If you're reading this message in another frontend (for example, a static\n",
       "  rendering on GitHub or <a href=\"https://nbviewer.jupyter.org/\">NBViewer</a>),\n",
       "  it may mean that your frontend doesn't currently support widgets.\n",
       "</p>\n"
      ],
      "text/plain": [
       "HBox(children=(IntProgress(value=1, bar_style='info', max=1), HTML(value='')))"
      ]
     },
     "metadata": {},
     "output_type": "display_data"
    },
    {
     "name": "stdout",
     "output_type": "stream",
     "text": [
      "# of combinations for subset size 4: 1\n"
     ]
    },
    {
     "data": {
      "application/vnd.jupyter.widget-view+json": {
       "model_id": "9d9ebd0b01484f299d9e689daf31b649",
       "version_major": 2,
       "version_minor": 0
      },
      "text/html": [
       "<p>Failed to display Jupyter Widget of type <code>HBox</code>.</p>\n",
       "<p>\n",
       "  If you're reading this message in the Jupyter Notebook or JupyterLab Notebook, it may mean\n",
       "  that the widgets JavaScript is still loading. If this message persists, it\n",
       "  likely means that the widgets JavaScript library is either not installed or\n",
       "  not enabled. See the <a href=\"https://ipywidgets.readthedocs.io/en/stable/user_install.html\">Jupyter\n",
       "  Widgets Documentation</a> for setup instructions.\n",
       "</p>\n",
       "<p>\n",
       "  If you're reading this message in another frontend (for example, a static\n",
       "  rendering on GitHub or <a href=\"https://nbviewer.jupyter.org/\">NBViewer</a>),\n",
       "  it may mean that your frontend doesn't currently support widgets.\n",
       "</p>\n"
      ],
      "text/plain": [
       "HBox(children=(IntProgress(value=1, bar_style='info', max=1), HTML(value='')))"
      ]
     },
     "metadata": {},
     "output_type": "display_data"
    }
   ],
   "source": [
    "result = model_evaluation(merged, min_feats=2, sort='fscore', cat_vars=cat_feat_set, cont_vars=cont_feat_set)"
   ]
  },
  {
   "cell_type": "code",
   "execution_count": 126,
   "metadata": {},
   "outputs": [
    {
     "data": {
      "text/html": [
       "<div>\n",
       "<style scoped>\n",
       "    .dataframe tbody tr th:only-of-type {\n",
       "        vertical-align: middle;\n",
       "    }\n",
       "\n",
       "    .dataframe tbody tr th {\n",
       "        vertical-align: top;\n",
       "    }\n",
       "\n",
       "    .dataframe thead th {\n",
       "        text-align: right;\n",
       "    }\n",
       "</style>\n",
       "<table border=\"1\" class=\"dataframe\">\n",
       "  <thead>\n",
       "    <tr style=\"text-align: right;\">\n",
       "      <th></th>\n",
       "      <th>fscore</th>\n",
       "      <th>features</th>\n",
       "      <th>auc</th>\n",
       "      <th>feat_importance</th>\n",
       "      <th>num_features</th>\n",
       "    </tr>\n",
       "  </thead>\n",
       "  <tbody>\n",
       "    <tr>\n",
       "      <th>0</th>\n",
       "      <td>0.714200</td>\n",
       "      <td>marry_binary, gleason</td>\n",
       "      <td>0.765810</td>\n",
       "      <td>Not Married: 0.03515698074864761, 7.0: 0.96484...</td>\n",
       "      <td>2</td>\n",
       "    </tr>\n",
       "    <tr>\n",
       "      <th>0</th>\n",
       "      <td>0.713641</td>\n",
       "      <td>gleason, edu_binary</td>\n",
       "      <td>0.767060</td>\n",
       "      <td>7.0: 0.9342252557818455, No College Degree: 0....</td>\n",
       "      <td>2</td>\n",
       "    </tr>\n",
       "    <tr>\n",
       "      <th>0</th>\n",
       "      <td>0.705883</td>\n",
       "      <td>marry_binary, gleason, edu_binary</td>\n",
       "      <td>0.758385</td>\n",
       "      <td>Not Married: 0.03913995449133547, 7.0: 0.88577...</td>\n",
       "      <td>3</td>\n",
       "    </tr>\n",
       "    <tr>\n",
       "      <th>0</th>\n",
       "      <td>0.634528</td>\n",
       "      <td>marry_binary, gleason, age</td>\n",
       "      <td>0.707258</td>\n",
       "      <td>age: 0.5611225693415214, Not Married: 0.025938...</td>\n",
       "      <td>3</td>\n",
       "    </tr>\n",
       "    <tr>\n",
       "      <th>0</th>\n",
       "      <td>0.617423</td>\n",
       "      <td>gleason, age</td>\n",
       "      <td>0.695929</td>\n",
       "      <td>age: 0.48647022031092496, 7.0: 0.513529779689075</td>\n",
       "      <td>2</td>\n",
       "    </tr>\n",
       "    <tr>\n",
       "      <th>0</th>\n",
       "      <td>0.615006</td>\n",
       "      <td>marry_binary, gleason, edu_binary, age</td>\n",
       "      <td>0.695933</td>\n",
       "      <td>age: 0.5027569207492849, Not Married: 0.041251...</td>\n",
       "      <td>4</td>\n",
       "    </tr>\n",
       "    <tr>\n",
       "      <th>0</th>\n",
       "      <td>0.612877</td>\n",
       "      <td>gleason, edu_binary, age</td>\n",
       "      <td>0.688056</td>\n",
       "      <td>age: 0.5301154529826299, 7.0: 0.42540725250057...</td>\n",
       "      <td>3</td>\n",
       "    </tr>\n",
       "    <tr>\n",
       "      <th>0</th>\n",
       "      <td>0.421683</td>\n",
       "      <td>marry_binary, edu_binary, age</td>\n",
       "      <td>0.564925</td>\n",
       "      <td>age: 0.9018332672052193, Not Married: 0.035947...</td>\n",
       "      <td>3</td>\n",
       "    </tr>\n",
       "    <tr>\n",
       "      <th>0</th>\n",
       "      <td>0.411335</td>\n",
       "      <td>edu_binary, age</td>\n",
       "      <td>0.563885</td>\n",
       "      <td>age: 0.9322607619754328, No College Degree: 0....</td>\n",
       "      <td>2</td>\n",
       "    </tr>\n",
       "    <tr>\n",
       "      <th>0</th>\n",
       "      <td>0.401394</td>\n",
       "      <td>marry_binary, age</td>\n",
       "      <td>0.566444</td>\n",
       "      <td>age: 0.9619505225710205, Not Married: 0.038049...</td>\n",
       "      <td>2</td>\n",
       "    </tr>\n",
       "    <tr>\n",
       "      <th>0</th>\n",
       "      <td>NaN</td>\n",
       "      <td>marry_binary, edu_binary</td>\n",
       "      <td>0.500000</td>\n",
       "      <td>Not Married: 0.29946795376648966, No College D...</td>\n",
       "      <td>2</td>\n",
       "    </tr>\n",
       "  </tbody>\n",
       "</table>\n",
       "</div>"
      ],
      "text/plain": [
       "     fscore                                features       auc  \\\n",
       "0  0.714200                   marry_binary, gleason  0.765810   \n",
       "0  0.713641                     gleason, edu_binary  0.767060   \n",
       "0  0.705883       marry_binary, gleason, edu_binary  0.758385   \n",
       "0  0.634528              marry_binary, gleason, age  0.707258   \n",
       "0  0.617423                            gleason, age  0.695929   \n",
       "0  0.615006  marry_binary, gleason, edu_binary, age  0.695933   \n",
       "0  0.612877                gleason, edu_binary, age  0.688056   \n",
       "0  0.421683           marry_binary, edu_binary, age  0.564925   \n",
       "0  0.411335                         edu_binary, age  0.563885   \n",
       "0  0.401394                       marry_binary, age  0.566444   \n",
       "0       NaN                marry_binary, edu_binary  0.500000   \n",
       "\n",
       "                                     feat_importance  num_features  \n",
       "0  Not Married: 0.03515698074864761, 7.0: 0.96484...             2  \n",
       "0  7.0: 0.9342252557818455, No College Degree: 0....             2  \n",
       "0  Not Married: 0.03913995449133547, 7.0: 0.88577...             3  \n",
       "0  age: 0.5611225693415214, Not Married: 0.025938...             3  \n",
       "0   age: 0.48647022031092496, 7.0: 0.513529779689075             2  \n",
       "0  age: 0.5027569207492849, Not Married: 0.041251...             4  \n",
       "0  age: 0.5301154529826299, 7.0: 0.42540725250057...             3  \n",
       "0  age: 0.9018332672052193, Not Married: 0.035947...             3  \n",
       "0  age: 0.9322607619754328, No College Degree: 0....             2  \n",
       "0  age: 0.9619505225710205, Not Married: 0.038049...             2  \n",
       "0  Not Married: 0.29946795376648966, No College D...             2  "
      ]
     },
     "execution_count": 126,
     "metadata": {},
     "output_type": "execute_result"
    }
   ],
   "source": [
    "result"
   ]
  },
  {
   "cell_type": "code",
   "execution_count": 127,
   "metadata": {},
   "outputs": [
    {
     "name": "stdout",
     "output_type": "stream",
     "text": [
      "# of combinations for subset size 2: 6\n"
     ]
    },
    {
     "data": {
      "application/vnd.jupyter.widget-view+json": {
       "model_id": "5b2ec20da5ae43609f9b23a1e25881ac",
       "version_major": 2,
       "version_minor": 0
      },
      "text/html": [
       "<p>Failed to display Jupyter Widget of type <code>HBox</code>.</p>\n",
       "<p>\n",
       "  If you're reading this message in the Jupyter Notebook or JupyterLab Notebook, it may mean\n",
       "  that the widgets JavaScript is still loading. If this message persists, it\n",
       "  likely means that the widgets JavaScript library is either not installed or\n",
       "  not enabled. See the <a href=\"https://ipywidgets.readthedocs.io/en/stable/user_install.html\">Jupyter\n",
       "  Widgets Documentation</a> for setup instructions.\n",
       "</p>\n",
       "<p>\n",
       "  If you're reading this message in another frontend (for example, a static\n",
       "  rendering on GitHub or <a href=\"https://nbviewer.jupyter.org/\">NBViewer</a>),\n",
       "  it may mean that your frontend doesn't currently support widgets.\n",
       "</p>\n"
      ],
      "text/plain": [
       "HBox(children=(IntProgress(value=1, bar_style='info', max=1), HTML(value='')))"
      ]
     },
     "metadata": {},
     "output_type": "display_data"
    },
    {
     "name": "stdout",
     "output_type": "stream",
     "text": [
      "# of combinations for subset size 3: 4\n"
     ]
    },
    {
     "data": {
      "application/vnd.jupyter.widget-view+json": {
       "model_id": "ffa1863f1fde4deaa627e62792a4f7dc",
       "version_major": 2,
       "version_minor": 0
      },
      "text/html": [
       "<p>Failed to display Jupyter Widget of type <code>HBox</code>.</p>\n",
       "<p>\n",
       "  If you're reading this message in the Jupyter Notebook or JupyterLab Notebook, it may mean\n",
       "  that the widgets JavaScript is still loading. If this message persists, it\n",
       "  likely means that the widgets JavaScript library is either not installed or\n",
       "  not enabled. See the <a href=\"https://ipywidgets.readthedocs.io/en/stable/user_install.html\">Jupyter\n",
       "  Widgets Documentation</a> for setup instructions.\n",
       "</p>\n",
       "<p>\n",
       "  If you're reading this message in another frontend (for example, a static\n",
       "  rendering on GitHub or <a href=\"https://nbviewer.jupyter.org/\">NBViewer</a>),\n",
       "  it may mean that your frontend doesn't currently support widgets.\n",
       "</p>\n"
      ],
      "text/plain": [
       "HBox(children=(IntProgress(value=1, bar_style='info', max=1), HTML(value='')))"
      ]
     },
     "metadata": {},
     "output_type": "display_data"
    },
    {
     "name": "stdout",
     "output_type": "stream",
     "text": [
      "# of combinations for subset size 4: 1\n"
     ]
    },
    {
     "data": {
      "application/vnd.jupyter.widget-view+json": {
       "model_id": "605a03eddf4e4c9aa2043a3c0cc8da8a",
       "version_major": 2,
       "version_minor": 0
      },
      "text/html": [
       "<p>Failed to display Jupyter Widget of type <code>HBox</code>.</p>\n",
       "<p>\n",
       "  If you're reading this message in the Jupyter Notebook or JupyterLab Notebook, it may mean\n",
       "  that the widgets JavaScript is still loading. If this message persists, it\n",
       "  likely means that the widgets JavaScript library is either not installed or\n",
       "  not enabled. See the <a href=\"https://ipywidgets.readthedocs.io/en/stable/user_install.html\">Jupyter\n",
       "  Widgets Documentation</a> for setup instructions.\n",
       "</p>\n",
       "<p>\n",
       "  If you're reading this message in another frontend (for example, a static\n",
       "  rendering on GitHub or <a href=\"https://nbviewer.jupyter.org/\">NBViewer</a>),\n",
       "  it may mean that your frontend doesn't currently support widgets.\n",
       "</p>\n"
      ],
      "text/plain": [
       "HBox(children=(IntProgress(value=1, bar_style='info', max=1), HTML(value='')))"
      ]
     },
     "metadata": {},
     "output_type": "display_data"
    }
   ],
   "source": [
    "result2 = model_evaluation(merged, algorithm='lr', min_feats=2, sort='fscore', cat_vars=cat_feat_set, cont_vars=cont_feat_set)"
   ]
  },
  {
   "cell_type": "code",
   "execution_count": 128,
   "metadata": {},
   "outputs": [
    {
     "data": {
      "text/html": [
       "<div>\n",
       "<style scoped>\n",
       "    .dataframe tbody tr th:only-of-type {\n",
       "        vertical-align: middle;\n",
       "    }\n",
       "\n",
       "    .dataframe tbody tr th {\n",
       "        vertical-align: top;\n",
       "    }\n",
       "\n",
       "    .dataframe thead th {\n",
       "        text-align: right;\n",
       "    }\n",
       "</style>\n",
       "<table border=\"1\" class=\"dataframe\">\n",
       "  <thead>\n",
       "    <tr style=\"text-align: right;\">\n",
       "      <th></th>\n",
       "      <th>fscore</th>\n",
       "      <th>features</th>\n",
       "      <th>auc</th>\n",
       "      <th>feat_importance</th>\n",
       "      <th>num_features</th>\n",
       "    </tr>\n",
       "  </thead>\n",
       "  <tbody>\n",
       "    <tr>\n",
       "      <th>0</th>\n",
       "      <td>0.715252</td>\n",
       "      <td>marry_binary, gleason, edu_binary</td>\n",
       "      <td>0.765929</td>\n",
       "      <td>Not Married: 0.3233063689907592, 7.0: -2.19513...</td>\n",
       "      <td>3</td>\n",
       "    </tr>\n",
       "    <tr>\n",
       "      <th>0</th>\n",
       "      <td>0.714162</td>\n",
       "      <td>gleason, edu_binary</td>\n",
       "      <td>0.767452</td>\n",
       "      <td>7.0: -2.2758832305504684, No College Degree: 0...</td>\n",
       "      <td>2</td>\n",
       "    </tr>\n",
       "    <tr>\n",
       "      <th>0</th>\n",
       "      <td>0.713834</td>\n",
       "      <td>marry_binary, gleason</td>\n",
       "      <td>0.765833</td>\n",
       "      <td>Not Married: 0.4033031488316615, 7.0: -2.35929...</td>\n",
       "      <td>2</td>\n",
       "    </tr>\n",
       "    <tr>\n",
       "      <th>0</th>\n",
       "      <td>0.686561</td>\n",
       "      <td>marry_binary, gleason, age</td>\n",
       "      <td>0.749091</td>\n",
       "      <td>age: 0.7142567727187229, Not Married: 0.521025...</td>\n",
       "      <td>3</td>\n",
       "    </tr>\n",
       "    <tr>\n",
       "      <th>0</th>\n",
       "      <td>0.675332</td>\n",
       "      <td>marry_binary, gleason, edu_binary, age</td>\n",
       "      <td>0.736286</td>\n",
       "      <td>age: 0.7085023472310987, Not Married: 0.449471...</td>\n",
       "      <td>4</td>\n",
       "    </tr>\n",
       "    <tr>\n",
       "      <th>0</th>\n",
       "      <td>0.671233</td>\n",
       "      <td>gleason, age</td>\n",
       "      <td>0.734274</td>\n",
       "      <td>age: 0.5615745136030384, 7.0: -2.4499931567908733</td>\n",
       "      <td>2</td>\n",
       "    </tr>\n",
       "    <tr>\n",
       "      <th>0</th>\n",
       "      <td>0.663497</td>\n",
       "      <td>gleason, edu_binary, age</td>\n",
       "      <td>0.729679</td>\n",
       "      <td>age: 0.6650150925791773, 7.0: -2.4086887905512...</td>\n",
       "      <td>3</td>\n",
       "    </tr>\n",
       "    <tr>\n",
       "      <th>0</th>\n",
       "      <td>0.274266</td>\n",
       "      <td>edu_binary, age</td>\n",
       "      <td>0.550508</td>\n",
       "      <td>age: 0.4608322047864485, No College Degree: 0....</td>\n",
       "      <td>2</td>\n",
       "    </tr>\n",
       "    <tr>\n",
       "      <th>0</th>\n",
       "      <td>0.257041</td>\n",
       "      <td>marry_binary, edu_binary, age</td>\n",
       "      <td>0.535992</td>\n",
       "      <td>age: 0.4241326733270607, Not Married: 0.167281...</td>\n",
       "      <td>3</td>\n",
       "    </tr>\n",
       "    <tr>\n",
       "      <th>0</th>\n",
       "      <td>0.175061</td>\n",
       "      <td>marry_binary, age</td>\n",
       "      <td>0.514135</td>\n",
       "      <td>age: 0.37296155514055745, Not Married: 0.40515...</td>\n",
       "      <td>2</td>\n",
       "    </tr>\n",
       "    <tr>\n",
       "      <th>0</th>\n",
       "      <td>NaN</td>\n",
       "      <td>marry_binary, edu_binary</td>\n",
       "      <td>0.500000</td>\n",
       "      <td>Not Married: 0.15411593003311644, No College D...</td>\n",
       "      <td>2</td>\n",
       "    </tr>\n",
       "  </tbody>\n",
       "</table>\n",
       "</div>"
      ],
      "text/plain": [
       "     fscore                                features       auc  \\\n",
       "0  0.715252       marry_binary, gleason, edu_binary  0.765929   \n",
       "0  0.714162                     gleason, edu_binary  0.767452   \n",
       "0  0.713834                   marry_binary, gleason  0.765833   \n",
       "0  0.686561              marry_binary, gleason, age  0.749091   \n",
       "0  0.675332  marry_binary, gleason, edu_binary, age  0.736286   \n",
       "0  0.671233                            gleason, age  0.734274   \n",
       "0  0.663497                gleason, edu_binary, age  0.729679   \n",
       "0  0.274266                         edu_binary, age  0.550508   \n",
       "0  0.257041           marry_binary, edu_binary, age  0.535992   \n",
       "0  0.175061                       marry_binary, age  0.514135   \n",
       "0       NaN                marry_binary, edu_binary  0.500000   \n",
       "\n",
       "                                     feat_importance  num_features  \n",
       "0  Not Married: 0.3233063689907592, 7.0: -2.19513...             3  \n",
       "0  7.0: -2.2758832305504684, No College Degree: 0...             2  \n",
       "0  Not Married: 0.4033031488316615, 7.0: -2.35929...             2  \n",
       "0  age: 0.7142567727187229, Not Married: 0.521025...             3  \n",
       "0  age: 0.7085023472310987, Not Married: 0.449471...             4  \n",
       "0  age: 0.5615745136030384, 7.0: -2.4499931567908733             2  \n",
       "0  age: 0.6650150925791773, 7.0: -2.4086887905512...             3  \n",
       "0  age: 0.4608322047864485, No College Degree: 0....             2  \n",
       "0  age: 0.4241326733270607, Not Married: 0.167281...             3  \n",
       "0  age: 0.37296155514055745, Not Married: 0.40515...             2  \n",
       "0  Not Married: 0.15411593003311644, No College D...             2  "
      ]
     },
     "execution_count": 128,
     "metadata": {},
     "output_type": "execute_result"
    }
   ],
   "source": [
    "result2"
   ]
  },
  {
   "cell_type": "code",
   "execution_count": 133,
   "metadata": {},
   "outputs": [
    {
     "data": {
      "text/plain": [
       "'Not Married: 0.3233063689907592, 7.0: -2.195132471760106, No College Degree: 0.41054528017780667'"
      ]
     },
     "execution_count": 133,
     "metadata": {},
     "output_type": "execute_result"
    }
   ],
   "source": [
    "result2.iloc[0]['feat_importance']"
   ]
  },
  {
   "cell_type": "code",
   "execution_count": 148,
   "metadata": {},
   "outputs": [
    {
     "name": "stdout",
     "output_type": "stream",
     "text": [
      "# of Data Points: 390\n"
     ]
    }
   ],
   "source": [
    "model_df = gm.prepare_df(merged, cat_vars=['gleason', 'edu_binary', 'marry_binary'], cont_vars=[])"
   ]
  },
  {
   "cell_type": "code",
   "execution_count": 149,
   "metadata": {},
   "outputs": [
    {
     "data": {
      "application/vnd.jupyter.widget-view+json": {
       "model_id": "3165bb3c206f43538625102a4322d7e0",
       "version_major": 2,
       "version_minor": 0
      },
      "text/html": [
       "<p>Failed to display Jupyter Widget of type <code>HBox</code>.</p>\n",
       "<p>\n",
       "  If you're reading this message in the Jupyter Notebook or JupyterLab Notebook, it may mean\n",
       "  that the widgets JavaScript is still loading. If this message persists, it\n",
       "  likely means that the widgets JavaScript library is either not installed or\n",
       "  not enabled. See the <a href=\"https://ipywidgets.readthedocs.io/en/stable/user_install.html\">Jupyter\n",
       "  Widgets Documentation</a> for setup instructions.\n",
       "</p>\n",
       "<p>\n",
       "  If you're reading this message in another frontend (for example, a static\n",
       "  rendering on GitHub or <a href=\"https://nbviewer.jupyter.org/\">NBViewer</a>),\n",
       "  it may mean that your frontend doesn't currently support widgets.\n",
       "</p>\n"
      ],
      "text/plain": [
       "HBox(children=(IntProgress(value=1, bar_style='info', max=1), HTML(value='')))"
      ]
     },
     "metadata": {},
     "output_type": "display_data"
    },
    {
     "name": "stdout",
     "output_type": "stream",
     "text": [
      "\n",
      "F-score: 0.716\n",
      "AUC: 0.766\n"
     ]
    },
    {
     "data": {
      "text/plain": [
       "(0.7158392319236815,\n",
       " {'negative precision': 0.8681922139309068,\n",
       "  'negative recall': 0.7180555555555556,\n",
       "  'positive precision': 0.6388248546010361,\n",
       "  'positive recall': 0.8139682539682541},\n",
       " 0.7660119047619048,\n",
       "              Feature    Weight\n",
       " 0                  7 -2.158512\n",
       " 1  No College Degree  0.432922\n",
       " 2        Not Married  0.335120)"
      ]
     },
     "execution_count": 149,
     "metadata": {},
     "output_type": "execute_result"
    }
   ],
   "source": [
    "gm.general_model(model_df, algorithm='lr')"
   ]
  },
  {
   "cell_type": "code",
   "execution_count": null,
   "metadata": {},
   "outputs": [],
   "source": []
  }
 ],
 "metadata": {
  "kernelspec": {
   "display_name": "Python 3",
   "language": "python",
   "name": "python3"
  },
  "language_info": {
   "codemirror_mode": {
    "name": "ipython",
    "version": 3
   },
   "file_extension": ".py",
   "mimetype": "text/x-python",
   "name": "python",
   "nbconvert_exporter": "python",
   "pygments_lexer": "ipython3",
   "version": "3.6.4"
  }
 },
 "nbformat": 4,
 "nbformat_minor": 2
}
