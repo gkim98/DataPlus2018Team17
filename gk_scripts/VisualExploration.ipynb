{
 "cells": [
  {
   "cell_type": "markdown",
   "metadata": {},
   "source": [
    "# Visual Exploration"
   ]
  },
  {
   "cell_type": "markdown",
   "metadata": {},
   "source": [
    "As we move into feature engineering, we will begin by visualizing the data to see if there are any interesting trends."
   ]
  },
  {
   "cell_type": "code",
   "execution_count": 3,
   "metadata": {},
   "outputs": [],
   "source": [
    "import numpy as np\n",
    "import pandas as pd\n",
    "import matplotlib.pyplot as plt\n",
    "import seaborn as sns\n",
    "%matplotlib inline"
   ]
  },
  {
   "cell_type": "code",
   "execution_count": 5,
   "metadata": {},
   "outputs": [],
   "source": [
    "# retrieve data\n",
    "merged = pd.read_csv('../../DataPlus/all_data_merged.csv')\n",
    "va_original = pd.read_csv('../../DataPlus/data/VA_Original.csv')\n",
    "dvd_original = pd.read_csv('../../DataPlus/data/DVD_Original.csv')"
   ]
  },
  {
   "cell_type": "markdown",
   "metadata": {},
   "source": [
    "## Create Origin Dataset Variable"
   ]
  },
  {
   "cell_type": "markdown",
   "metadata": {},
   "source": [
    "Creates variable for which study the patient came from"
   ]
  },
  {
   "cell_type": "code",
   "execution_count": 6,
   "metadata": {},
   "outputs": [],
   "source": [
    "orig_data = []\n",
    "for i in range(len(va_original.index)):\n",
    "    orig_data.append(\"va\")\n",
    "for i in range(len(dvd_original.index)):\n",
    "    orig_data.append(\"dvd\")\n",
    "merged['dataset'] = np.asarray(orig_data)"
   ]
  },
  {
   "cell_type": "markdown",
   "metadata": {},
   "source": [
    "## Other Tools"
   ]
  },
  {
   "cell_type": "code",
   "execution_count": 21,
   "metadata": {},
   "outputs": [],
   "source": [
    "# shows data in graphs in numerical form\n",
    "def num_breakdown(df, group_var, hue_var):\n",
    "    groups = df.groupby(group_var)\n",
    "    \n",
    "    # first groupby breakdown\n",
    "    for name, group in groups:\n",
    "        print('{}: '.format(str(name).upper()))\n",
    "        for hue_name, hue_group in group.groupby(hue_var):\n",
    "            percentage = round((len(hue_group.index) / len(group[hue_var].dropna().index)) * 100, 1)\n",
    "            print('{} - {}%'.format(hue_name, percentage))\n",
    "        print()"
   ]
  },
  {
   "cell_type": "code",
   "execution_count": 15,
   "metadata": {},
   "outputs": [],
   "source": [
    "# prints the key for graph labels\n",
    "def print_key(mapping):\n",
    "    key = 'Key:\\n' \n",
    "    for k, v in mapping.items():\n",
    "        key += '{}: {}\\n'.format(k, v)\n",
    "    print(key)"
   ]
  },
  {
   "cell_type": "markdown",
   "metadata": {},
   "source": [
    "## General"
   ]
  },
  {
   "cell_type": "code",
   "execution_count": 45,
   "metadata": {},
   "outputs": [
    {
     "data": {
      "text/plain": [
       "<matplotlib.axes._subplots.AxesSubplot at 0x21676ff69b0>"
      ]
     },
     "execution_count": 45,
     "metadata": {},
     "output_type": "execute_result"
    },
    {
     "data": {
      "image/png": "[encoded data removed]",
      "text/plain": [
       "<matplotlib.figure.Figure at 0x2167700bf98>"
      ]
     },
     "metadata": {},
     "output_type": "display_data"
    }
   ],
   "source": [
    "sns.countplot(x='dataset', data=merged)"
   ]
  },
  {
   "cell_type": "code",
   "execution_count": 67,
   "metadata": {},
   "outputs": [
    {
     "data": {
      "text/plain": [
       "<matplotlib.axes._subplots.AxesSubplot at 0x21678b5b2e8>"
      ]
     },
     "execution_count": 67,
     "metadata": {},
     "output_type": "execute_result"
    },
    {
     "data": {
      "image/png": "[encoded data removed]",
      "text/plain": [
       "<matplotlib.figure.Figure at 0x216771629e8>"
      ]
     },
     "metadata": {},
     "output_type": "display_data"
    }
   ],
   "source": [
    "sns.countplot(x='txgot_binary', data=merged)"
   ]
  },
  {
   "cell_type": "code",
   "execution_count": 69,
   "metadata": {},
   "outputs": [
    {
     "data": {
      "text/plain": [
       "<matplotlib.axes._subplots.AxesSubplot at 0x216785c2358>"
      ]
     },
     "execution_count": 69,
     "metadata": {},
     "output_type": "execute_result"
    },
    {
     "data": {
      "image/png": "[encoded data removed]",
      "text/plain": [
       "<matplotlib.figure.Figure at 0x21678bb65f8>"
      ]
     },
     "metadata": {},
     "output_type": "display_data"
    }
   ],
   "source": [
    "sns.countplot(x='gleason', data=merged, hue='dataset')"
   ]
  },
  {
   "cell_type": "code",
   "execution_count": 70,
   "metadata": {},
   "outputs": [
    {
     "name": "stdout",
     "output_type": "stream",
     "text": [
      "6.0: \n",
      "dvd - 41.6%\n",
      "va - 58.4%\n",
      "\n",
      "7.0: \n",
      "dvd - 47.5%\n",
      "va - 52.5%\n",
      "\n"
     ]
    }
   ],
   "source": [
    "num_breakdown(merged, 'gleason', 'dataset')"
   ]
  },
  {
   "cell_type": "markdown",
   "metadata": {},
   "source": [
    "## Age"
   ]
  },
  {
   "cell_type": "code",
   "execution_count": 9,
   "metadata": {},
   "outputs": [
    {
     "data": {
      "text/plain": [
       "<matplotlib.axes._subplots.AxesSubplot at 0x21675f64828>"
      ]
     },
     "execution_count": 9,
     "metadata": {},
     "output_type": "execute_result"
    },
    {
     "data": {
      "image/png": "[encoded data removed]",
      "text/plain": [
       "<matplotlib.figure.Figure at 0x21675f642b0>"
      ]
     },
     "metadata": {},
     "output_type": "display_data"
    }
   ],
   "source": [
    "sns.distplot(merged['age'].dropna(), kde=False, bins=20)"
   ]
  },
  {
   "cell_type": "code",
   "execution_count": 10,
   "metadata": {},
   "outputs": [
    {
     "data": {
      "image/png": "[encoded data removed]",
      "text/plain": [
       "<matplotlib.figure.Figure at 0x21675f8a8d0>"
      ]
     },
     "metadata": {},
     "output_type": "display_data"
    }
   ],
   "source": [
    "age_face = sns.FacetGrid(merged, row=\"dataset\")\n",
    "age_face = age_face.map(plt.hist, \"age\")"
   ]
  },
  {
   "cell_type": "markdown",
   "metadata": {},
   "source": [
    "## Education"
   ]
  },
  {
   "cell_type": "code",
   "execution_count": 11,
   "metadata": {},
   "outputs": [],
   "source": [
    "edu_map = {\n",
    "    1: 'None', 2: 'Elementary',\n",
    "    3: 'Some High School', 4: 'Complete High School',\n",
    "    5: 'Trade School', 6: 'Some College', 7: \"Associate's Degree\",\n",
    "    8: \"Bachelor's Degree\", 9: \"Master's Degree\", 10: \"Doctoral/Professional Degree\"\n",
    "}"
   ]
  },
  {
   "cell_type": "code",
   "execution_count": 16,
   "metadata": {},
   "outputs": [
    {
     "name": "stdout",
     "output_type": "stream",
     "text": [
      "Key:\n",
      "1: None\n",
      "2: Elementary\n",
      "3: Some High School\n",
      "4: Complete High School\n",
      "5: Trade School\n",
      "6: Some College\n",
      "7: Associate's Degree\n",
      "8: Bachelor's Degree\n",
      "9: Master's Degree\n",
      "10: Doctoral/Professional Degree\n",
      "\n"
     ]
    }
   ],
   "source": [
    "print_key(edu_map)"
   ]
  },
  {
   "cell_type": "code",
   "execution_count": 17,
   "metadata": {},
   "outputs": [
    {
     "data": {
      "text/plain": [
       "<matplotlib.axes._subplots.AxesSubplot at 0x21676dc2400>"
      ]
     },
     "execution_count": 17,
     "metadata": {},
     "output_type": "execute_result"
    },
    {
     "data": {
      "image/png": "[encoded data removed]",
      "text/plain": [
       "<matplotlib.figure.Figure at 0x216768883c8>"
      ]
     },
     "metadata": {},
     "output_type": "display_data"
    }
   ],
   "source": [
    "sns.countplot(x='education', data=merged, hue='txgot_binary')"
   ]
  },
  {
   "cell_type": "code",
   "execution_count": 22,
   "metadata": {},
   "outputs": [
    {
     "name": "stdout",
     "output_type": "stream",
     "text": [
      "2.0: \n",
      "\n",
      "3.0: \n",
      "0.0 - 50.0%\n",
      "1.0 - 50.0%\n",
      "\n",
      "4.0: \n",
      "0.0 - 54.3%\n",
      "1.0 - 45.7%\n",
      "\n",
      "5.0: \n",
      "0.0 - 69.2%\n",
      "1.0 - 30.8%\n",
      "\n",
      "6.0: \n",
      "0.0 - 57.7%\n",
      "1.0 - 42.3%\n",
      "\n",
      "7.0: \n",
      "0.0 - 63.4%\n",
      "1.0 - 36.6%\n",
      "\n",
      "8.0: \n",
      "0.0 - 70.7%\n",
      "1.0 - 29.3%\n",
      "\n",
      "9.0: \n",
      "0.0 - 70.0%\n",
      "1.0 - 30.0%\n",
      "\n",
      "10.0: \n",
      "0.0 - 69.2%\n",
      "1.0 - 30.8%\n",
      "\n"
     ]
    }
   ],
   "source": [
    "num_breakdown(merged, 'education', 'txgot_binary')"
   ]
  },
  {
   "cell_type": "code",
   "execution_count": 23,
   "metadata": {},
   "outputs": [
    {
     "data": {
      "text/plain": [
       "<matplotlib.axes._subplots.AxesSubplot at 0x21676d9ef28>"
      ]
     },
     "execution_count": 23,
     "metadata": {},
     "output_type": "execute_result"
    },
    {
     "data": {
      "image/png": "[encoded data removed]",
      "text/plain": [
       "<matplotlib.figure.Figure at 0x2166f645a20>"
      ]
     },
     "metadata": {},
     "output_type": "display_data"
    }
   ],
   "source": [
    "sns.countplot(x='education', data=merged, hue='dataset')"
   ]
  },
  {
   "cell_type": "markdown",
   "metadata": {},
   "source": [
    "## Race"
   ]
  },
  {
   "cell_type": "code",
   "execution_count": 24,
   "metadata": {},
   "outputs": [],
   "source": [
    "# combines race into one variable\n",
    "def code_race(merged):\n",
    "    new_col = []\n",
    "    found_race = False\n",
    "    for i in range(len(merged.index)):\n",
    "        found_race = False\n",
    "        for race in ['arabme', 'asian', 'black', 'hispanic', 'native', 'pacific', 'white', 'raceother']:\n",
    "            if merged[race][i] == 1:\n",
    "                new_col.append(race)\n",
    "                found_race = True\n",
    "                break\n",
    "        if not found_race:\n",
    "            new_col.append(np.nan)\n",
    "    return new_col"
   ]
  },
  {
   "cell_type": "code",
   "execution_count": 25,
   "metadata": {},
   "outputs": [],
   "source": [
    "merged['combined_race'] = code_race(merged)"
   ]
  },
  {
   "cell_type": "code",
   "execution_count": 26,
   "metadata": {},
   "outputs": [
    {
     "data": {
      "text/plain": [
       "<matplotlib.axes._subplots.AxesSubplot at 0x21677345668>"
      ]
     },
     "execution_count": 26,
     "metadata": {},
     "output_type": "execute_result"
    },
    {
     "data": {
      "image/png": "[encoded data removed]",
      "text/plain": [
       "<matplotlib.figure.Figure at 0x21677802eb8>"
      ]
     },
     "metadata": {},
     "output_type": "display_data"
    }
   ],
   "source": [
    "sns.countplot(x='combined_race', data=merged)"
   ]
  },
  {
   "cell_type": "code",
   "execution_count": 27,
   "metadata": {},
   "outputs": [
    {
     "data": {
      "text/plain": [
       "<matplotlib.axes._subplots.AxesSubplot at 0x21677a02f60>"
      ]
     },
     "execution_count": 27,
     "metadata": {},
     "output_type": "execute_result"
    },
    {
     "data": {
      "image/png": "[encoded data removed]",
      "text/plain": [
       "<matplotlib.figure.Figure at 0x2167779c898>"
      ]
     },
     "metadata": {},
     "output_type": "display_data"
    }
   ],
   "source": [
    "sns.countplot(x='combined_race', data=merged, hue='dataset')"
   ]
  },
  {
   "cell_type": "code",
   "execution_count": 28,
   "metadata": {},
   "outputs": [],
   "source": [
    "# because minority is sparse, we create a binary caucasian variable\n",
    "def white_coding(race_col):\n",
    "    new_col = []\n",
    "    for i in range(len(race_col.index)):\n",
    "        if isinstance(race_col[i], str):\n",
    "            if race_col[i] == 'white':\n",
    "                new_col.append(1)\n",
    "            else:\n",
    "                new_col.append(0)\n",
    "        else:\n",
    "            new_col.append(np.nan)\n",
    "    return np.asarray(new_col)"
   ]
  },
  {
   "cell_type": "code",
   "execution_count": 29,
   "metadata": {},
   "outputs": [],
   "source": [
    "merged['white_binary'] = white_coding(merged['combined_race'])"
   ]
  },
  {
   "cell_type": "code",
   "execution_count": 30,
   "metadata": {},
   "outputs": [
    {
     "data": {
      "text/plain": [
       "<matplotlib.axes._subplots.AxesSubplot at 0x216777188d0>"
      ]
     },
     "execution_count": 30,
     "metadata": {},
     "output_type": "execute_result"
    },
    {
     "data": {
      "image/png": "[encoded data removed]",
      "text/plain": [
       "<matplotlib.figure.Figure at 0x216779dccf8>"
      ]
     },
     "metadata": {},
     "output_type": "display_data"
    }
   ],
   "source": [
    "sns.countplot(x='white_binary', data=merged, hue='txgot_binary')"
   ]
  },
  {
   "cell_type": "code",
   "execution_count": 31,
   "metadata": {},
   "outputs": [
    {
     "name": "stdout",
     "output_type": "stream",
     "text": [
      "0.0: \n",
      "0.0 - 61.9%\n",
      "1.0 - 38.1%\n",
      "\n",
      "1.0: \n",
      "0.0 - 63.2%\n",
      "1.0 - 36.8%\n",
      "\n"
     ]
    }
   ],
   "source": [
    "num_breakdown(merged, 'white_binary', 'txgot_binary')"
   ]
  },
  {
   "cell_type": "code",
   "execution_count": 32,
   "metadata": {},
   "outputs": [
    {
     "data": {
      "text/plain": [
       "<matplotlib.axes._subplots.AxesSubplot at 0x216777ef048>"
      ]
     },
     "execution_count": 32,
     "metadata": {},
     "output_type": "execute_result"
    },
    {
     "data": {
      "image/png": "[encoded data removed]",
      "text/plain": [
       "<matplotlib.figure.Figure at 0x216775919b0>"
      ]
     },
     "metadata": {},
     "output_type": "display_data"
    }
   ],
   "source": [
    "sns.countplot(x='gleason', data=merged, hue='white_binary')"
   ]
  },
  {
   "cell_type": "code",
   "execution_count": 33,
   "metadata": {},
   "outputs": [
    {
     "name": "stdout",
     "output_type": "stream",
     "text": [
      "6.0: \n",
      "0.0 - 21.6%\n",
      "1.0 - 78.4%\n",
      "\n",
      "7.0: \n",
      "0.0 - 23.6%\n",
      "1.0 - 76.4%\n",
      "\n"
     ]
    }
   ],
   "source": [
    "num_breakdown(merged, 'gleason', 'white_binary')"
   ]
  },
  {
   "cell_type": "markdown",
   "metadata": {},
   "source": [
    "## Relationship Status"
   ]
  },
  {
   "cell_type": "code",
   "execution_count": 34,
   "metadata": {},
   "outputs": [],
   "source": [
    "marry_map = {\n",
    "    1: 'Married', 2: 'Widowed', 3: 'Divorced', 4: 'Separated from Spouse',\n",
    "    5: 'Never Married'\n",
    "}"
   ]
  },
  {
   "cell_type": "code",
   "execution_count": 35,
   "metadata": {},
   "outputs": [
    {
     "name": "stdout",
     "output_type": "stream",
     "text": [
      "Key:\n",
      "1: Married\n",
      "2: Widowed\n",
      "3: Divorced\n",
      "4: Separated from Spouse\n",
      "5: Never Married\n",
      "\n"
     ]
    }
   ],
   "source": [
    "print_key(marry_map)"
   ]
  },
  {
   "cell_type": "code",
   "execution_count": 36,
   "metadata": {},
   "outputs": [
    {
     "data": {
      "text/plain": [
       "<matplotlib.axes._subplots.AxesSubplot at 0x21677a48438>"
      ]
     },
     "execution_count": 36,
     "metadata": {},
     "output_type": "execute_result"
    },
    {
     "data": {
      "image/png": "[encoded data removed]",
      "text/plain": [
       "<matplotlib.figure.Figure at 0x216778ab780>"
      ]
     },
     "metadata": {},
     "output_type": "display_data"
    }
   ],
   "source": [
    "sns.countplot(x='marry', data=merged, hue='txgot_binary')"
   ]
  },
  {
   "cell_type": "code",
   "execution_count": 37,
   "metadata": {},
   "outputs": [
    {
     "name": "stdout",
     "output_type": "stream",
     "text": [
      "1.0: \n",
      "0.0 - 64.9%\n",
      "1.0 - 35.1%\n",
      "\n",
      "2.0: \n",
      "0.0 - 44.4%\n",
      "1.0 - 55.6%\n",
      "\n",
      "3.0: \n",
      "0.0 - 60.0%\n",
      "1.0 - 40.0%\n",
      "\n",
      "4.0: \n",
      "0.0 - 57.1%\n",
      "1.0 - 42.9%\n",
      "\n",
      "5.0: \n",
      "0.0 - 60.0%\n",
      "1.0 - 40.0%\n",
      "\n"
     ]
    }
   ],
   "source": [
    "num_breakdown(merged, 'marry', 'txgot_binary')"
   ]
  },
  {
   "cell_type": "markdown",
   "metadata": {},
   "source": [
    "## Origin Dataset"
   ]
  },
  {
   "cell_type": "code",
   "execution_count": 38,
   "metadata": {},
   "outputs": [
    {
     "data": {
      "text/plain": [
       "<matplotlib.axes._subplots.AxesSubplot at 0x216777fe4a8>"
      ]
     },
     "execution_count": 38,
     "metadata": {},
     "output_type": "execute_result"
    },
    {
     "data": {
      "image/png": "[encoded data removed]",
      "text/plain": [
       "<matplotlib.figure.Figure at 0x21677aa1908>"
      ]
     },
     "metadata": {},
     "output_type": "display_data"
    }
   ],
   "source": [
    "sns.countplot(x='dataset', data=merged, hue='txgot_binary')"
   ]
  },
  {
   "cell_type": "code",
   "execution_count": 39,
   "metadata": {},
   "outputs": [
    {
     "name": "stdout",
     "output_type": "stream",
     "text": [
      "DVD: \n",
      "0.0 - 73.3%\n",
      "1.0 - 26.7%\n",
      "\n",
      "VA: \n",
      "0.0 - 54.6%\n",
      "1.0 - 45.4%\n",
      "\n"
     ]
    }
   ],
   "source": [
    "num_breakdown(merged, 'dataset', 'txgot_binary')"
   ]
  },
  {
   "cell_type": "markdown",
   "metadata": {},
   "source": [
    "Very different result than when we used our custom-made active_surv variable. It seems that patients in VA had a bigger discrepancy between what they first decided and what they ultimately received."
   ]
  },
  {
   "cell_type": "markdown",
   "metadata": {},
   "source": [
    "## MD Respect"
   ]
  },
  {
   "cell_type": "code",
   "execution_count": 47,
   "metadata": {},
   "outputs": [
    {
     "data": {
      "text/plain": [
       "<matplotlib.axes._subplots.AxesSubplot at 0x216770e5e80>"
      ]
     },
     "execution_count": 47,
     "metadata": {},
     "output_type": "execute_result"
    },
    {
     "data": {
      "image/png": "[encoded data removed]",
      "text/plain": [
       "<matplotlib.figure.Figure at 0x216770a47b8>"
      ]
     },
     "metadata": {},
     "output_type": "display_data"
    }
   ],
   "source": [
    "sns.countplot(x='mdrespme', data=merged, hue='txgot_binary')"
   ]
  },
  {
   "cell_type": "code",
   "execution_count": 49,
   "metadata": {},
   "outputs": [
    {
     "name": "stdout",
     "output_type": "stream",
     "text": [
      "-1.0: \n",
      "0.0 - 100.0%\n",
      "\n",
      "1.0: \n",
      "0.0 - 80.0%\n",
      "1.0 - 20.0%\n",
      "\n",
      "2.0: \n",
      "0.0 - 75.0%\n",
      "1.0 - 25.0%\n",
      "\n",
      "3.0: \n",
      "0.0 - 62.0%\n",
      "1.0 - 38.0%\n",
      "\n",
      "4.0: \n",
      "0.0 - 58.0%\n",
      "1.0 - 42.0%\n",
      "\n",
      "5.0: \n",
      "0.0 - 68.2%\n",
      "1.0 - 31.8%\n",
      "\n"
     ]
    }
   ],
   "source": [
    "num_breakdown(merged, 'mdrespme', 'txgot_binary')"
   ]
  },
  {
   "cell_type": "markdown",
   "metadata": {},
   "source": [
    "## Performance on Text Classification"
   ]
  },
  {
   "cell_type": "code",
   "execution_count": 50,
   "metadata": {},
   "outputs": [],
   "source": [
    "import pickle"
   ]
  },
  {
   "cell_type": "code",
   "execution_count": 56,
   "metadata": {},
   "outputs": [],
   "source": [
    "text_df = pickle.load(open('dec_dataframe.p', 'rb'))"
   ]
  },
  {
   "cell_type": "code",
   "execution_count": 57,
   "metadata": {},
   "outputs": [],
   "source": [
    "dataset_df = merged[['dataset', 'ID']]"
   ]
  },
  {
   "cell_type": "code",
   "execution_count": 59,
   "metadata": {},
   "outputs": [],
   "source": [
    "text_df = pd.merge(text_df, dataset_df, on=['ID']).dropna(subset=['decision_values'])"
   ]
  },
  {
   "cell_type": "code",
   "execution_count": 62,
   "metadata": {},
   "outputs": [
    {
     "data": {
      "image/png": "[encoded data removed]",
      "text/plain": [
       "<matplotlib.figure.Figure at 0x21678b6b208>"
      ]
     },
     "metadata": {},
     "output_type": "display_data"
    }
   ],
   "source": [
    "text_face = sns.FacetGrid(text_df, row=\"dataset\")\n",
    "text_face = text_face.map(plt.hist, \"decision_values\")"
   ]
  },
  {
   "cell_type": "markdown",
   "metadata": {},
   "source": [
    "## Saving Dataframe with Added Features"
   ]
  },
  {
   "cell_type": "code",
   "execution_count": 63,
   "metadata": {},
   "outputs": [],
   "source": [
    "import pickle"
   ]
  },
  {
   "cell_type": "code",
   "execution_count": 66,
   "metadata": {},
   "outputs": [],
   "source": [
    "# pickle.dump(merged, open('added_feats.p', 'wb'))"
   ]
  }
 ],
 "metadata": {
  "kernelspec": {
   "display_name": "Python 3",
   "language": "python",
   "name": "python3"
  },
  "language_info": {
   "codemirror_mode": {
    "name": "ipython",
    "version": 3
   },
   "file_extension": ".py",
   "mimetype": "text/x-python",
   "name": "python",
   "nbconvert_exporter": "python",
   "pygments_lexer": "ipython3",
   "version": "3.6.5"
  }
 },
 "nbformat": 4,
 "nbformat_minor": 2
}
