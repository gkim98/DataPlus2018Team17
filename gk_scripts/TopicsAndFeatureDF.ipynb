{
 "cells": [
  {
   "cell_type": "code",
   "execution_count": 1,
   "metadata": {},
   "outputs": [],
   "source": [
    "import numpy as np\n",
    "import pandas as pd"
   ]
  },
  {
   "cell_type": "code",
   "execution_count": 4,
   "metadata": {},
   "outputs": [],
   "source": [
    "topics_df = pd.read_csv('../../DataPlus/dvd_topic_modeling_with_distributions.csv')"
   ]
  },
  {
   "cell_type": "code",
   "execution_count": 5,
   "metadata": {},
   "outputs": [
    {
     "data": {
      "text/plain": [
       "['Unnamed: 0',\n",
       " 'Unnamed: 0.1',\n",
       " 'Tx3',\n",
       " 'Advice1',\n",
       " 'Anx11',\n",
       " 'Anx111',\n",
       " 'Anx112',\n",
       " 'Anx113',\n",
       " 'Anx12',\n",
       " 'Anx13',\n",
       " 'Anx51',\n",
       " 'Anx52',\n",
       " 'Anx53',\n",
       " 'Anx61',\n",
       " 'Anx62',\n",
       " 'Anx63',\n",
       " 'Anx71',\n",
       " 'Anx72',\n",
       " 'Anx73',\n",
       " 'Anx91',\n",
       " 'Anx92',\n",
       " 'Anx93',\n",
       " 'Ask3',\n",
       " 'Clear3',\n",
       " 'DA1',\n",
       " 'Dienot2',\n",
       " 'Doc1',\n",
       " 'Explain3',\n",
       " 'Finaltx3',\n",
       " 'ID',\n",
       " 'Involve3',\n",
       " 'MD_age',\n",
       " 'MD_gender',\n",
       " 'MD_number_pts_wk',\n",
       " 'MD_percentpts',\n",
       " 'MD_race',\n",
       " 'MD_specialty',\n",
       " 'MD_type',\n",
       " 'MD_yrgrad',\n",
       " 'Mdtxrec3',\n",
       " 'Opinion3',\n",
       " 'Raded2',\n",
       " 'Radpee2',\n",
       " 'Satis3',\n",
       " 'Study',\n",
       " 'Sured2',\n",
       " 'Surpee2',\n",
       " 'Talkda3',\n",
       " 'Timeda2',\n",
       " 'TxgotTx3cc',\n",
       " 'Txlean3',\n",
       " 'Wait2',\n",
       " 'Whyww2',\n",
       " 'Wwed2',\n",
       " 'Wwpee2',\n",
       " 'age',\n",
       " 'arabme',\n",
       " 'asian',\n",
       " 'black',\n",
       " 'education',\n",
       " 'gleason',\n",
       " 'hispanic',\n",
       " 'irespmd',\n",
       " 'marry',\n",
       " 'mdrespme',\n",
       " 'native',\n",
       " 'pacific',\n",
       " 'psa1',\n",
       " 'raceother',\n",
       " 'txgot',\n",
       " 'txgot_binary',\n",
       " 'white',\n",
       " 'Convo_1',\n",
       " 'Convo_2',\n",
       " 'Doctor_1',\n",
       " 'Doctor_2',\n",
       " 'Convo_1_lemmatized',\n",
       " 'Convo_1_corp',\n",
       " 'radiation_topic',\n",
       " 'active_surveillance_topic',\n",
       " 'appt_topic',\n",
       " 'surgery_topic']"
      ]
     },
     "execution_count": 5,
     "metadata": {},
     "output_type": "execute_result"
    }
   ],
   "source": [
    "list(topics_df.columns)"
   ]
  },
  {
   "cell_type": "markdown",
   "metadata": {},
   "source": [
    "## Education"
   ]
  },
  {
   "cell_type": "code",
   "execution_count": 3,
   "metadata": {},
   "outputs": [],
   "source": [
    "def edu_helper(x):\n",
    "    if np.isnan(x):\n",
    "        return np.nan\n",
    "    elif x > 6:\n",
    "        return \"College Degree\"\n",
    "    else:\n",
    "        return \"No College Degree\""
   ]
  },
  {
   "cell_type": "code",
   "execution_count": 6,
   "metadata": {},
   "outputs": [],
   "source": [
    "def edu_binary(df):\n",
    "    df = df.copy()\n",
    "    df['edu_binary'] = df['education'].map(lambda x: edu_helper(x))\n",
    "    return df"
   ]
  },
  {
   "cell_type": "markdown",
   "metadata": {},
   "source": [
    "## Race"
   ]
  },
  {
   "cell_type": "code",
   "execution_count": 7,
   "metadata": {},
   "outputs": [],
   "source": [
    "# combines race into one variable\n",
    "def combine_race(df):\n",
    "    df = df.copy()\n",
    "    \n",
    "    new_col = []\n",
    "    found_race = False\n",
    "    for i in range(len(df.index)):\n",
    "        found_race = False\n",
    "        for race in ['arabme', 'asian', 'black', 'hispanic', 'native', 'pacific', 'white', 'raceother']:\n",
    "            if df[race][i] == 1:\n",
    "                new_col.append(race)\n",
    "                found_race = True\n",
    "                break\n",
    "        if not found_race:\n",
    "            new_col.append(np.nan)\n",
    "            \n",
    "    df['combined_race'] = np.asarray(new_col)\n",
    "    return df"
   ]
  },
  {
   "cell_type": "code",
   "execution_count": 8,
   "metadata": {},
   "outputs": [],
   "source": [
    "# because minority is sparse, we create a binary caucasian variable\n",
    "def white_binary(df):\n",
    "    df = df.copy()\n",
    "    race_col = df['combined_race']\n",
    "    \n",
    "    new_col = []\n",
    "    for i in range(len(race_col.index)):\n",
    "        if isinstance(race_col[i], str):\n",
    "            if race_col[i] == 'white':\n",
    "                new_col.append('White')\n",
    "            else:\n",
    "                new_col.append('Not White')\n",
    "        else:\n",
    "            new_col.append(np.nan)\n",
    "            \n",
    "    df['white_binary'] = np.asarray(new_col)\n",
    "    return df"
   ]
  },
  {
   "cell_type": "markdown",
   "metadata": {},
   "source": [
    "## Marriage"
   ]
  },
  {
   "cell_type": "code",
   "execution_count": 9,
   "metadata": {},
   "outputs": [],
   "source": [
    "def marry_helper(x):\n",
    "    if np.isnan(x):\n",
    "        return np.nan\n",
    "    elif int(x) == 1:\n",
    "        return 'Married'\n",
    "    else:\n",
    "        return 'Not Married'"
   ]
  },
  {
   "cell_type": "code",
   "execution_count": 10,
   "metadata": {},
   "outputs": [],
   "source": [
    "def marry_binary(df):\n",
    "    df = df.copy()\n",
    "    \n",
    "    df['marry_binary'] = df['marry'].map(lambda x: marry_helper(x))\n",
    "    return df"
   ]
  },
  {
   "cell_type": "markdown",
   "metadata": {},
   "source": [
    "## Create Dataframe"
   ]
  },
  {
   "cell_type": "code",
   "execution_count": 12,
   "metadata": {},
   "outputs": [],
   "source": [
    "PIPELINE = [\n",
    "    edu_binary,\n",
    "    combine_race,\n",
    "    white_binary,\n",
    "    marry_binary\n",
    "]"
   ]
  },
  {
   "cell_type": "code",
   "execution_count": 14,
   "metadata": {},
   "outputs": [],
   "source": [
    "# create argument determines whether dataframe is exported\n",
    "def feature_engineer(df, steps, create=False):\n",
    "    df = df.copy()\n",
    "    \n",
    "    for step in steps:\n",
    "        df = step(df)\n",
    "    \n",
    "    if create:\n",
    "        df.to_csv('../../DataPlus/topics_dataframe.csv')\n",
    "        \n",
    "    return df"
   ]
  },
  {
   "cell_type": "code",
   "execution_count": 16,
   "metadata": {},
   "outputs": [],
   "source": [
    "# topics_df = feature_engineer(topics_df, PIPELINE, create=True)"
   ]
  },
  {
   "cell_type": "code",
   "execution_count": null,
   "metadata": {},
   "outputs": [],
   "source": []
  }
 ],
 "metadata": {
  "kernelspec": {
   "display_name": "DataPlus",
   "language": "python",
   "name": "dataplus"
  },
  "language_info": {
   "codemirror_mode": {
    "name": "ipython",
    "version": 3
   },
   "file_extension": ".py",
   "mimetype": "text/x-python",
   "name": "python",
   "nbconvert_exporter": "python",
   "pygments_lexer": "ipython3",
   "version": "3.6.5"
  }
 },
 "nbformat": 4,
 "nbformat_minor": 2
}
