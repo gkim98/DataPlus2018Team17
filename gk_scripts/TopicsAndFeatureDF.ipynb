{
 "cells": [
  {
   "cell_type": "code",
   "execution_count": 2,
   "metadata": {},
   "outputs": [],
   "source": [
    "import numpy as np\n",
    "import pandas as pd"
   ]
  },
  {
   "cell_type": "code",
   "execution_count": 4,
   "metadata": {},
   "outputs": [],
   "source": [
    "slda_topics_df = pd.read_csv('../../DataPlus/slda_topics.csv')"
   ]
  },
  {
   "cell_type": "code",
   "execution_count": 5,
   "metadata": {},
   "outputs": [
    {
     "data": {
      "text/html": [
       "<div>\n",
       "<style scoped>\n",
       "    .dataframe tbody tr th:only-of-type {\n",
       "        vertical-align: middle;\n",
       "    }\n",
       "\n",
       "    .dataframe tbody tr th {\n",
       "        vertical-align: top;\n",
       "    }\n",
       "\n",
       "    .dataframe thead th {\n",
       "        text-align: right;\n",
       "    }\n",
       "</style>\n",
       "<table border=\"1\" class=\"dataframe\">\n",
       "  <thead>\n",
       "    <tr style=\"text-align: right;\">\n",
       "      <th></th>\n",
       "      <th>Unnamed: 0</th>\n",
       "      <th>Topic1</th>\n",
       "      <th>Topic2</th>\n",
       "      <th>Topic3</th>\n",
       "      <th>Topic4</th>\n",
       "      <th>Topic5</th>\n",
       "      <th>Topic6</th>\n",
       "      <th>Topic7</th>\n",
       "      <th>Topic8</th>\n",
       "      <th>Topic9</th>\n",
       "      <th>Topic10</th>\n",
       "      <th>Topic11</th>\n",
       "      <th>Topic12</th>\n",
       "      <th>Topic13</th>\n",
       "      <th>Topic14</th>\n",
       "      <th>Topic15</th>\n",
       "    </tr>\n",
       "  </thead>\n",
       "  <tbody>\n",
       "    <tr>\n",
       "      <th>0</th>\n",
       "      <td>V1</td>\n",
       "      <td>146</td>\n",
       "      <td>37</td>\n",
       "      <td>119</td>\n",
       "      <td>292</td>\n",
       "      <td>143</td>\n",
       "      <td>29</td>\n",
       "      <td>80</td>\n",
       "      <td>166</td>\n",
       "      <td>42</td>\n",
       "      <td>132</td>\n",
       "      <td>81</td>\n",
       "      <td>521</td>\n",
       "      <td>302</td>\n",
       "      <td>370</td>\n",
       "      <td>121</td>\n",
       "    </tr>\n",
       "    <tr>\n",
       "      <th>1</th>\n",
       "      <td>V2</td>\n",
       "      <td>3</td>\n",
       "      <td>186</td>\n",
       "      <td>96</td>\n",
       "      <td>62</td>\n",
       "      <td>209</td>\n",
       "      <td>146</td>\n",
       "      <td>1</td>\n",
       "      <td>70</td>\n",
       "      <td>290</td>\n",
       "      <td>196</td>\n",
       "      <td>51</td>\n",
       "      <td>6</td>\n",
       "      <td>63</td>\n",
       "      <td>43</td>\n",
       "      <td>86</td>\n",
       "    </tr>\n",
       "    <tr>\n",
       "      <th>2</th>\n",
       "      <td>V3</td>\n",
       "      <td>79</td>\n",
       "      <td>213</td>\n",
       "      <td>189</td>\n",
       "      <td>12</td>\n",
       "      <td>79</td>\n",
       "      <td>103</td>\n",
       "      <td>70</td>\n",
       "      <td>53</td>\n",
       "      <td>162</td>\n",
       "      <td>222</td>\n",
       "      <td>37</td>\n",
       "      <td>94</td>\n",
       "      <td>48</td>\n",
       "      <td>53</td>\n",
       "      <td>115</td>\n",
       "    </tr>\n",
       "    <tr>\n",
       "      <th>3</th>\n",
       "      <td>V4</td>\n",
       "      <td>183</td>\n",
       "      <td>141</td>\n",
       "      <td>41</td>\n",
       "      <td>21</td>\n",
       "      <td>248</td>\n",
       "      <td>71</td>\n",
       "      <td>31</td>\n",
       "      <td>3</td>\n",
       "      <td>11</td>\n",
       "      <td>250</td>\n",
       "      <td>10</td>\n",
       "      <td>60</td>\n",
       "      <td>9</td>\n",
       "      <td>5</td>\n",
       "      <td>5</td>\n",
       "    </tr>\n",
       "    <tr>\n",
       "      <th>4</th>\n",
       "      <td>V5</td>\n",
       "      <td>133</td>\n",
       "      <td>192</td>\n",
       "      <td>125</td>\n",
       "      <td>77</td>\n",
       "      <td>61</td>\n",
       "      <td>95</td>\n",
       "      <td>118</td>\n",
       "      <td>181</td>\n",
       "      <td>79</td>\n",
       "      <td>5</td>\n",
       "      <td>86</td>\n",
       "      <td>48</td>\n",
       "      <td>155</td>\n",
       "      <td>79</td>\n",
       "      <td>57</td>\n",
       "    </tr>\n",
       "  </tbody>\n",
       "</table>\n",
       "</div>"
      ],
      "text/plain": [
       "  Unnamed: 0  Topic1  Topic2  Topic3  Topic4  Topic5  Topic6  Topic7  Topic8  \\\n",
       "0         V1     146      37     119     292     143      29      80     166   \n",
       "1         V2       3     186      96      62     209     146       1      70   \n",
       "2         V3      79     213     189      12      79     103      70      53   \n",
       "3         V4     183     141      41      21     248      71      31       3   \n",
       "4         V5     133     192     125      77      61      95     118     181   \n",
       "\n",
       "   Topic9  Topic10  Topic11  Topic12  Topic13  Topic14  Topic15  \n",
       "0      42      132       81      521      302      370      121  \n",
       "1     290      196       51        6       63       43       86  \n",
       "2     162      222       37       94       48       53      115  \n",
       "3      11      250       10       60        9        5        5  \n",
       "4      79        5       86       48      155       79       57  "
      ]
     },
     "execution_count": 5,
     "metadata": {},
     "output_type": "execute_result"
    }
   ],
   "source": [
    "slda_topics_df.head()"
   ]
  },
  {
   "cell_type": "code",
   "execution_count": 5,
   "metadata": {},
   "outputs": [
    {
     "data": {
      "text/plain": [
       "['Unnamed: 0',\n",
       " 'Unnamed: 0.1',\n",
       " 'Tx3',\n",
       " 'Advice1',\n",
       " 'Anx11',\n",
       " 'Anx111',\n",
       " 'Anx112',\n",
       " 'Anx113',\n",
       " 'Anx12',\n",
       " 'Anx13',\n",
       " 'Anx51',\n",
       " 'Anx52',\n",
       " 'Anx53',\n",
       " 'Anx61',\n",
       " 'Anx62',\n",
       " 'Anx63',\n",
       " 'Anx71',\n",
       " 'Anx72',\n",
       " 'Anx73',\n",
       " 'Anx91',\n",
       " 'Anx92',\n",
       " 'Anx93',\n",
       " 'Ask3',\n",
       " 'Clear3',\n",
       " 'DA1',\n",
       " 'Dienot2',\n",
       " 'Doc1',\n",
       " 'Explain3',\n",
       " 'Finaltx3',\n",
       " 'ID',\n",
       " 'Involve3',\n",
       " 'MD_age',\n",
       " 'MD_gender',\n",
       " 'MD_number_pts_wk',\n",
       " 'MD_percentpts',\n",
       " 'MD_race',\n",
       " 'MD_specialty',\n",
       " 'MD_type',\n",
       " 'MD_yrgrad',\n",
       " 'Mdtxrec3',\n",
       " 'Opinion3',\n",
       " 'Raded2',\n",
       " 'Radpee2',\n",
       " 'Satis3',\n",
       " 'Study',\n",
       " 'Sured2',\n",
       " 'Surpee2',\n",
       " 'Talkda3',\n",
       " 'Timeda2',\n",
       " 'TxgotTx3cc',\n",
       " 'Txlean3',\n",
       " 'Wait2',\n",
       " 'Whyww2',\n",
       " 'Wwed2',\n",
       " 'Wwpee2',\n",
       " 'age',\n",
       " 'arabme',\n",
       " 'asian',\n",
       " 'black',\n",
       " 'education',\n",
       " 'gleason',\n",
       " 'hispanic',\n",
       " 'irespmd',\n",
       " 'marry',\n",
       " 'mdrespme',\n",
       " 'native',\n",
       " 'pacific',\n",
       " 'psa1',\n",
       " 'raceother',\n",
       " 'txgot',\n",
       " 'txgot_binary',\n",
       " 'white',\n",
       " 'Convo_1',\n",
       " 'Convo_2',\n",
       " 'Doctor_1',\n",
       " 'Doctor_2',\n",
       " 'Convo_1_lemmatized',\n",
       " 'Convo_1_corp',\n",
       " 'radiation_topic',\n",
       " 'active_surveillance_topic',\n",
       " 'appt_topic',\n",
       " 'surgery_topic']"
      ]
     },
     "execution_count": 5,
     "metadata": {},
     "output_type": "execute_result"
    }
   ],
   "source": [
    "list(topics_df.columns)"
   ]
  },
  {
   "cell_type": "markdown",
   "metadata": {},
   "source": [
    "## Education"
   ]
  },
  {
   "cell_type": "code",
   "execution_count": 3,
   "metadata": {},
   "outputs": [],
   "source": [
    "def edu_helper(x):\n",
    "    if np.isnan(x):\n",
    "        return np.nan\n",
    "    elif x > 6:\n",
    "        return \"College Degree\"\n",
    "    else:\n",
    "        return \"No College Degree\""
   ]
  },
  {
   "cell_type": "code",
   "execution_count": 6,
   "metadata": {},
   "outputs": [],
   "source": [
    "def edu_binary(df):\n",
    "    df = df.copy()\n",
    "    df['edu_binary'] = df['education'].map(lambda x: edu_helper(x))\n",
    "    return df"
   ]
  },
  {
   "cell_type": "markdown",
   "metadata": {},
   "source": [
    "## Race"
   ]
  },
  {
   "cell_type": "code",
   "execution_count": 7,
   "metadata": {},
   "outputs": [],
   "source": [
    "# combines race into one variable\n",
    "def combine_race(df):\n",
    "    df = df.copy()\n",
    "    \n",
    "    new_col = []\n",
    "    found_race = False\n",
    "    for i in range(len(df.index)):\n",
    "        found_race = False\n",
    "        for race in ['arabme', 'asian', 'black', 'hispanic', 'native', 'pacific', 'white', 'raceother']:\n",
    "            if df[race][i] == 1:\n",
    "                new_col.append(race)\n",
    "                found_race = True\n",
    "                break\n",
    "        if not found_race:\n",
    "            new_col.append(np.nan)\n",
    "            \n",
    "    df['combined_race'] = np.asarray(new_col)\n",
    "    return df"
   ]
  },
  {
   "cell_type": "code",
   "execution_count": 8,
   "metadata": {},
   "outputs": [],
   "source": [
    "# because minority is sparse, we create a binary caucasian variable\n",
    "def white_binary(df):\n",
    "    df = df.copy()\n",
    "    race_col = df['combined_race']\n",
    "    \n",
    "    new_col = []\n",
    "    for i in range(len(race_col.index)):\n",
    "        if isinstance(race_col[i], str):\n",
    "            if race_col[i] == 'white':\n",
    "                new_col.append('White')\n",
    "            else:\n",
    "                new_col.append('Not White')\n",
    "        else:\n",
    "            new_col.append(np.nan)\n",
    "            \n",
    "    df['white_binary'] = np.asarray(new_col)\n",
    "    return df"
   ]
  },
  {
   "cell_type": "markdown",
   "metadata": {},
   "source": [
    "## Marriage"
   ]
  },
  {
   "cell_type": "code",
   "execution_count": 9,
   "metadata": {},
   "outputs": [],
   "source": [
    "def marry_helper(x):\n",
    "    if np.isnan(x):\n",
    "        return np.nan\n",
    "    elif int(x) == 1:\n",
    "        return 'Married'\n",
    "    else:\n",
    "        return 'Not Married'"
   ]
  },
  {
   "cell_type": "code",
   "execution_count": 10,
   "metadata": {},
   "outputs": [],
   "source": [
    "def marry_binary(df):\n",
    "    df = df.copy()\n",
    "    \n",
    "    df['marry_binary'] = df['marry'].map(lambda x: marry_helper(x))\n",
    "    return df"
   ]
  },
  {
   "cell_type": "markdown",
   "metadata": {},
   "source": [
    "## Create Dataframe"
   ]
  },
  {
   "cell_type": "code",
   "execution_count": 12,
   "metadata": {},
   "outputs": [],
   "source": [
    "PIPELINE = [\n",
    "    edu_binary,\n",
    "    combine_race,\n",
    "    white_binary,\n",
    "    marry_binary\n",
    "]"
   ]
  },
  {
   "cell_type": "code",
   "execution_count": 14,
   "metadata": {},
   "outputs": [],
   "source": [
    "# create argument determines whether dataframe is exported\n",
    "def feature_engineer(df, steps, create=False):\n",
    "    df = df.copy()\n",
    "    \n",
    "    for step in steps:\n",
    "        df = step(df)\n",
    "    \n",
    "    if create:\n",
    "        df.to_csv('../../DataPlus/topics_dataframe.csv')\n",
    "        \n",
    "    return df"
   ]
  },
  {
   "cell_type": "code",
   "execution_count": 16,
   "metadata": {},
   "outputs": [],
   "source": [
    "# topics_df = feature_engineer(topics_df, PIPELINE, create=True)"
   ]
  },
  {
   "cell_type": "code",
   "execution_count": null,
   "metadata": {},
   "outputs": [],
   "source": []
  }
 ],
 "metadata": {
  "kernelspec": {
   "display_name": "DataPlus",
   "language": "python",
   "name": "dataplus"
  },
  "language_info": {
   "codemirror_mode": {
    "name": "ipython",
    "version": 3
   },
   "file_extension": ".py",
   "mimetype": "text/x-python",
   "name": "python",
   "nbconvert_exporter": "python",
   "pygments_lexer": "ipython3",
   "version": "3.6.5"
  }
 },
 "nbformat": 4,
 "nbformat_minor": 2
}
