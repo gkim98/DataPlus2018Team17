{
 "cells": [
  {
   "cell_type": "code",
   "execution_count": 2,
   "metadata": {},
   "outputs": [],
   "source": [
    "import numpy as np\n",
    "import pandas as pd\n",
    "import matplotlib as plt\n",
    "import seaborn as sns\n",
    "%matplotlib inline"
   ]
  },
  {
   "cell_type": "code",
   "execution_count": 3,
   "metadata": {},
   "outputs": [],
   "source": [
    "trans = pd.read_csv('../../DataPlus/all_transcripts.csv')"
   ]
  },
  {
   "cell_type": "code",
   "execution_count": 11,
   "metadata": {},
   "outputs": [],
   "source": [
    "import CompilingCorpus as cc\n",
    "import Preprocessing as pre\n",
    "import TopicModeling as tm"
   ]
  },
  {
   "cell_type": "code",
   "execution_count": 8,
   "metadata": {},
   "outputs": [],
   "source": [
    "convos = cc.compile_convos(trans)"
   ]
  },
  {
   "cell_type": "code",
   "execution_count": 19,
   "metadata": {},
   "outputs": [],
   "source": [
    "#convos[0]"
   ]
  },
  {
   "cell_type": "code",
   "execution_count": 6,
   "metadata": {},
   "outputs": [],
   "source": [
    "TOPIC_PIPELINE = [\n",
    "    pre.make_lowercase,\n",
    "    pre.remove_parentheses,\n",
    "    pre.remove_non_alpha,\n",
    "    pre.remove_stopwords,\n",
    "    lambda x: pre.remove_stopwords(x, pre.CUSTOM_STOPWORDS),\n",
    "    pre.lemmatize\n",
    "]"
   ]
  },
  {
   "cell_type": "code",
   "execution_count": 16,
   "metadata": {},
   "outputs": [],
   "source": [
    "processed_convos = [pre.text_preprocessing(convo, TOPIC_PIPELINE) for convo in convos]"
   ]
  },
  {
   "cell_type": "code",
   "execution_count": 18,
   "metadata": {},
   "outputs": [
    {
     "name": "stdout",
     "output_type": "stream",
     "text": [
      "(0, '0.041*\"oth\" + 0.021*\"cancer\" + 0.019*\"prostate\" + 0.019*\"surgery\" + 0.012*\"know\"')\n",
      "(1, '0.039*\"know\" + 0.019*\"like\" + 0.017*\"get\" + 0.014*\"right\" + 0.013*\"go\"')\n",
      "(2, '0.021*\"mmhmm\" + 0.014*\"implant\" + 0.014*\"get\" + 0.009*\"beam\" + 0.009*\"men\"')\n",
      "(3, '0.043*\"know\" + 0.028*\"right\" + 0.019*\"cancer\" + 0.015*\"prostate\" + 0.014*\"think\"')\n",
      "(4, '0.028*\"prostate\" + 0.023*\"get\" + 0.022*\"cancer\" + 0.014*\"radiation\" + 0.012*\"men\"')\n",
      "(5, '0.033*\"know\" + 0.020*\"prostate\" + 0.018*\"cancer\" + 0.016*\"get\" + 0.015*\"surgery\"')\n",
      "(6, '0.000*\"cancer\" + 0.000*\"know\" + 0.000*\"right\" + 0.000*\"radiation\" + 0.000*\"get\"')\n",
      "(7, '0.022*\"right\" + 0.021*\"know\" + 0.017*\"surgery\" + 0.016*\"get\" + 0.014*\"good\"')\n",
      "(8, '0.026*\"radiation\" + 0.017*\"right\" + 0.017*\"prostate\" + 0.016*\"know\" + 0.015*\"get\"')\n",
      "(9, '0.031*\"cancer\" + 0.026*\"prostate\" + 0.023*\"ah\" + 0.019*\"surgery\" + 0.018*\"would\"')\n"
     ]
    },
    {
     "data": {
      "text/plain": [
       "[(0,\n",
       "  '0.041*\"oth\" + 0.021*\"cancer\" + 0.019*\"prostate\" + 0.019*\"surgery\" + 0.012*\"know\"'),\n",
       " (1, '0.039*\"know\" + 0.019*\"like\" + 0.017*\"get\" + 0.014*\"right\" + 0.013*\"go\"'),\n",
       " (2,\n",
       "  '0.021*\"mmhmm\" + 0.014*\"implant\" + 0.014*\"get\" + 0.009*\"beam\" + 0.009*\"men\"'),\n",
       " (3,\n",
       "  '0.043*\"know\" + 0.028*\"right\" + 0.019*\"cancer\" + 0.015*\"prostate\" + 0.014*\"think\"'),\n",
       " (4,\n",
       "  '0.028*\"prostate\" + 0.023*\"get\" + 0.022*\"cancer\" + 0.014*\"radiation\" + 0.012*\"men\"'),\n",
       " (5,\n",
       "  '0.033*\"know\" + 0.020*\"prostate\" + 0.018*\"cancer\" + 0.016*\"get\" + 0.015*\"surgery\"'),\n",
       " (6,\n",
       "  '0.000*\"cancer\" + 0.000*\"know\" + 0.000*\"right\" + 0.000*\"radiation\" + 0.000*\"get\"'),\n",
       " (7,\n",
       "  '0.022*\"right\" + 0.021*\"know\" + 0.017*\"surgery\" + 0.016*\"get\" + 0.014*\"good\"'),\n",
       " (8,\n",
       "  '0.026*\"radiation\" + 0.017*\"right\" + 0.017*\"prostate\" + 0.016*\"know\" + 0.015*\"get\"'),\n",
       " (9,\n",
       "  '0.031*\"cancer\" + 0.026*\"prostate\" + 0.023*\"ah\" + 0.019*\"surgery\" + 0.018*\"would\"')]"
      ]
     },
     "execution_count": 18,
     "metadata": {},
     "output_type": "execute_result"
    }
   ],
   "source": [
    "tm.topic_model(processed_convos, 10, 100, print_topics=True)"
   ]
  },
  {
   "cell_type": "markdown",
   "metadata": {},
   "source": [
    "# Text classification"
   ]
  },
  {
   "cell_type": "code",
   "execution_count": null,
   "metadata": {},
   "outputs": [],
   "source": []
  }
 ],
 "metadata": {
  "kernelspec": {
   "display_name": "Python 3",
   "language": "python",
   "name": "python3"
  },
  "language_info": {
   "codemirror_mode": {
    "name": "ipython",
    "version": 3
   },
   "file_extension": ".py",
   "mimetype": "text/x-python",
   "name": "python",
   "nbconvert_exporter": "python",
   "pygments_lexer": "ipython3",
   "version": "3.6.4"
  }
 },
 "nbformat": 4,
 "nbformat_minor": 2
}
