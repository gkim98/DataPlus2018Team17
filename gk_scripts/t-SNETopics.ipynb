{
 "cells": [
  {
   "cell_type": "code",
   "execution_count": 12,
   "metadata": {},
   "outputs": [],
   "source": [
    "from yellowbrick.text import TSNEVisualizer\n",
    "from yellowbrick.style import set_palette\n",
    "from sklearn.feature_extraction.text import TfidfVectorizer"
   ]
  },
  {
   "cell_type": "code",
   "execution_count": 15,
   "metadata": {},
   "outputs": [],
   "source": [
    "set_palette('sns_muted')"
   ]
  },
  {
   "cell_type": "code",
   "execution_count": 2,
   "metadata": {},
   "outputs": [],
   "source": [
    "import pandas as pd\n",
    "import seaborn as sns\n",
    "%matplotlib inline"
   ]
  },
  {
   "cell_type": "code",
   "execution_count": 3,
   "metadata": {},
   "outputs": [],
   "source": [
    "topics = pd.read_csv('../../DataPlus/dvd_max_topics.csv')"
   ]
  },
  {
   "cell_type": "code",
   "execution_count": 4,
   "metadata": {},
   "outputs": [
    {
     "data": {
      "text/plain": [
       "['Unnamed: 0',\n",
       " 'radiation_topic',\n",
       " 'active_surveillance_topic',\n",
       " 'appt_topic',\n",
       " 'surgery_topic',\n",
       " 'max_topic',\n",
       " 'Convo_1']"
      ]
     },
     "execution_count": 4,
     "metadata": {},
     "output_type": "execute_result"
    }
   ],
   "source": [
    "list(topics.columns)"
   ]
  },
  {
   "cell_type": "code",
   "execution_count": 7,
   "metadata": {},
   "outputs": [],
   "source": [
    "df = topics.dropna(subset=['Convo_1'])\n",
    "tfidf = TfidfVectorizer()\n",
    "docs = tfidf.fit_transform(df['Convo_1'])"
   ]
  },
  {
   "cell_type": "code",
   "execution_count": 8,
   "metadata": {},
   "outputs": [],
   "source": [
    "def tsne(df, var):\n",
    "    tsne = TSNEVisualizer()\n",
    "    \n",
    "    # drops examples with NA for var of interest\n",
    "    drop_df = df.dropna(subset=[var])\n",
    "    labels = drop_df[var]\n",
    "    \n",
    "    # fit and visualize\n",
    "    tsne.fit(docs, labels)\n",
    "    tsne.poof()"
   ]
  },
  {
   "cell_type": "code",
   "execution_count": 20,
   "metadata": {
    "scrolled": false
   },
   "outputs": [
    {
     "data": {
      "image/png": "[encoded data removed]",
      "text/plain": [
       "<Figure size 432x288 with 1 Axes>"
      ]
     },
     "metadata": {},
     "output_type": "display_data"
    }
   ],
   "source": [
    "tsne(df, 'max_topic')"
   ]
  },
  {
   "cell_type": "markdown",
   "metadata": {},
   "source": [
    "## With TFIDF"
   ]
  },
  {
   "cell_type": "code",
   "execution_count": 32,
   "metadata": {},
   "outputs": [],
   "source": [
    "sums = df.sum()"
   ]
  },
  {
   "cell_type": "code",
   "execution_count": 34,
   "metadata": {},
   "outputs": [],
   "source": [
    "weighted_df = df.copy()"
   ]
  },
  {
   "cell_type": "code",
   "execution_count": 35,
   "metadata": {},
   "outputs": [],
   "source": [
    "for topic in ['active_surveillance_topic', 'radiation_topic', 'appt_topic', 'surgery_topic']:\n",
    "    weighted_df[topic] = weighted_df[topic].map(lambda x: x / sums[topic])"
   ]
  },
  {
   "cell_type": "code",
   "execution_count": 37,
   "metadata": {},
   "outputs": [
    {
     "data": {
      "text/html": [
       "<div>\n",
       "<style scoped>\n",
       "    .dataframe tbody tr th:only-of-type {\n",
       "        vertical-align: middle;\n",
       "    }\n",
       "\n",
       "    .dataframe tbody tr th {\n",
       "        vertical-align: top;\n",
       "    }\n",
       "\n",
       "    .dataframe thead th {\n",
       "        text-align: right;\n",
       "    }\n",
       "</style>\n",
       "<table border=\"1\" class=\"dataframe\">\n",
       "  <thead>\n",
       "    <tr style=\"text-align: right;\">\n",
       "      <th></th>\n",
       "      <th>Unnamed: 0</th>\n",
       "      <th>radiation_topic</th>\n",
       "      <th>active_surveillance_topic</th>\n",
       "      <th>appt_topic</th>\n",
       "      <th>surgery_topic</th>\n",
       "      <th>max_topic</th>\n",
       "      <th>Convo_1</th>\n",
       "    </tr>\n",
       "  </thead>\n",
       "  <tbody>\n",
       "    <tr>\n",
       "      <th>0</th>\n",
       "      <td>0</td>\n",
       "      <td>0.017226</td>\n",
       "      <td>0.000963</td>\n",
       "      <td>0.000000</td>\n",
       "      <td>0.007329</td>\n",
       "      <td>surgery_topic</td>\n",
       "      <td>l394r1 interview length 014034 legend pt patie...</td>\n",
       "    </tr>\n",
       "    <tr>\n",
       "      <th>1</th>\n",
       "      <td>1</td>\n",
       "      <td>0.004879</td>\n",
       "      <td>0.000000</td>\n",
       "      <td>0.013985</td>\n",
       "      <td>0.010519</td>\n",
       "      <td>surgery_topic</td>\n",
       "      <td>l371u1 interview length 004701 legend pt patie...</td>\n",
       "    </tr>\n",
       "    <tr>\n",
       "      <th>2</th>\n",
       "      <td>2</td>\n",
       "      <td>0.007848</td>\n",
       "      <td>0.008839</td>\n",
       "      <td>0.015394</td>\n",
       "      <td>0.005708</td>\n",
       "      <td>surgery_topic</td>\n",
       "      <td>t062u1 interview length 02507 legend pt patien...</td>\n",
       "    </tr>\n",
       "  </tbody>\n",
       "</table>\n",
       "</div>"
      ],
      "text/plain": [
       "   Unnamed: 0  radiation_topic  active_surveillance_topic  appt_topic  \\\n",
       "0           0         0.017226                   0.000963    0.000000   \n",
       "1           1         0.004879                   0.000000    0.013985   \n",
       "2           2         0.007848                   0.008839    0.015394   \n",
       "\n",
       "   surgery_topic      max_topic  \\\n",
       "0       0.007329  surgery_topic   \n",
       "1       0.010519  surgery_topic   \n",
       "2       0.005708  surgery_topic   \n",
       "\n",
       "                                             Convo_1  \n",
       "0  l394r1 interview length 014034 legend pt patie...  \n",
       "1  l371u1 interview length 004701 legend pt patie...  \n",
       "2  t062u1 interview length 02507 legend pt patien...  "
      ]
     },
     "execution_count": 37,
     "metadata": {},
     "output_type": "execute_result"
    }
   ],
   "source": [
    "weighted_df.head(3)"
   ]
  },
  {
   "cell_type": "code",
   "execution_count": 48,
   "metadata": {},
   "outputs": [],
   "source": [
    "topics_subset = weighted_df[['active_surveillance_topic', 'radiation_topic', 'appt_topic', 'surgery_topic']]"
   ]
  },
  {
   "cell_type": "code",
   "execution_count": 50,
   "metadata": {},
   "outputs": [],
   "source": [
    "weighted_df['max_topic'] = topics_subset.idxmax(axis=1)"
   ]
  },
  {
   "cell_type": "code",
   "execution_count": 52,
   "metadata": {},
   "outputs": [
    {
     "data": {
      "image/png": "[encoded data removed]",
      "text/plain": [
       "<Figure size 432x288 with 1 Axes>"
      ]
     },
     "metadata": {},
     "output_type": "display_data"
    }
   ],
   "source": [
    "tsne(weighted_df, 'max_topic')"
   ]
  },
  {
   "cell_type": "markdown",
   "metadata": {},
   "source": [
    "### Topics: 1, 3, 8, 12, 13, 14"
   ]
  },
  {
   "cell_type": "code",
   "execution_count": 42,
   "metadata": {},
   "outputs": [],
   "source": [
    "slda = pd.read_csv('../../DataPlus/dvd_max_topics_slda.csv')"
   ]
  },
  {
   "cell_type": "code",
   "execution_count": 44,
   "metadata": {},
   "outputs": [
    {
     "data": {
      "text/html": [
       "<div>\n",
       "<style scoped>\n",
       "    .dataframe tbody tr th:only-of-type {\n",
       "        vertical-align: middle;\n",
       "    }\n",
       "\n",
       "    .dataframe tbody tr th {\n",
       "        vertical-align: top;\n",
       "    }\n",
       "\n",
       "    .dataframe thead th {\n",
       "        text-align: right;\n",
       "    }\n",
       "</style>\n",
       "<table border=\"1\" class=\"dataframe\">\n",
       "  <thead>\n",
       "    <tr style=\"text-align: right;\">\n",
       "      <th></th>\n",
       "      <th>Unnamed: 0</th>\n",
       "      <th>Topic1</th>\n",
       "      <th>Topic3</th>\n",
       "      <th>Topic8</th>\n",
       "      <th>Topic12</th>\n",
       "      <th>Topic13</th>\n",
       "      <th>Topic14</th>\n",
       "      <th>max_topic</th>\n",
       "      <th>Convo_1</th>\n",
       "    </tr>\n",
       "  </thead>\n",
       "  <tbody>\n",
       "    <tr>\n",
       "      <th>0</th>\n",
       "      <td>0</td>\n",
       "      <td>0.056567</td>\n",
       "      <td>0.046106</td>\n",
       "      <td>0.064316</td>\n",
       "      <td>0.201860</td>\n",
       "      <td>0.117009</td>\n",
       "      <td>0.143355</td>\n",
       "      <td>Topic12</td>\n",
       "      <td>l394r1 interview length 014034 legend pt patie...</td>\n",
       "    </tr>\n",
       "    <tr>\n",
       "      <th>1</th>\n",
       "      <td>1</td>\n",
       "      <td>0.001989</td>\n",
       "      <td>0.063660</td>\n",
       "      <td>0.046419</td>\n",
       "      <td>0.003979</td>\n",
       "      <td>0.041777</td>\n",
       "      <td>0.028515</td>\n",
       "      <td>Topic3</td>\n",
       "      <td>l371u1 interview length 004701 legend pt patie...</td>\n",
       "    </tr>\n",
       "    <tr>\n",
       "      <th>2</th>\n",
       "      <td>2</td>\n",
       "      <td>0.051668</td>\n",
       "      <td>0.123610</td>\n",
       "      <td>0.034663</td>\n",
       "      <td>0.061478</td>\n",
       "      <td>0.031393</td>\n",
       "      <td>0.034663</td>\n",
       "      <td>Topic3</td>\n",
       "      <td>t062u1 interview length 02507 legend pt patien...</td>\n",
       "    </tr>\n",
       "  </tbody>\n",
       "</table>\n",
       "</div>"
      ],
      "text/plain": [
       "   Unnamed: 0    Topic1    Topic3    Topic8   Topic12   Topic13   Topic14  \\\n",
       "0           0  0.056567  0.046106  0.064316  0.201860  0.117009  0.143355   \n",
       "1           1  0.001989  0.063660  0.046419  0.003979  0.041777  0.028515   \n",
       "2           2  0.051668  0.123610  0.034663  0.061478  0.031393  0.034663   \n",
       "\n",
       "  max_topic                                            Convo_1  \n",
       "0   Topic12  l394r1 interview length 014034 legend pt patie...  \n",
       "1    Topic3  l371u1 interview length 004701 legend pt patie...  \n",
       "2    Topic3  t062u1 interview length 02507 legend pt patien...  "
      ]
     },
     "execution_count": 44,
     "metadata": {},
     "output_type": "execute_result"
    }
   ],
   "source": [
    "slda.head(3)"
   ]
  },
  {
   "cell_type": "code",
   "execution_count": 45,
   "metadata": {},
   "outputs": [],
   "source": [
    "df2 = slda.dropna(subset=['Convo_1'])\n",
    "tfidf2 = TfidfVectorizer()\n",
    "docs2 = tfidf2.fit_transform(df['Convo_1'])"
   ]
  },
  {
   "cell_type": "code",
   "execution_count": 46,
   "metadata": {},
   "outputs": [
    {
     "data": {
      "image/png": "[encoded data removed]",
      "text/plain": [
       "<Figure size 432x288 with 1 Axes>"
      ]
     },
     "metadata": {},
     "output_type": "display_data"
    }
   ],
   "source": [
    "tsne(df2, 'max_topic')"
   ]
  },
  {
   "cell_type": "code",
   "execution_count": null,
   "metadata": {},
   "outputs": [],
   "source": []
  },
  {
   "cell_type": "code",
   "execution_count": null,
   "metadata": {},
   "outputs": [],
   "source": []
  }
 ],
 "metadata": {
  "kernelspec": {
   "display_name": "DataPlus",
   "language": "python",
   "name": "dataplus"
  },
  "language_info": {
   "codemirror_mode": {
    "name": "ipython",
    "version": 3
   },
   "file_extension": ".py",
   "mimetype": "text/x-python",
   "name": "python",
   "nbconvert_exporter": "python",
   "pygments_lexer": "ipython3",
   "version": "3.6.5"
  }
 },
 "nbformat": 4,
 "nbformat_minor": 2
}
