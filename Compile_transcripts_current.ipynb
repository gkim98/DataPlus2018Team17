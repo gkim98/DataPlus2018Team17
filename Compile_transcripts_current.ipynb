{
 "cells": [
  {
   "cell_type": "code",
   "execution_count": null,
   "metadata": {},
   "outputs": [],
   "source": [
    "import os\n",
    "from collections import defaultdict\n",
    "import numpy as np\n",
    "import textract \n",
    "import pandas as pd"
   ]
  },
  {
   "cell_type": "markdown",
   "metadata": {},
   "source": [
    "You probably have to install the textract package to process text from the word documents. "
   ]
  },
  {
   "cell_type": "markdown",
   "metadata": {},
   "source": [
    "# Cleaning up strings"
   ]
  },
  {
   "cell_type": "code",
   "execution_count": null,
   "metadata": {},
   "outputs": [],
   "source": [
    "PUNCTUATION = ['.', '!', ',', ';', '~', \"’\", \"'\", '\\n', '\\t']\n",
    "def remove_punc(text):\n",
    "    for c in PUNCTUATION:\n",
    "        text = text.replace(c,\" \")\n",
    "    return text"
   ]
  },
  {
   "cell_type": "code",
   "execution_count": null,
   "metadata": {},
   "outputs": [],
   "source": [
    "def remove_whitespace(text):\n",
    "    text = ' '.join(text.split())\n",
    "    return text"
   ]
  },
  {
   "cell_type": "code",
   "execution_count": null,
   "metadata": {},
   "outputs": [],
   "source": [
    "def clean_text(text):\n",
    "    text = text.decode(\"utf-8\") \n",
    "    text = remove_punc(text)\n",
    "    text = remove_whitespace(text)\n",
    "    return text"
   ]
  },
  {
   "cell_type": "markdown",
   "metadata": {},
   "source": [
    "# VA"
   ]
  },
  {
   "cell_type": "markdown",
   "metadata": {},
   "source": [
    "Change the code to reflect directory organization. Mine is transcripts -> VA -> 1_Provider, 2_Providers.\n",
    "\n",
    "We are using a default dictionary because it will keep Doctor_2, Convo_2 nan as specified by the defaultdict initialization. We want this to be nan since patients in VA only have one conversation with a urologist. "
   ]
  },
  {
   "cell_type": "code",
   "execution_count": null,
   "metadata": {},
   "outputs": [],
   "source": [
    "patient_info_va = defaultdict(lambda: {'Convo_1': np.nan, 'Convo_2': np.nan, 'Dataset': np.nan, 'Doctor_1': np.nan, 'Doctor_2': np.nan})\n",
    "paths = ['transcripts/VA/1_Provider','transcripts/VA/2_Providers']\n",
    "\n",
    "for path in paths: # loop through the various VA directories\n",
    "    for filename in os.listdir(path):\n",
    "        full_path = path+'/'+filename\n",
    "        if filename[-4:] == 'docx' or filename[-3:] == 'doc': # we don't want any other files such as .DS_Store to show up\n",
    "            txt = textract.process(full_path)\n",
    "            new_txt = clean_text(txt)\n",
    "            patient_info_va[filename[:4]]['Convo_1'] = new_txt\n",
    "            patient_info_va[filename[:4]]['Dataset'] = 'VA'\n",
    "            patient_info_va[filename[:4]]['Doctor_1'] = 'U'"
   ]
  },
  {
   "cell_type": "code",
   "execution_count": null,
   "metadata": {},
   "outputs": [],
   "source": [
    "# Convert dictionary from above into a dataframe\n",
    "pd.set_option('display.max_columns', None) \n",
    "df_va = pd.DataFrame.from_dict(patient_info_va, orient='index')\n",
    "df_va.index.name = 'patient_id'\n",
    "df_va.reset_index(level=0, inplace=True)\n",
    "df_va"
   ]
  },
  {
   "cell_type": "markdown",
   "metadata": {},
   "source": [
    "# DVD"
   ]
  },
  {
   "cell_type": "markdown",
   "metadata": {},
   "source": [
    "Change the code to reflect directory organization. Mine is transcripts -> DVD -> 1_Provider, 2_Providers, 3_Providers.\n",
    "\n",
    "We are using a default dictionary because it will initialize all elements to nan (which is helpful if patient only saw a single doctor)."
   ]
  },
  {
   "cell_type": "code",
   "execution_count": null,
   "metadata": {},
   "outputs": [],
   "source": [
    "patient_info_dvd = defaultdict(lambda: {'Convo_1': np.nan, 'Convo_2': np.nan, 'Dataset': np.nan, 'Doctor_1': np.nan, 'Doctor_2': np.nan})\n",
    "paths = ['transcripts/DVD/1_Provider','transcripts/DVD/2_Providers', 'transcripts/DVD/3_Providers']\n",
    "counter = 0\n",
    "for path in paths:\n",
    "    for filename in os.listdir(path):\n",
    "        counter += 1\n",
    "        full_path = path+'/'+filename\n",
    "        if filename[-4:] == 'docx' or filename[-3:] == 'doc': # we don't want any other files such as .DS_Store to show up\n",
    "            txt = textract.process(full_path)\n",
    "            new_txt = clean_text(txt)\n",
    "            patient_info_dvd[filename[:4]]['Dataset'] = 'DVD'\n",
    "            doctor = filename[5] # indicates whether patient saw radiologist or urologist \n",
    "            \n",
    "            if filename[7] == '1': # categorize as first or second conversation based on filename\n",
    "                patient_info_dvd[filename[:4]]['Convo_1'] = new_txt\n",
    "                patient_info_dvd[filename[:4]]['Doctor_1'] = doctor\n",
    "            else:\n",
    "                patient_info_dvd[filename[:4]]['Convo_2'] = new_txt\n",
    "                patient_info_dvd[filename[:4]]['Doctor_2'] = doctor"
   ]
  },
  {
   "cell_type": "code",
   "execution_count": null,
   "metadata": {},
   "outputs": [],
   "source": [
    "df_dvd = pd.DataFrame.from_dict(patient_info_dvd, orient='index')\n",
    "df_dvd.index.name = 'patient_id'\n",
    "df_dvd.reset_index(level=0, inplace=True)\n",
    "df_dvd"
   ]
  },
  {
   "cell_type": "markdown",
   "metadata": {},
   "source": [
    "# Concatenate the two transcript datasets\n"
   ]
  },
  {
   "cell_type": "markdown",
   "metadata": {},
   "source": [
    "The dataset has the following columns: 'patient_id', 'Convo_1', 'Convo_2', 'Dataset', 'Doctor_1', and 'Doctor_2'. 'patient_id' is self-explanatory, and is taken from the transcript filename. 'Convo_1' is the transcript of the participant's first conversation (since patients in VA only have a single conversation, the conversation transcript is always shown in 'Convo_1' and for DVD, it depends on the filename). 'Dataset' is either DVD or VA. 'Doctor_1' indicates which doctor patient saw first (U or R). Similarly, Doctor_2 indicates which doctor patient saw second. Since VA patients only see urologists, this is always U for them.  "
   ]
  },
  {
   "cell_type": "code",
   "execution_count": null,
   "metadata": {},
   "outputs": [],
   "source": [
    "df_combined = pd.concat([df_va, df_dvd], axis=0)"
   ]
  },
  {
   "cell_type": "code",
   "execution_count": null,
   "metadata": {},
   "outputs": [],
   "source": [
    "df_combined.head()"
   ]
  },
  {
   "cell_type": "markdown",
   "metadata": {},
   "source": [
    "# Generate a CSV"
   ]
  },
  {
   "cell_type": "code",
   "execution_count": null,
   "metadata": {},
   "outputs": [],
   "source": [
    "df_combined.to_csv('all_transcripts.csv')"
   ]
  }
 ],
 "metadata": {
  "kernelspec": {
   "display_name": "Python 3",
   "language": "python",
   "name": "python3"
  },
  "language_info": {
   "codemirror_mode": {
    "name": "ipython",
    "version": 3
   },
   "file_extension": ".py",
   "mimetype": "text/x-python",
   "name": "python",
   "nbconvert_exporter": "python",
   "pygments_lexer": "ipython3",
   "version": "3.6.2"
  }
 },
 "nbformat": 4,
 "nbformat_minor": 2
}
