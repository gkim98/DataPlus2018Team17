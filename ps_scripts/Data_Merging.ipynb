{
 "cells": [
  {
   "cell_type": "markdown",
   "metadata": {},
   "source": [
    "# Merging VA and DVD Datasets, and adding advice and transcript data"
   ]
  },
  {
   "cell_type": "markdown",
   "metadata": {},
   "source": [
    "This notebook will walk through our process of cleaning the data sets and combining them."
   ]
  },
  {
   "cell_type": "code",
   "execution_count": null,
   "metadata": {},
   "outputs": [],
   "source": [
    "# loading necessary libararies\n",
    "import numpy as np\n",
    "import pandas as pd\n",
    "import matplotlib as plt\n",
    "import seaborn as sns\n",
    "from collections import defaultdict"
   ]
  },
  {
   "cell_type": "code",
   "execution_count": null,
   "metadata": {},
   "outputs": [],
   "source": [
    "# load datasets\n",
    "dvd_original = pd.read_csv(\"DVD_Original.csv\") #include the version with the DVD MD info\n",
    "va_original = pd.read_csv(\"VA_Original.csv\")"
   ]
  },
  {
   "cell_type": "markdown",
   "metadata": {},
   "source": [
    "# Viewing the two datasets"
   ]
  },
  {
   "cell_type": "code",
   "execution_count": null,
   "metadata": {},
   "outputs": [],
   "source": [
    "dvd_original.head(3)"
   ]
  },
  {
   "cell_type": "code",
   "execution_count": null,
   "metadata": {},
   "outputs": [],
   "source": [
    "va_original.head(3)"
   ]
  },
  {
   "cell_type": "markdown",
   "metadata": {},
   "source": [
    "# Simple Variable Name Changes"
   ]
  },
  {
   "cell_type": "markdown",
   "metadata": {},
   "source": [
    "The variables under this section are shared between the two datasets and only need a variable name change to match because the responses to these variables are coded the same. We have created dictionaries to map out these changes. "
   ]
  },
  {
   "cell_type": "code",
   "execution_count": null,
   "metadata": {},
   "outputs": [],
   "source": [
    "\"\"\"\n",
    "    Maps variable names of one dataset to the other\n",
    "    \n",
    "    input: dataset\n",
    "    output: dataset with new matching variable names\n",
    "\"\"\"\n",
    "def map_var_names(df, var_map):\n",
    "    df_copy = df.copy()\n",
    "    df_changed_names = df_copy.rename(index=str, columns=var_map)\n",
    "    return df_changed_names\n",
    "# NOTE: we make a copy of df to preserve the integrity of the original dataset"
   ]
  },
  {
   "cell_type": "markdown",
   "metadata": {},
   "source": [
    "### Demographics"
   ]
  },
  {
   "cell_type": "markdown",
   "metadata": {},
   "source": [
    "This section matches up the patient demographic variables between the two datasets."
   ]
  },
  {
   "cell_type": "code",
   "execution_count": null,
   "metadata": {},
   "outputs": [],
   "source": [
    "# maps DVD demo. var names to var names in VA\n",
    "demo_map = {\n",
    "    'demo_ID': 'ID', 'demo_age': 'age', 'demo_education': 'education', 'demo_race_arabme': 'arabme',\n",
    "    'demo_race_hispanic': 'hispanic', 'demo_race_white': 'white', 'demo_race_black': 'black',\n",
    "    'demo_race_native': 'native', 'demo_race_asian': 'asian', 'demo_race_pacific': 'pacific',\n",
    "    'demo_race_other': 'raceother', 'demo_marry': 'marry'\n",
    "}"
   ]
  },
  {
   "cell_type": "markdown",
   "metadata": {},
   "source": [
    "### Physician Interaction"
   ]
  },
  {
   "cell_type": "markdown",
   "metadata": {},
   "source": [
    "This section matches up the physician interaction variables between the two datasets. For example, the answer to the question, \"My physician asked for my opinion about what type of treatment would be best for me\" (Urosat10 / Opinion3)."
   ]
  },
  {
   "cell_type": "code",
   "execution_count": null,
   "metadata": {},
   "outputs": [],
   "source": [
    "# maps DVD phys.interaction var names to var names in VA\n",
    "phys_map = {\n",
    "    'Urosat10': 'Opinion3', 'Urosat2_rev': 'Ask3', 'Urofeel3_t3': 'Info3',\n",
    "    'Urofeel3_t3': 'Explain3', 'UroApt_partdec': 'Involve3', 'Urosat1': 'Satis3',\n",
    "    'Dec3_best': 'Clear3', 'Urosat7': 'mdrespme', 'Urofeel6_t3': 'irespmd'\n",
    "}"
   ]
  },
  {
   "cell_type": "markdown",
   "metadata": {},
   "source": [
    "### Knowledge Questions"
   ]
  },
  {
   "cell_type": "markdown",
   "metadata": {},
   "source": [
    "Patients were administered comprehension questions to ensure they had studied the background knowledge of prostate cancer, so they could make informed decisions when choosing treatment. This section matches up the patients' answers to these comprehension questions."
   ]
  },
  {
   "cell_type": "code",
   "execution_count": null,
   "metadata": {},
   "outputs": [],
   "source": [
    "# maps DVD knowledge var names to var names in VA\n",
    "know_map = {\n",
    "    'Know2_Dienot2': 'Dienot2', 'Know2_Wait2': 'Wait2', 'Know2_Sured2': 'Sured2',\n",
    "    'Know2_Raded2': 'Raded2', 'Know2_Wwed2': 'Wwed2', 'Know2_Surpee2': 'Surpee2',\n",
    "    'Know2_Radpee2': 'Radpee2', 'Know2_Wwpee2': 'Wwpee2'\n",
    "}"
   ]
  },
  {
   "cell_type": "markdown",
   "metadata": {},
   "source": [
    "### Anxiety Questions"
   ]
  },
  {
   "cell_type": "markdown",
   "metadata": {},
   "source": [
    "Patients were asked questions concerning how anxious thinking about cancer made them. This section matches up the variable names for the answers to these questions."
   ]
  },
  {
   "cell_type": "code",
   "execution_count": null,
   "metadata": {},
   "outputs": [],
   "source": [
    "# maps DVD anxiety var names to var names in VA\n",
    "anx_map = {\n",
    "    'Anx11': 'Anx11', 'Anx12': 'Anx51', 'Anx13': 'Anx61',\n",
    "    'Anx14': 'Anx71', 'Anx15': 'Anx91', 'Anx16': 'Anx111',\n",
    "    'Anx21': 'Anx12', 'Anx22': 'Anx52', 'Anx23': 'Anx62',\n",
    "    'Anx24': 'Anx72', 'Anx25': 'Anx92', 'Anx26': 'Anx112',\n",
    "    'Anx31': 'Anx13', 'Anx32': 'Anx53', 'Anx33': 'Anx63',\n",
    "    'Anx34': 'Anx73', 'Anx35': 'Anx93', 'Anx36': 'Anx113'\n",
    "}"
   ]
  },
  {
   "cell_type": "markdown",
   "metadata": {},
   "source": [
    "### MD Demographics"
   ]
  },
  {
   "cell_type": "markdown",
   "metadata": {},
   "source": [
    "This section matches up demographic variables on doctors that are present in both datasets."
   ]
  },
  {
   "cell_type": "code",
   "execution_count": null,
   "metadata": {},
   "outputs": [],
   "source": [
    "# maps misc. DVD var names to var names in VA\n",
    "md_demo_map = {\n",
    "    'MD1_type': 'MD_type', 'MD1_age': 'MD_age',\n",
    "    'MD1_gender': 'MD_gender', 'MD1_race': 'MD_race',\n",
    "    'MD1_graduate': 'MD_yrgrad', 'MD1_spec': 'MD_specialty',\n",
    "    'MD1_weeklyPT': 'MD_number_pts_wk', 'MD1_percentcare':'MD_percentpts'\n",
    "}"
   ]
  },
  {
   "cell_type": "markdown",
   "metadata": {},
   "source": [
    "### Miscellaneous"
   ]
  },
  {
   "cell_type": "markdown",
   "metadata": {},
   "source": [
    "This section matches up miscellaneous variables that are present in both datasets."
   ]
  },
  {
   "cell_type": "code",
   "execution_count": null,
   "metadata": {},
   "outputs": [],
   "source": [
    "# maps misc. DVD var names to var names in VA\n",
    "misc_map = {\n",
    "    'DA2_DA_use_dichot': 'Timeda2', 'Know2_Whyww2': 'Whyww2',\n",
    "    'Cancer_Gleason': 'gleason', 'Cancer_psa': 'psa1'\n",
    "}"
   ]
  },
  {
   "cell_type": "markdown",
   "metadata": {},
   "source": [
    "# Processed Variables"
   ]
  },
  {
   "cell_type": "markdown",
   "metadata": {},
   "source": [
    "The variables under this section need more processing to match. We need to recode either columns in VA or DVD, or both, for the variable to correspond."
   ]
  },
  {
   "cell_type": "markdown",
   "metadata": {},
   "source": [
    "### Urologist Recommendation Binary\n",
    "Variable representing whether physician provided a recommendation. In DVD, the variable 'Urorec_none' asks if the physician provided no recommendation, and therefore want to flip all responses (0->1, 1->0). In VA, the variable is coded as 1 (yes) and 2 (no), so we want all 2s to become 0. "
   ]
  },
  {
   "cell_type": "code",
   "execution_count": null,
   "metadata": {},
   "outputs": [],
   "source": [
    "def rec3_binary(df_d, df_v):\n",
    "    df_dvd = df_d.copy()\n",
    "    df_va = df_v.copy()\n",
    "    # rename DVD column to match VA column name\n",
    "    column_name = {'Urorec_none': 'Mdtxrec3'}\n",
    "    df_dvd = df_dvd.rename(index=str, columns = column_name)\n",
    "    # recode dvd column to go from \"no physician recommendation\" -> \"yes physician recommendation\" (flip responses)\n",
    "    new_col1 = []\n",
    "    for index, row in df_dvd.iterrows():\n",
    "        if pd.isnull(row['Mdtxrec3']):\n",
    "            new_col1.append(np.nan)\n",
    "        elif row['Mdtxrec3'] == 1:\n",
    "            new_col1.append(0) # 1 -> 0\n",
    "        else:\n",
    "            new_col1.append(1) # 0 -> 1\n",
    "    df_dvd['Mdtxrec3'] = new_col1\n",
    "    # recode va so that 2->0 (no) to match coding specified in VA codebook\n",
    "    df_va.loc[(df_va['Mdtxrec3'] == 2), 'Mdtxrec3'] = 0\n",
    "    return df_dvd, df_va"
   ]
  },
  {
   "cell_type": "markdown",
   "metadata": {},
   "source": [
    "### DA\n",
    "Maintaining original options from VA and DVD (nothing corresponds), and merging column to have 4 options. Now we have  control -> 2 and DVD -> 3 from DVD, and 0 -> NCCN and 1 -> MCC from VA. "
   ]
  },
  {
   "cell_type": "code",
   "execution_count": null,
   "metadata": {},
   "outputs": [],
   "source": [
    "def DA_type(df_d):\n",
    "    df_dvd = df_d.copy()\n",
    "    # rename DVD column to match VA column name\n",
    "    column_name = {'DVD': 'DA1'}\n",
    "    df_dvd = df_dvd.rename(index=str, columns = column_name)\n",
    "    # we want anything in DVD that is 0 (control) to become 2 and 1 (DVD) to become 3 so that we have 4 distinct values\n",
    "    df_dvd.loc[(df_dvd['DA1'] == 0), 'DA1'] = 2\n",
    "    df_dvd.loc[(df_dvd['DA1'] == 1), 'DA1'] = 3\n",
    "    return df_dvd"
   ]
  },
  {
   "cell_type": "markdown",
   "metadata": {},
   "source": [
    "### Choice Made Binary\n",
    "Have you and your doctor made a final decision about what type of treatment you will have for your prostate cancer? Recode VA coding to match DVD's (1->1, 2->0)."
   ]
  },
  {
   "cell_type": "code",
   "execution_count": null,
   "metadata": {},
   "outputs": [],
   "source": [
    "def choice3_binary(df_d, df_v):\n",
    "    df_dvd = df_d.copy()\n",
    "    df_va = df_v.copy()\n",
    "    # rename DVD column to match VA column name\n",
    "    column_name = {'TxChoice3_yn': 'Finaltx3'}\n",
    "    df_dvd = df_dvd.rename(index=str, columns = column_name)\n",
    "    # we want anything in VA's Finaltx3 that is 2 (no) to become 0 (because 0 is no in DVD)\n",
    "    df_va.loc[(df_va['Finaltx3'] == 2), 'Finaltx3'] = 0\n",
    "    return df_dvd, df_va"
   ]
  },
  {
   "cell_type": "markdown",
   "metadata": {},
   "source": [
    "### Discussing DA\n",
    "Did you discuss the material in your decision aid with your physician? We are combining 2 (no) and -2 (refusal) to be recoded as 0 (no) in VA. We are adding refusal to \"no\" because it still means the patient did not discuss with the physician for whatever reason."
   ]
  },
  {
   "cell_type": "code",
   "execution_count": null,
   "metadata": {},
   "outputs": [],
   "source": [
    "def discussda_binary(df_d, df_v):\n",
    "    df_dvd = df_d.copy()\n",
    "    df_va = df_v.copy()\n",
    "    # rename DVD column to match VA column name\n",
    "    column_name = {'DA3_discussUro': 'Talkda3'}\n",
    "    df_dvd = df_dvd.rename(index=str, columns = column_name)\n",
    "    # we want everything coded as -2 (refusal) and 2 (no) in VA to be coded as no (0) to match DVD coding\n",
    "    df_va.loc[(df_va['Talkda3'] == 2), 'Talkda3'] = 0\n",
    "    df_va.loc[(df_va['Talkda3'] == -2), 'Talkda3'] = 0\n",
    "    return df_dvd, df_va"
   ]
  },
  {
   "cell_type": "markdown",
   "metadata": {},
   "source": [
    "### Treatment Decision at time 3 vs Treatment Received\n",
    "Create a new variable, decision3_vs_received, that sees whether treatment choice specified at time 3 matched the treatment received. In VA, this variable already exists under the name TxgotTx3cc, and in DVD this variable needs to be created by comparing TxChoice3_decided with TxGot_pt_orig to see if they match. "
   ]
  },
  {
   "cell_type": "code",
   "execution_count": null,
   "metadata": {},
   "outputs": [],
   "source": [
    "def decision3_vs_received(df_d):\n",
    "    df_dvd = df_d.copy()\n",
    "    matched = []\n",
    "    for i in range(len(df_dvd)): # check if TxChoice3_decided matches TxGot_pt_orig in DVD\n",
    "        if (pd.isnull(df_dvd.TxChoice3_decided[i]) == False) and (df_dvd.TxChoice3_decided[i] == df_dvd.TxGot_pt_orig[i]):\n",
    "            matched.append(1)\n",
    "        else:\n",
    "            matched.append(0)\n",
    "    df_dvd['TxgotTx3cc'] = matched # create new variable that matches the VA variable name\n",
    "    return df_dvd"
   ]
  },
  {
   "cell_type": "markdown",
   "metadata": {},
   "source": [
    "### Treatment Received \n",
    "This variable represents the final treatment received. We recode VA's txgot variable to match the ordering in DVD (1: Active surveillance, 2: surgery, 3: e.b. Radiation, 4: brachytherapy, 5: other). Furthermore, adjuvant hormone therapy in VA becomes the other option (since that is not in DVD, and DVD has an other option)."
   ]
  },
  {
   "cell_type": "code",
   "execution_count": 368,
   "metadata": {},
   "outputs": [],
   "source": [
    "# VA txgot - 1: surgery, 2: e.b. Radiation, 3: brachytherapy, 4: adjuvant hormone therapy, 5: active surveillance\n",
    "# DVD TxGot_pt_orig - 1: Active surveillance, 2: surgery, 3: e.b. Radiation, 4: brachytherapy, 5: other\n",
    "def treatment_received(df_d, df_v):\n",
    "    df_dvd = df_d.copy()\n",
    "    df_va = df_v.copy()\n",
    "    # rename DVD column name to match VA column name\n",
    "    column_name = {'TxGot_pt_orig': 'txgot'}\n",
    "    df_dvd = df_dvd.rename(index=str, columns = column_name)\n",
    "    # we want options 1->2, 2->3, 3->4, 5->1, 4->5 in VA to match DVD coding\n",
    "    new_col = []\n",
    "    for index, row in df_va.iterrows():\n",
    "        if pd.isnull(row['txgot']):\n",
    "            new_col.append(np.nan)\n",
    "        elif row['txgot'] == 1: # 1->2\n",
    "            new_col.append(2)\n",
    "        elif row['txgot'] == 2: # 2->3\n",
    "            new_col.append(3)\n",
    "        elif row['txgot'] == 3: # 3->4\n",
    "            new_col.append(4)\n",
    "        elif row['txgot'] == 5: # 5->1\n",
    "            new_col.append(1)\n",
    "        else: # adjuvant hormone therapy will be considered other to correspond with DVD coding (4->5)\n",
    "            new_col.append(5)\n",
    "    df_va['txgot'] = new_col\n",
    "    return df_dvd, df_va"
   ]
  },
  {
   "cell_type": "markdown",
   "metadata": {},
   "source": [
    "### Treatment Received Binary\n",
    "Convert treatment received into a binary variable which is 1 if the treatment is active surveillance, and 0 otherwise. "
   ]
  },
  {
   "cell_type": "code",
   "execution_count": 367,
   "metadata": {},
   "outputs": [],
   "source": [
    "def treatment_received_binary(df_merged):\n",
    "    df_merged_copy = df_merged.copy()\n",
    "    bin_vars = []\n",
    "    for index, row in df_merged_copy.iterrows():\n",
    "        if pd.isnull(row['txgot']):\n",
    "            bin_var = np.nan\n",
    "        elif row['txgot'] == 1:\n",
    "            bin_var = 1\n",
    "        else:\n",
    "            bin_var = 0\n",
    "        bin_vars.append(bin_var)\n",
    "    df_merged_copy['txgot_binary'] = bin_vars\n",
    "    return df_merged_copy"
   ]
  },
  {
   "cell_type": "markdown",
   "metadata": {},
   "source": [
    "### Treatment Lean\n",
    "This variable represents the variable they are leaning towards at time 3. Both variables have to be recoding. In DVD, both option 5 (waiting to make decision) and option 6 (other) combine to become option 5 (which represents other).  In VA, option 4 (adjuvant hormone therapy), option 6 (experimental therapies), and option 7 (other) combine to become option 5 (which represents other) and options -1 and -2 (which are not in the codebook) are considering missing data (np.nan). The new representation will be 1: Active surveillance, 2: surgery, 3: e.b. Radiation, 4: brachytherapy, 5: other."
   ]
  },
  {
   "cell_type": "code",
   "execution_count": 366,
   "metadata": {},
   "outputs": [],
   "source": [
    "# VA - 1: surgery, 2: e.b. Radiation, 3: brachytherapy, 4: adjuvant hormone therapy, 5: active surveillance, 6: experimental therapies, 7: other\n",
    "# DVD - 1: active surveillance, 2: surgery, 3: e.b. radiation, 4: brachytherapy, 5: I am waiting to make my decision, 6: other\n",
    "def treatment_lean(df_d, df_v):\n",
    "    df_dvd = df_d.copy()\n",
    "    df_va = df_v.copy()\n",
    "    # rename DVD column name to match VA column name\n",
    "    column_name = {'TxChoice3_lean': 'Txlean3'}\n",
    "    df_dvd = df_dvd.rename(index=str, columns = column_name)\n",
    "    # recode DVD so that options 5,6 become other (essentially, 6 -> 5)\n",
    "    df_dvd.loc[(df_dvd['Txlean3'] == 6),'Txlean3'] = 5\n",
    "    # we want options 1->2, 2->3, 3->4, 5->1, 4,6,7 become other (essentially 4,6,7->5) in VA to match DVD\n",
    "    new_col = []\n",
    "    for index, row in df_va.iterrows():\n",
    "        if pd.isnull(row['Txlean3']) or row['Txlean3'] == -1 or row['Txlean3'] == -2:\n",
    "            new_col.append(np.nan) # -1 and -2 -> np.nan\n",
    "        elif row['Txlean3'] == 1: # 1->2\n",
    "            new_col.append(2)\n",
    "        elif row['Txlean3'] == 2: # 2->3\n",
    "            new_col.append(3)\n",
    "        elif row['Txlean3'] == 3: # 3->4\n",
    "            new_col.append(4)\n",
    "        elif row['Txlean3'] == 5: # 5->1\n",
    "            new_col.append(1)\n",
    "        else: # 4,6,7 -> 5\n",
    "            new_col.append(5) \n",
    "    df_va['Txlean3'] = new_col\n",
    "    return df_dvd, df_va"
   ]
  },
  {
   "cell_type": "markdown",
   "metadata": {},
   "source": [
    "# Recoding Advice"
   ]
  },
  {
   "cell_type": "markdown",
   "metadata": {},
   "source": [
    "First we will recode in VA. In VA, the advice columns are: 'ActiveSurveillance', 'Surgery', and 'Radiation'. These variables are coded from -2 to 2, where 2 is a strongly advised and -2 is strongly advised against. We are combining these into one column that represents the most recommended option(s), where we include ties. For example, if R and S both receive a recommendation of +1 and A receives a recommendation of -1, then we would include both R and S."
   ]
  },
  {
   "cell_type": "code",
   "execution_count": 369,
   "metadata": {},
   "outputs": [],
   "source": [
    "def recode_advice_va(df):\n",
    "    advice_col = []\n",
    "    doc_col = []\n",
    "    for index, row in df.iterrows():\n",
    "        advice = ''\n",
    "        doc = np.nan\n",
    "        max_val = max([row['ActiveSurveillance'], row['Surgery'], row['Radiation']])\n",
    "        for treatment in ['ActiveSurveillance', 'Surgery', 'Radiation']:\n",
    "            if row[treatment] == max_val and pd.isnull(row[treatment]) == False:\n",
    "                advice += treatment[0]\n",
    "                doc = 'U'\n",
    "        if advice == '':\n",
    "            advice = np.nan \n",
    "        advice_col.append(advice)\n",
    "        doc_col.append(doc)\n",
    "    df['Advice1']  = advice_col\n",
    "    df['Doc1'] = doc_col\n",
    "    return df"
   ]
  },
  {
   "cell_type": "markdown",
   "metadata": {},
   "source": [
    "Now, we will recode in DVD. In DVD, there is a separate advice spreadsheet, and the main variables we are interested in are: 'DVD_ActiveSurveillance', 'DVD_Radiation', and 'DVD_Surgery'. These are are on a scale from 1 (most advised option) to 3 (least advised option). If there are tie breakers, we include all tied options. For example, if two options tied for first place, this would result in the values 1.5 (A), 1.5 (R), and 3 (S) (note: the 3 advice variables should add up to 6 if it's not empty) and we would include both A and R.  "
   ]
  },
  {
   "cell_type": "code",
   "execution_count": 370,
   "metadata": {},
   "outputs": [],
   "source": [
    "def recode_advice_dvd(df):\n",
    "    advice = defaultdict(lambda: {'Advice1': np.nan, 'Advice2': np.nan, 'Doc1': np.nan, 'Doc2': np.nan, 'as1': np.nan, 'rad1': np.nan, 'sur1': np.nan, 'as2': np.nan, 'rad2': np.nan, 'sur2': np.nan})\n",
    "    for index, row in df.iterrows():\n",
    "        id_ = row['ID']\n",
    "        p_id = id_[1:5]\n",
    "        as_ = row['DVD_ActiveSurveillance']\n",
    "        rad_ = row['DVD_Radiation']\n",
    "        sur_ = row['DVD_Surgery']\n",
    "        # compute the advice (most recommended option)\n",
    "        max_val = max([as_, rad_, sur_])\n",
    "        adv = ''\n",
    "        for treatment in ['DVD_ActiveSurveillance', 'DVD_Surgery', 'DVD_Radiation']:\n",
    "            if row[treatment] == max_val and pd.isnull(row[treatment]) == False:\n",
    "                adv += treatment[4]\n",
    "        if adv == '':\n",
    "            adv = np.nan\n",
    "        if id_[8] == '1':\n",
    "            advice[p_id]['Doc1'] = id_[6]\n",
    "            advice[p_id]['as1'] = as_\n",
    "            advice[p_id]['rad1'] = rad_\n",
    "            advice[p_id]['sur1'] = sur_\n",
    "            advice[p_id]['Advice1'] = adv\n",
    "        else:\n",
    "            advice[p_id]['Doc2'] = id_[6]\n",
    "            advice[p_id]['as2'] = as_\n",
    "            advice[p_id]['rad2'] = rad_\n",
    "            advice[p_id]['sur2'] = sur_\n",
    "            advice[p_id]['Advice2'] = adv\n",
    "    return advice"
   ]
  },
  {
   "cell_type": "markdown",
   "metadata": {},
   "source": [
    "# Actual Merging (credit to Grant's code)"
   ]
  },
  {
   "cell_type": "markdown",
   "metadata": {},
   "source": [
    "We will finally merge the two datasets according to the following steps:\n",
    "1. Run each dataset through their processing functions written above\n",
    "2. Find shared variables\n",
    "3. For the variables unique to each dataset, mark with a prefix (VA_ or DVD_)\n",
    "4. Concatenate the two datasets"
   ]
  },
  {
   "cell_type": "markdown",
   "metadata": {},
   "source": [
    "First, we have to find the variable names shared by the two datasets prior to processing because these variable names may interfere when we find the shared variables after processing."
   ]
  },
  {
   "cell_type": "markdown",
   "metadata": {},
   "source": [
    "The pre-processed shared variables consist of anxiety question variables for each of the datasets. These variables don't necessarily correspond to the same question between the datasets. However, looking at the mapping for the anxiety question section above, we see that most of the pre-processed shared variables have been mapped to the correct corresponding question. The variables that remain are: <br />\n",
    "\n",
    "Anx41, Anx42, Anx43, Unnamed: 0, filter_$ <br />\n",
    "\n",
    "When constructing the pool of shared variables, these variables will be taken out and given prefixes denoting their respective studies."
   ]
  },
  {
   "cell_type": "code",
   "execution_count": null,
   "metadata": {},
   "outputs": [],
   "source": [
    "\"\"\"\n",
    "    Takes out the \"faux\" shared variables\n",
    "    \n",
    "    input: set of shared variables\n",
    "    output: set of shared variables without variables above\n",
    "\"\"\"\n",
    "def filter_set(shared_set):\n",
    "    shared_set_copy = shared_set.copy()\n",
    "    \n",
    "    fake_vars = ['Anx41', 'Anx42', 'Anx43', 'Unnamed: 0', 'filter_$']\n",
    "    for var in fake_vars:\n",
    "        shared_set_copy.discard(var)\n",
    "    return shared_set_copy"
   ]
  },
  {
   "cell_type": "markdown",
   "metadata": {},
   "source": [
    "While we're at it, let's make a function that adds prefixes to the unique variables of the datasets."
   ]
  },
  {
   "cell_type": "code",
   "execution_count": null,
   "metadata": {},
   "outputs": [],
   "source": [
    "# helper function for prefix adder below\n",
    "def prefix_helper(x, prefix, shared_vars):\n",
    "    if x in shared_vars:\n",
    "        return x\n",
    "    else: \n",
    "        return prefix + x"
   ]
  },
  {
   "cell_type": "code",
   "execution_count": null,
   "metadata": {},
   "outputs": [],
   "source": [
    "\"\"\"\n",
    "    Adds prefixes to the unique variables in each dataset\n",
    "    \n",
    "    input: dataframe, dataset (\"va\" or \"dvd\"), set of shared vars\n",
    "    output: dataframe with the unique variables prefixed\n",
    "\"\"\"\n",
    "def add_prefix(df, dataset, shared_vars):\n",
    "    df_copy = df.copy()\n",
    "    \n",
    "    prefix = ''\n",
    "    if dataset == 'va':\n",
    "        prefix = 'VA_'\n",
    "    if dataset == 'dvd':\n",
    "        prefix = 'DVD_'\n",
    "        \n",
    "    df_copy.columns = list(map(lambda x: prefix_helper(x, prefix, shared_vars),\n",
    "                              df.columns))\n",
    "    \n",
    "    return df_copy"
   ]
  },
  {
   "cell_type": "markdown",
   "metadata": {},
   "source": [
    "The next function will run each dataset through their processing functions as defined earlier."
   ]
  },
  {
   "cell_type": "code",
   "execution_count": null,
   "metadata": {},
   "outputs": [],
   "source": [
    "\"\"\"\n",
    "    Processes datasets to get ready for merging\n",
    "    \n",
    "    input: both original dataframes\n",
    "    output: datasets ready to be merged\n",
    "\"\"\"\n",
    "\n",
    "def process_data(df1, df2):\n",
    "    va = df1.copy()\n",
    "    dvd = df2.copy()\n",
    "    doctor_advice = pd.read_csv('DVD_Advice.csv')\n",
    "    \n",
    "    # constructing  advice variable\n",
    "    advice_dict = recode_advice_dvd(doctor_advice)\n",
    "    advice_d = pd.DataFrame.from_dict(advice_dict, orient='index')\n",
    "    advice_d.index.name = 'demo_ID'\n",
    "    advice_d.reset_index(level=0, inplace=True)\n",
    "    dvd_new = dvd.merge(advice_d, how = 'left', on='demo_ID') # have to join advice dataframe with dvd dataframe\n",
    "    va_new = recode_advice_va(va)\n",
    "    \n",
    "    # dvd simple name changes\n",
    "    demo_dvd = map_var_names(dvd_new, demo_map)\n",
    "    phys_dvd = map_var_names(demo_dvd, phys_map)\n",
    "    know_dvd = map_var_names(phys_dvd, know_map)\n",
    "    anx_dvd = map_var_names(know_dvd, anx_map)\n",
    "    md_dvd = map_var_names(anx_dvd, md_demo_map)\n",
    "    misc_dvd = map_var_names(md_dvd, misc_map)\n",
    "    \n",
    "    # VARIABLES THAT REQUIRE PROCESSING\n",
    "    \n",
    "    # Urologist Recommendation\n",
    "    urorec_dvd, urorec_va = rec3_binary(misc_dvd, va_new)\n",
    "    \n",
    "    # DA type\n",
    "    da_dvd = DA_type(urorec_dvd)\n",
    "    \n",
    "    # Choice 3\n",
    "    choice3_dvd, choice3_va = choice3_binary(da_dvd, urorec_va)\n",
    "    \n",
    "    # Discussing DA\n",
    "    dda_dvd, dda_va = discussda_binary(choice3_dvd, choice3_va)\n",
    "    \n",
    "    # Decision3 vs. Received\n",
    "    tx3txgot_dvd = decision3_vs_received(dda_dvd)\n",
    "    \n",
    "    # Treatment Final\n",
    "    txgot_dvd, txgot_va = treatment_received(tx3txgot_dvd, dda_va)\n",
    "    \n",
    "    # Treatment Lean\n",
    "    final_dvd, final_va = treatment_lean(txgot_dvd, txgot_va)\n",
    "    \n",
    "    return final_va, final_dvd"
   ]
  },
  {
   "cell_type": "markdown",
   "metadata": {},
   "source": [
    "Apologies if this processing function seems convoluted because of the chain of function calls. However, I think having each step of processing in its own function will make it easier to add new steps of processing down the line."
   ]
  },
  {
   "cell_type": "markdown",
   "metadata": {},
   "source": [
    "Next, we write a function that finds the shared variables and makes the distinction between shared and unique variables."
   ]
  },
  {
   "cell_type": "code",
   "execution_count": null,
   "metadata": {},
   "outputs": [],
   "source": [
    "\"\"\"\n",
    "    Finds set of shared variables and marks shared and distinct variables \n",
    "    in each dataframe\n",
    "    \n",
    "    input: processed va, processed dvd (result of process_data)\n",
    "    output: two ready to merge dataframes\n",
    "\"\"\"\n",
    "def process_shared(df1, df2):\n",
    "    va = df1.copy()\n",
    "    dvd = df2.copy()\n",
    "    \n",
    "    # finds the shared variables between the datasets\n",
    "    shared_vars = set(va) & set(dvd)\n",
    "    filtered_vars = filter_set(shared_vars)\n",
    "    \n",
    "    # marks dataframes with prefixes for unique variables\n",
    "    final_va = add_prefix(va, 'va', filtered_vars)\n",
    "    final_dvd = add_prefix(dvd, 'dvd', filtered_vars)\n",
    "    \n",
    "    return final_va, final_dvd, filtered_vars"
   ]
  },
  {
   "cell_type": "markdown",
   "metadata": {},
   "source": [
    "Finally, we will merge the two processed datasets into a beautiful, singular dataset."
   ]
  },
  {
   "cell_type": "code",
   "execution_count": null,
   "metadata": {},
   "outputs": [],
   "source": [
    "\"\"\"\n",
    "    Takes two original datasets and returns merged dataset\n",
    "    \n",
    "    input: original va, original dvd\n",
    "    output: merged dataframe\n",
    "\"\"\"\n",
    "def merge(va_original, dvd_original):\n",
    "    # runs original dataframes through above processing functions\n",
    "    processed_va, processed_dvd = process_data(va_original, dvd_original)\n",
    "    tagged_va, tagged_dvd, filtered_vars = process_shared(processed_va, processed_dvd)\n",
    "    \n",
    "    merged_df = pd.concat([tagged_va, tagged_dvd])\n",
    "    merged_df_as = treatment_received_binary(merged_df) # convert txgot into a binary variable for classification (1 for AS, 0 otherwise)\n",
    "    return merged_df_as"
   ]
  },
  {
   "cell_type": "markdown",
   "metadata": {},
   "source": [
    "# Moment of Truth"
   ]
  },
  {
   "cell_type": "code",
   "execution_count": null,
   "metadata": {},
   "outputs": [],
   "source": [
    "df_merged = merge(va_original, dvd_original)"
   ]
  },
  {
   "cell_type": "markdown",
   "metadata": {},
   "source": [
    "# Merging Transcript Data (LAST STEP!!!)"
   ]
  },
  {
   "cell_type": "code",
   "execution_count": null,
   "metadata": {},
   "outputs": [],
   "source": [
    "df_transcripts = pd.read_csv('all_transcripts.csv')\n",
    "df_transcripts = df_transcripts.drop(columns=['Unnamed: 0'])\n",
    "df_transcripts.rename(columns = {'patient_id':'ID'}, inplace=True)"
   ]
  },
  {
   "cell_type": "code",
   "execution_count": null,
   "metadata": {},
   "outputs": [],
   "source": [
    "transcripts_merged = df_merged.merge(df_transcripts, how='left', on='ID')"
   ]
  },
  {
   "cell_type": "code",
   "execution_count": null,
   "metadata": {},
   "outputs": [],
   "source": [
    "transcripts_merged.to_csv('all_data_merged.csv')"
   ]
  },
  {
   "cell_type": "markdown",
   "metadata": {},
   "source": [
    "### Create a dataframe with shared vars only"
   ]
  },
  {
   "cell_type": "code",
   "execution_count": null,
   "metadata": {},
   "outputs": [],
   "source": [
    "# create a dataframe that only include shared variables, md info, advice, and transcript data (nothing unique to VA or DVD)\n",
    "transcripts_merged_sub = transcripts_merged[['Advice1', 'Anx11', 'Anx111', 'Anx112', 'Anx113', 'Anx12', 'Anx13', 'Anx51', 'Anx52','Anx53','Anx61','Anx62','Anx63','Anx71','Anx72','Anx73','Anx91','Anx92','Anx93','Ask3','Clear3','DA1','Dienot2','Doc1','Explain3','Finaltx3','ID','Involve3','MD_age','MD_gender','MD_number_pts_wk','MD_percentpts','MD_race','MD_specialty','MD_type','MD_yrgrad','Mdtxrec3','Opinion3','Raded2','Radpee2','Satis3','Sured2','Surpee2','Talkda3','Timeda2','TxgotTx3cc','Txlean3','Wait2','Whyww2','Wwed2','Wwpee2','age','arabme','asian','black','education','gleason','hispanic','irespmd','marry','mdrespme','native','pacific','psa1','raceother','txgot','txgot_binary','white', 'Convo_1', 'Convo_2', 'Dataset', 'Doctor_1', 'Doctor_2']]"
   ]
  },
  {
   "cell_type": "code",
   "execution_count": null,
   "metadata": {},
   "outputs": [],
   "source": [
    "transcripts_merged_sub.to_csv('shared_data_merged.csv')"
   ]
  }
 ],
 "metadata": {
  "kernelspec": {
   "display_name": "Python 3",
   "language": "python",
   "name": "python3"
  },
  "language_info": {
   "codemirror_mode": {
    "name": "ipython",
    "version": 3
   },
   "file_extension": ".py",
   "mimetype": "text/x-python",
   "name": "python",
   "nbconvert_exporter": "python",
   "pygments_lexer": "ipython3",
   "version": "3.6.2"
  }
 },
 "nbformat": 4,
 "nbformat_minor": 2
}
