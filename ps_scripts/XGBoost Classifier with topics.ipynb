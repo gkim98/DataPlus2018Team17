{
 "cells": [
  {
   "cell_type": "code",
   "execution_count": 28,
   "metadata": {},
   "outputs": [],
   "source": [
    "from xgboost import XGBClassifier\n",
    "from sklearn.preprocessing import OneHotEncoder, scale, LabelEncoder\n",
    "import pandas as pd\n",
    "import numpy as np\n",
    "from sklearn import metrics\n",
    "from sklearn.model_selection import StratifiedKFold, KFold, GridSearchCV"
   ]
  },
  {
   "cell_type": "code",
   "execution_count": 47,
   "metadata": {},
   "outputs": [],
   "source": [
    "# function to fit model, predict response, and compute performance metrics \n",
    "def fit_and_predict(clf, X_train, y_train, X_test, y_test, predict='test'):\n",
    "    X_train = np.array(X_train)\n",
    "    y_train = np.array(y_train)\n",
    "    X_test = np.array(X_test)\n",
    "    y_test = np.array(y_test)\n",
    "    clf.fit(X_train, y_train.ravel())\n",
    "    if (predict == 'test'): # testing performance\n",
    "        y_pred = clf.predict(X_test)\n",
    "        accuracy = metrics.accuracy_score(y_test, y_pred)\n",
    "        precision = metrics.precision_score(y_test, y_pred)\n",
    "        recall = metrics.recall_score(y_test, y_pred)\n",
    "        auc = metrics.roc_auc_score(y_test, y_pred)\n",
    "    else: # training performance\n",
    "        y_pred = clf.predict(X_train)\n",
    "        accuracy = metrics.accuracy_score(y_train, y_pred)\n",
    "        precision = metrics.precision_score(y_train, y_pred)\n",
    "        recall = metrics.recall_score(y_train, y_pred)\n",
    "        auc = metrics.roc_auc_score(y_train, y_pred)\n",
    "    return accuracy, precision, recall, auc"
   ]
  },
  {
   "cell_type": "code",
   "execution_count": 75,
   "metadata": {},
   "outputs": [],
   "source": [
    "df = pd.read_csv('dvd_topics.csv')"
   ]
  },
  {
   "cell_type": "code",
   "execution_count": null,
   "metadata": {},
   "outputs": [],
   "source": [
    "# Use stratified k-fold to compute training and testing performance, and iterate many times to compute average performance\n",
    "tr_accuracies = []\n",
    "tr_precisions = []\n",
    "tr_recalls = []\n",
    "tr_aucs = []\n",
    "ts_accuracies = []\n",
    "ts_precisions = []\n",
    "ts_recalls = []\n",
    "ts_aucs = []\n",
    "X = np.array(df[['Medical', 'Surveillance', 'Radiation', 'Surgery']])\n",
    "y = df['txgot_binary']\n",
    "for i in range(0,1000):\n",
    "    kf = StratifiedKFold(n_splits=4, shuffle=True) # this will \"randomly\" split into stratified folds (maintaining class balances in each fold) \n",
    "    for train_index, test_index in kf.split(X,y):\n",
    "        X_train, X_test = X[train_index], X[test_index]\n",
    "        y_train, y_test = y[train_index], y[test_index] \n",
    "        tr_acc, tr_pre, tr_rec, tr_auc = fit_and_predict(XGBClassifier(), X_train, y_train, X_test, y_test, predict='train')\n",
    "        tr_accuracies.append(tr_acc)\n",
    "        tr_precisions.append(tr_pre)\n",
    "        tr_recalls.append(tr_rec)\n",
    "        tr_aucs.append(tr_auc)\n",
    "        ts_acc, ts_pre, ts_rec, ts_auc = fit_and_predict(XGBClassifier(), X_train, y_train, X_test, y_test, predict='test')\n",
    "        ts_accuracies.append(ts_acc)\n",
    "        ts_precisions.append(ts_pre)\n",
    "        ts_recalls.append(ts_rec)\n",
    "        ts_aucs.append(ts_auc)"
   ]
  },
  {
   "cell_type": "code",
   "execution_count": null,
   "metadata": {},
   "outputs": [],
   "source": [
    "print('Training - accuracy: ', np.average(tr_accuracies), ', Testing - accuracy: ', np.average(ts_accuracies), '\\n')\n",
    "print('Training - precision: ', np.average(tr_precisions), ', Testing - precision: ', np.average(ts_precisions), '\\n')\n",
    "print('Training - recall: ', np.average(tr_recalls), ', Testing - recall: ', np.average(ts_recalls), '\\n')\n",
    "print('Training - auc: ', np.average(tr_aucs), ', Testing - auc: ', np.average(ts_aucs), '\\n')"
   ]
  },
  {
   "cell_type": "markdown",
   "metadata": {},
   "source": [
    "Preethi's topics:\n",
    "\n",
    "Training - accuracy:  0.9729315890870137 , Testing - accuracy:  0.7079242063492063 \n",
    "\n",
    "Training - precision:  0.9864957452511257 , Testing - precision:  0.3472598752554635 \n",
    "\n",
    "Training - recall:  0.8979137500000001 , Testing - recall:  0.26141666666666663 \n",
    "\n",
    "Training - auc:  0.9469874305555556 , Testing - auc:  0.5535277777777778 \n",
    "\n",
    "Sammy's topics:\n",
    "\n",
    "Training - accuracy:  0.9629580149803026 , Testing - accuracy:  0.7219116129785248 \n",
    "\n",
    "Training - precision:  0.9938414122509832 , Testing - precision:  0.3704385815573316 \n",
    "\n",
    "Training - recall:  0.8482908333333334 , Testing - recall:  0.22682986111111114 \n",
    "\n",
    "Training - auc:  0.9233028626543209 , Testing - auc:  0.5507187054843304 "
   ]
  }
 ],
 "metadata": {
  "kernelspec": {
   "display_name": "Python 3",
   "language": "python",
   "name": "python3"
  },
  "language_info": {
   "codemirror_mode": {
    "name": "ipython",
    "version": 3
   },
   "file_extension": ".py",
   "mimetype": "text/x-python",
   "name": "python",
   "nbconvert_exporter": "python",
   "pygments_lexer": "ipython3",
   "version": "3.6.2"
  }
 },
 "nbformat": 4,
 "nbformat_minor": 2
}
