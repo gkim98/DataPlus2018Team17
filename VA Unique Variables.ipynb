{
 "cells": [
  {
   "cell_type": "markdown",
   "metadata": {},
   "source": [
    "# VA Unique Variables\n",
    "\n",
    "Let's look at the variables unique to the VA dataset and see what the distributions of these variables are."
   ]
  },
  {
   "cell_type": "code",
   "execution_count": 4,
   "metadata": {},
   "outputs": [
    {
     "name": "stdout",
     "output_type": "stream",
     "text": [
      "[nltk_data] Downloading package stopwords to\n",
      "[nltk_data]     /Users/samanthagarland/nltk_data...\n",
      "[nltk_data]   Package stopwords is already up-to-date!\n"
     ]
    }
   ],
   "source": [
    "import nltk\n",
    "nltk.download('stopwords')\n",
    "from nltk.corpus import stopwords\n",
    "\n",
    "import re\n",
    "import numpy as np\n",
    "import pandas as pd\n",
    "from pprint import pprint\n",
    "from scipy import stats\n",
    "\n",
    "import seaborn as sns\n",
    "\n",
    "from numpy import loadtxt\n",
    "from xgboost import XGBClassifier\n",
    "from sklearn.model_selection import train_test_split, StratifiedKFold\n",
    "from sklearn.metrics import accuracy_score, roc_auc_score, precision_score, recall_score, f1_score\n",
    "\n",
    "\n",
    "#spacy for lemmatization\n",
    "import spacy\n",
    "\n",
    "#plotting tools\n",
    "import pyLDAvis\n",
    "import pyLDAvis.gensim\n",
    "import matplotlib.pyplot as plt\n",
    "\n",
    "import warnings\n",
    "warnings.filterwarnings(\"ignore\", category=DeprecationWarning)\n",
    "\n",
    "from collections import Counter"
   ]
  },
  {
   "cell_type": "code",
   "execution_count": 13,
   "metadata": {},
   "outputs": [
    {
     "data": {
      "text/plain": [
       "Index(['Unnamed: 0', 'ID', 'MD', 'Ch_IL', 'RadOnc_apt', 'ActiveSurveillance',\n",
       "       'Surgery', 'Radiation', 'Brachy', 'Recom',\n",
       "       ...\n",
       "       'MD_hispanic', 'MD_black', 'MD_native', 'MD_asian', 'MD_pacific',\n",
       "       'MD_raceother', 'MD_raceotherspecify', 'filter_$', 'As_1', 'Ch3_AS'],\n",
       "      dtype='object', length=345)"
      ]
     },
     "execution_count": 13,
     "metadata": {},
     "output_type": "execute_result"
    }
   ],
   "source": [
    "va = pd.read_csv(\"/Users/samanthagarland/Downloads/VA_Original.csv\")"
   ]
  },
  {
   "cell_type": "code",
   "execution_count": 16,
   "metadata": {},
   "outputs": [],
   "source": [
    "#re-create txgot_binary\n",
    "bin_vars = []\n",
    "for index, row in va.iterrows():\n",
    "    if row['txgot'] == 5:\n",
    "        bin_var = 1\n",
    "    else:\n",
    "        bin_var = 0\n",
    "    bin_vars.append(bin_var)\n",
    "va['txgot_binary'] = bin_vars"
   ]
  },
  {
   "cell_type": "code",
   "execution_count": 55,
   "metadata": {},
   "outputs": [],
   "source": [
    "def num_breakdown(df, group_var, hue_var):\n",
    "    groups = df.groupby(group_var)\n",
    "    \n",
    "    # first groupby breakdown\n",
    "    for name, group in groups:\n",
    "        print('{}: '.format(str(name).upper()))\n",
    "        for hue_name, hue_group in group.groupby(hue_var):\n",
    "            percentage = round((len(hue_group.index) / len(group[hue_var].dropna().index)) * 100, 1)\n",
    "            print('{} - {}%'.format(hue_name, percentage))\n",
    "        print()"
   ]
  },
  {
   "cell_type": "markdown",
   "metadata": {},
   "source": [
    "### Die1\n",
    "How imporant it is to you to do everything possible to try to avoid dying of cancer?\n",
    "\n",
    "0=not at all important, 1=1, 2=2, 3=3, 4=4, 5=5, 6=6, 7=7, 8=8, 9=9, 10=extremely important"
   ]
  },
  {
   "cell_type": "code",
   "execution_count": 28,
   "metadata": {
    "scrolled": true
   },
   "outputs": [
    {
     "data": {
      "text/plain": [
       "<matplotlib.axes._subplots.AxesSubplot at 0x1a24b2bc88>"
      ]
     },
     "execution_count": 28,
     "metadata": {},
     "output_type": "execute_result"
    },
    {
     "data": {
      "image/png": "[encoded data removed]",
      "text/plain": [
       "<matplotlib.figure.Figure at 0x1a24b07550>"
      ]
     },
     "metadata": {},
     "output_type": "display_data"
    }
   ],
   "source": [
    "sns.countplot(x='Die1', data=va, hue = 'txgot_binary')"
   ]
  },
  {
   "cell_type": "markdown",
   "metadata": {},
   "source": [
    "### Active1\n",
    "The only responsible thing to do in this situation is to do some sort of active treatment (surgery or radiation).\n",
    "\n",
    "1=completely disagree, 2=2, 3=3, 4=4, 5=5, 6=6, 7=completely agree"
   ]
  },
  {
   "cell_type": "code",
   "execution_count": 29,
   "metadata": {
    "scrolled": false
   },
   "outputs": [
    {
     "data": {
      "text/plain": [
       "<matplotlib.axes._subplots.AxesSubplot at 0x1a24c045c0>"
      ]
     },
     "execution_count": 29,
     "metadata": {},
     "output_type": "execute_result"
    },
    {
     "data": {
      "image/png": "[encoded data removed]",
      "text/plain": [
       "<matplotlib.figure.Figure at 0x1a24a39908>"
      ]
     },
     "metadata": {},
     "output_type": "display_data"
    }
   ],
   "source": [
    "sns.countplot(x='Active1', data=va, hue = 'txgot_binary')"
   ]
  },
  {
   "cell_type": "markdown",
   "metadata": {},
   "source": [
    "### Nowait1\n",
    "\n",
    "It's better to do something than wait for my cancer to get worse.\n",
    "\n",
    "1=completely disagree, 2=2, 3=3, 4=4, 5=5, 6=6, 7=completely agree"
   ]
  },
  {
   "cell_type": "code",
   "execution_count": 27,
   "metadata": {},
   "outputs": [
    {
     "data": {
      "text/plain": [
       "<matplotlib.axes._subplots.AxesSubplot at 0x1a24ad3c88>"
      ]
     },
     "execution_count": 27,
     "metadata": {},
     "output_type": "execute_result"
    },
    {
     "data": {
      "image/png": "[encoded data removed]",
      "text/plain": [
       "<matplotlib.figure.Figure at 0x1a249433c8>"
      ]
     },
     "metadata": {},
     "output_type": "display_data"
    }
   ],
   "source": [
    "sns.countplot(x='Nowait1', data=va, hue = 'txgot_binary')"
   ]
  },
  {
   "cell_type": "markdown",
   "metadata": {},
   "source": [
    "### Marry\n",
    "\n",
    "What is your current marital status?\n",
    "\n",
    "1=married or living with a civil/domestic partner, 2=widowed, 3=divorced, 4=separated from your spouse/partner, 5=never married/never in a civil/domestic partnership"
   ]
  },
  {
   "cell_type": "code",
   "execution_count": 30,
   "metadata": {
    "scrolled": true
   },
   "outputs": [
    {
     "data": {
      "text/plain": [
       "<matplotlib.axes._subplots.AxesSubplot at 0x1a24ca76a0>"
      ]
     },
     "execution_count": 30,
     "metadata": {},
     "output_type": "execute_result"
    },
    {
     "data": {
      "image/png": "[encoded data removed]",
      "text/plain": [
       "<matplotlib.figure.Figure at 0x1a24cd20b8>"
      ]
     },
     "metadata": {},
     "output_type": "display_data"
    }
   ],
   "source": [
    "sns.countplot(x='marry', data=va, hue = 'txgot_binary')"
   ]
  },
  {
   "cell_type": "code",
   "execution_count": 58,
   "metadata": {},
   "outputs": [
    {
     "name": "stdout",
     "output_type": "stream",
     "text": [
      "0: \n",
      "1.0 - 52.9%\n",
      "2.0 - 2.6%\n",
      "3.0 - 34.8%\n",
      "4.0 - 1.9%\n",
      "5.0 - 7.7%\n",
      "\n",
      "1: \n",
      "1.0 - 52.0%\n",
      "2.0 - 3.1%\n",
      "3.0 - 34.7%\n",
      "4.0 - 2.0%\n",
      "5.0 - 8.2%\n",
      "\n"
     ]
    }
   ],
   "source": [
    "num_breakdown(va, 'txgot_binary', 'marry')"
   ]
  },
  {
   "cell_type": "markdown",
   "metadata": {},
   "source": [
    "### Education\n",
    "\n",
    "What is the highest level of education you have completed?\n",
    "\n",
    "1=none, 2=elementary school, 3=some high school, but no diploma, 4=high school (Diploma or GED), 5=trade school, 6=some college, but no degree, 7=associate's degree (AA, AS, etc.), 8=bachelor's degree (BS, BA, etc.), 9=Master's degree (MA, MPH, etc.), 10=doctoral/professional degree (PhD, MD, etc.)"
   ]
  },
  {
   "cell_type": "code",
   "execution_count": 21,
   "metadata": {},
   "outputs": [
    {
     "data": {
      "text/plain": [
       "<matplotlib.axes._subplots.AxesSubplot at 0x1a245c2438>"
      ]
     },
     "execution_count": 21,
     "metadata": {},
     "output_type": "execute_result"
    },
    {
     "data": {
      "image/png": "[encoded data removed]",
      "text/plain": [
       "<matplotlib.figure.Figure at 0x1a24411940>"
      ]
     },
     "metadata": {},
     "output_type": "display_data"
    }
   ],
   "source": [
    "sns.countplot(x='education', data=va, hue = 'txgot_binary')"
   ]
  },
  {
   "cell_type": "code",
   "execution_count": 59,
   "metadata": {},
   "outputs": [
    {
     "name": "stdout",
     "output_type": "stream",
     "text": [
      "0: \n",
      "2.0 - 0.6%\n",
      "3.0 - 1.3%\n",
      "4.0 - 26.9%\n",
      "5.0 - 4.5%\n",
      "6.0 - 30.8%\n",
      "7.0 - 14.7%\n",
      "8.0 - 14.7%\n",
      "9.0 - 6.4%\n",
      "\n",
      "1: \n",
      "3.0 - 2.0%\n",
      "4.0 - 28.6%\n",
      "5.0 - 3.1%\n",
      "6.0 - 34.7%\n",
      "7.0 - 12.2%\n",
      "8.0 - 15.3%\n",
      "9.0 - 4.1%\n",
      "\n"
     ]
    }
   ],
   "source": [
    "num_breakdown(va, 'txgot_binary', 'education')"
   ]
  },
  {
   "cell_type": "markdown",
   "metadata": {},
   "source": [
    "### Read2\n",
    "\n",
    "Did you read the decision aid before coming to today's appointment?\n",
    "\n",
    "0 = no, 1 = yes"
   ]
  },
  {
   "cell_type": "code",
   "execution_count": 31,
   "metadata": {
    "scrolled": true
   },
   "outputs": [
    {
     "data": {
      "text/plain": [
       "<matplotlib.axes._subplots.AxesSubplot at 0x1a24d97d30>"
      ]
     },
     "execution_count": 31,
     "metadata": {},
     "output_type": "execute_result"
    },
    {
     "data": {
      "image/png": "[encoded data removed]",
      "text/plain": [
       "<matplotlib.figure.Figure at 0x1a24cd8fd0>"
      ]
     },
     "metadata": {},
     "output_type": "display_data"
    }
   ],
   "source": [
    "sns.countplot(x='Read2', data=va, hue = 'txgot_binary')"
   ]
  },
  {
   "cell_type": "code",
   "execution_count": 60,
   "metadata": {},
   "outputs": [
    {
     "name": "stdout",
     "output_type": "stream",
     "text": [
      "0: \n",
      "0.0 - 7.8%\n",
      "1.0 - 92.2%\n",
      "\n",
      "1: \n",
      "0.0 - 8.2%\n",
      "1.0 - 91.8%\n",
      "\n"
     ]
    }
   ],
   "source": [
    "num_breakdown(va, 'txgot_binary', 'Read2')"
   ]
  },
  {
   "cell_type": "markdown",
   "metadata": {},
   "source": [
    "### Timeda2\n",
    "\n",
    "About how much time did you spend looking at or reading the decision aid?\n",
    "\n",
    "1=less than 30 minutes, 2=30-60 minutes, 3=1-2 hours, 4=more than 2 hours"
   ]
  },
  {
   "cell_type": "code",
   "execution_count": 32,
   "metadata": {
    "scrolled": true
   },
   "outputs": [
    {
     "data": {
      "text/plain": [
       "<matplotlib.axes._subplots.AxesSubplot at 0x1a24f4c908>"
      ]
     },
     "execution_count": 32,
     "metadata": {},
     "output_type": "execute_result"
    },
    {
     "data": {
      "image/png": "[encoded data removed]",
      "text/plain": [
       "<matplotlib.figure.Figure at 0x1a24ae2748>"
      ]
     },
     "metadata": {},
     "output_type": "display_data"
    }
   ],
   "source": [
    "sns.countplot(x='Timeda2', data=va, hue = 'txgot_binary')"
   ]
  },
  {
   "cell_type": "markdown",
   "metadata": {},
   "source": [
    "### SDM2\n",
    "\n",
    "We would like to learn more about how you would make this decision [about what type of prostate cancer treatment to undergo].\n",
    "\n",
    "1=My doctor(s) will make the decision with little input from me, 2=My doctor(s) will make the decision but will seriously consider my opinion, 3=My doctor(s) and I will make the decision together, 4=I will make the decision after seriously considering my doctor(s) opinion, 5=I will make the decision with little input from my doctor(s)"
   ]
  },
  {
   "cell_type": "code",
   "execution_count": 33,
   "metadata": {
    "scrolled": true
   },
   "outputs": [
    {
     "data": {
      "text/plain": [
       "<matplotlib.axes._subplots.AxesSubplot at 0x1a25037c88>"
      ]
     },
     "execution_count": 33,
     "metadata": {},
     "output_type": "execute_result"
    },
    {
     "data": {
      "image/png": "[encoded data removed]",
      "text/plain": [
       "<matplotlib.figure.Figure at 0x1a24dde7f0>"
      ]
     },
     "metadata": {},
     "output_type": "display_data"
    }
   ],
   "source": [
    "sns.countplot(x='SDM2', data=va, hue = 'txgot_binary')"
   ]
  },
  {
   "cell_type": "markdown",
   "metadata": {},
   "source": [
    "### Whatrec3\n",
    "\n",
    "What was the recommendation?\n",
    "\n",
    "1=surgery, 2= external beam radiation, 3= brachytherapy, 4=watchful waiting, 5=other"
   ]
  },
  {
   "cell_type": "code",
   "execution_count": 25,
   "metadata": {},
   "outputs": [
    {
     "data": {
      "text/plain": [
       "<matplotlib.axes._subplots.AxesSubplot at 0x1a2492c8d0>"
      ]
     },
     "execution_count": 25,
     "metadata": {},
     "output_type": "execute_result"
    },
    {
     "data": {
      "image/png": "[encoded data removed]",
      "text/plain": [
       "<matplotlib.figure.Figure at 0x1a249383c8>"
      ]
     },
     "metadata": {},
     "output_type": "display_data"
    }
   ],
   "source": [
    "sns.countplot(x='Whatrec3', data=va, hue = 'txgot_binary')"
   ]
  },
  {
   "cell_type": "markdown",
   "metadata": {},
   "source": [
    "Makes sense, more of those who were recommended for active surveillance (4) got active surveillance."
   ]
  },
  {
   "cell_type": "markdown",
   "metadata": {},
   "source": [
    "### Iopinion3\n",
    "\n",
    "I gave my opinion (agreement or disagreement) about the types of test or treatment that my doctor ordered.\n",
    "\n",
    "0=disagree, 1=agree"
   ]
  },
  {
   "cell_type": "code",
   "execution_count": 26,
   "metadata": {},
   "outputs": [
    {
     "data": {
      "text/plain": [
       "<matplotlib.axes._subplots.AxesSubplot at 0x1a2493fc18>"
      ]
     },
     "execution_count": 26,
     "metadata": {},
     "output_type": "execute_result"
    },
    {
     "data": {
      "image/png": "[encoded data removed]",
      "text/plain": [
       "<matplotlib.figure.Figure at 0x1a248ec4e0>"
      ]
     },
     "metadata": {},
     "output_type": "display_data"
    }
   ],
   "source": [
    "sns.countplot(x='Iopinion3', data=va, hue = 'txgot_binary')"
   ]
  },
  {
   "cell_type": "code",
   "execution_count": 61,
   "metadata": {},
   "outputs": [
    {
     "name": "stdout",
     "output_type": "stream",
     "text": [
      "0: \n",
      "-2.0 - 0.8%\n",
      "0.0 - 34.1%\n",
      "1.0 - 65.0%\n",
      "\n",
      "1: \n",
      "0.0 - 30.9%\n",
      "1.0 - 69.1%\n",
      "\n"
     ]
    }
   ],
   "source": [
    "num_breakdown(va, 'txgot_binary', 'Iopinion3')"
   ]
  },
  {
   "cell_type": "markdown",
   "metadata": {},
   "source": [
    "No clue where the -2 comes from, but categories seem equalish."
   ]
  },
  {
   "cell_type": "markdown",
   "metadata": {},
   "source": [
    "### Adv3\n",
    "\n",
    "I know the advantages of treatment or not having treatment.  \n",
    "\n",
    "1=strongly disagree, 2=disagree, 3=neither agree nor disagree, 4=agree, 5=strongly agree"
   ]
  },
  {
   "cell_type": "code",
   "execution_count": 35,
   "metadata": {},
   "outputs": [
    {
     "data": {
      "text/plain": [
       "<matplotlib.axes._subplots.AxesSubplot at 0x1a251ca7f0>"
      ]
     },
     "execution_count": 35,
     "metadata": {},
     "output_type": "execute_result"
    },
    {
     "data": {
      "image/png": "[encoded data removed]",
      "text/plain": [
       "<matplotlib.figure.Figure at 0x1a2502a2e8>"
      ]
     },
     "metadata": {},
     "output_type": "display_data"
    }
   ],
   "source": [
    "sns.countplot(x='Adv3', data=va, hue = 'txgot_binary')"
   ]
  },
  {
   "cell_type": "markdown",
   "metadata": {},
   "source": [
    "### irespmd\n",
    "\n",
    "I respect my doctor a great deal.\n",
    "\n",
    "1=strongly disagree, 2=disagree, 3=neither agree nor disagree, 4=agree, 5=strongly agree"
   ]
  },
  {
   "cell_type": "code",
   "execution_count": 36,
   "metadata": {},
   "outputs": [
    {
     "data": {
      "text/plain": [
       "<matplotlib.axes._subplots.AxesSubplot at 0x1a252cea58>"
      ]
     },
     "execution_count": 36,
     "metadata": {},
     "output_type": "execute_result"
    },
    {
     "data": {
      "image/png": "[encoded data removed]",
      "text/plain": [
       "<matplotlib.figure.Figure at 0x1a251fa390>"
      ]
     },
     "metadata": {},
     "output_type": "display_data"
    }
   ],
   "source": [
    "sns.countplot(x = 'irespmd', data=va, hue = 'txgot_binary')"
   ]
  },
  {
   "cell_type": "markdown",
   "metadata": {},
   "source": [
    "### Agree3\n",
    "\n",
    "My doctor and I agreed about which treatment (or no treatment) was best for me.  \n",
    "\n",
    "1=strongly disagree, 2=disagree, 3=neither agree nor disagree, 4=agree, 5=strongly agree"
   ]
  },
  {
   "cell_type": "code",
   "execution_count": 38,
   "metadata": {},
   "outputs": [
    {
     "data": {
      "text/plain": [
       "<matplotlib.axes._subplots.AxesSubplot at 0x1a2546add8>"
      ]
     },
     "execution_count": 38,
     "metadata": {},
     "output_type": "execute_result"
    },
    {
     "data": {
      "image/png": "[encoded data removed]",
      "text/plain": [
       "<matplotlib.figure.Figure at 0x1a253d82b0>"
      ]
     },
     "metadata": {},
     "output_type": "display_data"
    }
   ],
   "source": [
    "sns.countplot(x = 'Agree3', data=va, hue = 'txgot_binary')"
   ]
  },
  {
   "cell_type": "code",
   "execution_count": 62,
   "metadata": {},
   "outputs": [
    {
     "name": "stdout",
     "output_type": "stream",
     "text": [
      "0: \n",
      "-2.0 - 0.8%\n",
      "1.0 - 4.9%\n",
      "2.0 - 7.3%\n",
      "3.0 - 21.1%\n",
      "4.0 - 33.3%\n",
      "5.0 - 32.5%\n",
      "\n",
      "1: \n",
      "-2.0 - 1.2%\n",
      "-1.0 - 1.2%\n",
      "1.0 - 3.7%\n",
      "2.0 - 8.5%\n",
      "3.0 - 11.0%\n",
      "4.0 - 42.7%\n",
      "5.0 - 31.7%\n",
      "\n"
     ]
    }
   ],
   "source": [
    "num_breakdown(va, 'txgot_binary', 'Agree3')"
   ]
  },
  {
   "cell_type": "markdown",
   "metadata": {},
   "source": [
    "### Decide3\n",
    "\n",
    "The doctor gave me a chance to decide which treatment I thought was best for me.  \n",
    "\n",
    "1=strongly disagree, 2=disagree, 3=neither agree nor disagree, 4=agree, 5=strongly agree"
   ]
  },
  {
   "cell_type": "code",
   "execution_count": 39,
   "metadata": {},
   "outputs": [
    {
     "data": {
      "text/plain": [
       "<matplotlib.axes._subplots.AxesSubplot at 0x1a25302390>"
      ]
     },
     "execution_count": 39,
     "metadata": {},
     "output_type": "execute_result"
    },
    {
     "data": {
      "image/png": "[encoded data removed]",
      "text/plain": [
       "<matplotlib.figure.Figure at 0x1a25480f28>"
      ]
     },
     "metadata": {},
     "output_type": "display_data"
    }
   ],
   "source": [
    "sns.countplot(x = 'Decide3', data=va, hue = 'txgot_binary')"
   ]
  },
  {
   "cell_type": "markdown",
   "metadata": {},
   "source": [
    "## Avoid Variables\n",
    "\n",
    "### Avdsurg3\n",
    "\n",
    "What number would you use to rate how important is to you to avoid surgery?\n",
    "\n",
    "0=not at all important, 1=1, 2=2, 3=3, 4=4, 5=5, 6=6, 7=7, 8=8, 9=9, 10=extremely important"
   ]
  },
  {
   "cell_type": "code",
   "execution_count": 41,
   "metadata": {},
   "outputs": [
    {
     "data": {
      "text/plain": [
       "<matplotlib.axes._subplots.AxesSubplot at 0x1a2549fe80>"
      ]
     },
     "execution_count": 41,
     "metadata": {},
     "output_type": "execute_result"
    },
    {
     "data": {
      "image/png": "[encoded data removed]",
      "text/plain": [
       "<matplotlib.figure.Figure at 0x1a251ecb38>"
      ]
     },
     "metadata": {},
     "output_type": "display_data"
    }
   ],
   "source": [
    "sns.countplot(x = 'Avdsurg3', data=va, hue = 'txgot_binary')"
   ]
  },
  {
   "cell_type": "code",
   "execution_count": 56,
   "metadata": {},
   "outputs": [
    {
     "name": "stdout",
     "output_type": "stream",
     "text": [
      "0: \n",
      "0.0 - 13.0%\n",
      "1.0 - 8.9%\n",
      "2.0 - 4.9%\n",
      "3.0 - 4.9%\n",
      "4.0 - 6.5%\n",
      "5.0 - 11.4%\n",
      "6.0 - 1.6%\n",
      "7.0 - 6.5%\n",
      "8.0 - 13.8%\n",
      "9.0 - 7.3%\n",
      "10.0 - 21.1%\n",
      "\n",
      "1: \n",
      "0.0 - 8.6%\n",
      "1.0 - 1.2%\n",
      "2.0 - 3.7%\n",
      "3.0 - 2.5%\n",
      "4.0 - 4.9%\n",
      "5.0 - 13.6%\n",
      "6.0 - 1.2%\n",
      "7.0 - 8.6%\n",
      "8.0 - 19.8%\n",
      "9.0 - 9.9%\n",
      "10.0 - 25.9%\n",
      "\n"
     ]
    }
   ],
   "source": [
    "num_breakdown(va, 'txgot_binary', 'Avdsurg3')"
   ]
  },
  {
   "cell_type": "markdown",
   "metadata": {},
   "source": [
    "### Avdpee3\n",
    "\n",
    "When choosing a treatment for your early stage prostate cancer, how important is it to you to avoid problems with dripping or leaking urine?\n",
    "\n",
    "0=not at all important, 1=1, 2=2, 3=3, 4=4, 5=5, 6=6, 7=7, 8=8, 9=9, 10=extremely important"
   ]
  },
  {
   "cell_type": "code",
   "execution_count": 42,
   "metadata": {},
   "outputs": [
    {
     "data": {
      "text/plain": [
       "<matplotlib.axes._subplots.AxesSubplot at 0x1a25878128>"
      ]
     },
     "execution_count": 42,
     "metadata": {},
     "output_type": "execute_result"
    },
    {
     "data": {
      "image/png": "[encoded data removed]",
      "text/plain": [
       "<matplotlib.figure.Figure at 0x1a2575d048>"
      ]
     },
     "metadata": {},
     "output_type": "display_data"
    }
   ],
   "source": [
    "sns.countplot(x = 'Avdpee3', data=va, hue = 'txgot_binary')"
   ]
  },
  {
   "cell_type": "markdown",
   "metadata": {},
   "source": [
    "### Avdtime3\n",
    "\n",
    "When choosing a treatment for your early stage prostate cancer, how important is it to you not spend a lot of time in treatment or recovery?\n",
    "\n",
    "0=not at all important, 1=1, 2=2, 3=3, 4=4, 5=5, 6=6, 7=7, 8=8, 9=9, 10=extremely important"
   ]
  },
  {
   "cell_type": "code",
   "execution_count": 43,
   "metadata": {},
   "outputs": [
    {
     "data": {
      "text/plain": [
       "<matplotlib.axes._subplots.AxesSubplot at 0x1a258781d0>"
      ]
     },
     "execution_count": 43,
     "metadata": {},
     "output_type": "execute_result"
    },
    {
     "data": {
      "image/png": "[encoded data removed]",
      "text/plain": [
       "<matplotlib.figure.Figure at 0x1a25799860>"
      ]
     },
     "metadata": {},
     "output_type": "display_data"
    }
   ],
   "source": [
    "sns.countplot(x = 'Avdtime3', data=va, hue = 'txgot_binary')"
   ]
  },
  {
   "cell_type": "markdown",
   "metadata": {},
   "source": [
    "### Avoided3\n",
    "\n",
    "When choosing a treatment for your early stage prostate cancer, how important is it to you to avoid sexual problems?\n",
    "\n",
    "0=not at all important, 1=1, 2=2, 3=3, 4=4, 5=5, 6=6, 7=7, 8=8, 9=9, 10=extremely important"
   ]
  },
  {
   "cell_type": "code",
   "execution_count": 44,
   "metadata": {},
   "outputs": [
    {
     "data": {
      "text/plain": [
       "<matplotlib.axes._subplots.AxesSubplot at 0x1a2597d4a8>"
      ]
     },
     "execution_count": 44,
     "metadata": {},
     "output_type": "execute_result"
    },
    {
     "data": {
      "image/png": "[encoded data removed]",
      "text/plain": [
       "<matplotlib.figure.Figure at 0x1a259a6470>"
      ]
     },
     "metadata": {},
     "output_type": "display_data"
    }
   ],
   "source": [
    "sns.countplot(x = 'Avoided3', data=va, hue = 'txgot_binary')"
   ]
  },
  {
   "cell_type": "markdown",
   "metadata": {},
   "source": [
    "### Avoidrec3\n",
    "\n",
    "When choosing a treatment for your early stage prostate cancer, how important is it to you to avoid problems with bowel function?\n",
    "\n",
    "0=not at all important, 1=1, 2=2, 3=3, 4=4, 5=5, 6=6, 7=7, 8=8, 9=9, 10=extremely important"
   ]
  },
  {
   "cell_type": "code",
   "execution_count": 45,
   "metadata": {},
   "outputs": [
    {
     "data": {
      "text/plain": [
       "<matplotlib.axes._subplots.AxesSubplot at 0x1a2597d1d0>"
      ]
     },
     "execution_count": 45,
     "metadata": {},
     "output_type": "execute_result"
    },
    {
     "data": {
      "image/png": "[encoded data removed]",
      "text/plain": [
       "<matplotlib.figure.Figure at 0x1a2585ad68>"
      ]
     },
     "metadata": {},
     "output_type": "display_data"
    }
   ],
   "source": [
    "sns.countplot(x = 'Avoidrec3', data=va, hue = 'txgot_binary')"
   ]
  },
  {
   "cell_type": "markdown",
   "metadata": {},
   "source": [
    "### Impmdrec3\n",
    "\n",
    "What number would you use to rate how important it is to you to do what the doctor thinks is best for your early stage prostate cancer?\n",
    "\n",
    "0=not at all important, 1=1, 2=2, 3=3, 4=4, 5=5, 6=6, 7=7, 8=8, 9=9, 10=extremely important"
   ]
  },
  {
   "cell_type": "code",
   "execution_count": 48,
   "metadata": {},
   "outputs": [
    {
     "data": {
      "text/plain": [
       "<matplotlib.axes._subplots.AxesSubplot at 0x1a25b6da90>"
      ]
     },
     "execution_count": 48,
     "metadata": {},
     "output_type": "execute_result"
    },
    {
     "data": {
      "image/png": "[encoded data removed]",
      "text/plain": [
       "<matplotlib.figure.Figure at 0x1a259ab6d8>"
      ]
     },
     "metadata": {},
     "output_type": "display_data"
    }
   ],
   "source": [
    "sns.countplot(x = 'Mdrec3', data=va, hue = 'txgot_binary')"
   ]
  },
  {
   "cell_type": "markdown",
   "metadata": {},
   "source": [
    "### Imppart3\n",
    "\n",
    "What number would you use to rate how important is it to you to do what your spouse or significant other thinks is best for your early stage prostate cancer?\n",
    "\n",
    "0=not at all important, 1=1, 2=2, 3=3, 4=4, 5=5, 6=6, 7=7, 8=8, 9=9, 10=extremely important"
   ]
  },
  {
   "cell_type": "code",
   "execution_count": 50,
   "metadata": {},
   "outputs": [
    {
     "data": {
      "text/plain": [
       "<matplotlib.axes._subplots.AxesSubplot at 0x1a25e5b518>"
      ]
     },
     "execution_count": 50,
     "metadata": {},
     "output_type": "execute_result"
    },
    {
     "data": {
      "image/png": "[encoded data removed]",
      "text/plain": [
       "<matplotlib.figure.Figure at 0x1a25e6f208>"
      ]
     },
     "metadata": {},
     "output_type": "display_data"
    }
   ],
   "source": [
    "sns.countplot(x = 'Imppart3', data=va, hue = 'txgot_binary')"
   ]
  },
  {
   "cell_type": "markdown",
   "metadata": {},
   "source": [
    "### Worryse3\n",
    "\n",
    "How worried are you about experiencing a side effect of your cancer treatment?\n",
    "\n",
    "1=not at all worried, 2=2, 3=3, 4=4, 5=5, 6=6, 7=extremely worried"
   ]
  },
  {
   "cell_type": "code",
   "execution_count": 51,
   "metadata": {},
   "outputs": [
    {
     "data": {
      "text/plain": [
       "<matplotlib.axes._subplots.AxesSubplot at 0x1a25eb18d0>"
      ]
     },
     "execution_count": 51,
     "metadata": {},
     "output_type": "execute_result"
    },
    {
     "data": {
      "image/png": "[encoded data removed]",
      "text/plain": [
       "<matplotlib.figure.Figure at 0x1a25e90a20>"
      ]
     },
     "metadata": {},
     "output_type": "display_data"
    }
   ],
   "source": [
    "sns.countplot(x = 'Worryse3', data=va, hue = 'txgot_binary')"
   ]
  },
  {
   "cell_type": "markdown",
   "metadata": {},
   "source": [
    "### Worrydie3\n",
    "\n",
    "How worried are you about dying from prostate cancer?\n",
    "\n",
    "1=not at all worried, 2=2, 3=3, 4=4, 5=5, 6=6, 7=extremely worried"
   ]
  },
  {
   "cell_type": "code",
   "execution_count": 53,
   "metadata": {},
   "outputs": [
    {
     "data": {
      "text/plain": [
       "<matplotlib.axes._subplots.AxesSubplot at 0x1a260906a0>"
      ]
     },
     "execution_count": 53,
     "metadata": {},
     "output_type": "execute_result"
    },
    {
     "data": {
      "image/png": "[encoded data removed]",
      "text/plain": [
       "<matplotlib.figure.Figure at 0x1a260a8198>"
      ]
     },
     "metadata": {},
     "output_type": "display_data"
    }
   ],
   "source": [
    "sns.countplot(x = 'Worrydie3', data=va, hue = 'txgot_binary')"
   ]
  },
  {
   "cell_type": "code",
   "execution_count": 57,
   "metadata": {},
   "outputs": [
    {
     "name": "stdout",
     "output_type": "stream",
     "text": [
      "0: \n",
      "1.0 - 22.8%\n",
      "2.0 - 13.8%\n",
      "3.0 - 10.6%\n",
      "4.0 - 15.4%\n",
      "5.0 - 7.3%\n",
      "6.0 - 7.3%\n",
      "7.0 - 22.8%\n",
      "\n",
      "1: \n",
      "1.0 - 29.6%\n",
      "2.0 - 21.0%\n",
      "3.0 - 13.6%\n",
      "4.0 - 7.4%\n",
      "5.0 - 12.3%\n",
      "6.0 - 6.2%\n",
      "7.0 - 9.9%\n",
      "\n"
     ]
    }
   ],
   "source": [
    "num_breakdown(va, 'txgot_binary', 'Worrydie3')"
   ]
  },
  {
   "cell_type": "code",
   "execution_count": null,
   "metadata": {},
   "outputs": [],
   "source": []
  }
 ],
 "metadata": {
  "kernelspec": {
   "display_name": "Python 3",
   "language": "python",
   "name": "python3"
  },
  "language_info": {
   "codemirror_mode": {
    "name": "ipython",
    "version": 3
   },
   "file_extension": ".py",
   "mimetype": "text/x-python",
   "name": "python",
   "nbconvert_exporter": "python",
   "pygments_lexer": "ipython3",
   "version": "3.6.4"
  }
 },
 "nbformat": 4,
 "nbformat_minor": 2
}
